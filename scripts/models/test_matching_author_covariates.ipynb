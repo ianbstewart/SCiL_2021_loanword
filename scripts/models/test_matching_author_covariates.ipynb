{
 "cells": [
  {
   "cell_type": "markdown",
   "metadata": {},
   "source": [
    "# Test matching on author covariates\n",
    "We've seen in the regression analysis that the media variable is generally not significant, but this may be due to the other covariates' confounding effects.\n",
    "\n",
    "Let's try to match each Latin America media sharing author with another US media sharing author, based on their covariates: language, location, prior use of integrated verbs."
   ]
  },
  {
   "cell_type": "code",
   "execution_count": 4,
   "metadata": {},
   "outputs": [
    {
     "name": "stdout",
     "output_type": "stream",
     "text": [
      "1227\n",
      "other            732\n",
      "latin_america    381\n",
      "europe            76\n",
      "us_america        38\n",
      "Name: description_location_region, dtype: int64\n",
      "es_mid     1187\n",
      "es_low       28\n",
      "es_high      12\n",
      "Name: es_bin, dtype: int64\n",
      "media_low     670\n",
      "media_high    357\n",
      "media_mid     200\n",
      "Name: latin_american_media_pct_bin, dtype: int64\n",
      "0    829\n",
      "1    398\n",
      "Name: high_latin_american_media, dtype: int64\n"
     ]
    },
    {
     "data": {
      "text/html": [
       "<div>\n",
       "<style scoped>\n",
       "    .dataframe tbody tr th:only-of-type {\n",
       "        vertical-align: middle;\n",
       "    }\n",
       "\n",
       "    .dataframe tbody tr th {\n",
       "        vertical-align: top;\n",
       "    }\n",
       "\n",
       "    .dataframe thead th {\n",
       "        text-align: right;\n",
       "    }\n",
       "</style>\n",
       "<table border=\"1\" class=\"dataframe\">\n",
       "  <thead>\n",
       "    <tr style=\"text-align: right;\">\n",
       "      <th></th>\n",
       "      <th>loanword</th>\n",
       "      <th>loanword_verb</th>\n",
       "      <th>loanword_type</th>\n",
       "      <th>screen_name</th>\n",
       "      <th>user_id</th>\n",
       "      <th>text</th>\n",
       "      <th>created_at</th>\n",
       "      <th>id</th>\n",
       "      <th>user_description</th>\n",
       "      <th>user_location</th>\n",
       "      <th>...</th>\n",
       "      <th>log_us_american_music_genre_count</th>\n",
       "      <th>log_latin_american_media_count</th>\n",
       "      <th>log_us_american_media_count</th>\n",
       "      <th>log_latin_american_media_pct</th>\n",
       "      <th>log_integrated_verb_pct</th>\n",
       "      <th>log_post_pct</th>\n",
       "      <th>log_URL_share_pct</th>\n",
       "      <th>log_RT_pct</th>\n",
       "      <th>latin_american_media_pct_bin</th>\n",
       "      <th>high_latin_american_media</th>\n",
       "    </tr>\n",
       "  </thead>\n",
       "  <tbody>\n",
       "    <tr>\n",
       "      <th>70</th>\n",
       "      <td>ban</td>\n",
       "      <td>baneo</td>\n",
       "      <td>integrated_loanword</td>\n",
       "      <td>julianhckr</td>\n",
       "      <td>760320658546929665</td>\n",
       "      <td>@diego_mehary Mod menú de USB Jajajajaja direc...</td>\n",
       "      <td>2017-08-02T19:54:37+00:00</td>\n",
       "      <td>892836052490227717</td>\n",
       "      <td>ROAD TO 2.5K SUBS xD YOUTUBE CHANNEL🔴 [JULIANHCK]</td>\n",
       "      <td>Medellín, Colombia</td>\n",
       "      <td>...</td>\n",
       "      <td>-4.60517</td>\n",
       "      <td>-4.60517</td>\n",
       "      <td>0.00995033</td>\n",
       "      <td>-4.60517</td>\n",
       "      <td>0.00995033</td>\n",
       "      <td>0.701259</td>\n",
       "      <td>-3.547075</td>\n",
       "      <td>-4.605170</td>\n",
       "      <td>media_low</td>\n",
       "      <td>0</td>\n",
       "    </tr>\n",
       "    <tr>\n",
       "      <th>179</th>\n",
       "      <td>audit</td>\n",
       "      <td>auditar</td>\n",
       "      <td>integrated_loanword</td>\n",
       "      <td>yerardjimenez</td>\n",
       "      <td>1339395775</td>\n",
       "      <td>La Cámara de Cuentas debe auditar la Universid...</td>\n",
       "      <td>2017-07-25T14:04:23+00:00</td>\n",
       "      <td>889848810477944832</td>\n",
       "      <td>Ataráxico // Advertiser, amateur writer, bloge...</td>\n",
       "      <td>República Dominicana</td>\n",
       "      <td>...</td>\n",
       "      <td>-4.60517</td>\n",
       "      <td>0.00995033</td>\n",
       "      <td>-4.60517</td>\n",
       "      <td>0.00995033</td>\n",
       "      <td>-0.0897424</td>\n",
       "      <td>0.410119</td>\n",
       "      <td>-2.778100</td>\n",
       "      <td>-4.198703</td>\n",
       "      <td>media_high</td>\n",
       "      <td>1</td>\n",
       "    </tr>\n",
       "    <tr>\n",
       "      <th>218</th>\n",
       "      <td>ban</td>\n",
       "      <td>banean</td>\n",
       "      <td>integrated_loanword</td>\n",
       "      <td>darkheart_17</td>\n",
       "      <td>633568967</td>\n",
       "      <td>@rafascryleon ya haha bueno esta claro k yo no...</td>\n",
       "      <td>2017-07-17T19:26:51+00:00</td>\n",
       "      <td>887030858917478402</td>\n",
       "      <td>LOVE AND RESPECTBE REAL BE LOYALLOVE YOURSELF/...</td>\n",
       "      <td>UNKNOWN</td>\n",
       "      <td>...</td>\n",
       "      <td>-4.60517</td>\n",
       "      <td>-4.60517</td>\n",
       "      <td>1.10194</td>\n",
       "      <td>-4.60517</td>\n",
       "      <td>-0.0633963</td>\n",
       "      <td>6.904761</td>\n",
       "      <td>-3.471732</td>\n",
       "      <td>-4.605170</td>\n",
       "      <td>media_low</td>\n",
       "      <td>0</td>\n",
       "    </tr>\n",
       "    <tr>\n",
       "      <th>434</th>\n",
       "      <td>boycott</td>\n",
       "      <td>boicotear</td>\n",
       "      <td>integrated_loanword</td>\n",
       "      <td>huitzilopochtli</td>\n",
       "      <td>15762479</td>\n",
       "      <td>Todos quieren boicotear Gatorade hasta que les...</td>\n",
       "      <td>2017-08-01T20:47:30+00:00</td>\n",
       "      <td>892486973130129408</td>\n",
       "      <td>dios azteca, ludópata, cunilingüista freelance...</td>\n",
       "      <td>donde suene chido</td>\n",
       "      <td>...</td>\n",
       "      <td>0.00995033</td>\n",
       "      <td>-4.60517</td>\n",
       "      <td>0.698135</td>\n",
       "      <td>-4.60517</td>\n",
       "      <td>0.00995033</td>\n",
       "      <td>0.391042</td>\n",
       "      <td>-3.964734</td>\n",
       "      <td>-4.343496</td>\n",
       "      <td>media_low</td>\n",
       "      <td>0</td>\n",
       "    </tr>\n",
       "    <tr>\n",
       "      <th>575</th>\n",
       "      <td>check</td>\n",
       "      <td>chequear</td>\n",
       "      <td>integrated_loanword</td>\n",
       "      <td>isiscarsep</td>\n",
       "      <td>764581298769801216</td>\n",
       "      <td>@xlinj mmmm voy a darme la vuelta a chequear j...</td>\n",
       "      <td>2017-08-06T17:54:58+00:00</td>\n",
       "      <td>894255493040001024</td>\n",
       "      <td>Papelón tras papelón.</td>\n",
       "      <td>UPRRP</td>\n",
       "      <td>...</td>\n",
       "      <td>1.10194</td>\n",
       "      <td>1.94734</td>\n",
       "      <td>1.10194</td>\n",
       "      <td>-0.34249</td>\n",
       "      <td>0.00995033</td>\n",
       "      <td>0.386682</td>\n",
       "      <td>-2.636048</td>\n",
       "      <td>-3.874573</td>\n",
       "      <td>media_mid</td>\n",
       "      <td>0</td>\n",
       "    </tr>\n",
       "  </tbody>\n",
       "</table>\n",
       "<p>5 rows × 50 columns</p>\n",
       "</div>"
      ],
      "text/plain": [
       "    loanword loanword_verb        loanword_type      screen_name  \\\n",
       "70       ban         baneo  integrated_loanword       julianhckr   \n",
       "179    audit       auditar  integrated_loanword    yerardjimenez   \n",
       "218      ban        banean  integrated_loanword     darkheart_17   \n",
       "434  boycott     boicotear  integrated_loanword  huitzilopochtli   \n",
       "575    check      chequear  integrated_loanword       isiscarsep   \n",
       "\n",
       "                user_id                                               text  \\\n",
       "70   760320658546929665  @diego_mehary Mod menú de USB Jajajajaja direc...   \n",
       "179          1339395775  La Cámara de Cuentas debe auditar la Universid...   \n",
       "218           633568967  @rafascryleon ya haha bueno esta claro k yo no...   \n",
       "434            15762479  Todos quieren boicotear Gatorade hasta que les...   \n",
       "575  764581298769801216  @xlinj mmmm voy a darme la vuelta a chequear j...   \n",
       "\n",
       "                    created_at                  id  \\\n",
       "70   2017-08-02T19:54:37+00:00  892836052490227717   \n",
       "179  2017-07-25T14:04:23+00:00  889848810477944832   \n",
       "218  2017-07-17T19:26:51+00:00  887030858917478402   \n",
       "434  2017-08-01T20:47:30+00:00  892486973130129408   \n",
       "575  2017-08-06T17:54:58+00:00  894255493040001024   \n",
       "\n",
       "                                      user_description         user_location  \\\n",
       "70   ROAD TO 2.5K SUBS xD YOUTUBE CHANNEL🔴 [JULIANHCK]    Medellín, Colombia   \n",
       "179  Ataráxico // Advertiser, amateur writer, bloge...  República Dominicana   \n",
       "218  LOVE AND RESPECTBE REAL BE LOYALLOVE YOURSELF/...               UNKNOWN   \n",
       "434  dios azteca, ludópata, cunilingüista freelance...     donde suene chido   \n",
       "575                              Papelón tras papelón.                 UPRRP   \n",
       "\n",
       "     ...  log_us_american_music_genre_count log_latin_american_media_count  \\\n",
       "70   ...                           -4.60517                       -4.60517   \n",
       "179  ...                           -4.60517                     0.00995033   \n",
       "218  ...                           -4.60517                       -4.60517   \n",
       "434  ...                         0.00995033                       -4.60517   \n",
       "575  ...                            1.10194                        1.94734   \n",
       "\n",
       "    log_us_american_media_count log_latin_american_media_pct  \\\n",
       "70                   0.00995033                     -4.60517   \n",
       "179                    -4.60517                   0.00995033   \n",
       "218                     1.10194                     -4.60517   \n",
       "434                    0.698135                     -4.60517   \n",
       "575                     1.10194                     -0.34249   \n",
       "\n",
       "    log_integrated_verb_pct log_post_pct log_URL_share_pct log_RT_pct  \\\n",
       "70               0.00995033     0.701259         -3.547075  -4.605170   \n",
       "179              -0.0897424     0.410119         -2.778100  -4.198703   \n",
       "218              -0.0633963     6.904761         -3.471732  -4.605170   \n",
       "434              0.00995033     0.391042         -3.964734  -4.343496   \n",
       "575              0.00995033     0.386682         -2.636048  -3.874573   \n",
       "\n",
       "    latin_american_media_pct_bin high_latin_american_media  \n",
       "70                     media_low                         0  \n",
       "179                   media_high                         1  \n",
       "218                    media_low                         0  \n",
       "434                    media_low                         0  \n",
       "575                    media_mid                         0  \n",
       "\n",
       "[5 rows x 50 columns]"
      ]
     },
     "metadata": {},
     "output_type": "display_data"
    }
   ],
   "source": [
    "# load author social data\n",
    "import pandas as pd\n",
    "loanword_author_social_data = pd.read_csv('../../data/mined_tweets/loanword_verbs_media_balanced_post_social_data.tsv', sep='\\t')\n",
    "loanword_author_social_data.fillna('', inplace=True)\n",
    "# restrict to valid data\n",
    "valid_social_vars = ['description_location_region', 'es', 'latin_american_media_pct', 'integrated_verb_pct']\n",
    "clean_loanword_author_social_data = loanword_author_social_data.copy()\n",
    "for social_var in valid_social_vars:\n",
    "    clean_loanword_author_social_data = clean_loanword_author_social_data[clean_loanword_author_social_data.loc[:, social_var] != '']\n",
    "print(clean_loanword_author_social_data.shape[0])\n",
    "cat_vars = ['description_location_region', 'es_bin', 'latin_american_media_pct_bin']\n",
    "for cat_var in cat_vars:\n",
    "    print(clean_loanword_author_social_data.loc[:, cat_var].value_counts())\n",
    "## add variable for \"treatment\" i.e. amount of Latin American media shared\n",
    "media_share_cutoff = 0.75\n",
    "media_var = 'latin_american_media_pct'\n",
    "clean_loanword_author_social_data = clean_loanword_author_social_data.assign(**{\n",
    "    'high_latin_american_media' : (clean_loanword_author_social_data.loc[:, media_var] >= media_share_cutoff).astype(int)\n",
    "})\n",
    "print(clean_loanword_author_social_data.loc[:, 'high_latin_american_media'].value_counts())\n",
    "display(clean_loanword_author_social_data.head())"
   ]
  },
  {
   "cell_type": "code",
   "execution_count": 2,
   "metadata": {},
   "outputs": [],
   "source": [
    "# convert to binary variable format\n",
    "binary_vars = ['description_location_region']\n",
    "for binary_var in binary_vars:\n",
    "    # convert to dummy vals\n",
    "    dummy_vals = pd.get_dummies(clean_loanword_author_social_data.loc[:, binary_var])\n",
    "    if(len(set(dummy_vals.columns) & set(clean_loanword_author_social_data.columns))==0):\n",
    "        clean_loanword_author_social_data = pd.concat([clean_loanword_author_social_data, dummy_vals], axis=1)"
   ]
  },
  {
   "cell_type": "code",
   "execution_count": 3,
   "metadata": {},
   "outputs": [
    {
     "data": {
      "text/html": [
       "<div>\n",
       "<style scoped>\n",
       "    .dataframe tbody tr th:only-of-type {\n",
       "        vertical-align: middle;\n",
       "    }\n",
       "\n",
       "    .dataframe tbody tr th {\n",
       "        vertical-align: top;\n",
       "    }\n",
       "\n",
       "    .dataframe thead th {\n",
       "        text-align: right;\n",
       "    }\n",
       "</style>\n",
       "<table border=\"1\" class=\"dataframe\">\n",
       "  <thead>\n",
       "    <tr style=\"text-align: right;\">\n",
       "      <th></th>\n",
       "      <th>screen_name</th>\n",
       "      <th>description_location_region</th>\n",
       "      <th>es</th>\n",
       "      <th>es_bin</th>\n",
       "      <th>total_video_count</th>\n",
       "      <th>latin_american_artist_video_count</th>\n",
       "      <th>us_american_artist_video_count</th>\n",
       "      <th>latin_american_artist_video_pct</th>\n",
       "      <th>total_music_count</th>\n",
       "      <th>latin_american_music_genre_pct</th>\n",
       "      <th>...</th>\n",
       "      <th>us_american_music_genre_count</th>\n",
       "      <th>latin_american_media_count</th>\n",
       "      <th>us_american_media_count</th>\n",
       "      <th>latin_american_media_pct</th>\n",
       "      <th>integrated_verb_pct</th>\n",
       "      <th>high_latin_american_media</th>\n",
       "      <th>europe</th>\n",
       "      <th>latin_america</th>\n",
       "      <th>other</th>\n",
       "      <th>us_america</th>\n",
       "    </tr>\n",
       "  </thead>\n",
       "  <tbody>\n",
       "    <tr>\n",
       "      <th>46</th>\n",
       "      <td>xsolars</td>\n",
       "      <td>latin_america</td>\n",
       "      <td>0.811258</td>\n",
       "      <td>es_high</td>\n",
       "      <td>1</td>\n",
       "      <td>0</td>\n",
       "      <td>1</td>\n",
       "      <td>0</td>\n",
       "      <td>0</td>\n",
       "      <td>0</td>\n",
       "      <td>...</td>\n",
       "      <td>0</td>\n",
       "      <td>0</td>\n",
       "      <td>1</td>\n",
       "      <td>0</td>\n",
       "      <td>0.990385</td>\n",
       "      <td>0</td>\n",
       "      <td>0</td>\n",
       "      <td>1</td>\n",
       "      <td>0</td>\n",
       "      <td>0</td>\n",
       "    </tr>\n",
       "    <tr>\n",
       "      <th>81</th>\n",
       "      <td>readytofallin</td>\n",
       "      <td>latin_america</td>\n",
       "      <td>0.947257</td>\n",
       "      <td>es_high</td>\n",
       "      <td>0</td>\n",
       "      <td>0</td>\n",
       "      <td>0</td>\n",
       "      <td>0</td>\n",
       "      <td>1</td>\n",
       "      <td>0</td>\n",
       "      <td>...</td>\n",
       "      <td>1</td>\n",
       "      <td>0</td>\n",
       "      <td>1</td>\n",
       "      <td>0</td>\n",
       "      <td>0.966667</td>\n",
       "      <td>0</td>\n",
       "      <td>0</td>\n",
       "      <td>1</td>\n",
       "      <td>0</td>\n",
       "      <td>0</td>\n",
       "    </tr>\n",
       "    <tr>\n",
       "      <th>160</th>\n",
       "      <td>vanne_vsb</td>\n",
       "      <td>latin_america</td>\n",
       "      <td>0.946809</td>\n",
       "      <td>es_high</td>\n",
       "      <td>1</td>\n",
       "      <td>1</td>\n",
       "      <td>0</td>\n",
       "      <td>1</td>\n",
       "      <td>0</td>\n",
       "      <td>0</td>\n",
       "      <td>...</td>\n",
       "      <td>0</td>\n",
       "      <td>1</td>\n",
       "      <td>0</td>\n",
       "      <td>1</td>\n",
       "      <td>1</td>\n",
       "      <td>1</td>\n",
       "      <td>0</td>\n",
       "      <td>1</td>\n",
       "      <td>0</td>\n",
       "      <td>0</td>\n",
       "    </tr>\n",
       "    <tr>\n",
       "      <th>238</th>\n",
       "      <td>juanpas2013</td>\n",
       "      <td>latin_america</td>\n",
       "      <td>0.934278</td>\n",
       "      <td>es_high</td>\n",
       "      <td>1</td>\n",
       "      <td>1</td>\n",
       "      <td>0</td>\n",
       "      <td>1</td>\n",
       "      <td>0</td>\n",
       "      <td>0</td>\n",
       "      <td>...</td>\n",
       "      <td>0</td>\n",
       "      <td>1</td>\n",
       "      <td>0</td>\n",
       "      <td>1</td>\n",
       "      <td>0.983333</td>\n",
       "      <td>1</td>\n",
       "      <td>0</td>\n",
       "      <td>1</td>\n",
       "      <td>0</td>\n",
       "      <td>0</td>\n",
       "    </tr>\n",
       "    <tr>\n",
       "      <th>455</th>\n",
       "      <td>dylath_leen_</td>\n",
       "      <td>latin_america</td>\n",
       "      <td>0.918679</td>\n",
       "      <td>es_high</td>\n",
       "      <td>0</td>\n",
       "      <td>0</td>\n",
       "      <td>0</td>\n",
       "      <td>0</td>\n",
       "      <td>4</td>\n",
       "      <td>0</td>\n",
       "      <td>...</td>\n",
       "      <td>4</td>\n",
       "      <td>0</td>\n",
       "      <td>4</td>\n",
       "      <td>0</td>\n",
       "      <td>0.916667</td>\n",
       "      <td>0</td>\n",
       "      <td>0</td>\n",
       "      <td>1</td>\n",
       "      <td>0</td>\n",
       "      <td>0</td>\n",
       "    </tr>\n",
       "  </tbody>\n",
       "</table>\n",
       "<p>5 rows × 21 columns</p>\n",
       "</div>"
      ],
      "text/plain": [
       "       screen_name description_location_region        es   es_bin  \\\n",
       "46         xsolars               latin_america  0.811258  es_high   \n",
       "81   readytofallin               latin_america  0.947257  es_high   \n",
       "160      vanne_vsb               latin_america  0.946809  es_high   \n",
       "238    juanpas2013               latin_america  0.934278  es_high   \n",
       "455   dylath_leen_               latin_america  0.918679  es_high   \n",
       "\n",
       "    total_video_count latin_american_artist_video_count  \\\n",
       "46                  1                                 0   \n",
       "81                  0                                 0   \n",
       "160                 1                                 1   \n",
       "238                 1                                 1   \n",
       "455                 0                                 0   \n",
       "\n",
       "    us_american_artist_video_count latin_american_artist_video_pct  \\\n",
       "46                               1                               0   \n",
       "81                               0                               0   \n",
       "160                              0                               1   \n",
       "238                              0                               1   \n",
       "455                              0                               0   \n",
       "\n",
       "    total_music_count latin_american_music_genre_pct  ...  \\\n",
       "46                  0                              0  ...   \n",
       "81                  1                              0  ...   \n",
       "160                 0                              0  ...   \n",
       "238                 0                              0  ...   \n",
       "455                 4                              0  ...   \n",
       "\n",
       "    us_american_music_genre_count latin_american_media_count  \\\n",
       "46                              0                          0   \n",
       "81                              1                          0   \n",
       "160                             0                          1   \n",
       "238                             0                          1   \n",
       "455                             4                          0   \n",
       "\n",
       "    us_american_media_count latin_american_media_pct integrated_verb_pct  \\\n",
       "46                        1                        0            0.990385   \n",
       "81                        1                        0            0.966667   \n",
       "160                       0                        1                   1   \n",
       "238                       0                        1            0.983333   \n",
       "455                       4                        0            0.916667   \n",
       "\n",
       "    high_latin_american_media  europe  latin_america  other  us_america  \n",
       "46                          0       0              1      0           0  \n",
       "81                          0       0              1      0           0  \n",
       "160                         1       0              1      0           0  \n",
       "238                         1       0              1      0           0  \n",
       "455                         0       0              1      0           0  \n",
       "\n",
       "[5 rows x 21 columns]"
      ]
     },
     "metadata": {},
     "output_type": "display_data"
    }
   ],
   "source": [
    "display(clean_loanword_author_social_data.head())"
   ]
  },
  {
   "cell_type": "code",
   "execution_count": 5,
   "metadata": {},
   "outputs": [],
   "source": [
    "location_var = 'description_location_region'\n",
    "location_vals = list(clean_loanword_author_social_data.loc[:, location_var].unique())\n",
    "location_val_str = ' + '.join(location_vals)\n",
    "lang_var = 'es'\n",
    "native_verb_var = 'integrated_verb_pct'\n",
    "media_treatment_var = 'high_latin_american_media'\n",
    "match_model = f'CASE ~ {lang_var} + {native_verb_var} + {location_val_str}'\n",
    "match_data_file = '../../data/mined_tweets/loanword_author_match_data.csv'\n",
    "matching_vars = location_vals + [lang_var, native_verb_var, media_treatment_var]\n",
    "match_data = clean_loanword_author_social_data.loc[:, matching_vars]\n",
    "# add ID var\n",
    "match_id_var = 'OPTUM_LAB_ID'\n",
    "author_var = 'screen_name'\n",
    "match_data = match_data.assign(**{\n",
    "    match_id_var : clean_loanword_author_social_data.loc[:, author_var].values\n",
    "})\n",
    "# rename treatment var\n",
    "match_data.rename(columns={media_treatment_var : 'CASE'}, inplace=True)\n",
    "match_data.to_csv(match_data_file, index=False)"
   ]
  },
  {
   "cell_type": "markdown",
   "metadata": {},
   "source": [
    "What are the distributions of covariates before matchign?"
   ]
  },
  {
   "cell_type": "code",
   "execution_count": 9,
   "metadata": {},
   "outputs": [
    {
     "data": {
      "image/png": "[encoded data removed]",
      "text/plain": [
       "<Figure size 432x288 with 1 Axes>"
      ]
     },
     "metadata": {
      "needs_background": "light"
     },
     "output_type": "display_data"
    },
    {
     "data": {
      "image/png": "[encoded data removed]",
      "text/plain": [
       "<Figure size 432x288 with 1 Axes>"
      ]
     },
     "metadata": {
      "needs_background": "light"
     },
     "output_type": "display_data"
    },
    {
     "data": {
      "image/png": "[encoded data removed]",
      "text/plain": [
       "<Figure size 432x288 with 1 Axes>"
      ]
     },
     "metadata": {
      "needs_background": "light"
     },
     "output_type": "display_data"
    }
   ],
   "source": [
    "# plot everything\n",
    "import matplotlib\n",
    "%matplotlib inline\n",
    "import matplotlib.pyplot as plt\n",
    "import seaborn as sns\n",
    "import numpy as np\n",
    "treatment_var = 'CASE'\n",
    "treatment_data = match_data[match_data.loc[:, treatment_var]==1]\n",
    "control_data = match_data[match_data.loc[:, treatment_var]==0]\n",
    "# binary vals\n",
    "treatment_location_pct = treatment_data.loc[:, location_vals].sum(axis=0) / treatment_data.shape[0]\n",
    "control_location_pct = control_data.loc[:, location_vals].sum(axis=0) / control_data.shape[0]\n",
    "X = np.arange(len(treatment_location_pct))\n",
    "bar_width = 0.25\n",
    "bar_offset = 0.25\n",
    "plt.bar(X-bar_offset, treatment_location_pct, width=bar_width, color='b', label='treatment')\n",
    "plt.bar(X+bar_offset, control_location_pct, width=bar_width, color='r', label='control')\n",
    "plt.xticks(X, location_vals)\n",
    "plt.legend(loc='upper left')\n",
    "plt.show()\n",
    "# scalar vars\n",
    "scalar_vars = ['es', 'integrated_verb_pct']\n",
    "for scalar_var in scalar_vars:\n",
    "    sns.distplot(treatment_data.loc[:, scalar_var], hist=False, rug=False, color='b', label='treatment')\n",
    "    sns.distplot(control_data.loc[:, scalar_var], hist=False, rug=False, color='r', label='control')\n",
    "    plt.legend(loc='upper left')\n",
    "    plt.show()"
   ]
  },
  {
   "cell_type": "markdown",
   "metadata": {},
   "source": [
    "OK! So the treatment users:\n",
    "- more likely to be from Latin America\n",
    "- less likely to be from Europe\n",
    "- more likely to use more Spanish\n",
    "- more likely to use fewer integrated verbs"
   ]
  },
  {
   "cell_type": "markdown",
   "metadata": {},
   "source": [
    "## Match authors\n",
    "Let's try [this package](https://github.com/rlirey/psmatching) for propensity score matching."
   ]
  },
  {
   "cell_type": "code",
   "execution_count": 6,
   "metadata": {},
   "outputs": [
    {
     "name": "stdout",
     "output_type": "stream",
     "text": [
      "\n",
      "Calculating propensity scores ... "
     ]
    },
    {
     "name": "stderr",
     "output_type": "stream",
     "text": [
      "/nethome/istewart6/.local/lib/python3.6/site-packages/statsmodels/tools/_testing.py:19: FutureWarning: pandas.util.testing is deprecated. Use the functions in the public API at pandas.testing instead.\n",
      "  import pandas.util.testing as tm\n"
     ]
    },
    {
     "name": "stdout",
     "output_type": "stream",
     "text": [
      "DONE!\n",
      "Preparing data ... DONE!\n",
      "\n",
      "Matching [1] controls to each case ...  DONE!\n",
      "Writing matched data to file ... DONE!\n",
      "\n",
      "Evaluating matches ...\n",
      "\tes: PASSED\n",
      "\tintegrated_verb_pct: PASSED\n",
      "\tlatin_america: PASSED\n",
      "\tother: PASSED\n",
      "\teurope: PASSED\n",
      "\tus_america: PASSED\n",
      "\n",
      "All variables were successfully matched!\n"
     ]
    },
    {
     "data": {
      "text/plain": [
       "True"
      ]
     },
     "execution_count": 6,
     "metadata": {},
     "output_type": "execute_result"
    }
   ],
   "source": [
    "from psmatching.match import PSMatch\n",
    "k = \"1\"\n",
    "matcher = PSMatch(match_data_file, match_model, k)\n",
    "matcher.prepare_data()\n",
    "matcher.match(caliper=None, replace=False)\n",
    "matcher.evaluate()"
   ]
  },
  {
   "cell_type": "code",
   "execution_count": 7,
   "metadata": {},
   "outputs": [
    {
     "name": "stdout",
     "output_type": "stream",
     "text": [
      "1098\n"
     ]
    },
    {
     "data": {
      "text/html": [
       "<div>\n",
       "<style scoped>\n",
       "    .dataframe tbody tr th:only-of-type {\n",
       "        vertical-align: middle;\n",
       "    }\n",
       "\n",
       "    .dataframe tbody tr th {\n",
       "        vertical-align: top;\n",
       "    }\n",
       "\n",
       "    .dataframe thead th {\n",
       "        text-align: right;\n",
       "    }\n",
       "</style>\n",
       "<table border=\"1\" class=\"dataframe\">\n",
       "  <thead>\n",
       "    <tr style=\"text-align: right;\">\n",
       "      <th></th>\n",
       "      <th>latin_america</th>\n",
       "      <th>other</th>\n",
       "      <th>europe</th>\n",
       "      <th>us_america</th>\n",
       "      <th>es</th>\n",
       "      <th>integrated_verb_pct</th>\n",
       "      <th>CASE</th>\n",
       "      <th>PROPENSITY</th>\n",
       "    </tr>\n",
       "    <tr>\n",
       "      <th>OPTUM_LAB_ID</th>\n",
       "      <th></th>\n",
       "      <th></th>\n",
       "      <th></th>\n",
       "      <th></th>\n",
       "      <th></th>\n",
       "      <th></th>\n",
       "      <th></th>\n",
       "      <th></th>\n",
       "    </tr>\n",
       "  </thead>\n",
       "  <tbody>\n",
       "    <tr>\n",
       "      <th>xsolars</th>\n",
       "      <td>1</td>\n",
       "      <td>0</td>\n",
       "      <td>0</td>\n",
       "      <td>0</td>\n",
       "      <td>0.811258</td>\n",
       "      <td>0.990385</td>\n",
       "      <td>0</td>\n",
       "      <td>0.260182</td>\n",
       "    </tr>\n",
       "    <tr>\n",
       "      <th>readytofallin</th>\n",
       "      <td>1</td>\n",
       "      <td>0</td>\n",
       "      <td>0</td>\n",
       "      <td>0</td>\n",
       "      <td>0.947257</td>\n",
       "      <td>0.966667</td>\n",
       "      <td>0</td>\n",
       "      <td>0.401535</td>\n",
       "    </tr>\n",
       "    <tr>\n",
       "      <th>vanne_vsb</th>\n",
       "      <td>1</td>\n",
       "      <td>0</td>\n",
       "      <td>0</td>\n",
       "      <td>0</td>\n",
       "      <td>0.946809</td>\n",
       "      <td>1.000000</td>\n",
       "      <td>1</td>\n",
       "      <td>0.398643</td>\n",
       "    </tr>\n",
       "    <tr>\n",
       "      <th>juanpas2013</th>\n",
       "      <td>1</td>\n",
       "      <td>0</td>\n",
       "      <td>0</td>\n",
       "      <td>0</td>\n",
       "      <td>0.934278</td>\n",
       "      <td>0.983333</td>\n",
       "      <td>1</td>\n",
       "      <td>0.385797</td>\n",
       "    </tr>\n",
       "    <tr>\n",
       "      <th>esquivandofm</th>\n",
       "      <td>1</td>\n",
       "      <td>0</td>\n",
       "      <td>0</td>\n",
       "      <td>0</td>\n",
       "      <td>0.939547</td>\n",
       "      <td>1.000000</td>\n",
       "      <td>1</td>\n",
       "      <td>0.390494</td>\n",
       "    </tr>\n",
       "    <tr>\n",
       "      <th>...</th>\n",
       "      <td>...</td>\n",
       "      <td>...</td>\n",
       "      <td>...</td>\n",
       "      <td>...</td>\n",
       "      <td>...</td>\n",
       "      <td>...</td>\n",
       "      <td>...</td>\n",
       "      <td>...</td>\n",
       "    </tr>\n",
       "    <tr>\n",
       "      <th>wadamalpica</th>\n",
       "      <td>0</td>\n",
       "      <td>1</td>\n",
       "      <td>0</td>\n",
       "      <td>0</td>\n",
       "      <td>0.885535</td>\n",
       "      <td>1.000000</td>\n",
       "      <td>1</td>\n",
       "      <td>0.332905</td>\n",
       "    </tr>\n",
       "    <tr>\n",
       "      <th>gabyruizh</th>\n",
       "      <td>0</td>\n",
       "      <td>1</td>\n",
       "      <td>0</td>\n",
       "      <td>0</td>\n",
       "      <td>0.941379</td>\n",
       "      <td>1.000000</td>\n",
       "      <td>0</td>\n",
       "      <td>0.393473</td>\n",
       "    </tr>\n",
       "    <tr>\n",
       "      <th>alberto_vargas8</th>\n",
       "      <td>1</td>\n",
       "      <td>0</td>\n",
       "      <td>0</td>\n",
       "      <td>0</td>\n",
       "      <td>0.930900</td>\n",
       "      <td>1.000000</td>\n",
       "      <td>0</td>\n",
       "      <td>0.380870</td>\n",
       "    </tr>\n",
       "    <tr>\n",
       "      <th>footiegirl89</th>\n",
       "      <td>0</td>\n",
       "      <td>1</td>\n",
       "      <td>0</td>\n",
       "      <td>0</td>\n",
       "      <td>0.633484</td>\n",
       "      <td>1.000000</td>\n",
       "      <td>1</td>\n",
       "      <td>0.132490</td>\n",
       "    </tr>\n",
       "    <tr>\n",
       "      <th>beluperfectblue</th>\n",
       "      <td>0</td>\n",
       "      <td>1</td>\n",
       "      <td>0</td>\n",
       "      <td>0</td>\n",
       "      <td>0.908870</td>\n",
       "      <td>1.000000</td>\n",
       "      <td>0</td>\n",
       "      <td>0.357679</td>\n",
       "    </tr>\n",
       "  </tbody>\n",
       "</table>\n",
       "<p>726 rows × 8 columns</p>\n",
       "</div>"
      ],
      "text/plain": [
       "                 latin_america  other  europe  us_america        es  \\\n",
       "OPTUM_LAB_ID                                                          \n",
       "xsolars                      1      0       0           0  0.811258   \n",
       "readytofallin                1      0       0           0  0.947257   \n",
       "vanne_vsb                    1      0       0           0  0.946809   \n",
       "juanpas2013                  1      0       0           0  0.934278   \n",
       "esquivandofm                 1      0       0           0  0.939547   \n",
       "...                        ...    ...     ...         ...       ...   \n",
       "wadamalpica                  0      1       0           0  0.885535   \n",
       "gabyruizh                    0      1       0           0  0.941379   \n",
       "alberto_vargas8              1      0       0           0  0.930900   \n",
       "footiegirl89                 0      1       0           0  0.633484   \n",
       "beluperfectblue              0      1       0           0  0.908870   \n",
       "\n",
       "                 integrated_verb_pct  CASE  PROPENSITY  \n",
       "OPTUM_LAB_ID                                            \n",
       "xsolars                     0.990385     0    0.260182  \n",
       "readytofallin               0.966667     0    0.401535  \n",
       "vanne_vsb                   1.000000     1    0.398643  \n",
       "juanpas2013                 0.983333     1    0.385797  \n",
       "esquivandofm                1.000000     1    0.390494  \n",
       "...                              ...   ...         ...  \n",
       "wadamalpica                 1.000000     1    0.332905  \n",
       "gabyruizh                   1.000000     0    0.393473  \n",
       "alberto_vargas8             1.000000     0    0.380870  \n",
       "footiegirl89                1.000000     1    0.132490  \n",
       "beluperfectblue             1.000000     0    0.357679  \n",
       "\n",
       "[726 rows x 8 columns]"
      ]
     },
     "metadata": {},
     "output_type": "display_data"
    }
   ],
   "source": [
    "print(match_data.shape[0])\n",
    "display(matcher.matched_data)"
   ]
  },
  {
   "cell_type": "code",
   "execution_count": 11,
   "metadata": {},
   "outputs": [
    {
     "data": {
      "image/png": "[encoded data removed]",
      "text/plain": [
       "<Figure size 432x288 with 1 Axes>"
      ]
     },
     "metadata": {
      "needs_background": "light"
     },
     "output_type": "display_data"
    },
    {
     "data": {
      "image/png": "[encoded data removed]",
      "text/plain": [
       "<Figure size 432x288 with 1 Axes>"
      ]
     },
     "metadata": {
      "needs_background": "light"
     },
     "output_type": "display_data"
    },
    {
     "data": {
      "image/png": "[encoded data removed]",
      "text/plain": [
       "<Figure size 432x288 with 1 Axes>"
      ]
     },
     "metadata": {
      "needs_background": "light"
     },
     "output_type": "display_data"
    }
   ],
   "source": [
    "# plot everything\n",
    "import matplotlib\n",
    "%matplotlib inline\n",
    "import matplotlib.pyplot as plt\n",
    "import seaborn as sns\n",
    "treatment_var = 'CASE'\n",
    "matched_treatment_data = matcher.matched_data[matcher.matched_data.loc[:, treatment_var]==1]\n",
    "matched_control_data = matcher.matched_data[matcher.matched_data.loc[:, treatment_var]==0]\n",
    "# binary vals\n",
    "treatment_location_pct = matched_treatment_data.loc[:, location_vals].sum(axis=0) / treatment_data.shape[0]\n",
    "control_location_pct = matched_control_data.loc[:, location_vals].sum(axis=0) / control_data.shape[0]\n",
    "X = np.arange(len(treatment_location_pct))\n",
    "bar_width = 0.25\n",
    "bar_offset = 0.25\n",
    "plt.bar(X-bar_offset, treatment_location_pct, width=bar_width, color='b', label='treatment')\n",
    "plt.bar(X+bar_offset, control_location_pct, width=bar_width, color='r', label='control')\n",
    "plt.xticks(X, location_vals)\n",
    "plt.legend(loc='upper left')\n",
    "plt.show()\n",
    "# scalar vars\n",
    "scalar_vars = ['es', 'integrated_verb_pct']\n",
    "for scalar_var in scalar_vars:\n",
    "    sns.distplot(matched_treatment_data.loc[:, scalar_var], hist=False, rug=False, color='b', label='treatment')\n",
    "    sns.distplot(matched_control_data.loc[:, scalar_var], hist=False, rug=False, color='r', label='control')\n",
    "    plt.legend(loc='upper left')\n",
    "    plt.show()"
   ]
  },
  {
   "cell_type": "markdown",
   "metadata": {},
   "source": [
    "OK! The locations are imbalanced but the scalar variables are more balanced.\n",
    "\n",
    "Let's use a less hacky package, [this one](https://github.com/laurencium/causalinference) for causal inference."
   ]
  },
  {
   "cell_type": "code",
   "execution_count": 26,
   "metadata": {},
   "outputs": [
    {
     "name": "stdout",
     "output_type": "stream",
     "text": [
      "0    56029\n",
      "1    24892\n",
      "dtype: int64\n"
     ]
    },
    {
     "data": {
      "text/html": [
       "<div>\n",
       "<style scoped>\n",
       "    .dataframe tbody tr th:only-of-type {\n",
       "        vertical-align: middle;\n",
       "    }\n",
       "\n",
       "    .dataframe tbody tr th {\n",
       "        vertical-align: top;\n",
       "    }\n",
       "\n",
       "    .dataframe thead th {\n",
       "        text-align: right;\n",
       "    }\n",
       "</style>\n",
       "<table border=\"1\" class=\"dataframe\">\n",
       "  <thead>\n",
       "    <tr style=\"text-align: right;\">\n",
       "      <th></th>\n",
       "      <th>screen_name</th>\n",
       "      <th>freq_light_verb</th>\n",
       "    </tr>\n",
       "  </thead>\n",
       "  <tbody>\n",
       "    <tr>\n",
       "      <th>0</th>\n",
       "      <td>0001101011001e</td>\n",
       "      <td>0</td>\n",
       "    </tr>\n",
       "    <tr>\n",
       "      <th>1</th>\n",
       "      <td>0001sunshine</td>\n",
       "      <td>0</td>\n",
       "    </tr>\n",
       "    <tr>\n",
       "      <th>2</th>\n",
       "      <td>000822e5bc974e0</td>\n",
       "      <td>0</td>\n",
       "    </tr>\n",
       "    <tr>\n",
       "      <th>3</th>\n",
       "      <td>0009_bts</td>\n",
       "      <td>1</td>\n",
       "    </tr>\n",
       "    <tr>\n",
       "      <th>4</th>\n",
       "      <td>000i00i</td>\n",
       "      <td>0</td>\n",
       "    </tr>\n",
       "  </tbody>\n",
       "</table>\n",
       "</div>"
      ],
      "text/plain": [
       "       screen_name  freq_light_verb\n",
       "0   0001101011001e                0\n",
       "1     0001sunshine                0\n",
       "2  000822e5bc974e0                0\n",
       "3         0009_bts                1\n",
       "4          000i00i                0"
      ]
     },
     "metadata": {},
     "output_type": "display_data"
    },
    {
     "data": {
      "text/html": [
       "<div>\n",
       "<style scoped>\n",
       "    .dataframe tbody tr th:only-of-type {\n",
       "        vertical-align: middle;\n",
       "    }\n",
       "\n",
       "    .dataframe tbody tr th {\n",
       "        vertical-align: top;\n",
       "    }\n",
       "\n",
       "    .dataframe thead th {\n",
       "        text-align: right;\n",
       "    }\n",
       "</style>\n",
       "<table border=\"1\" class=\"dataframe\">\n",
       "  <thead>\n",
       "    <tr style=\"text-align: right;\">\n",
       "      <th></th>\n",
       "      <th>latin_america</th>\n",
       "      <th>other</th>\n",
       "      <th>europe</th>\n",
       "      <th>us_america</th>\n",
       "      <th>es</th>\n",
       "      <th>integrated_verb_pct</th>\n",
       "      <th>CASE</th>\n",
       "      <th>screen_name</th>\n",
       "      <th>freq_light_verb</th>\n",
       "      <th>log_es</th>\n",
       "      <th>log_integrated_verb_pct</th>\n",
       "    </tr>\n",
       "  </thead>\n",
       "  <tbody>\n",
       "    <tr>\n",
       "      <th>0</th>\n",
       "      <td>1</td>\n",
       "      <td>0</td>\n",
       "      <td>0</td>\n",
       "      <td>0</td>\n",
       "      <td>0.811258</td>\n",
       "      <td>0.990385</td>\n",
       "      <td>0</td>\n",
       "      <td>xsolars</td>\n",
       "      <td>1</td>\n",
       "      <td>-0.196918</td>\n",
       "      <td>0.000385</td>\n",
       "    </tr>\n",
       "    <tr>\n",
       "      <th>1</th>\n",
       "      <td>1</td>\n",
       "      <td>0</td>\n",
       "      <td>0</td>\n",
       "      <td>0</td>\n",
       "      <td>0.947257</td>\n",
       "      <td>0.966667</td>\n",
       "      <td>0</td>\n",
       "      <td>readytofallin</td>\n",
       "      <td>1</td>\n",
       "      <td>-0.043683</td>\n",
       "      <td>-0.023610</td>\n",
       "    </tr>\n",
       "    <tr>\n",
       "      <th>2</th>\n",
       "      <td>1</td>\n",
       "      <td>0</td>\n",
       "      <td>0</td>\n",
       "      <td>0</td>\n",
       "      <td>0.946809</td>\n",
       "      <td>1</td>\n",
       "      <td>1</td>\n",
       "      <td>vanne_vsb</td>\n",
       "      <td>1</td>\n",
       "      <td>-0.044152</td>\n",
       "      <td>0.009950</td>\n",
       "    </tr>\n",
       "    <tr>\n",
       "      <th>3</th>\n",
       "      <td>1</td>\n",
       "      <td>0</td>\n",
       "      <td>0</td>\n",
       "      <td>0</td>\n",
       "      <td>0.934278</td>\n",
       "      <td>0.983333</td>\n",
       "      <td>1</td>\n",
       "      <td>juanpas2013</td>\n",
       "      <td>1</td>\n",
       "      <td>-0.057334</td>\n",
       "      <td>-0.006689</td>\n",
       "    </tr>\n",
       "    <tr>\n",
       "      <th>4</th>\n",
       "      <td>1</td>\n",
       "      <td>0</td>\n",
       "      <td>0</td>\n",
       "      <td>0</td>\n",
       "      <td>0.918679</td>\n",
       "      <td>0.916667</td>\n",
       "      <td>0</td>\n",
       "      <td>dylath_leen_</td>\n",
       "      <td>1</td>\n",
       "      <td>-0.073993</td>\n",
       "      <td>-0.076161</td>\n",
       "    </tr>\n",
       "  </tbody>\n",
       "</table>\n",
       "</div>"
      ],
      "text/plain": [
       "   latin_america  other  europe  us_america        es integrated_verb_pct  \\\n",
       "0              1      0       0           0  0.811258            0.990385   \n",
       "1              1      0       0           0  0.947257            0.966667   \n",
       "2              1      0       0           0  0.946809                   1   \n",
       "3              1      0       0           0  0.934278            0.983333   \n",
       "4              1      0       0           0  0.918679            0.916667   \n",
       "\n",
       "   CASE    screen_name  freq_light_verb    log_es  log_integrated_verb_pct  \n",
       "0     0        xsolars                1 -0.196918                 0.000385  \n",
       "1     0  readytofallin                1 -0.043683                -0.023610  \n",
       "2     1      vanne_vsb                1 -0.044152                 0.009950  \n",
       "3     1    juanpas2013                1 -0.057334                -0.006689  \n",
       "4     0   dylath_leen_                1 -0.073993                -0.076161  "
      ]
     },
     "metadata": {},
     "output_type": "display_data"
    }
   ],
   "source": [
    "# we need to get light verb use first as the outcome variable\n",
    "loanword_post_data = pd.read_csv('../../data/mined_tweets/loanword_verbs_post_social_data.tsv', sep='\\t')\n",
    "author_var = 'screen_name'\n",
    "dep_var = 'has_light_verb'\n",
    "per_author_light_verb_pct = loanword_post_data.groupby(author_var).apply(lambda x: x.loc[:, dep_var].mean())\n",
    "light_verb_use_cutoff = 0.5\n",
    "per_author_outcome = (per_author_light_verb_pct > light_verb_use_cutoff).astype(int)\n",
    "print(per_author_outcome.value_counts())\n",
    "outcome_var = 'freq_light_verb'\n",
    "per_author_outcome = per_author_outcome.reset_index().rename(columns={0 : outcome_var})\n",
    "display(per_author_outcome.head())\n",
    "# combine with match data\n",
    "outcome_match_data = pd.merge(match_data.rename(columns={'OPTUM_LAB_ID' : author_var}), per_author_outcome, on=author_var)\n",
    "# add log vars\n",
    "scalar_control_vars = ['es', 'integrated_verb_pct']\n",
    "smooth_val = 1e-2\n",
    "for scalar_control_var in scalar_control_vars:\n",
    "    outcome_match_data = outcome_match_data.assign(**{\n",
    "        f'log_{scalar_control_var}' : outcome_match_data.loc[:, scalar_control_var].apply(lambda x: np.log(x+smooth_val))\n",
    "    })\n",
    "display(outcome_match_data.head())"
   ]
  },
  {
   "cell_type": "code",
   "execution_count": 47,
   "metadata": {
    "scrolled": true
   },
   "outputs": [],
   "source": [
    "from causalinference import CausalModel\n",
    "treatment_var = 'CASE'\n",
    "lang_var = 'es'\n",
    "location_vals = list(clean_loanword_author_social_data.loc[:, location_var].unique())\n",
    "native_verb_var = 'integrated_verb_pct'\n",
    "control_vars = [lang_var, native_verb_var] + location_vals\n",
    "Y = outcome_match_data.loc[:, outcome_var]\n",
    "D = outcome_match_data.loc[:, treatment_var]\n",
    "# X = outcome_match_data.loc[:, ['es', 'integrated_verb_pct']]\n",
    "X = outcome_match_data.loc[:, control_vars]\n",
    "# fix columns\n",
    "# scalar_control_vars = ['es', 'integrated_verb_pct']\n",
    "scalar_control_vars = ['es', 'integrated_verb_pct']\n",
    "for scalar_control_var in scalar_control_vars:\n",
    "    X = X.assign(**{scalar_control_var : X.loc[:, scalar_control_var].apply(lambda x: float(x))})\n",
    "causal_model = CausalModel(Y.values, D.values, X.values)"
   ]
  },
  {
   "cell_type": "code",
   "execution_count": 48,
   "metadata": {},
   "outputs": [
    {
     "name": "stdout",
     "output_type": "stream",
     "text": [
      "\n",
      "Summary Statistics\n",
      "\n",
      "                       Controls (N_c=735)         Treated (N_t=363)             \n",
      "       Variable         Mean         S.d.         Mean         S.d.     Raw-diff\n",
      "--------------------------------------------------------------------------------\n",
      "              Y        0.306        0.461        0.303        0.460       -0.003\n",
      "\n",
      "                       Controls (N_c=735)         Treated (N_t=363)             \n",
      "       Variable         Mean         S.d.         Mean         S.d.     Nor-diff\n",
      "--------------------------------------------------------------------------------\n",
      "             X0        0.854        0.131        0.899        0.084        0.403\n",
      "             X1        0.944        0.075        0.941        0.073       -0.038\n",
      "             X2        0.314        0.465        0.331        0.471        0.035\n",
      "             X3        0.593        0.492        0.587        0.493       -0.013\n",
      "             X4        0.067        0.250        0.047        0.212       -0.086\n",
      "             X5        0.026        0.159        0.036        0.186        0.058\n",
      "\n"
     ]
    }
   ],
   "source": [
    "print(causal_model.summary_stats)"
   ]
  },
  {
   "cell_type": "code",
   "execution_count": 49,
   "metadata": {},
   "outputs": [
    {
     "name": "stdout",
     "output_type": "stream",
     "text": [
      "\n",
      "Estimated Parameters of Propensity Score\n",
      "\n",
      "                    Coef.       S.e.          z      P>|z|      [95% Conf. int.]\n",
      "--------------------------------------------------------------------------------\n",
      "     Intercept     -3.6189686330.174     -0.000      1.000-18985210.75918985203.523\n",
      "            X0      4.698      0.846      5.555      0.000      3.040      6.355\n",
      "            X1     -0.298      0.895     -0.333      0.739     -2.053      1.456\n",
      "            X2     -0.9439686330.174     -0.000      1.000-18985208.08318985206.198\n",
      "            X3     -0.9399686330.174     -0.000      1.000-18985208.07918985206.202\n",
      "            X4     -1.3309686330.174     -0.000      1.000-18985208.47018985205.811\n",
      "            X5     -0.4079686330.174     -0.000      1.000-18985207.54818985206.734\n",
      "\n"
     ]
    }
   ],
   "source": [
    "causal_model.est_propensity()\n",
    "print(causal_model.propensity)"
   ]
  },
  {
   "cell_type": "code",
   "execution_count": 52,
   "metadata": {},
   "outputs": [
    {
     "name": "stdout",
     "output_type": "stream",
     "text": [
      "\n",
      "Treatment Effect Estimates: OLS\n",
      "\n",
      "                     Est.       S.e.          z      P>|z|      [95% Conf. int.]\n",
      "--------------------------------------------------------------------------------\n",
      "           ATE      0.005      0.031      0.163      0.871     -0.056      0.066\n",
      "           ATC      0.005      0.033      0.146      0.884     -0.059      0.069\n",
      "           ATT      0.006      0.030      0.186      0.852     -0.053      0.064\n",
      "\n",
      "Treatment Effect Estimates: Matching\n",
      "\n",
      "                     Est.       S.e.          z      P>|z|      [95% Conf. int.]\n",
      "--------------------------------------------------------------------------------\n",
      "           ATE     -0.014      0.051     -0.265      0.791     -0.115      0.087\n",
      "           ATC     -0.010      0.058     -0.164      0.870     -0.123      0.104\n",
      "           ATT     -0.022      0.058     -0.383      0.702     -0.135      0.091\n",
      "\n"
     ]
    }
   ],
   "source": [
    "causal_model.est_via_ols()\n",
    "causal_model.est_via_matching(weights='maha')\n",
    "print(causal_model.estimates)"
   ]
  },
  {
   "cell_type": "markdown",
   "metadata": {},
   "source": [
    "OK! Both matching and OLS cannot demonstrate a significant effect of the treatment on an outcome."
   ]
  },
  {
   "cell_type": "markdown",
   "metadata": {},
   "source": [
    "### Active authors"
   ]
  },
  {
   "cell_type": "markdown",
   "metadata": {},
   "source": [
    "Is this effect observed even for the more active authors?"
   ]
  },
  {
   "cell_type": "code",
   "execution_count": 56,
   "metadata": {},
   "outputs": [
    {
     "name": "stdout",
     "output_type": "stream",
     "text": [
      "4543\n"
     ]
    }
   ],
   "source": [
    "author_var = 'screen_name'\n",
    "author_counts = loanword_post_data.loc[:, author_var].value_counts()\n",
    "min_author_count = 2\n",
    "freq_authors = author_counts[author_counts >= min_author_count].index.tolist()\n",
    "print(len(freq_authors))"
   ]
  },
  {
   "cell_type": "code",
   "execution_count": 57,
   "metadata": {},
   "outputs": [
    {
     "name": "stdout",
     "output_type": "stream",
     "text": [
      "99\n"
     ]
    }
   ],
   "source": [
    "freq_outcome_match_data = outcome_match_data[outcome_match_data.loc[:, author_var].isin(freq_authors)]\n",
    "print(freq_outcome_match_data.shape[0])"
   ]
  },
  {
   "cell_type": "code",
   "execution_count": 58,
   "metadata": {},
   "outputs": [],
   "source": [
    "from causalinference import CausalModel\n",
    "treatment_var = 'CASE'\n",
    "lang_var = 'es'\n",
    "location_vals = list(clean_loanword_author_social_data.loc[:, location_var].unique())\n",
    "native_verb_var = 'integrated_verb_pct'\n",
    "control_vars = [lang_var, native_verb_var] + location_vals\n",
    "Y = freq_outcome_match_data.loc[:, outcome_var]\n",
    "D = freq_outcome_match_data.loc[:, treatment_var]\n",
    "# X = outcome_match_data.loc[:, ['es', 'integrated_verb_pct']]\n",
    "X = freq_outcome_match_data.loc[:, control_vars]\n",
    "# fix columns\n",
    "# scalar_control_vars = ['es', 'integrated_verb_pct']\n",
    "scalar_control_vars = ['es', 'integrated_verb_pct']\n",
    "for scalar_control_var in scalar_control_vars:\n",
    "    X = X.assign(**{scalar_control_var : X.loc[:, scalar_control_var].apply(lambda x: float(x))})\n",
    "causal_model = CausalModel(Y.values, D.values, X.values)"
   ]
  },
  {
   "cell_type": "code",
   "execution_count": 59,
   "metadata": {},
   "outputs": [
    {
     "name": "stdout",
     "output_type": "stream",
     "text": [
      "\n",
      "Summary Statistics\n",
      "\n",
      "                        Controls (N_c=72)          Treated (N_t=27)             \n",
      "       Variable         Mean         S.d.         Mean         S.d.     Raw-diff\n",
      "--------------------------------------------------------------------------------\n",
      "              Y        0.125        0.333        0.148        0.362        0.023\n",
      "\n",
      "                        Controls (N_c=72)          Treated (N_t=27)             \n",
      "       Variable         Mean         S.d.         Mean         S.d.     Nor-diff\n",
      "--------------------------------------------------------------------------------\n",
      "             X0        0.887        0.077        0.881        0.119       -0.059\n",
      "             X1        0.945        0.066        0.936        0.065       -0.131\n",
      "             X2        0.292        0.458        0.222        0.424       -0.157\n",
      "             X3        0.583        0.496        0.630        0.492        0.094\n",
      "             X4        0.097        0.298        0.037        0.192       -0.240\n",
      "             X5        0.028        0.165        0.111        0.320        0.327\n",
      "\n"
     ]
    }
   ],
   "source": [
    "print(causal_model.summary_stats)"
   ]
  },
  {
   "cell_type": "code",
   "execution_count": 60,
   "metadata": {},
   "outputs": [
    {
     "name": "stdout",
     "output_type": "stream",
     "text": [
      "\n",
      "Treatment Effect Estimates: OLS\n",
      "\n",
      "                     Est.       S.e.          z      P>|z|      [95% Conf. int.]\n",
      "--------------------------------------------------------------------------------\n",
      "           ATE      0.030      0.082      0.373      0.709     -0.129      0.190\n",
      "           ATC      0.034      0.083      0.413      0.680     -0.129      0.198\n",
      "           ATT      0.018      0.078      0.235      0.814     -0.135      0.171\n",
      "\n",
      "Treatment Effect Estimates: Matching\n",
      "\n",
      "                     Est.       S.e.          z      P>|z|      [95% Conf. int.]\n",
      "--------------------------------------------------------------------------------\n",
      "           ATE      0.101      0.152      0.664      0.507     -0.197      0.399\n",
      "           ATC      0.139      0.169      0.823      0.411     -0.192      0.470\n",
      "           ATT      0.000      0.164      0.000      1.000     -0.322      0.322\n",
      "\n"
     ]
    }
   ],
   "source": [
    "causal_model.est_via_ols()\n",
    "causal_model.est_via_matching(weights='maha')\n",
    "print(causal_model.estimates)"
   ]
  },
  {
   "cell_type": "markdown",
   "metadata": {},
   "source": [
    "OK! Still no consistent effect."
   ]
  },
  {
   "cell_type": "markdown",
   "metadata": {},
   "source": [
    "### Match authors on covariates, compare light verb use"
   ]
  },
  {
   "cell_type": "markdown",
   "metadata": {},
   "source": [
    "Let's first match authors using the standard nearest neighbors technique, then count the light verb use in different conditions (high media vs. low media)."
   ]
  },
  {
   "cell_type": "code",
   "execution_count": 225,
   "metadata": {},
   "outputs": [
    {
     "name": "stderr",
     "output_type": "stream",
     "text": [
      "/hg190/istewart6/miniconda3/envs/py3/lib/python3.6/site-packages/IPython/core/interactiveshell.py:3063: DtypeWarning: Columns (1) have mixed types.Specify dtype option on import or set low_memory=False.\n",
      "  interactivity=interactivity, compiler=compiler, result=result)\n"
     ]
    },
    {
     "name": "stdout",
     "output_type": "stream",
     "text": [
      "1098\n"
     ]
    }
   ],
   "source": [
    "import pandas as pd\n",
    "loanword_author_social_data = pd.read_csv('../../data/mined_tweets/loanword_authors_combined_balanced_media_full_social_data.tsv', sep='\\t')\n",
    "loanword_author_social_data.fillna('', inplace=True)\n",
    "# restrict to valid data\n",
    "valid_social_vars = ['description_location_region', 'es', 'latin_american_media_pct', 'integrated_verb_pct']\n",
    "clean_loanword_author_social_data = loanword_author_social_data.copy()\n",
    "for social_var in valid_social_vars:\n",
    "    clean_loanword_author_social_data = clean_loanword_author_social_data[clean_loanword_author_social_data.loc[:, social_var] != '']\n",
    "# fix scalar vars\n",
    "scalar_vars = ['es', 'integrated_verb_pct']\n",
    "smooth_val = 1e-2\n",
    "for scalar_var in scalar_vars:\n",
    "    clean_loanword_author_social_data = clean_loanword_author_social_data.assign(**{\n",
    "        scalar_var : clean_loanword_author_social_data.loc[:, scalar_var].astype(float)\n",
    "    })\n",
    "    # compute log\n",
    "    clean_loanword_author_social_data = clean_loanword_author_social_data.assign(**{\n",
    "        f'log_{scalar_var}' : np.log(clean_loanword_author_social_data.loc[:, scalar_var]+smooth_val)\n",
    "    })\n",
    "print(clean_loanword_author_social_data.shape[0])"
   ]
  },
  {
   "cell_type": "code",
   "execution_count": 226,
   "metadata": {},
   "outputs": [
    {
     "data": {
      "text/html": [
       "<div>\n",
       "<style scoped>\n",
       "    .dataframe tbody tr th:only-of-type {\n",
       "        vertical-align: middle;\n",
       "    }\n",
       "\n",
       "    .dataframe tbody tr th {\n",
       "        vertical-align: top;\n",
       "    }\n",
       "\n",
       "    .dataframe thead th {\n",
       "        text-align: right;\n",
       "    }\n",
       "</style>\n",
       "<table border=\"1\" class=\"dataframe\">\n",
       "  <thead>\n",
       "    <tr style=\"text-align: right;\">\n",
       "      <th></th>\n",
       "      <th>screen_name</th>\n",
       "      <th>description_location_region</th>\n",
       "      <th>es</th>\n",
       "      <th>es_bin</th>\n",
       "      <th>total_video_count</th>\n",
       "      <th>latin_american_artist_video_count</th>\n",
       "      <th>us_american_artist_video_count</th>\n",
       "      <th>latin_american_artist_video_pct</th>\n",
       "      <th>total_music_count</th>\n",
       "      <th>latin_american_music_genre_pct</th>\n",
       "      <th>...</th>\n",
       "      <th>latin_american_media_count</th>\n",
       "      <th>us_american_media_count</th>\n",
       "      <th>latin_american_media_pct</th>\n",
       "      <th>integrated_verb_pct</th>\n",
       "      <th>log_es</th>\n",
       "      <th>log_integrated_verb_pct</th>\n",
       "      <th>europe</th>\n",
       "      <th>latin_america</th>\n",
       "      <th>other</th>\n",
       "      <th>us_america</th>\n",
       "    </tr>\n",
       "  </thead>\n",
       "  <tbody>\n",
       "    <tr>\n",
       "      <th>46</th>\n",
       "      <td>xsolars</td>\n",
       "      <td>latin_america</td>\n",
       "      <td>0.811258</td>\n",
       "      <td>es_high</td>\n",
       "      <td>1</td>\n",
       "      <td>0</td>\n",
       "      <td>1</td>\n",
       "      <td>0</td>\n",
       "      <td>0</td>\n",
       "      <td>0</td>\n",
       "      <td>...</td>\n",
       "      <td>0</td>\n",
       "      <td>1</td>\n",
       "      <td>0</td>\n",
       "      <td>0.990385</td>\n",
       "      <td>-0.196918</td>\n",
       "      <td>0.000385</td>\n",
       "      <td>0.0</td>\n",
       "      <td>0.5</td>\n",
       "      <td>0.0</td>\n",
       "      <td>0.0</td>\n",
       "    </tr>\n",
       "    <tr>\n",
       "      <th>81</th>\n",
       "      <td>readytofallin</td>\n",
       "      <td>latin_america</td>\n",
       "      <td>0.947257</td>\n",
       "      <td>es_high</td>\n",
       "      <td>0</td>\n",
       "      <td>0</td>\n",
       "      <td>0</td>\n",
       "      <td>0</td>\n",
       "      <td>1</td>\n",
       "      <td>0</td>\n",
       "      <td>...</td>\n",
       "      <td>0</td>\n",
       "      <td>1</td>\n",
       "      <td>0</td>\n",
       "      <td>0.966667</td>\n",
       "      <td>-0.043683</td>\n",
       "      <td>-0.023610</td>\n",
       "      <td>0.0</td>\n",
       "      <td>0.5</td>\n",
       "      <td>0.0</td>\n",
       "      <td>0.0</td>\n",
       "    </tr>\n",
       "    <tr>\n",
       "      <th>160</th>\n",
       "      <td>vanne_vsb</td>\n",
       "      <td>latin_america</td>\n",
       "      <td>0.946809</td>\n",
       "      <td>es_high</td>\n",
       "      <td>1</td>\n",
       "      <td>1</td>\n",
       "      <td>0</td>\n",
       "      <td>1</td>\n",
       "      <td>0</td>\n",
       "      <td>0</td>\n",
       "      <td>...</td>\n",
       "      <td>1</td>\n",
       "      <td>0</td>\n",
       "      <td>1</td>\n",
       "      <td>1.000000</td>\n",
       "      <td>-0.044152</td>\n",
       "      <td>0.009950</td>\n",
       "      <td>0.0</td>\n",
       "      <td>0.5</td>\n",
       "      <td>0.0</td>\n",
       "      <td>0.0</td>\n",
       "    </tr>\n",
       "    <tr>\n",
       "      <th>238</th>\n",
       "      <td>juanpas2013</td>\n",
       "      <td>latin_america</td>\n",
       "      <td>0.934278</td>\n",
       "      <td>es_high</td>\n",
       "      <td>1</td>\n",
       "      <td>1</td>\n",
       "      <td>0</td>\n",
       "      <td>1</td>\n",
       "      <td>0</td>\n",
       "      <td>0</td>\n",
       "      <td>...</td>\n",
       "      <td>1</td>\n",
       "      <td>0</td>\n",
       "      <td>1</td>\n",
       "      <td>0.983333</td>\n",
       "      <td>-0.057334</td>\n",
       "      <td>-0.006689</td>\n",
       "      <td>0.0</td>\n",
       "      <td>0.5</td>\n",
       "      <td>0.0</td>\n",
       "      <td>0.0</td>\n",
       "    </tr>\n",
       "    <tr>\n",
       "      <th>455</th>\n",
       "      <td>dylath_leen_</td>\n",
       "      <td>latin_america</td>\n",
       "      <td>0.918679</td>\n",
       "      <td>es_high</td>\n",
       "      <td>0</td>\n",
       "      <td>0</td>\n",
       "      <td>0</td>\n",
       "      <td>0</td>\n",
       "      <td>4</td>\n",
       "      <td>0</td>\n",
       "      <td>...</td>\n",
       "      <td>0</td>\n",
       "      <td>4</td>\n",
       "      <td>0</td>\n",
       "      <td>0.916667</td>\n",
       "      <td>-0.073993</td>\n",
       "      <td>-0.076161</td>\n",
       "      <td>0.0</td>\n",
       "      <td>0.5</td>\n",
       "      <td>0.0</td>\n",
       "      <td>0.0</td>\n",
       "    </tr>\n",
       "  </tbody>\n",
       "</table>\n",
       "<p>5 rows × 22 columns</p>\n",
       "</div>"
      ],
      "text/plain": [
       "       screen_name description_location_region        es   es_bin  \\\n",
       "46         xsolars               latin_america  0.811258  es_high   \n",
       "81   readytofallin               latin_america  0.947257  es_high   \n",
       "160      vanne_vsb               latin_america  0.946809  es_high   \n",
       "238    juanpas2013               latin_america  0.934278  es_high   \n",
       "455   dylath_leen_               latin_america  0.918679  es_high   \n",
       "\n",
       "    total_video_count latin_american_artist_video_count  \\\n",
       "46                  1                                 0   \n",
       "81                  0                                 0   \n",
       "160                 1                                 1   \n",
       "238                 1                                 1   \n",
       "455                 0                                 0   \n",
       "\n",
       "    us_american_artist_video_count latin_american_artist_video_pct  \\\n",
       "46                               1                               0   \n",
       "81                               0                               0   \n",
       "160                              0                               1   \n",
       "238                              0                               1   \n",
       "455                              0                               0   \n",
       "\n",
       "    total_music_count latin_american_music_genre_pct  ...  \\\n",
       "46                  0                              0  ...   \n",
       "81                  1                              0  ...   \n",
       "160                 0                              0  ...   \n",
       "238                 0                              0  ...   \n",
       "455                 4                              0  ...   \n",
       "\n",
       "    latin_american_media_count us_american_media_count  \\\n",
       "46                           0                       1   \n",
       "81                           0                       1   \n",
       "160                          1                       0   \n",
       "238                          1                       0   \n",
       "455                          0                       4   \n",
       "\n",
       "    latin_american_media_pct integrated_verb_pct    log_es  \\\n",
       "46                         0            0.990385 -0.196918   \n",
       "81                         0            0.966667 -0.043683   \n",
       "160                        1            1.000000 -0.044152   \n",
       "238                        1            0.983333 -0.057334   \n",
       "455                        0            0.916667 -0.073993   \n",
       "\n",
       "     log_integrated_verb_pct  europe  latin_america  other  us_america  \n",
       "46                  0.000385     0.0            0.5    0.0         0.0  \n",
       "81                 -0.023610     0.0            0.5    0.0         0.0  \n",
       "160                 0.009950     0.0            0.5    0.0         0.0  \n",
       "238                -0.006689     0.0            0.5    0.0         0.0  \n",
       "455                -0.076161     0.0            0.5    0.0         0.0  \n",
       "\n",
       "[5 rows x 22 columns]"
      ]
     },
     "metadata": {},
     "output_type": "display_data"
    }
   ],
   "source": [
    "# convert categorical vars to dummies\n",
    "cat_var = 'description_location_region'\n",
    "author_location_vals = pd.get_dummies(clean_loanword_author_social_data.loc[:, cat_var])\n",
    "unique_locations = set(author_location_vals.columns)\n",
    "cat_var_rescale_factor = 0.5\n",
    "if(len(unique_locations & set(clean_loanword_author_social_data.columns)) == 0):\n",
    "    clean_loanword_author_social_data = pd.concat([clean_loanword_author_social_data, author_location_vals], axis=1)\n",
    "# replace dummy vals with 1/2 the value so that we don't double-count them during distance calculation\n",
    "# e.g. if A=(1 0 0 0) and B=(0 0 0 1), then dist(A, B) should be 1; therefore A=(0.5 0 0 0) and B=(0 0 0 0.5)\n",
    "    for location_i in unique_locations:\n",
    "        clean_loanword_author_social_data = clean_loanword_author_social_data.assign(**{\n",
    "            location_i : clean_loanword_author_social_data.loc[:, location_i] * cat_var_rescale_factor\n",
    "        })\n",
    "display(clean_loanword_author_social_data.head())"
   ]
  },
  {
   "cell_type": "markdown",
   "metadata": {},
   "source": [
    "### Compare high vs. low media authors"
   ]
  },
  {
   "cell_type": "code",
   "execution_count": 264,
   "metadata": {
    "scrolled": true
   },
   "outputs": [
    {
     "name": "stdout",
     "output_type": "stream",
     "text": [
      "494 treatment authors\n",
      "604 control authors\n"
     ]
    }
   ],
   "source": [
    "# treatment = high media sharing\n",
    "media_pct_lower_cutoff = 0.5\n",
    "media_pct_upper_cutoff = 0.5\n",
    "media_var = 'latin_american_media_pct'\n",
    "treatment_data = clean_loanword_author_social_data[clean_loanword_author_social_data.loc[:, media_var] >= media_pct_upper_cutoff]\n",
    "control_data = clean_loanword_author_social_data[clean_loanword_author_social_data.loc[:, media_var] < media_pct_lower_cutoff]\n",
    "match_vals = ['log_es', 'log_integrated_verb_pct'] + list(unique_locations)\n",
    "treatment_data = treatment_data.loc[:, match_vals]\n",
    "control_data = control_data.loc[:, match_vals]\n",
    "print('%d treatment authors'%(treatment_data.shape[0]))\n",
    "print('%d control authors'%(control_data.shape[0]))"
   ]
  },
  {
   "cell_type": "markdown",
   "metadata": {},
   "source": [
    "Let's visualize the covariates before matching."
   ]
  },
  {
   "cell_type": "code",
   "execution_count": 265,
   "metadata": {},
   "outputs": [],
   "source": [
    "import numpy as np\n",
    "import matplotlib\n",
    "%matplotlib inline\n",
    "import matplotlib.pyplot as plt\n",
    "import seaborn as sns\n",
    "from scipy.stats import mannwhitneyu\n",
    "def visualize_test_treat_control_data(treat_data, control_data, cat_vals, scalar_vars, cat_var_rescale_factor=0.5):\n",
    "    treat_location_pct = treat_data.loc[:, unique_locations].sum(axis=0) / cat_var_rescale_factor / treat_data.shape[0]\n",
    "    control_location_pct = control_data.loc[:, unique_locations].sum(axis=0) / cat_var_rescale_factor / control_data.shape[0]\n",
    "    X = np.arange(len(treat_location_pct))\n",
    "    bar_width = 0.25\n",
    "    bar_offset = 0.25\n",
    "    plt.bar(X-bar_offset, treat_location_pct, width=bar_width, color='b', label='treat')\n",
    "    plt.bar(X+bar_offset, control_location_pct, width=bar_width, color='r', label='control')\n",
    "    plt.xticks(X, unique_locations)\n",
    "    plt.legend(loc='upper left')\n",
    "    plt.show()\n",
    "    # scalar vars\n",
    "#     scalar_vars = ['log_es', 'log_integrated_verb_pct']\n",
    "    for scalar_var in scalar_vars:\n",
    "        sns.distplot(treat_data.loc[:, scalar_var], hist=False, rug=False, color='b', label='treat')\n",
    "        sns.distplot(control_data.loc[:, scalar_var], hist=False, rug=False, color='r', label='control')\n",
    "        plt.legend(loc='upper left')\n",
    "        plt.show()\n",
    "        # test for significant differences\n",
    "        test_stat, p_val = mannwhitneyu(treat_data.loc[:, scalar_var].values, \n",
    "                                        control_data.loc[:, scalar_var].values)\n",
    "        print('distributions are different with test stat = %.3f (p=%.3E)'%(test_stat, p_val))"
   ]
  },
  {
   "cell_type": "code",
   "execution_count": 266,
   "metadata": {
    "scrolled": false
   },
   "outputs": [
    {
     "data": {
      "image/png": "[encoded data removed]",
      "text/plain": [
       "<Figure size 432x288 with 1 Axes>"
      ]
     },
     "metadata": {
      "needs_background": "light"
     },
     "output_type": "display_data"
    },
    {
     "data": {
      "image/png": "[encoded data removed]",
      "text/plain": [
       "<Figure size 432x288 with 1 Axes>"
      ]
     },
     "metadata": {
      "needs_background": "light"
     },
     "output_type": "display_data"
    },
    {
     "name": "stdout",
     "output_type": "stream",
     "text": [
      "distributions are different with test stat = 110610.000 (p=7.927E-14)\n"
     ]
    },
    {
     "data": {
      "image/png": "[encoded data removed]",
      "text/plain": [
       "<Figure size 432x288 with 1 Axes>"
      ]
     },
     "metadata": {
      "needs_background": "light"
     },
     "output_type": "display_data"
    },
    {
     "name": "stdout",
     "output_type": "stream",
     "text": [
      "distributions are different with test stat = 148174.500 (p=4.179E-01)\n"
     ]
    }
   ],
   "source": [
    "# let's plot the distribution of covariates before matching\n",
    "scalar_vars = ['log_es', 'log_integrated_verb_pct']\n",
    "visualize_test_treat_control_data(treatment_data, control_data, unique_locations, scalar_vars, cat_var_rescale_factor=cat_var_rescale_factor)"
   ]
  },
  {
   "cell_type": "code",
   "execution_count": 267,
   "metadata": {
    "scrolled": true
   },
   "outputs": [],
   "source": [
    "# match everyone\n",
    "import sys\n",
    "if('..' not in sys.path):\n",
    "    sys.path.append('..')\n",
    "from data_processing.data_helpers import get_matching_pairs\n",
    "match_data = get_matching_pairs(treatment_data, control_data, scaler=True)"
   ]
  },
  {
   "cell_type": "code",
   "execution_count": 268,
   "metadata": {
    "scrolled": false
   },
   "outputs": [
    {
     "data": {
      "image/png": "[encoded data removed]",
      "text/plain": [
       "<Figure size 432x288 with 1 Axes>"
      ]
     },
     "metadata": {
      "needs_background": "light"
     },
     "output_type": "display_data"
    },
    {
     "data": {
      "image/png": "[encoded data removed]",
      "text/plain": [
       "<Figure size 432x288 with 1 Axes>"
      ]
     },
     "metadata": {
      "needs_background": "light"
     },
     "output_type": "display_data"
    },
    {
     "name": "stdout",
     "output_type": "stream",
     "text": [
      "distributions are different with test stat = 104279.500 (p=3.823E-05)\n"
     ]
    },
    {
     "data": {
      "image/png": "[encoded data removed]",
      "text/plain": [
       "<Figure size 432x288 with 1 Axes>"
      ]
     },
     "metadata": {
      "needs_background": "light"
     },
     "output_type": "display_data"
    },
    {
     "name": "stdout",
     "output_type": "stream",
     "text": [
      "distributions are different with test stat = 120810.000 (p=3.868E-01)\n"
     ]
    }
   ],
   "source": [
    "scalar_vars = ['log_es', 'log_integrated_verb_pct']\n",
    "visualize_test_treat_control_data(treatment_data, match_data, unique_locations, scalar_vars, cat_var_rescale_factor=cat_var_rescale_factor)"
   ]
  },
  {
   "cell_type": "markdown",
   "metadata": {},
   "source": [
    "OK! This is better but still not perfect. BUT if we assume that we are binning the `ES` variable, then the overlap is probably good enough (similar number of `high_ES` authors)."
   ]
  },
  {
   "cell_type": "markdown",
   "metadata": {},
   "source": [
    "Now! Let's compare the counts of light verbs among the matched authors."
   ]
  },
  {
   "cell_type": "code",
   "execution_count": 244,
   "metadata": {
    "scrolled": true
   },
   "outputs": [
    {
     "data": {
      "text/html": [
       "<div>\n",
       "<style scoped>\n",
       "    .dataframe tbody tr th:only-of-type {\n",
       "        vertical-align: middle;\n",
       "    }\n",
       "\n",
       "    .dataframe tbody tr th {\n",
       "        vertical-align: top;\n",
       "    }\n",
       "\n",
       "    .dataframe thead th {\n",
       "        text-align: right;\n",
       "    }\n",
       "</style>\n",
       "<table border=\"1\" class=\"dataframe\">\n",
       "  <thead>\n",
       "    <tr style=\"text-align: right;\">\n",
       "      <th></th>\n",
       "      <th>loanword</th>\n",
       "      <th>loanword_verb</th>\n",
       "      <th>loanword_type</th>\n",
       "      <th>screen_name</th>\n",
       "      <th>user_id</th>\n",
       "      <th>text</th>\n",
       "      <th>date</th>\n",
       "      <th>id</th>\n",
       "      <th>user_description</th>\n",
       "      <th>user_location</th>\n",
       "      <th>...</th>\n",
       "      <th>us_american_artist_video_count</th>\n",
       "      <th>latin_american_artist_video_pct</th>\n",
       "      <th>total_music_count</th>\n",
       "      <th>latin_american_music_genre_pct</th>\n",
       "      <th>latin_american_music_genre_count</th>\n",
       "      <th>us_american_music_genre_count</th>\n",
       "      <th>latin_american_media_count</th>\n",
       "      <th>us_american_media_count</th>\n",
       "      <th>latin_american_media_pct</th>\n",
       "      <th>integrated_verb_pct</th>\n",
       "    </tr>\n",
       "  </thead>\n",
       "  <tbody>\n",
       "    <tr>\n",
       "      <th>0</th>\n",
       "      <td>audit</td>\n",
       "      <td>auditamos</td>\n",
       "      <td>integrated_loanword</td>\n",
       "      <td>garrachavista</td>\n",
       "      <td>779318307585396736</td>\n",
       "      <td>@Sheiladarsy @anticuarta4 Y dime tu cuales 7.6...</td>\n",
       "      <td>NaN</td>\n",
       "      <td>892506833197424640</td>\n",
       "      <td>100% a la izquierda</td>\n",
       "      <td>Venezuela</td>\n",
       "      <td>...</td>\n",
       "      <td>NaN</td>\n",
       "      <td>NaN</td>\n",
       "      <td>NaN</td>\n",
       "      <td>NaN</td>\n",
       "      <td>NaN</td>\n",
       "      <td>NaN</td>\n",
       "      <td>NaN</td>\n",
       "      <td>NaN</td>\n",
       "      <td>NaN</td>\n",
       "      <td>1.0</td>\n",
       "    </tr>\n",
       "    <tr>\n",
       "      <th>1</th>\n",
       "      <td>ban</td>\n",
       "      <td>baneamos</td>\n",
       "      <td>integrated_loanword</td>\n",
       "      <td>emmanuelkiller5</td>\n",
       "      <td>4273648032</td>\n",
       "      <td>@adameamiro Eres tan hipocrita que antes nos h...</td>\n",
       "      <td>NaN</td>\n",
       "      <td>882375684823203841</td>\n",
       "      <td>Felicidad?Que es eso, lo que todos siempre me ...</td>\n",
       "      <td>Chihuahua,  Chihuahua</td>\n",
       "      <td>...</td>\n",
       "      <td>NaN</td>\n",
       "      <td>NaN</td>\n",
       "      <td>NaN</td>\n",
       "      <td>NaN</td>\n",
       "      <td>NaN</td>\n",
       "      <td>NaN</td>\n",
       "      <td>NaN</td>\n",
       "      <td>NaN</td>\n",
       "      <td>NaN</td>\n",
       "      <td>NaN</td>\n",
       "    </tr>\n",
       "    <tr>\n",
       "      <th>2</th>\n",
       "      <td>ban</td>\n",
       "      <td>baneamos</td>\n",
       "      <td>integrated_loanword</td>\n",
       "      <td>danitolocirio13</td>\n",
       "      <td>482233447</td>\n",
       "      <td>@LVPibai Ibai te hace una normal de reclu? Así...</td>\n",
       "      <td>NaN</td>\n",
       "      <td>893999585953185793</td>\n",
       "      <td>#21. Me gusta Love Live. Reborn. Baraggan y Es...</td>\n",
       "      <td>Valladolid, España</td>\n",
       "      <td>...</td>\n",
       "      <td>NaN</td>\n",
       "      <td>NaN</td>\n",
       "      <td>NaN</td>\n",
       "      <td>NaN</td>\n",
       "      <td>NaN</td>\n",
       "      <td>NaN</td>\n",
       "      <td>NaN</td>\n",
       "      <td>NaN</td>\n",
       "      <td>NaN</td>\n",
       "      <td>1.0</td>\n",
       "    </tr>\n",
       "    <tr>\n",
       "      <th>3</th>\n",
       "      <td>flip</td>\n",
       "      <td>flipas</td>\n",
       "      <td>integrated_loanword</td>\n",
       "      <td>danitolocirio13</td>\n",
       "      <td>482233447</td>\n",
       "      <td>Me echaba unas rankeds ahora que flipas</td>\n",
       "      <td>NaN</td>\n",
       "      <td>949837604362612736</td>\n",
       "      <td>#22. Vago...</td>\n",
       "      <td>Valladolid, España</td>\n",
       "      <td>...</td>\n",
       "      <td>NaN</td>\n",
       "      <td>NaN</td>\n",
       "      <td>NaN</td>\n",
       "      <td>NaN</td>\n",
       "      <td>NaN</td>\n",
       "      <td>NaN</td>\n",
       "      <td>NaN</td>\n",
       "      <td>NaN</td>\n",
       "      <td>NaN</td>\n",
       "      <td>1.0</td>\n",
       "    </tr>\n",
       "    <tr>\n",
       "      <th>4</th>\n",
       "      <td>ban</td>\n",
       "      <td>banear</td>\n",
       "      <td>integrated_loanword</td>\n",
       "      <td>vcf973</td>\n",
       "      <td>883037197754093569</td>\n",
       "      <td>@MiiKeLMsT MIKEEL! CASI ME BANEAN POR COMPRAR ...</td>\n",
       "      <td>NaN</td>\n",
       "      <td>899277329012334593</td>\n",
       "      <td>.</td>\n",
       "      <td>Tenerife</td>\n",
       "      <td>...</td>\n",
       "      <td>NaN</td>\n",
       "      <td>NaN</td>\n",
       "      <td>NaN</td>\n",
       "      <td>NaN</td>\n",
       "      <td>NaN</td>\n",
       "      <td>NaN</td>\n",
       "      <td>NaN</td>\n",
       "      <td>NaN</td>\n",
       "      <td>NaN</td>\n",
       "      <td>NaN</td>\n",
       "    </tr>\n",
       "  </tbody>\n",
       "</table>\n",
       "<p>5 rows × 26 columns</p>\n",
       "</div>"
      ],
      "text/plain": [
       "  loanword loanword_verb        loanword_type      screen_name  \\\n",
       "0    audit     auditamos  integrated_loanword    garrachavista   \n",
       "1      ban      baneamos  integrated_loanword  emmanuelkiller5   \n",
       "2      ban      baneamos  integrated_loanword  danitolocirio13   \n",
       "3     flip        flipas  integrated_loanword  danitolocirio13   \n",
       "4      ban        banear  integrated_loanword           vcf973   \n",
       "\n",
       "              user_id                                               text  \\\n",
       "0  779318307585396736  @Sheiladarsy @anticuarta4 Y dime tu cuales 7.6...   \n",
       "1          4273648032  @adameamiro Eres tan hipocrita que antes nos h...   \n",
       "2           482233447  @LVPibai Ibai te hace una normal de reclu? Así...   \n",
       "3           482233447            Me echaba unas rankeds ahora que flipas   \n",
       "4  883037197754093569  @MiiKeLMsT MIKEEL! CASI ME BANEAN POR COMPRAR ...   \n",
       "\n",
       "   date                  id  \\\n",
       "0   NaN  892506833197424640   \n",
       "1   NaN  882375684823203841   \n",
       "2   NaN  893999585953185793   \n",
       "3   NaN  949837604362612736   \n",
       "4   NaN  899277329012334593   \n",
       "\n",
       "                                    user_description          user_location  \\\n",
       "0                                100% a la izquierda              Venezuela   \n",
       "1  Felicidad?Que es eso, lo que todos siempre me ...  Chihuahua,  Chihuahua   \n",
       "2  #21. Me gusta Love Live. Reborn. Baraggan y Es...     Valladolid, España   \n",
       "3                                       #22. Vago...     Valladolid, España   \n",
       "4                                                  .               Tenerife   \n",
       "\n",
       "   ...  us_american_artist_video_count latin_american_artist_video_pct  \\\n",
       "0  ...                             NaN                             NaN   \n",
       "1  ...                             NaN                             NaN   \n",
       "2  ...                             NaN                             NaN   \n",
       "3  ...                             NaN                             NaN   \n",
       "4  ...                             NaN                             NaN   \n",
       "\n",
       "   total_music_count latin_american_music_genre_pct  \\\n",
       "0                NaN                            NaN   \n",
       "1                NaN                            NaN   \n",
       "2                NaN                            NaN   \n",
       "3                NaN                            NaN   \n",
       "4                NaN                            NaN   \n",
       "\n",
       "   latin_american_music_genre_count  us_american_music_genre_count  \\\n",
       "0                               NaN                            NaN   \n",
       "1                               NaN                            NaN   \n",
       "2                               NaN                            NaN   \n",
       "3                               NaN                            NaN   \n",
       "4                               NaN                            NaN   \n",
       "\n",
       "   latin_american_media_count  us_american_media_count  \\\n",
       "0                         NaN                      NaN   \n",
       "1                         NaN                      NaN   \n",
       "2                         NaN                      NaN   \n",
       "3                         NaN                      NaN   \n",
       "4                         NaN                      NaN   \n",
       "\n",
       "   latin_american_media_pct  integrated_verb_pct  \n",
       "0                       NaN                  1.0  \n",
       "1                       NaN                  NaN  \n",
       "2                       NaN                  1.0  \n",
       "3                       NaN                  1.0  \n",
       "4                       NaN                  NaN  \n",
       "\n",
       "[5 rows x 26 columns]"
      ]
     },
     "metadata": {},
     "output_type": "display_data"
    }
   ],
   "source": [
    "loanword_post_data = pd.read_csv('../../data/mined_tweets/loanword_verbs_post_social_data.tsv', sep='\\t')\n",
    "display(loanword_post_data.head())"
   ]
  },
  {
   "cell_type": "code",
   "execution_count": 269,
   "metadata": {
    "scrolled": true
   },
   "outputs": [
    {
     "name": "stdout",
     "output_type": "stream",
     "text": [
      "494\n",
      "494\n"
     ]
    }
   ],
   "source": [
    "author_var = 'screen_name'\n",
    "treated_authors = clean_loanword_author_social_data.loc[treatment_data.index, :].loc[:, author_var].unique()\n",
    "control_authors = clean_loanword_author_social_data.loc[match_data.index, :].loc[:, author_var].unique()\n",
    "print(len(treated_authors))\n",
    "print(len(control_authors))"
   ]
  },
  {
   "cell_type": "code",
   "execution_count": 270,
   "metadata": {
    "scrolled": true
   },
   "outputs": [
    {
     "name": "stdout",
     "output_type": "stream",
     "text": [
      "                 high_media  low_media\n",
      "light_verb              161        177\n",
      "integrated_verb         396        379\n",
      "                 high_media  low_media\n",
      "light_verb         0.289048   0.318345\n",
      "integrated_verb    0.710952   0.681655\n",
      "difference is significant with test stat 0.995 (p=3.185E-01)\n"
     ]
    }
   ],
   "source": [
    "from scipy.stats import chi2_contingency\n",
    "treated_author_loanword_post_data = loanword_post_data[loanword_post_data.loc[:, author_var].isin(treated_authors)]\n",
    "control_author_loanword_post_data = loanword_post_data[loanword_post_data.loc[:, author_var].isin(control_authors)]\n",
    "dep_var = 'has_light_verb'\n",
    "contingency_table = [\n",
    "    [\n",
    "        treated_author_loanword_post_data.loc[:, dep_var].sum(), \n",
    "        control_author_loanword_post_data.loc[:, dep_var].sum(), \n",
    "    ],\n",
    "    [\n",
    "        (1-treated_author_loanword_post_data.loc[:, dep_var]).sum(), \n",
    "        (1-control_author_loanword_post_data.loc[:, dep_var]).sum(), \n",
    "    ],\n",
    "]\n",
    "contingency_table = pd.DataFrame(contingency_table, index=['light_verb', 'integrated_verb'], columns=['high_media', 'low_media'])\n",
    "norm_contingency_table = contingency_table.div(contingency_table.sum(axis=0))\n",
    "test_stat, p_val, dof, expected_table = chi2_contingency(contingency_table)\n",
    "print(contingency_table)\n",
    "print(norm_contingency_table)\n",
    "print('difference is significant with test stat %.3f (p=%.3E)'%(test_stat, p_val))"
   ]
  },
  {
   "cell_type": "markdown",
   "metadata": {},
   "source": [
    "Even after our earlier results comparing high-media vs. low-media, we see here that the differences are not significant.\n",
    "\n",
    "However! I just manually tested the following thresholds and found an interesting pattern:\n",
    "- more \"extreme\" author groups (e.g. low-media at less than 20%, high-media at more than 80%) tend to converge in their light verb use, while more middle-range author groups (low-media at less than 50%, high-media at more than 50%) tend to diverge (bigger differences). Examples below."
   ]
  },
  {
   "cell_type": "markdown",
   "metadata": {},
   "source": [
    "**low media <= 10%, high media >= 90%**\n",
    "\n",
    "~|high_media|low_media\n",
    "----|----|----\n",
    "light_verb|0.320548|0.315927\n",
    "integrated_verb|0.679452|0.684073"
   ]
  },
  {
   "cell_type": "markdown",
   "metadata": {},
   "source": [
    "**low media <= 50%, high media > 50%**\n",
    "\n",
    "~|high_media|low_media\n",
    "----|----|----\n",
    "light_verb|0.289048|0.318345\n",
    "integrated_verb|0.710952|0.681655\n",
    "\n",
    "~|high_media|low_media\n",
    "----|----|----\n",
    "light_verb|161|177\n",
    "integrated_verb|396|379"
   ]
  },
  {
   "cell_type": "markdown",
   "metadata": {},
   "source": [
    "This suggests that the middle-range authors may have more differentiation in terms of light verbs. This may be tied to language as well, e.g. more middle-range authors tend to be more bilingual."
   ]
  },
  {
   "cell_type": "markdown",
   "metadata": {},
   "source": [
    "### Compare middle-range vs. extreme media authors"
   ]
  },
  {
   "cell_type": "markdown",
   "metadata": {},
   "source": [
    "Let's compare the middle-media authors vs. the extremes."
   ]
  },
  {
   "cell_type": "code",
   "execution_count": 287,
   "metadata": {},
   "outputs": [
    {
     "name": "stdout",
     "output_type": "stream",
     "text": [
      "270 treatment authors\n",
      "828 control authors\n"
     ]
    }
   ],
   "source": [
    "# treatment = mid-range media sharing\n",
    "media_pct_lower_cutoff = 0.1\n",
    "media_pct_upper_cutoff = 0.9\n",
    "media_var = 'latin_american_media_pct'\n",
    "treatment_data = clean_loanword_author_social_data[(clean_loanword_author_social_data.loc[:, media_var] >= media_pct_lower_cutoff) & \n",
    "                                                   (clean_loanword_author_social_data.loc[:, media_var] <= media_pct_upper_cutoff)]\n",
    "control_data = clean_loanword_author_social_data[(clean_loanword_author_social_data.loc[:, media_var] < media_pct_lower_cutoff) | \n",
    "                                                 (clean_loanword_author_social_data.loc[:, media_var] > media_pct_upper_cutoff)]\n",
    "match_vals = ['log_es', 'log_integrated_verb_pct'] + list(unique_locations)\n",
    "treatment_data = treatment_data.loc[:, match_vals]\n",
    "control_data = control_data.loc[:, match_vals]\n",
    "print('%d treatment authors'%(treatment_data.shape[0]))\n",
    "print('%d control authors'%(control_data.shape[0]))"
   ]
  },
  {
   "cell_type": "code",
   "execution_count": 288,
   "metadata": {
    "scrolled": true
   },
   "outputs": [
    {
     "data": {
      "image/png": "[encoded data removed]",
      "text/plain": [
       "<Figure size 432x288 with 1 Axes>"
      ]
     },
     "metadata": {
      "needs_background": "light"
     },
     "output_type": "display_data"
    },
    {
     "data": {
      "image/png": "[encoded data removed]",
      "text/plain": [
       "<Figure size 432x288 with 1 Axes>"
      ]
     },
     "metadata": {
      "needs_background": "light"
     },
     "output_type": "display_data"
    },
    {
     "name": "stdout",
     "output_type": "stream",
     "text": [
      "distributions are different with test stat = 100786.000 (p=7.558E-03)\n"
     ]
    },
    {
     "data": {
      "image/png": "[encoded data removed]",
      "text/plain": [
       "<Figure size 432x288 with 1 Axes>"
      ]
     },
     "metadata": {
      "needs_background": "light"
     },
     "output_type": "display_data"
    },
    {
     "name": "stdout",
     "output_type": "stream",
     "text": [
      "distributions are different with test stat = 108462.500 (p=2.166E-01)\n"
     ]
    }
   ],
   "source": [
    "scalar_vars = ['log_es', 'log_integrated_verb_pct']\n",
    "visualize_test_treat_control_data(treatment_data, control_data, unique_locations, scalar_vars, cat_var_rescale_factor=cat_var_rescale_factor)"
   ]
  },
  {
   "cell_type": "code",
   "execution_count": 289,
   "metadata": {},
   "outputs": [],
   "source": [
    "match_data = get_matching_pairs(treatment_data, control_data, scaler=True)"
   ]
  },
  {
   "cell_type": "code",
   "execution_count": 290,
   "metadata": {
    "scrolled": true
   },
   "outputs": [
    {
     "data": {
      "image/png": "[encoded data removed]",
      "text/plain": [
       "<Figure size 432x288 with 1 Axes>"
      ]
     },
     "metadata": {
      "needs_background": "light"
     },
     "output_type": "display_data"
    },
    {
     "data": {
      "image/png": "[encoded data removed]",
      "text/plain": [
       "<Figure size 432x288 with 1 Axes>"
      ]
     },
     "metadata": {
      "needs_background": "light"
     },
     "output_type": "display_data"
    },
    {
     "name": "stdout",
     "output_type": "stream",
     "text": [
      "distributions are different with test stat = 35161.500 (p=2.387E-01)\n"
     ]
    },
    {
     "data": {
      "image/png": "[encoded data removed]",
      "text/plain": [
       "<Figure size 432x288 with 1 Axes>"
      ]
     },
     "metadata": {
      "needs_background": "light"
     },
     "output_type": "display_data"
    },
    {
     "name": "stdout",
     "output_type": "stream",
     "text": [
      "distributions are different with test stat = 36279.500 (p=4.591E-01)\n"
     ]
    }
   ],
   "source": [
    "scalar_vars = ['log_es', 'log_integrated_verb_pct']\n",
    "visualize_test_treat_control_data(treatment_data, match_data, unique_locations, scalar_vars, cat_var_rescale_factor=cat_var_rescale_factor)"
   ]
  },
  {
   "cell_type": "code",
   "execution_count": 291,
   "metadata": {},
   "outputs": [
    {
     "name": "stdout",
     "output_type": "stream",
     "text": [
      "270\n",
      "270\n"
     ]
    }
   ],
   "source": [
    "# get authors\n",
    "author_var = 'screen_name'\n",
    "treated_authors = clean_loanword_author_social_data.loc[treatment_data.index, :].loc[:, author_var].unique()\n",
    "control_authors = clean_loanword_author_social_data.loc[match_data.index, :].loc[:, author_var].unique()\n",
    "print(len(treated_authors))\n",
    "print(len(control_authors))"
   ]
  },
  {
   "cell_type": "code",
   "execution_count": 292,
   "metadata": {},
   "outputs": [
    {
     "name": "stdout",
     "output_type": "stream",
     "text": [
      "                 medium_media  extreme_media\n",
      "light_verb                 82            107\n",
      "integrated_verb           225            190\n",
      "                 medium_media  extreme_media\n",
      "light_verb           0.267101       0.360269\n",
      "integrated_verb      0.732899       0.639731\n",
      "difference is significant with test stat 5.669 (p=1.727E-02)\n"
     ]
    }
   ],
   "source": [
    "from scipy.stats import chi2_contingency\n",
    "treated_author_loanword_post_data = loanword_post_data[loanword_post_data.loc[:, author_var].isin(treated_authors)]\n",
    "control_author_loanword_post_data = loanword_post_data[loanword_post_data.loc[:, author_var].isin(control_authors)]\n",
    "dep_var = 'has_light_verb'\n",
    "contingency_table = [\n",
    "    [\n",
    "        treated_author_loanword_post_data.loc[:, dep_var].sum(), \n",
    "        control_author_loanword_post_data.loc[:, dep_var].sum(), \n",
    "    ],\n",
    "    [\n",
    "        (1-treated_author_loanword_post_data.loc[:, dep_var]).sum(), \n",
    "        (1-control_author_loanword_post_data.loc[:, dep_var]).sum(), \n",
    "    ],\n",
    "]\n",
    "contingency_table = pd.DataFrame(contingency_table, index=['light_verb', 'integrated_verb'], columns=['medium_media', 'extreme_media'])\n",
    "norm_contingency_table = contingency_table.div(contingency_table.sum(axis=0))\n",
    "test_stat, p_val, dof, expected_table = chi2_contingency(contingency_table)\n",
    "print(contingency_table)\n",
    "print(norm_contingency_table)\n",
    "print('difference is significant with test stat %.3f (p=%.3E)'%(test_stat, p_val))"
   ]
  },
  {
   "cell_type": "markdown",
   "metadata": {},
   "source": [
    "OK! We see a result now. \n",
    "\n",
    "After matching on covariates, we see that authors who share a medium amount of Latin American media (between 20-80%) use light verbs significantly less often than authors who share an extreme amount of media (<20% or >80%). This effect is robust for more extreme cutoffs, e.g. 10-90%."
   ]
  },
  {
   "cell_type": "markdown",
   "metadata": {},
   "source": [
    "Do we also see this trend with native verbs?"
   ]
  },
  {
   "cell_type": "code",
   "execution_count": 297,
   "metadata": {
    "scrolled": true
   },
   "outputs": [
    {
     "name": "stdout",
     "output_type": "stream",
     "text": [
      "330988\n",
      "0.044950270100426605\n"
     ]
    }
   ],
   "source": [
    "native_verb_post_data = pd.read_csv('../../data/mined_tweets/native_verb_use_author_social_data.tsv', sep='\\t')\n",
    "dep_var = 'has_light_verb'\n",
    "native_verb_post_data = native_verb_post_data.assign(**{\n",
    "    dep_var : (native_verb_post_data.loc[:, 'native_word_category']=='native_light_verb').astype(int)\n",
    "})\n",
    "print(native_verb_post_data.shape[0])\n",
    "print(native_verb_post_data.loc[:, dep_var].mean())"
   ]
  },
  {
   "cell_type": "code",
   "execution_count": 298,
   "metadata": {},
   "outputs": [
    {
     "name": "stdout",
     "output_type": "stream",
     "text": [
      "                 medium_media  extreme_media\n",
      "light_verb                229            252\n",
      "integrated_verb          6507           5921\n",
      "                 medium_media  extreme_media\n",
      "light_verb           0.033996       0.040823\n",
      "integrated_verb      0.966004       0.959177\n",
      "difference is significant with test stat 3.996 (p=4.560E-02)\n"
     ]
    }
   ],
   "source": [
    "from scipy.stats import chi2_contingency\n",
    "treated_author_native_verb_post_data = native_verb_post_data[native_verb_post_data.loc[:, author_var].isin(treated_authors)]\n",
    "control_author_native_verb_post_data = native_verb_post_data[native_verb_post_data.loc[:, author_var].isin(control_authors)]\n",
    "dep_var = 'has_light_verb'\n",
    "contingency_table = [\n",
    "    [\n",
    "        treated_author_native_verb_post_data.loc[:, dep_var].sum(), \n",
    "        control_author_native_verb_post_data.loc[:, dep_var].sum(), \n",
    "    ],\n",
    "    [\n",
    "        (1-treated_author_native_verb_post_data.loc[:, dep_var]).sum(), \n",
    "        (1-control_author_native_verb_post_data.loc[:, dep_var]).sum(), \n",
    "    ],\n",
    "]\n",
    "contingency_table = pd.DataFrame(contingency_table, index=['light_verb', 'integrated_verb'], columns=['medium_media', 'extreme_media'])\n",
    "norm_contingency_table = contingency_table.div(contingency_table.sum(axis=0))\n",
    "test_stat, p_val, dof, expected_table = chi2_contingency(contingency_table)\n",
    "print(contingency_table)\n",
    "print(norm_contingency_table)\n",
    "print('difference is significant with test stat %.3f (p=%.3E)'%(test_stat, p_val))"
   ]
  },
  {
   "cell_type": "markdown",
   "metadata": {},
   "source": [
    "A similar result here: medium-media authors tend to use integrated verbs at a slightly higher rate."
   ]
  },
  {
   "cell_type": "markdown",
   "metadata": {},
   "source": [
    "Sanity check: can we verify that the treated and control authors use a similar spread of loanwords?"
   ]
  },
  {
   "cell_type": "code",
   "execution_count": 307,
   "metadata": {},
   "outputs": [
    {
     "name": "stdout",
     "output_type": "stream",
     "text": [
      "difference in distributions is significant with test stat 80.003 (p=1.153E-01)\n"
     ]
    }
   ],
   "source": [
    "from scipy.stats import chi2_contingency\n",
    "treated_author_loanword_counts = treated_author_loanword_post_data.loc[:, 'loanword'].value_counts()\n",
    "control_author_loanword_counts = control_author_loanword_post_data.loc[:, 'loanword'].value_counts()\n",
    "# compare difference\n",
    "combined_author_loanword_counts = pd.concat([treated_author_loanword_counts, control_author_loanword_counts], axis=1).fillna(0, inplace=False).transpose()\n",
    "combined_author_loanword_counts.index = ['treated', 'control']\n",
    "test_stat, p_val, dof, expected_counts = chi2_contingency(combined_author_loanword_counts)\n",
    "print('difference in distributions is significant with test stat %.3f (p=%.3E)'%(test_stat, p_val))"
   ]
  },
  {
   "cell_type": "code",
   "execution_count": 310,
   "metadata": {},
   "outputs": [
    {
     "name": "stdout",
     "output_type": "stream",
     "text": [
      "difference in distributions is significant with test stat 117.750 (p=3.277E-08)\n"
     ]
    }
   ],
   "source": [
    "treated_author_native_verb_counts = treated_author_native_verb_post_data.loc[:, 'native_word_type'].value_counts()\n",
    "control_author_native_verb_counts = control_author_native_verb_post_data.loc[:, 'native_word_type'].value_counts()\n",
    "# compare difference\n",
    "combined_author_native_verb_counts = pd.concat([treated_author_native_verb_counts, control_author_native_verb_counts], axis=1).fillna(0, inplace=False).transpose()\n",
    "combined_author_native_verb_counts.index = ['treated', 'control']\n",
    "test_stat, p_val, dof, expected_counts = chi2_contingency(combined_author_native_verb_counts)\n",
    "print('difference in distributions is significant with test stat %.3f (p=%.3E)'%(test_stat, p_val))"
   ]
  },
  {
   "cell_type": "markdown",
   "metadata": {},
   "source": [
    "OK great! The loanword results are unlikely to be explained by differences in the loanword types, but the native verb results may be explained by differences in the native word types."
   ]
  },
  {
   "cell_type": "markdown",
   "metadata": {},
   "source": [
    "### Matching: all covariates\n",
    "Let's do matching on all covariates including:\n",
    "- language\n",
    "- location\n",
    "- integrated verb use\n",
    "- post activity\n",
    "- URL shares\n",
    "- RT shares"
   ]
  },
  {
   "cell_type": "code",
   "execution_count": null,
   "metadata": {},
   "outputs": [],
   "source": [
    "# loanword data\n",
    "filter_vars = ['es_bin', 'latin_american_media_pct_bin', 'description_location_region', 'integrated_verb_pct', 'post_pct', 'RT_pct', 'URL_pct']\n",
    "scalar_vars = ['integrated_verb_pct', 'post_pct', 'RT_pct', 'URL_pct']\n",
    "loanword_author_social_data = load_clean_data('../../data/mined_tweets/loanword_authors_combined_balanced_media_full_social_data.tsv', filter_vars=filter_vars, scalar_vars=scalar_vars, data_type='loanword')\n",
    "# native verb data\n",
    "filter_vars = ['es_bin', 'latin_american_media_pct_bin', 'description_location_region', 'post_pct', 'RT_pct', 'URL_pct']\n",
    "scalar_vars = ['post_pct', 'RT_pct', 'URL_pct']\n"
   ]
  }
 ],
 "metadata": {
  "kernelspec": {
   "display_name": "Python [conda env:py3] *",
   "language": "python",
   "name": "conda-env-py3-py"
  },
  "language_info": {
   "codemirror_mode": {
    "name": "ipython",
    "version": 3
   },
   "file_extension": ".py",
   "mimetype": "text/x-python",
   "name": "python",
   "nbconvert_exporter": "python",
   "pygments_lexer": "ipython3",
   "version": "3.6.10"
  }
 },
 "nbformat": 4,
 "nbformat_minor": 4
}
