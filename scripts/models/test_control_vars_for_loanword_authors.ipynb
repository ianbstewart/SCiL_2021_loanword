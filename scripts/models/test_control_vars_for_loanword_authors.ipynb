{
 "cells": [
  {
   "cell_type": "markdown",
   "metadata": {},
   "source": [
    "# Test control vars for loanword authors\n",
    "Let's extract and test some control variables as a way to explain loanword use:\n",
    "\n",
    "- geography\n",
    "- L2 use\n",
    "- prior loanword use\n",
    "- hashtag/URL sharing??"
   ]
  },
  {
   "cell_type": "markdown",
   "metadata": {},
   "source": [
    "### Load data"
   ]
  },
  {
   "cell_type": "code",
   "execution_count": 2,
   "metadata": {},
   "outputs": [
    {
     "name": "stdout",
     "output_type": "stream",
     "text": [
      "1101904 integrated data\n",
      "394832 light verb data\n"
     ]
    }
   ],
   "source": [
    "import pandas as pd\n",
    "import os\n",
    "integrated_loanword_author_data_dir = '../../data/mined_tweets/loanword_integrated_verb_author_counts_CLUSTER=twitter_posts_tweets/'\n",
    "light_verb_loanword_author_data_dir = '../../data/mined_tweets/loanword_light_verb_author_counts_CLUSTER=twitter_posts_tweets/'\n",
    "integrated_loanword_author_data_files = list(map(lambda x: os.path.join(integrated_loanword_author_data_dir, x), os.listdir(integrated_loanword_author_data_dir)))\n",
    "light_verb_loanword_author_data_files = list(map(lambda x: os.path.join(light_verb_loanword_author_data_dir, x), os.listdir(light_verb_loanword_author_data_dir)))\n",
    "# load data\n",
    "integrated_loanword_author_data = pd.concat(list(map(lambda x: pd.read_csv(x, sep='\\t', index_col=False, compression='gzip'), integrated_loanword_author_data_files)))\n",
    "light_verb_loanword_author_data = pd.concat(list(map(lambda x: pd.read_csv(x, sep='\\t', index_col=False, compression='gzip'), light_verb_loanword_author_data_files)))\n",
    "print('%d integrated data'%(integrated_loanword_author_data.shape[0]))\n",
    "print('%d light verb data'%(light_verb_loanword_author_data.shape[0]))"
   ]
  },
  {
   "cell_type": "code",
   "execution_count": 7,
   "metadata": {
    "scrolled": true
   },
   "outputs": [
    {
     "name": "stdout",
     "output_type": "stream",
     "text": [
      "143176\n"
     ]
    }
   ],
   "source": [
    "# also get loanword counts for later\n",
    "f = '../../data/mined_tweets/loanword_integrated_verb_author_counts_CLUSTER=twitter_posts.tsv'\n",
    "\n",
    "def load_broken_csv_data(file_name, sep='\\t', CLEAN_FIELDS=4):\n",
    "    header = None\n",
    "    header_clean = None\n",
    "    data = []\n",
    "    l_clean = []\n",
    "    for i, l in enumerate(open(file_name, 'r')):\n",
    "        l = l.strip()\n",
    "        l_split = l.split('\\t')\n",
    "        if(i == 0):\n",
    "            header = l_split\n",
    "            header_clean = header[:CLEAN_FIELDS]\n",
    "            NUM_FIELDS = len(header)\n",
    "        elif(len(l_split) >= CLEAN_FIELDS and len(l_split) <= NUM_FIELDS):\n",
    "            data.append(l_split)\n",
    "    data = pd.DataFrame(data, columns=header)\n",
    "    # filter bad rows\n",
    "    for header_field in header_clean:\n",
    "        data = data[(data.loc[:, header_field] != '')]\n",
    "    return data\n",
    "integrated_loanword_author_counts = load_broken_csv_data('../../data/mined_tweets/loanword_integrated_verb_author_counts_CLUSTER=twitter_posts.tsv', sep='\\t', CLEAN_FIELDS=4)\n",
    "light_verb_loanword_author_counts = load_broken_csv_data('../../data/mined_tweets/loanword_light_verb_author_counts_CLUSTER=twitter_posts.tsv', sep='\\t', CLEAN_FIELDS=4)\n",
    "print(integrated_loanword_author_counts.shape[0])\n",
    "print(light_verb_loanword_author_counts.shape[0])\n",
    "integrated_loanword_author_counts = integrated_loanword_author_counts.assign(**{\n",
    "    'light_verb_use' : 0\n",
    "})\n",
    "light_verb_loanword_author_counts = light_verb_loanword_author_counts.assign(**{\n",
    "    'light_verb_use' : 1\n",
    "})\n",
    "combined_loanword_use_data = pd.concat([integrated_loanword_author_counts, light_verb_loanword_author_counts], axis=0)\n",
    "combined_loanword_use_data = combined_loanword_use_data.assign(**{\n",
    "    'author' : combined_loanword_use_data.loc[:, 'user_screen_name']\n",
    "})\n",
    "print(combined_loanword_use_data.shape[0])"
   ]
  },
  {
   "cell_type": "code",
   "execution_count": 8,
   "metadata": {},
   "outputs": [
    {
     "data": {
      "text/html": [
       "<div>\n",
       "<style scoped>\n",
       "    .dataframe tbody tr th:only-of-type {\n",
       "        vertical-align: middle;\n",
       "    }\n",
       "\n",
       "    .dataframe tbody tr th {\n",
       "        vertical-align: top;\n",
       "    }\n",
       "\n",
       "    .dataframe thead th {\n",
       "        text-align: right;\n",
       "    }\n",
       "</style>\n",
       "<table border=\"1\" class=\"dataframe\">\n",
       "  <thead>\n",
       "    <tr style=\"text-align: right;\">\n",
       "      <th></th>\n",
       "      <th>author</th>\n",
       "      <th>user_description</th>\n",
       "      <th>user_location</th>\n",
       "    </tr>\n",
       "  </thead>\n",
       "  <tbody>\n",
       "    <tr>\n",
       "      <th>0</th>\n",
       "      <td>Flavius85349047</td>\n",
       "      <td></td>\n",
       "      <td></td>\n",
       "    </tr>\n",
       "    <tr>\n",
       "      <th>1</th>\n",
       "      <td>LeoCastillokk</td>\n",
       "      <td>Ser dé Racing</td>\n",
       "      <td>Morón, Argentina</td>\n",
       "    </tr>\n",
       "    <tr>\n",
       "      <th>2</th>\n",
       "      <td>FreroPlopsGames</td>\n",
       "      <td>Tiesto</td>\n",
       "      <td></td>\n",
       "    </tr>\n",
       "    <tr>\n",
       "      <th>3</th>\n",
       "      <td>Lizyllen</td>\n",
       "      <td>Mamá de 3, profesora universitaria, asesora co...</td>\n",
       "      <td>Venezuela</td>\n",
       "    </tr>\n",
       "    <tr>\n",
       "      <th>4</th>\n",
       "      <td>viridiane_Welle</td>\n",
       "      <td></td>\n",
       "      <td></td>\n",
       "    </tr>\n",
       "  </tbody>\n",
       "</table>\n",
       "</div>"
      ],
      "text/plain": [
       "            author                                   user_description  \\\n",
       "0  Flavius85349047                                                      \n",
       "1    LeoCastillokk                                      Ser dé Racing   \n",
       "2  FreroPlopsGames                                             Tiesto   \n",
       "3         Lizyllen  Mamá de 3, profesora universitaria, asesora co...   \n",
       "4  viridiane_Welle                                                      \n",
       "\n",
       "      user_location  \n",
       "0                    \n",
       "1  Morón, Argentina  \n",
       "2                    \n",
       "3         Venezuela  \n",
       "4                    "
      ]
     },
     "metadata": {},
     "output_type": "display_data"
    }
   ],
   "source": [
    "author_descriptive_data = combined_loanword_use_data.drop_duplicates(['author'], inplace=False).loc[:, ['author', 'user_description', 'user_location']]\n",
    "author_descriptive_data.fillna('', inplace=True)\n",
    "display(author_descriptive_data.head())"
   ]
  },
  {
   "cell_type": "markdown",
   "metadata": {},
   "source": [
    "### Extract location\n",
    "Easiest control variable is geography. Let's keep it simple and define three classes for location:\n",
    "\n",
    "- in Latin America\n",
    "- in US\n",
    "- other\n",
    "- n/a"
   ]
  },
  {
   "cell_type": "markdown",
   "metadata": {},
   "source": [
    "#### Extract location: build locations from scratch"
   ]
  },
  {
   "cell_type": "markdown",
   "metadata": {},
   "source": [
    "Matching strategy:\n",
    "\n",
    "- ends with country name\n",
    "- ends with state name\n",
    "- matches nearly-unambiguous name (next biggest candidate <= 10x population)"
   ]
  },
  {
   "cell_type": "code",
   "execution_count": 5,
   "metadata": {},
   "outputs": [],
   "source": [
    "geonames_data = pd.read_csv('/hg190/corpora/GeoNames/allCountriesSimplified.tsv', sep='\\t', index_col=False)"
   ]
  },
  {
   "cell_type": "code",
   "execution_count": 6,
   "metadata": {},
   "outputs": [
    {
     "data": {
      "text/html": [
       "<div>\n",
       "<style scoped>\n",
       "    .dataframe tbody tr th:only-of-type {\n",
       "        vertical-align: middle;\n",
       "    }\n",
       "\n",
       "    .dataframe tbody tr th {\n",
       "        vertical-align: top;\n",
       "    }\n",
       "\n",
       "    .dataframe thead th {\n",
       "        text-align: right;\n",
       "    }\n",
       "</style>\n",
       "<table border=\"1\" class=\"dataframe\">\n",
       "  <thead>\n",
       "    <tr style=\"text-align: right;\">\n",
       "      <th></th>\n",
       "      <th>geonames_ID</th>\n",
       "      <th>name</th>\n",
       "      <th>alternate_names</th>\n",
       "      <th>latitude</th>\n",
       "      <th>longitude</th>\n",
       "      <th>feature_class</th>\n",
       "      <th>feature_code</th>\n",
       "      <th>country</th>\n",
       "      <th>population</th>\n",
       "      <th>alternate_name_count</th>\n",
       "    </tr>\n",
       "  </thead>\n",
       "  <tbody>\n",
       "    <tr>\n",
       "      <th>0</th>\n",
       "      <td>2986043</td>\n",
       "      <td>Pic de Font Blanca</td>\n",
       "      <td>Pic de Font Blanca,Pic du Port</td>\n",
       "      <td>42.64991</td>\n",
       "      <td>1.53335</td>\n",
       "      <td>T</td>\n",
       "      <td>PK</td>\n",
       "      <td>AD</td>\n",
       "      <td>0</td>\n",
       "      <td>2</td>\n",
       "    </tr>\n",
       "    <tr>\n",
       "      <th>1</th>\n",
       "      <td>2994701</td>\n",
       "      <td>Roc Mélé</td>\n",
       "      <td>Roc Mele,Roc Meler,Roc Mélé</td>\n",
       "      <td>42.58765</td>\n",
       "      <td>1.74028</td>\n",
       "      <td>T</td>\n",
       "      <td>MT</td>\n",
       "      <td>AD</td>\n",
       "      <td>0</td>\n",
       "      <td>3</td>\n",
       "    </tr>\n",
       "    <tr>\n",
       "      <th>2</th>\n",
       "      <td>3007683</td>\n",
       "      <td>Pic des Langounelles</td>\n",
       "      <td>Pic des Langounelles</td>\n",
       "      <td>42.61203</td>\n",
       "      <td>1.47364</td>\n",
       "      <td>T</td>\n",
       "      <td>PK</td>\n",
       "      <td>AD</td>\n",
       "      <td>0</td>\n",
       "      <td>1</td>\n",
       "    </tr>\n",
       "    <tr>\n",
       "      <th>3</th>\n",
       "      <td>3017832</td>\n",
       "      <td>Pic de les Abelletes</td>\n",
       "      <td>Pic de la Font-Negre,Pic de la Font-Nègre,Pic ...</td>\n",
       "      <td>42.52535</td>\n",
       "      <td>1.73343</td>\n",
       "      <td>T</td>\n",
       "      <td>PK</td>\n",
       "      <td>AD</td>\n",
       "      <td>0</td>\n",
       "      <td>3</td>\n",
       "    </tr>\n",
       "    <tr>\n",
       "      <th>4</th>\n",
       "      <td>3017833</td>\n",
       "      <td>Estany de les Abelletes</td>\n",
       "      <td>Estany de les Abelletes,Etang de Font-Negre,Ét...</td>\n",
       "      <td>42.52915</td>\n",
       "      <td>1.73362</td>\n",
       "      <td>H</td>\n",
       "      <td>LK</td>\n",
       "      <td>AD</td>\n",
       "      <td>0</td>\n",
       "      <td>3</td>\n",
       "    </tr>\n",
       "  </tbody>\n",
       "</table>\n",
       "</div>"
      ],
      "text/plain": [
       "   geonames_ID                     name  \\\n",
       "0      2986043       Pic de Font Blanca   \n",
       "1      2994701                 Roc Mélé   \n",
       "2      3007683     Pic des Langounelles   \n",
       "3      3017832     Pic de les Abelletes   \n",
       "4      3017833  Estany de les Abelletes   \n",
       "\n",
       "                                     alternate_names  latitude  longitude  \\\n",
       "0                     Pic de Font Blanca,Pic du Port  42.64991    1.53335   \n",
       "1                        Roc Mele,Roc Meler,Roc Mélé  42.58765    1.74028   \n",
       "2                               Pic des Langounelles  42.61203    1.47364   \n",
       "3  Pic de la Font-Negre,Pic de la Font-Nègre,Pic ...  42.52535    1.73343   \n",
       "4  Estany de les Abelletes,Etang de Font-Negre,Ét...  42.52915    1.73362   \n",
       "\n",
       "  feature_class feature_code country  population  alternate_name_count  \n",
       "0             T           PK      AD           0                     2  \n",
       "1             T           MT      AD           0                     3  \n",
       "2             T           PK      AD           0                     1  \n",
       "3             T           PK      AD           0                     3  \n",
       "4             H           LK      AD           0                     3  "
      ]
     },
     "metadata": {},
     "output_type": "display_data"
    }
   ],
   "source": [
    "display(geonames_data.head())"
   ]
  },
  {
   "cell_type": "code",
   "execution_count": 7,
   "metadata": {},
   "outputs": [
    {
     "name": "stdout",
     "output_type": "stream",
     "text": [
      "['Antigua and Barbuda', 'Argentina', 'Barbados', 'Bolivia', 'Brazil', 'The Bahamas', 'Belize', 'Chile', 'Colombia', 'Costa Rica', 'Cuba', 'Dominica', 'Dominican Republic', 'Ecuador', 'Grenada', 'Guatemala', 'Guyana', 'Honduras', 'Haiti', 'Jamaica', 'Saint Kitts and Nevis', 'Saint Lucia', 'Mexico', 'Nicaragua', 'Panama', 'Peru', 'Paraguay', 'Suriname', 'El Salvador', 'Trinidad and Tobago', 'Uruguay', 'Saint Vincent and the Grenadines', 'Venezuela', 'Brasil']\n",
      "['AG', 'AR', 'BB', 'BO', 'BR', 'BS', 'BZ', 'CL', 'CO', 'CR', 'CU', 'DM', 'DO', 'EC', 'GD', 'GT', 'GY', 'HN', 'HT', 'JM', 'KN', 'LC', 'MX', 'NI', 'PA', 'PE', 'PY', 'SR', 'SV', 'TT', 'UY', 'VC', 'VE']\n",
      "{'Antigua and Barbuda': 'AG', 'Argentina': 'AR', 'Barbados': 'BB', 'Bolivia': 'BO', 'Brazil': 'BR', 'The Bahamas': 'BS', 'Belize': 'BZ', 'Chile': 'CL', 'Colombia': 'CO', 'Costa Rica': 'CR', 'Cuba': 'CU', 'Dominica': 'DM', 'Dominican Republic': 'DO', 'Ecuador': 'EC', 'Grenada': 'GD', 'Guatemala': 'GT', 'Guyana': 'GY', 'Honduras': 'HN', 'Haiti': 'HT', 'Jamaica': 'JM', 'Saint Kitts and Nevis': 'KN', 'Saint Lucia': 'LC', 'Mexico': 'MX', 'Nicaragua': 'NI', 'Panama': 'PA', 'Peru': 'PE', 'Paraguay': 'PY', 'Suriname': 'SR', 'El Salvador': 'SV', 'Trinidad and Tobago': 'TT', 'Uruguay': 'UY', 'Saint Vincent and the Grenadines': 'VC', 'Venezuela': 'VE'}\n"
     ]
    }
   ],
   "source": [
    "import re\n",
    "country_feat_code = 'PCLI'\n",
    "latin_america_bounds = [[26.512, -58.354], [-116.893, -32.444]]\n",
    "latin_america_geonames = geonames_data[(geonames_data.loc[:, 'latitude'] <= latin_america_bounds[0][0]) &\n",
    "                                       (geonames_data.loc[:, 'latitude'] >= latin_america_bounds[0][1]) &\n",
    "                                       (geonames_data.loc[:, 'longitude'] >= latin_america_bounds[1][0]) &\n",
    "                                       (geonames_data.loc[:, 'longitude'] <= latin_america_bounds[1][1])]\n",
    "country_prefix = re.compile('^.+ of ')\n",
    "country_rename_pairs = [(re.compile('Argentine Republic'), 'Argentina')]\n",
    "latin_america_country_geonames = latin_america_geonames[latin_america_geonames.loc[:, 'feature_code']==country_feat_code]\n",
    "latin_america_country_geonames = latin_america_country_geonames.assign(**{\n",
    "    'name' : latin_america_country_geonames.loc[:, 'name'].apply(lambda x: country_prefix.sub('', x))\n",
    "})\n",
    "for country_name_matcher, country_rename in country_rename_pairs:\n",
    "    latin_america_country_geonames = latin_america_country_geonames.assign(**{\n",
    "        'name' : latin_america_country_geonames.loc[:, 'name'].apply(lambda x: country_name_matcher.sub(country_rename, x))\n",
    "    })\n",
    "# add extra names\n",
    "latin_america_country_names = latin_america_country_geonames.loc[:, 'name'].values.tolist()\n",
    "extra_country_names = ['Brasil']\n",
    "latin_america_country_names += extra_country_names\n",
    "print(latin_america_country_names)\n",
    "latin_america_country_codes = list(latin_america_country_geonames.loc[:, 'country'].unique())\n",
    "print(latin_america_country_codes)\n",
    "latin_america_country_code_lookup = {}\n",
    "for latin_america_country_name in latin_america_country_names:\n",
    "    latin_america_country_name_geonames = latin_america_country_geonames[latin_america_country_geonames.loc[:, 'name']==latin_america_country_name]\n",
    "    if(latin_america_country_name_geonames.shape[0] > 0):\n",
    "        latin_america_country_name_geonames = latin_america_country_name_geonames.iloc[0, :]\n",
    "        latin_america_country_code_lookup[latin_america_country_name] = latin_america_country_name_geonames.loc['country']\n",
    "# add extra for Argentina\n",
    "latin_america_country_code_lookup['Argentina'] = 'AR'\n",
    "print(latin_america_country_code_lookup)"
   ]
  },
  {
   "cell_type": "code",
   "execution_count": 8,
   "metadata": {},
   "outputs": [
    {
     "data": {
      "text/html": [
       "<div>\n",
       "<style scoped>\n",
       "    .dataframe tbody tr th:only-of-type {\n",
       "        vertical-align: middle;\n",
       "    }\n",
       "\n",
       "    .dataframe tbody tr th {\n",
       "        vertical-align: top;\n",
       "    }\n",
       "\n",
       "    .dataframe thead th {\n",
       "        text-align: right;\n",
       "    }\n",
       "</style>\n",
       "<table border=\"1\" class=\"dataframe\">\n",
       "  <thead>\n",
       "    <tr style=\"text-align: right;\">\n",
       "      <th></th>\n",
       "      <th>geonames_ID</th>\n",
       "      <th>name</th>\n",
       "      <th>alternate_names</th>\n",
       "      <th>latitude</th>\n",
       "      <th>longitude</th>\n",
       "      <th>feature_class</th>\n",
       "      <th>feature_code</th>\n",
       "      <th>country</th>\n",
       "      <th>population</th>\n",
       "      <th>alternate_name_count</th>\n",
       "    </tr>\n",
       "  </thead>\n",
       "  <tbody>\n",
       "    <tr>\n",
       "      <th>9110514</th>\n",
       "      <td>4099753</td>\n",
       "      <td>Arkansas</td>\n",
       "      <td>'Akanaka,A-khen-set,AR,Akennsas,Arcansas,Arcan...</td>\n",
       "      <td>34.75037</td>\n",
       "      <td>-92.50044</td>\n",
       "      <td>A</td>\n",
       "      <td>ADM1</td>\n",
       "      <td>US</td>\n",
       "      <td>2757631</td>\n",
       "      <td>78</td>\n",
       "    </tr>\n",
       "    <tr>\n",
       "      <th>9148629</th>\n",
       "      <td>4138106</td>\n",
       "      <td>District of Columbia</td>\n",
       "      <td>D.C.,DC,District de Columbia,District of Colum...</td>\n",
       "      <td>38.91706</td>\n",
       "      <td>-77.00025</td>\n",
       "      <td>A</td>\n",
       "      <td>ADM1</td>\n",
       "      <td>US</td>\n",
       "      <td>552433</td>\n",
       "      <td>21</td>\n",
       "    </tr>\n",
       "    <tr>\n",
       "      <th>9152717</th>\n",
       "      <td>4142224</td>\n",
       "      <td>Delaware</td>\n",
       "      <td>DE,Delauaare,Delauare,Delaue\"r,Delavar,Delavar...</td>\n",
       "      <td>39.00039</td>\n",
       "      <td>-75.49992</td>\n",
       "      <td>A</td>\n",
       "      <td>ADM1</td>\n",
       "      <td>US</td>\n",
       "      <td>838549</td>\n",
       "      <td>79</td>\n",
       "    </tr>\n",
       "    <tr>\n",
       "      <th>9166185</th>\n",
       "      <td>4155751</td>\n",
       "      <td>Florida</td>\n",
       "      <td>FL,Floarida,Florid,Florida,Florida Shitati,Flo...</td>\n",
       "      <td>28.75054</td>\n",
       "      <td>-82.50010</td>\n",
       "      <td>A</td>\n",
       "      <td>ADM1</td>\n",
       "      <td>US</td>\n",
       "      <td>17671452</td>\n",
       "      <td>76</td>\n",
       "    </tr>\n",
       "    <tr>\n",
       "      <th>9207263</th>\n",
       "      <td>4197000</td>\n",
       "      <td>Georgia</td>\n",
       "      <td>Chacha,Dzhordzhija,Estado de Georgia,GA,Georgi...</td>\n",
       "      <td>32.75042</td>\n",
       "      <td>-83.50018</td>\n",
       "      <td>A</td>\n",
       "      <td>ADM1</td>\n",
       "      <td>US</td>\n",
       "      <td>8975842</td>\n",
       "      <td>19</td>\n",
       "    </tr>\n",
       "  </tbody>\n",
       "</table>\n",
       "</div>"
      ],
      "text/plain": [
       "         geonames_ID                  name  \\\n",
       "9110514      4099753              Arkansas   \n",
       "9148629      4138106  District of Columbia   \n",
       "9152717      4142224              Delaware   \n",
       "9166185      4155751               Florida   \n",
       "9207263      4197000               Georgia   \n",
       "\n",
       "                                           alternate_names  latitude  \\\n",
       "9110514  'Akanaka,A-khen-set,AR,Akennsas,Arcansas,Arcan...  34.75037   \n",
       "9148629  D.C.,DC,District de Columbia,District of Colum...  38.91706   \n",
       "9152717  DE,Delauaare,Delauare,Delaue\"r,Delavar,Delavar...  39.00039   \n",
       "9166185  FL,Floarida,Florid,Florida,Florida Shitati,Flo...  28.75054   \n",
       "9207263  Chacha,Dzhordzhija,Estado de Georgia,GA,Georgi...  32.75042   \n",
       "\n",
       "         longitude feature_class feature_code country  population  \\\n",
       "9110514  -92.50044             A         ADM1      US     2757631   \n",
       "9148629  -77.00025             A         ADM1      US      552433   \n",
       "9152717  -75.49992             A         ADM1      US      838549   \n",
       "9166185  -82.50010             A         ADM1      US    17671452   \n",
       "9207263  -83.50018             A         ADM1      US     8975842   \n",
       "\n",
       "         alternate_name_count  \n",
       "9110514                    78  \n",
       "9148629                    21  \n",
       "9152717                    79  \n",
       "9166185                    76  \n",
       "9207263                    19  "
      ]
     },
     "metadata": {},
     "output_type": "display_data"
    }
   ],
   "source": [
    "state_feat_code = 'ADM1'\n",
    "us_geonames = geonames_data[geonames_data.loc[:, 'country']=='US']\n",
    "us_state_geonames = us_geonames[us_geonames.loc[:, 'feature_code']==state_feat_code]\n",
    "display(us_state_geonames.head())"
   ]
  },
  {
   "cell_type": "code",
   "execution_count": 9,
   "metadata": {},
   "outputs": [],
   "source": [
    "# get names and alternate name (2-letter state abbreve)\n",
    "us_state_names = us_state_geonames.loc[:, 'name'].values.tolist()\n",
    "state_abbreve_matcher = re.compile('[A-Z]{2}')\n",
    "us_state_abbreve_names = us_state_geonames.loc[:, 'alternate_names'].apply(lambda x: list(filter(lambda y: state_abbreve_matcher.search(y) is not None, x.split(',')))[0]).values.tolist()"
   ]
  },
  {
   "cell_type": "code",
   "execution_count": 10,
   "metadata": {},
   "outputs": [],
   "source": [
    "latin_america_country_matcher = re.compile('(%s)$'%('|'.join(list(map(lambda x: x.lower(), latin_america_country_names)))))\n",
    "us_state_abbreve_names_combined = us_state_names + us_state_abbreve_names\n",
    "us_state_matcher = re.compile(', (%s)$|^(%s)$'%('|'.join(list(map(lambda x: x.lower(), us_state_abbreve_names_combined))), '|'.join(list(map(lambda x: x.lower(), us_state_names)))))"
   ]
  },
  {
   "cell_type": "code",
   "execution_count": 11,
   "metadata": {},
   "outputs": [
    {
     "name": "stderr",
     "output_type": "stream",
     "text": [
      "/hg190/istewart6/miniconda3/envs/loanword_adoption/lib/python3.7/site-packages/ipykernel_launcher.py:15: SettingWithCopyWarning: \n",
      "A value is trying to be set on a copy of a slice from a DataFrame\n",
      "\n",
      "See the caveats in the documentation: https://pandas.pydata.org/pandas-docs/stable/user_guide/indexing.html#returning-a-view-versus-a-copy\n",
      "  from ipykernel import kernelapp as app\n"
     ]
    }
   ],
   "source": [
    "# get unambiguous city names\n",
    "import sys\n",
    "if('..' not in sys.path):\n",
    "    sys.path.append('..')\n",
    "from data_processing.data_helpers import clean_txt_simple\n",
    "importance_var = 'population'\n",
    "importance_ratio = 10\n",
    "city_feature_codes = ['PPL', 'PPLA', 'PPLA2', 'PPLA3']\n",
    "city_geonames = geonames_data[geonames_data.loc[:, 'feature_code'].isin(city_feature_codes)].sort_values(importance_var, inplace=False, ascending=False)\n",
    "city_geonames = city_geonames.assign(**{\n",
    "    'name_clean' : city_geonames.loc[:, 'name'].apply(clean_txt_simple)\n",
    "})\n",
    "unambig_city_geonames = []\n",
    "for name_i, data_i in city_geonames.groupby('name_clean'):\n",
    "    data_i.sort_values(importance_var, inplace=True, ascending=False)\n",
    "    if(data_i.shape[0] > 1):\n",
    "        match_1_i = data_i.iloc[0, :]\n",
    "        match_2_i = data_i.iloc[1, :]\n",
    "        if(match_1_i.loc['population'] >= match_2_i.loc['population']*importance_ratio):\n",
    "            unambig_city_geonames.append(match_1_i)\n",
    "    else:\n",
    "        unambig_city_geonames.append(data_i.iloc[0, :])\n",
    "unambig_city_geonames = pd.concat(unambig_city_geonames, axis=1).transpose()\n",
    "# remove invalid names with bad chars e.g. \"*\"\n",
    "valid_unambig_city_geonames = []\n",
    "for name_i, data_i in unambig_city_geonames.groupby('name_clean'):\n",
    "    try:\n",
    "        re.compile(name_i)\n",
    "        valid_unambig_city_geonames.append(data_i)\n",
    "    except Exception as e:\n",
    "        pass\n",
    "valid_unambig_city_geonames = pd.concat(valid_unambig_city_geonames, axis=0)\n",
    "unambig_city_matcher = re.compile('|'.join(map(lambda x: f'^{x}$', valid_unambig_city_geonames.loc[:, 'name_clean'].values)))\n",
    "unambig_city_country_lookup = dict(zip(valid_unambig_city_geonames.loc[:, 'name_clean'].values, \n",
    "                                       valid_unambig_city_geonames.loc[:, 'country'].values))"
   ]
  },
  {
   "cell_type": "markdown",
   "metadata": {},
   "source": [
    "#### Extract location: load location data"
   ]
  },
  {
   "cell_type": "markdown",
   "metadata": {},
   "source": [
    "TODO: Load location data from file."
   ]
  },
  {
   "cell_type": "code",
   "execution_count": null,
   "metadata": {},
   "outputs": [],
   "source": [
    "us_state_matcher = []\n",
    "latin_american_country_matcher = []\n",
    "unambig_city_matcher = []\n",
    "unambig_city_country_lookup = []\n"
   ]
  },
  {
   "cell_type": "code",
   "execution_count": 12,
   "metadata": {},
   "outputs": [],
   "source": [
    "# process location data\n",
    "def match_location_country(location, us_state_matcher, latin_america_country_matcher, \n",
    "                           unambig_city_matcher, unambig_city_country_lookup, \n",
    "                           latin_america_country_codes, us_country_code):\n",
    "    clean_location = clean_txt_simple(location)\n",
    "    us_state_match = us_state_matcher.search(location)\n",
    "    latin_america_country_match = latin_america_country_matcher.search(location)\n",
    "    location_country = ''\n",
    "    if(us_state_match is not None):\n",
    "        location_country = us_country_code\n",
    "    elif(latin_america_country_match is not None):\n",
    "        location_country = 'Latin_America'\n",
    "    else:\n",
    "        unambig_city_match = unambig_city_matcher.search(location)\n",
    "        if(unambig_city_match is not None):\n",
    "            unambig_city = unambig_city_match.group(0)\n",
    "            if(unambig_city in unambig_city_country_lookup):\n",
    "                unambig_city_country = unambig_city_country_lookup[unambig_city]\n",
    "                if(unambig_city_country in latin_america_country_codes):\n",
    "                    unambig_city_country = 'Latin_America'\n",
    "                location_country = unambig_city_country\n",
    "    return location_country"
   ]
  },
  {
   "cell_type": "code",
   "execution_count": 13,
   "metadata": {},
   "outputs": [
    {
     "name": "stdout",
     "output_type": "stream",
     "text": [
      "location houston\n",
      "US\n",
      "location buenos aires, argentina\n",
      "Latin_America\n",
      "location atlanta, ga\n",
      "US\n"
     ]
    }
   ],
   "source": [
    "import sys\n",
    "if('..' not in sys.path):\n",
    "    sys.path.append('..')\n",
    "from data_processing.data_helpers import clean_txt_simple\n",
    "location = 'houston'\n",
    "us_country_code = 'US'\n",
    "locations = ['houston', 'buenos aires, argentina', 'atlanta, ga']\n",
    "for location in locations:\n",
    "    print(f'location {location}')\n",
    "    location_country = match_location_country(location, us_state_matcher, latin_america_country_matcher, unambig_city_matcher, unambig_city_country_lookup, latin_america_country_codes, us_country_code)\n",
    "    print(location_country)"
   ]
  },
  {
   "cell_type": "markdown",
   "metadata": {},
   "source": [
    "Extract locations for all valid authors."
   ]
  },
  {
   "cell_type": "code",
   "execution_count": 14,
   "metadata": {},
   "outputs": [],
   "source": [
    "def extract_location(data, us_state_matcher, latin_america_country_matcher, unambig_city_matcher, unambig_city_country_lookup, latin_america_country_codes, us_country_code):\n",
    "    data = data.assign(**{\n",
    "        'user_location_region' : data.loc[:, 'user_location'].apply(lambda x: match_location_country(clean_txt_simple(x), us_state_matcher, latin_america_country_matcher, unambig_city_matcher, unambig_city_country_lookup, latin_america_country_codes, us_country_code))\n",
    "    })\n",
    "    return data"
   ]
  },
  {
   "cell_type": "code",
   "execution_count": 15,
   "metadata": {},
   "outputs": [
    {
     "data": {
      "text/html": [
       "<div>\n",
       "<style scoped>\n",
       "    .dataframe tbody tr th:only-of-type {\n",
       "        vertical-align: middle;\n",
       "    }\n",
       "\n",
       "    .dataframe tbody tr th {\n",
       "        vertical-align: top;\n",
       "    }\n",
       "\n",
       "    .dataframe thead th {\n",
       "        text-align: right;\n",
       "    }\n",
       "</style>\n",
       "<table border=\"1\" class=\"dataframe\">\n",
       "  <thead>\n",
       "    <tr style=\"text-align: right;\">\n",
       "      <th></th>\n",
       "      <th>author</th>\n",
       "      <th>user_description</th>\n",
       "      <th>user_location</th>\n",
       "      <th>user_location_region</th>\n",
       "    </tr>\n",
       "  </thead>\n",
       "  <tbody>\n",
       "    <tr>\n",
       "      <th>0</th>\n",
       "      <td>05Salome</td>\n",
       "      <td>Concepción de la Sierra. Historia.YO CRISTINA ...</td>\n",
       "      <td></td>\n",
       "      <td></td>\n",
       "    </tr>\n",
       "    <tr>\n",
       "      <th>1</th>\n",
       "      <td>0hmyfuck</td>\n",
       "      <td>tengo prohibido por ley responder boludeces</td>\n",
       "      <td>argentina</td>\n",
       "      <td>Latin_America</td>\n",
       "    </tr>\n",
       "    <tr>\n",
       "      <th>2</th>\n",
       "      <td>0rlandoAraujo</td>\n",
       "      <td>Las ideologías, creencias, estructuras de orga...</td>\n",
       "      <td>Caracas. Venezuela</td>\n",
       "      <td>Latin_America</td>\n",
       "    </tr>\n",
       "    <tr>\n",
       "      <th>3</th>\n",
       "      <td>100ziou</td>\n",
       "      <td>la vibra de tu cuerpo me está llamando</td>\n",
       "      <td>México</td>\n",
       "      <td>Latin_America</td>\n",
       "    </tr>\n",
       "    <tr>\n",
       "      <th>4</th>\n",
       "      <td>104luisin</td>\n",
       "      <td>Ni de izquierda o derecha no hay verdades abso...</td>\n",
       "      <td></td>\n",
       "      <td></td>\n",
       "    </tr>\n",
       "  </tbody>\n",
       "</table>\n",
       "</div>"
      ],
      "text/plain": [
       "          author                                   user_description  \\\n",
       "0       05Salome  Concepción de la Sierra. Historia.YO CRISTINA ...   \n",
       "1       0hmyfuck        tengo prohibido por ley responder boludeces   \n",
       "2  0rlandoAraujo  Las ideologías, creencias, estructuras de orga...   \n",
       "3        100ziou             la vibra de tu cuerpo me está llamando   \n",
       "4      104luisin  Ni de izquierda o derecha no hay verdades abso...   \n",
       "\n",
       "        user_location user_location_region  \n",
       "0                                           \n",
       "1           argentina        Latin_America  \n",
       "2  Caracas. Venezuela        Latin_America  \n",
       "3              México        Latin_America  \n",
       "4                                           "
      ]
     },
     "metadata": {},
     "output_type": "display_data"
    }
   ],
   "source": [
    "author_descriptive_data = extract_location(author_descriptive_data, us_state_matcher, latin_america_country_matcher, unambig_city_matcher, unambig_city_country_lookup, latin_america_country_codes, us_country_code)\n",
    "display(author_descriptive_data.head())"
   ]
  },
  {
   "cell_type": "code",
   "execution_count": 16,
   "metadata": {},
   "outputs": [
    {
     "name": "stdout",
     "output_type": "stream",
     "text": [
      "                 88417\n",
      "Latin_America    37588\n",
      "US                1941\n",
      "ES                1314\n",
      "PH                1256\n",
      "                 ...  \n",
      "AL                   1\n",
      "VU                   1\n",
      "LT                   1\n",
      "KE                   1\n",
      "LK                   1\n",
      "Name: user_location_region, Length: 99, dtype: int64\n"
     ]
    }
   ],
   "source": [
    "print(author_descriptive_data.loc[:, 'user_location_region'].value_counts())"
   ]
  },
  {
   "cell_type": "markdown",
   "metadata": {},
   "source": [
    "### Load loanword author prior data"
   ]
  },
  {
   "cell_type": "code",
   "execution_count": 17,
   "metadata": {},
   "outputs": [],
   "source": [
    "import re\n",
    "import os\n",
    "def load_combine_tweet_data(data_dir):\n",
    "    data_files = list(filter(lambda x: x.endswith('.gz'), os.listdir(data_dir)))\n",
    "    data = pd.concat(list(map(lambda x: pd.read_csv(os.path.join(data_dir, x), sep='\\t', index_col=False, compression='gzip'), data_files)), axis=0)\n",
    "    return data\n",
    "integrated_loanword_author_data_dir = '../../data/mined_tweets/loanword_integrated_verb_author_counts_CLUSTER=twitter_posts_tweets/'\n",
    "light_verb_loanword_author_data_dir = '../../data/mined_tweets/loanword_light_verb_author_counts_CLUSTER=twitter_posts_tweets/'\n",
    "integrated_loanword_author_tweet_data = load_combine_tweet_data(integrated_loanword_author_data_dir)\n",
    "light_verb_loanword_author_tweet_data = load_combine_tweet_data(light_verb_loanword_author_data_dir)\n",
    "# clean nan vals\n",
    "integrated_loanword_author_tweet_data.fillna('', inplace=True)\n",
    "light_verb_loanword_author_tweet_data.fillna('', inplace=True)\n",
    "# remove data without text??\n",
    "integrated_loanword_author_tweet_data = integrated_loanword_author_tweet_data[integrated_loanword_author_tweet_data.loc[:, 'text']!='']\n",
    "light_verb_loanword_author_tweet_data = light_verb_loanword_author_tweet_data[light_verb_loanword_author_tweet_data.loc[:, 'text']!='']\n",
    "# fix user names\n",
    "username_matcher = re.compile('(?<=https://twitter.com/)[a-zA-Z0-9_]+')\n",
    "integrated_loanword_author_tweet_data = integrated_loanword_author_tweet_data.assign(**{\n",
    "    'author' : integrated_loanword_author_tweet_data.loc[:, 'permalink'].apply(lambda x: username_matcher.search(x).group(0))\n",
    "})\n",
    "light_verb_loanword_author_tweet_data = light_verb_loanword_author_tweet_data.assign(**{\n",
    "    'author' : light_verb_loanword_author_tweet_data.loc[:, 'permalink'].apply(lambda x: username_matcher.search(x).group(0))\n",
    "})"
   ]
  },
  {
   "cell_type": "code",
   "execution_count": 18,
   "metadata": {},
   "outputs": [
    {
     "name": "stdout",
     "output_type": "stream",
     "text": [
      "1087670 tweets from integrated loanword authors\n",
      "389280 tweets from light verb loanword authors\n"
     ]
    }
   ],
   "source": [
    "print('%d tweets from integrated loanword authors'%(integrated_loanword_author_tweet_data.shape[0]))\n",
    "print('%d tweets from light verb loanword authors'%(light_verb_loanword_author_tweet_data.shape[0]))"
   ]
  },
  {
   "cell_type": "code",
   "execution_count": 40,
   "metadata": {},
   "outputs": [],
   "source": [
    "# combine for later\n",
    "integrated_loanword_author_tweet_data = integrated_loanword_author_tweet_data.assign(**{\n",
    "    'author_type' : 'integrated_loanword',\n",
    "})\n",
    "light_verb_loanword_author_tweet_data = light_verb_loanword_author_tweet_data.assign(**{\n",
    "    'author_type' : 'light_verb_loanword',\n",
    "})\n",
    "combined_loanword_author_tweet_data = pd.concat([integrated_loanword_author_tweet_data,\n",
    "                                                 light_verb_loanword_author_tweet_data], axis=0)"
   ]
  },
  {
   "cell_type": "markdown",
   "metadata": {},
   "source": [
    "### Extract L2 use\n",
    "Using the previous tweets from loanword authors, let's approximate L2 use based on ES/EN use in original content (no RTs!)."
   ]
  },
  {
   "cell_type": "code",
   "execution_count": 30,
   "metadata": {},
   "outputs": [
    {
     "name": "stdout",
     "output_type": "stream",
     "text": [
      "('en', 0.9999999999819291)\n",
      "('pt', 0.787308379127033)\n",
      "('fr', 1.0)\n",
      "('ja', 1.0)\n"
     ]
    }
   ],
   "source": [
    "from importlib import reload\n",
    "import langid\n",
    "reload(langi\n",
    "from langid import langid\n",
    "from langid.langid import LanguageIdentifier, model\n",
    "identifier = LanguageIdentifier.from_modelstring(model, norm_probs=True)\n",
    "# if we don't specify langs, we get a lot of false negatives from CA/PR (Catalan)\n",
    "# identifier.set_languages(['en', 'es'])\n",
    "print(identifier.classify('this is a test that I am doing'))\n",
    "print(identifier.classify('qué dices? no comprendo'))\n",
    "print(identifier.classify('ceci est une preuve que je fais'))\n",
    "print(identifier.classify('私は先生になりたい'))"
   ]
  },
  {
   "cell_type": "code",
   "execution_count": 32,
   "metadata": {},
   "outputs": [],
   "source": [
    "import re\n",
    "from langid import langid\n",
    "from langid.langid import LanguageIdentifier, model\n",
    "USER_MATCHER = re.compile('@\\s?[a-zA-Z_]+')\n",
    "URL_MATCHER = re.compile('http.+')\n",
    "def clean_txt_for_lang_id(txt):\n",
    "    txt = USER_MATCHER.sub('', txt)\n",
    "    txt = URL_MATCHER.sub('', txt)\n",
    "    return txt\n",
    "\n",
    "def extract_lang_data(data):\n",
    "    identifier = LanguageIdentifier.from_modelstring(model, norm_probs=True)\n",
    "    # classify\n",
    "    data = data.assign(**{\n",
    "        'lang' : data.loc[:, 'text'].apply(lambda x: identifier.classify(clean_txt_for_lang_id(x)))\n",
    "    })\n",
    "    # separate lang/score\n",
    "    data = data.assign(**{\n",
    "        'lang_score' : data.loc[:, 'lang'].apply(lambda x: x[1])\n",
    "    })\n",
    "    data = data.assign(**{\n",
    "        'lang' : data.loc[:, 'lang'].apply(lambda x: x[0])\n",
    "    })\n",
    "    return data"
   ]
  },
  {
   "cell_type": "code",
   "execution_count": 42,
   "metadata": {},
   "outputs": [],
   "source": [
    "combined_loanword_author_tweet_data = extract_lang_data(combined_loanword_author_tweet_data)"
   ]
  },
  {
   "cell_type": "code",
   "execution_count": 43,
   "metadata": {},
   "outputs": [
    {
     "data": {
      "text/plain": [
       "es    1035514\n",
       "en     240539\n",
       "pt      24225\n",
       "it      23422\n",
       "gl      17376\n",
       "       ...   \n",
       "gu          2\n",
       "mr          2\n",
       "uk          1\n",
       "dz          1\n",
       "mk          1\n",
       "Name: lang, Length: 95, dtype: int64"
      ]
     },
     "metadata": {},
     "output_type": "display_data"
    }
   ],
   "source": [
    "# show language distribution\n",
    "display(combined_loanword_author_tweet_data.loc[:, 'lang'].value_counts())"
   ]
  },
  {
   "cell_type": "code",
   "execution_count": 37,
   "metadata": {},
   "outputs": [
    {
     "data": {
      "text/plain": [
       "es    926005\n",
       "en     99318\n",
       "ca      9906\n",
       "it      8049\n",
       "fr      7848\n",
       "       ...  \n",
       "bg         2\n",
       "mn         2\n",
       "mk         1\n",
       "dz         1\n",
       "ps         1\n",
       "Name: lang, Length: 91, dtype: int64"
      ]
     },
     "metadata": {},
     "output_type": "display_data"
    }
   ],
   "source": [
    "# what if we restrict to high confidence labels?\n",
    "lang_score_cutoff = 0.9\n",
    "conf_lang_combined_loanword_author_tweet_data = combined_loanword_author_tweet_data[combined_loanword_author_tweet_data.loc[:, 'lang_score'] >= lang_score_cutoff]\n",
    "display(conf_lang_combined_loanword_author_tweet_data.loc[:, 'lang'].value_counts())"
   ]
  },
  {
   "cell_type": "markdown",
   "metadata": {},
   "source": [
    "Is there a difference in proportions between integrated loanword authors and light verb loanword authors?"
   ]
  },
  {
   "cell_type": "code",
   "execution_count": 294,
   "metadata": {},
   "outputs": [
    {
     "name": "stdout",
     "output_type": "stream",
     "text": [
      "      lang    lang\n",
      "es  878829  304596\n",
      "en  208841   84684\n",
      "        lang     lang\n",
      "es  0.807992  0.78246\n",
      "en  0.192008  0.21754\n",
      "chi2 test stat = 1173.445 (p=3.602E-257)\n"
     ]
    }
   ],
   "source": [
    "# curiosity: is there a difference in proportions?\n",
    "from scipy.stats import chi2_contingency\n",
    "from scipy.stats import norm\n",
    "contingency_table = pd.concat([integrated_loanword_author_tweet_data.loc[:, 'lang'].value_counts(), \n",
    "                               light_verb_loanword_author_tweet_data.loc[:, 'lang'].value_counts()], axis=1)\n",
    "contingency_table_norm = contingency_table / contingency_table.sum(axis=0)\n",
    "print(contingency_table)\n",
    "print(contingency_table_norm)\n",
    "test_stat, p_val, dof, expected = chi2_contingency(contingency_table.values)\n",
    "print('chi2 test stat = %.3f (p=%.3E)'%(test_stat, p_val))"
   ]
  },
  {
   "cell_type": "markdown",
   "metadata": {},
   "source": [
    "Get the language percentage use per author."
   ]
  },
  {
   "cell_type": "code",
   "execution_count": 205,
   "metadata": {},
   "outputs": [
    {
     "data": {
      "text/html": [
       "<div>\n",
       "<style scoped>\n",
       "    .dataframe tbody tr th:only-of-type {\n",
       "        vertical-align: middle;\n",
       "    }\n",
       "\n",
       "    .dataframe tbody tr th {\n",
       "        vertical-align: top;\n",
       "    }\n",
       "\n",
       "    .dataframe thead th {\n",
       "        text-align: right;\n",
       "    }\n",
       "</style>\n",
       "<table border=\"1\" class=\"dataframe\">\n",
       "  <thead>\n",
       "    <tr style=\"text-align: right;\">\n",
       "      <th></th>\n",
       "      <th>author</th>\n",
       "      <th>es_pct</th>\n",
       "    </tr>\n",
       "  </thead>\n",
       "  <tbody>\n",
       "    <tr>\n",
       "      <th>0</th>\n",
       "      <td>000822e5bc974e0</td>\n",
       "      <td>0.890467</td>\n",
       "    </tr>\n",
       "    <tr>\n",
       "      <th>1</th>\n",
       "      <td>0063_tmi</td>\n",
       "      <td>0.662474</td>\n",
       "    </tr>\n",
       "    <tr>\n",
       "      <th>2</th>\n",
       "      <td>007martin</td>\n",
       "      <td>0.940000</td>\n",
       "    </tr>\n",
       "    <tr>\n",
       "      <th>3</th>\n",
       "      <td>00tropico_</td>\n",
       "      <td>0.647059</td>\n",
       "    </tr>\n",
       "    <tr>\n",
       "      <th>4</th>\n",
       "      <td>01Magena</td>\n",
       "      <td>0.924000</td>\n",
       "    </tr>\n",
       "    <tr>\n",
       "      <th>...</th>\n",
       "      <td>...</td>\n",
       "      <td>...</td>\n",
       "    </tr>\n",
       "    <tr>\n",
       "      <th>3535</th>\n",
       "      <td>zDxNix</td>\n",
       "      <td>0.726358</td>\n",
       "    </tr>\n",
       "    <tr>\n",
       "      <th>3536</th>\n",
       "      <td>zagez</td>\n",
       "      <td>0.869215</td>\n",
       "    </tr>\n",
       "    <tr>\n",
       "      <th>3537</th>\n",
       "      <td>zaraftlali</td>\n",
       "      <td>0.667339</td>\n",
       "    </tr>\n",
       "    <tr>\n",
       "      <th>3538</th>\n",
       "      <td>zazada287</td>\n",
       "      <td>0.937876</td>\n",
       "    </tr>\n",
       "    <tr>\n",
       "      <th>3539</th>\n",
       "      <td>zh2882017</td>\n",
       "      <td>0.767967</td>\n",
       "    </tr>\n",
       "  </tbody>\n",
       "</table>\n",
       "<p>3540 rows × 2 columns</p>\n",
       "</div>"
      ],
      "text/plain": [
       "               author    es_pct\n",
       "0     000822e5bc974e0  0.890467\n",
       "1            0063_tmi  0.662474\n",
       "2           007martin  0.940000\n",
       "3          00tropico_  0.647059\n",
       "4            01Magena  0.924000\n",
       "...               ...       ...\n",
       "3535           zDxNix  0.726358\n",
       "3536            zagez  0.869215\n",
       "3537       zaraftlali  0.667339\n",
       "3538        zazada287  0.937876\n",
       "3539        zh2882017  0.767967\n",
       "\n",
       "[3540 rows x 2 columns]"
      ]
     },
     "metadata": {},
     "output_type": "display_data"
    }
   ],
   "source": [
    "def extract_lang_pct(data, lang='es'):\n",
    "    lang_pct = data[data.loc[:, 'lang']==lang].shape[0] / data.shape[0]\n",
    "    return lang_pct\n",
    "author_lang_es_pct = combined_loanword_author_tweet_data.groupby('author').apply(lambda x: extract_lang_pct(x, lang='es')).reset_index().rename(columns={0:'es_pct'})\n",
    "# author_lang_count_data = combined_loanword_author_tweet_data.groupby('author').apply(lambda x: x.loc[:, 'lang'].value_counts())\n",
    "display(author_lang_es_pct)"
   ]
  },
  {
   "cell_type": "markdown",
   "metadata": {},
   "source": [
    "Let's also discretize this! We can separate authors based on their activity: monolingual (>=95%), medium bilingual (50%<x<95%), and low bilingual (<=50%)."
   ]
  },
  {
   "cell_type": "code",
   "execution_count": 1,
   "metadata": {},
   "outputs": [
    {
     "ename": "NameError",
     "evalue": "name 'author_lang_es_pct' is not defined",
     "output_type": "error",
     "traceback": [
      "\u001b[0;31m---------------------------------------------------------------------------\u001b[0m",
      "\u001b[0;31mNameError\u001b[0m                                 Traceback (most recent call last)",
      "\u001b[0;32m<ipython-input-1-ff705691758b>\u001b[0m in \u001b[0;36m<module>\u001b[0;34m\u001b[0m\n\u001b[1;32m     11\u001b[0m     \u001b[0;34m'low_bilingual'\u001b[0m \u001b[0;34m:\u001b[0m \u001b[0;34m[\u001b[0m\u001b[0;36m0.\u001b[0m\u001b[0;34m,\u001b[0m \u001b[0;36m0.5\u001b[0m\u001b[0;34m]\u001b[0m\u001b[0;34m\u001b[0m\u001b[0;34m\u001b[0m\u001b[0m\n\u001b[1;32m     12\u001b[0m }\n\u001b[0;32m---> 13\u001b[0;31m author_lang_categories = author_lang_es_pct.assign(**{\n\u001b[0m\u001b[1;32m     14\u001b[0m     \u001b[0;34m'es_lang_category'\u001b[0m \u001b[0;34m:\u001b[0m \u001b[0mauthor_lang_es_pct\u001b[0m\u001b[0;34m.\u001b[0m\u001b[0mloc\u001b[0m\u001b[0;34m[\u001b[0m\u001b[0;34m:\u001b[0m\u001b[0;34m,\u001b[0m \u001b[0;34m'es_lang_pct'\u001b[0m\u001b[0;34m]\u001b[0m\u001b[0;34m.\u001b[0m\u001b[0mapply\u001b[0m\u001b[0;34m(\u001b[0m\u001b[0;32mlambda\u001b[0m \u001b[0mx\u001b[0m\u001b[0;34m:\u001b[0m \u001b[0mdiscretize_lang_pct\u001b[0m\u001b[0;34m(\u001b[0m\u001b[0mx\u001b[0m\u001b[0;34m,\u001b[0m \u001b[0mlang_bounds\u001b[0m\u001b[0;34m)\u001b[0m\u001b[0;34m)\u001b[0m\u001b[0;34m\u001b[0m\u001b[0;34m\u001b[0m\u001b[0m\n\u001b[1;32m     15\u001b[0m })\n",
      "\u001b[0;31mNameError\u001b[0m: name 'author_lang_es_pct' is not defined"
     ]
    }
   ],
   "source": [
    "def discretize_lang_pct(lang_pct, lang_bounds):\n",
    "    lang_cat = ''\n",
    "    for lang_cat_i, lang_bound_i in lang_bounds.items():\n",
    "        if(lang_pct >= lang_bound_i[0] and lang_pct < lang_bound_i[1]):\n",
    "            lang_cat = lang_cat_i\n",
    "            break\n",
    "    return lang_cat\n",
    "lang_bounds = {\n",
    "    'monolingual' : [0.95, 1.01],\n",
    "    'med_bilingual' : [0.5, 0.95],\n",
    "    'low_bilingual' : [0., 0.5]\n",
    "}\n",
    "author_lang_categories = author_lang_es_pct.assign(**{\n",
    "    'es_lang_category' : author_lang_es_pct.loc[:, 'es_lang_pct'].apply(lambda x: discretize_lang_pct(x, lang_bounds))\n",
    "})\n",
    "display(author_lang_categories.loc[:, 'es_lang_category'].value_counts())"
   ]
  },
  {
   "cell_type": "code",
   "execution_count": null,
   "metadata": {},
   "outputs": [],
   "source": []
  },
  {
   "cell_type": "markdown",
   "metadata": {},
   "source": [
    "### Extract prior loanword use\n",
    "Using the previous tweets from loanword authors, let's count prior loanword use => both integrated and light verb use."
   ]
  },
  {
   "cell_type": "code",
   "execution_count": 176,
   "metadata": {},
   "outputs": [],
   "source": [
    "import re\n",
    "integrated_loanword_matcher_data = pd.read_csv('../../data/loanword_resources/wiktionary_twitter_reddit_loanword_verbs_integrated_verbs_query_phrases.tsv', sep='\\t', index_col=False)\n",
    "light_verb_loanword_matcher_data = pd.read_csv('../../data/loanword_resources/wiktionary_twitter_reddit_loanword_verbs_light_verbs_query_phrases.tsv', sep='\\t', index_col=False)\n",
    "# generate matchers\n",
    "integrated_loanword_matcher_data = integrated_loanword_matcher_data.assign(**{\n",
    "    'verb' : integrated_loanword_matcher_data.loc[:, 'verb'].apply(re.compile)\n",
    "})\n",
    "light_verb_loanword_matcher_data = light_verb_loanword_matcher_data.assign(**{\n",
    "    'verb' : light_verb_loanword_matcher_data.loc[:, 'verb'].apply(re.compile)\n",
    "})"
   ]
  },
  {
   "cell_type": "code",
   "execution_count": 209,
   "metadata": {},
   "outputs": [],
   "source": [
    "def match_words(txt, word_matcher_pairs):\n",
    "    # do not strip accents because of ambiguity\n",
    "    txt_clean = txt.lower()\n",
    "    words = []\n",
    "    for word, matcher in word_matcher_pairs:\n",
    "        if(matcher.search(txt_clean)):\n",
    "            words.append(word)\n",
    "    return words\n",
    "\n",
    "def extract_loanwords(data, integrated_loanword_matcher_data, light_verb_loanword_matcher_data, txt_var='text'):\n",
    "    integrated_loanword_matcher_pairs = list(zip(integrated_loanword_matcher_data.loc[:, 'loanword'].values, \n",
    "                                                 integrated_loanword_matcher_data.loc[:, 'verb'].values))\n",
    "    light_verb_loanword_matcher_pairs = list(zip(light_verb_loanword_matcher_data.loc[:, 'loanword'].values, \n",
    "                                                 light_verb_loanword_matcher_data.loc[:, 'verb'].values))\n",
    "    data = data.assign(**{\n",
    "        'integrated_loanwords' : data.loc[:, txt_var].apply(lambda x: match_words(x, integrated_loanword_matcher_pairs)),\n",
    "    })\n",
    "    data = data.assign(**{\n",
    "        'light_verb_loanwords' : data.loc[:, txt_var].apply(lambda x: match_words(x, light_verb_loanword_matcher_pairs)),\n",
    "    })\n",
    "    return data"
   ]
  },
  {
   "cell_type": "code",
   "execution_count": null,
   "metadata": {},
   "outputs": [],
   "source": [
    "combined_loanword_author_tweet_data = extract_loanwords(combined_loanword_author_tweet_data, \n",
    "                                                        integrated_loanword_matcher_data, \n",
    "                                                        light_verb_loanword_matcher_data, \n",
    "                                                        txt_var='text')"
   ]
  },
  {
   "cell_type": "code",
   "execution_count": 214,
   "metadata": {
    "scrolled": true
   },
   "outputs": [
    {
     "name": "stdout",
     "output_type": "stream",
     "text": [
      "tick       36066\n",
      "connect     1197\n",
      "dope        1093\n",
      "flip        1087\n",
      "access      1037\n",
      "           ...  \n",
      "ghost          2\n",
      "pump           2\n",
      "freak          1\n",
      "pack           1\n",
      "exit           1\n",
      "Length: 101, dtype: int64\n",
      "look      200\n",
      "like      177\n",
      "DM        160\n",
      "access    130\n",
      "post       76\n",
      "         ... \n",
      "upvote      1\n",
      "freeze      1\n",
      "limit       1\n",
      "dope        1\n",
      "hack        1\n",
      "Length: 72, dtype: int64\n"
     ]
    }
   ],
   "source": [
    "from functools import reduce\n",
    "integrated_loanword_counts = pd.Series(reduce(lambda x,y: x+y, combined_loanword_author_tweet_data.loc[:, 'integrated_loanwords'].values)).value_counts()\n",
    "light_verb_loanword_counts = pd.Series(reduce(lambda x,y: x+y, combined_loanword_author_tweet_data.loc[:, 'light_verb_loanwords'].values)).value_counts()\n",
    "print(integrated_loanword_counts)\n",
    "print(light_verb_loanword_counts)"
   ]
  },
  {
   "cell_type": "code",
   "execution_count": 215,
   "metadata": {},
   "outputs": [],
   "source": [
    "from functools import reduce\n",
    "from nltk.tokenize.toktok import ToktokTokenizer\n",
    "# compute integrated and light verb counts\n",
    "def get_word_pct(data, tokenizer, word_var='integrated_loanwords', txt_var='text'):\n",
    "    # word count / total tokens\n",
    "    word_count = len(list(reduce(lambda x,y: x+y, data.loc[:, word_var].values)))\n",
    "    token_count = len(list(reduce(lambda x,y: x+y, data.loc[:, txt_var].apply(tokenizer.tokenize))))\n",
    "    word_pct = word_count / token_count\n",
    "    return word_pct\n",
    "def get_word_pct_all_authors(data, word_var='integrated_loanwords', author_var='author', txt_var='text'):\n",
    "    tokenizer = ToktokTokenizer()\n",
    "    author_word_pct = data.groupby(author_var).apply(lambda x: get_word_pct(x, tokenizer, word_var=word_var, txt_var=txt_var))\n",
    "    return author_word_pct"
   ]
  },
  {
   "cell_type": "code",
   "execution_count": 219,
   "metadata": {},
   "outputs": [],
   "source": [
    "integrated_loanword_per_author_pct = get_word_pct_all_authors(combined_loanword_author_tweet_data, word_var='integrated_loanwords', author_var='author', txt_var='text')\n",
    "light_verb_loanword_per_author_pct = get_word_pct_all_authors(combined_loanword_author_tweet_data, word_var='light_verb_loanwords', author_var='author', txt_var='text')\n",
    "# fix columns\n",
    "integrated_loanword_per_author_pct = integrated_loanword_per_author_pct.reset_index().rename(columns={0: 'integrated_loanword_pct'})\n",
    "light_verb_loanword_per_author_pct = light_verb_loanword_per_author_pct.reset_index().rename(columns={0: 'light_verb_loanword_pct'})"
   ]
  },
  {
   "cell_type": "code",
   "execution_count": 221,
   "metadata": {},
   "outputs": [
    {
     "data": {
      "text/html": [
       "<div>\n",
       "<style scoped>\n",
       "    .dataframe tbody tr th:only-of-type {\n",
       "        vertical-align: middle;\n",
       "    }\n",
       "\n",
       "    .dataframe tbody tr th {\n",
       "        vertical-align: top;\n",
       "    }\n",
       "\n",
       "    .dataframe thead th {\n",
       "        text-align: right;\n",
       "    }\n",
       "</style>\n",
       "<table border=\"1\" class=\"dataframe\">\n",
       "  <thead>\n",
       "    <tr style=\"text-align: right;\">\n",
       "      <th></th>\n",
       "      <th>author</th>\n",
       "      <th>integrated_loanword_pct</th>\n",
       "    </tr>\n",
       "  </thead>\n",
       "  <tbody>\n",
       "    <tr>\n",
       "      <th>0</th>\n",
       "      <td>000822e5bc974e0</td>\n",
       "      <td>0.002736</td>\n",
       "    </tr>\n",
       "    <tr>\n",
       "      <th>1</th>\n",
       "      <td>0063_tmi</td>\n",
       "      <td>0.003747</td>\n",
       "    </tr>\n",
       "    <tr>\n",
       "      <th>2</th>\n",
       "      <td>007martin</td>\n",
       "      <td>0.001952</td>\n",
       "    </tr>\n",
       "    <tr>\n",
       "      <th>3</th>\n",
       "      <td>00tropico_</td>\n",
       "      <td>0.009524</td>\n",
       "    </tr>\n",
       "    <tr>\n",
       "      <th>4</th>\n",
       "      <td>01Magena</td>\n",
       "      <td>0.001431</td>\n",
       "    </tr>\n",
       "  </tbody>\n",
       "</table>\n",
       "</div>"
      ],
      "text/plain": [
       "            author  integrated_loanword_pct\n",
       "0  000822e5bc974e0                 0.002736\n",
       "1         0063_tmi                 0.003747\n",
       "2        007martin                 0.001952\n",
       "3       00tropico_                 0.009524\n",
       "4         01Magena                 0.001431"
      ]
     },
     "metadata": {},
     "output_type": "display_data"
    },
    {
     "data": {
      "text/html": [
       "<div>\n",
       "<style scoped>\n",
       "    .dataframe tbody tr th:only-of-type {\n",
       "        vertical-align: middle;\n",
       "    }\n",
       "\n",
       "    .dataframe tbody tr th {\n",
       "        vertical-align: top;\n",
       "    }\n",
       "\n",
       "    .dataframe thead th {\n",
       "        text-align: right;\n",
       "    }\n",
       "</style>\n",
       "<table border=\"1\" class=\"dataframe\">\n",
       "  <thead>\n",
       "    <tr style=\"text-align: right;\">\n",
       "      <th></th>\n",
       "      <th>author</th>\n",
       "      <th>light_verb_loanword_pct</th>\n",
       "    </tr>\n",
       "  </thead>\n",
       "  <tbody>\n",
       "    <tr>\n",
       "      <th>0</th>\n",
       "      <td>000822e5bc974e0</td>\n",
       "      <td>0.000000</td>\n",
       "    </tr>\n",
       "    <tr>\n",
       "      <th>1</th>\n",
       "      <td>0063_tmi</td>\n",
       "      <td>0.000000</td>\n",
       "    </tr>\n",
       "    <tr>\n",
       "      <th>2</th>\n",
       "      <td>007martin</td>\n",
       "      <td>0.000000</td>\n",
       "    </tr>\n",
       "    <tr>\n",
       "      <th>3</th>\n",
       "      <td>00tropico_</td>\n",
       "      <td>0.000000</td>\n",
       "    </tr>\n",
       "    <tr>\n",
       "      <th>4</th>\n",
       "      <td>01Magena</td>\n",
       "      <td>0.000143</td>\n",
       "    </tr>\n",
       "  </tbody>\n",
       "</table>\n",
       "</div>"
      ],
      "text/plain": [
       "            author  light_verb_loanword_pct\n",
       "0  000822e5bc974e0                 0.000000\n",
       "1         0063_tmi                 0.000000\n",
       "2        007martin                 0.000000\n",
       "3       00tropico_                 0.000000\n",
       "4         01Magena                 0.000143"
      ]
     },
     "metadata": {},
     "output_type": "display_data"
    }
   ],
   "source": [
    "display(integrated_loanword_per_author_pct.head())\n",
    "display(light_verb_loanword_per_author_pct.head())"
   ]
  },
  {
   "cell_type": "markdown",
   "metadata": {},
   "source": [
    "### Extract hashtag, URL use\n",
    "Using the previous tweets, let's look at hashtag and URL use."
   ]
  },
  {
   "cell_type": "code",
   "execution_count": 238,
   "metadata": {},
   "outputs": [],
   "source": [
    "import re\n",
    "def get_simple_match(txt, matcher):\n",
    "    match = matcher.search(txt)\n",
    "    if(match is not None):\n",
    "        return [match.group(0)]\n",
    "    else:\n",
    "        return ''\n",
    "HASHTAG_MATCHER = re.compile('#\\s?[a-zA-Z0-9]+')\n",
    "URL_MATCHER = re.compile('[a-zA-Z0-9]+\\.(com|org|edu|net|gov|co)/\\w+|[a-zA-Z0-9]+\\.[a-zA-Z0-9]+\\.(com|org|edu|net|gov|co)/\\w+')\n",
    "combined_loanword_author_tweet_data = combined_loanword_author_tweet_data.assign(**{\n",
    "    'hashtags' : combined_loanword_author_tweet_data.loc[:, 'text'].apply(HASHTAG_MATCHER.findall)\n",
    "})\n",
    "combined_loanword_author_tweet_data = combined_loanword_author_tweet_data.assign(**{\n",
    "    'urls' : combined_loanword_author_tweet_data.loc[:, 'text'].apply(lambda x: get_simple_match(x, URL_MATCHER))\n",
    "})"
   ]
  },
  {
   "cell_type": "code",
   "execution_count": 239,
   "metadata": {
    "scrolled": true
   },
   "outputs": [
    {
     "data": {
      "text/plain": [
       "# BBMAsTopSocial       4071\n",
       "# KCAMexico            2644\n",
       "# PremiosMTVMIAW       2171\n",
       "# iHeartAwards         2113\n",
       "# BTS                  1927\n",
       "                       ... \n",
       "# TodosPresos             1\n",
       "# SoySuperfacha           1\n",
       "# mostrequestedlive       1\n",
       "# Elda                    1\n",
       "# ClipPlus                1\n",
       "Length: 77696, dtype: int64"
      ]
     },
     "metadata": {},
     "output_type": "display_data"
    },
    {
     "data": {
      "text/plain": [
       "www.instagram.com/p                          10389\n",
       "www.youtube.com/watch                         3415\n",
       "open.spotify.com/track                        2106\n",
       "www.facebook.com/story                        1439\n",
       "twitter.com/i                                 1218\n",
       "                                             ...  \n",
       "twitter.com/tuiteroregio                         1\n",
       "twitter.com/Josuecoronel420                      1\n",
       "cocpic.twitter.com/YtoZR4XiFP                    1\n",
       "www.noticiaszmg.com/zmg16165                     1\n",
       "MorritzCalderonpic.twitter.com/yhtGmKoweX        1\n",
       "Length: 258412, dtype: int64"
      ]
     },
     "metadata": {},
     "output_type": "display_data"
    }
   ],
   "source": [
    "def get_list_counts(data, list_var='hashtags'):\n",
    "    counts = []\n",
    "    for l in data.loc[:, list_var].values:\n",
    "        counts += l\n",
    "    counts = pd.Series(counts).value_counts()\n",
    "    return counts\n",
    "hashtag_counts = get_list_counts(combined_loanword_author_tweet_data, list_var='hashtags')\n",
    "url_counts = get_list_counts(combined_loanword_author_tweet_data, list_var='urls')\n",
    "display(hashtag_counts)\n",
    "display(url_counts)"
   ]
  },
  {
   "cell_type": "code",
   "execution_count": 250,
   "metadata": {},
   "outputs": [],
   "source": [
    "# get URL and hashtag percent\n",
    "author_var = 'author'\n",
    "def get_post_pct_with_list_var(data, list_var='hashtags'):\n",
    "    list_var_count = data[data.loc[:, list_var].apply(lambda x: len(x) > 0)].shape[0]\n",
    "    post_pct = list_var_count / data.shape[0]\n",
    "    return post_pct\n",
    "author_hashtag_pct = combined_loanword_author_tweet_data.groupby(author_var).apply(lambda x: get_post_pct_with_list_var(x, list_var='hashtags')).reset_index().rename(columns={0 : 'hashtag_post_pct'})\n",
    "author_url_pct = combined_loanword_author_tweet_data.groupby(author_var).apply(lambda x: get_post_pct_with_list_var(x, list_var='hashtags')).reset_index().rename(columns={0 : 'url_post_pct'})"
   ]
  },
  {
   "cell_type": "code",
   "execution_count": 254,
   "metadata": {},
   "outputs": [
    {
     "data": {
      "text/html": [
       "<div>\n",
       "<style scoped>\n",
       "    .dataframe tbody tr th:only-of-type {\n",
       "        vertical-align: middle;\n",
       "    }\n",
       "\n",
       "    .dataframe tbody tr th {\n",
       "        vertical-align: top;\n",
       "    }\n",
       "\n",
       "    .dataframe thead th {\n",
       "        text-align: right;\n",
       "    }\n",
       "</style>\n",
       "<table border=\"1\" class=\"dataframe\">\n",
       "  <thead>\n",
       "    <tr style=\"text-align: right;\">\n",
       "      <th></th>\n",
       "      <th>author</th>\n",
       "      <th>hashtag_post_pct</th>\n",
       "    </tr>\n",
       "  </thead>\n",
       "  <tbody>\n",
       "    <tr>\n",
       "      <th>0</th>\n",
       "      <td>000822e5bc974e0</td>\n",
       "      <td>0.523327</td>\n",
       "    </tr>\n",
       "    <tr>\n",
       "      <th>1</th>\n",
       "      <td>0063_tmi</td>\n",
       "      <td>0.004193</td>\n",
       "    </tr>\n",
       "    <tr>\n",
       "      <th>2</th>\n",
       "      <td>007martin</td>\n",
       "      <td>0.004000</td>\n",
       "    </tr>\n",
       "    <tr>\n",
       "      <th>3</th>\n",
       "      <td>00tropico_</td>\n",
       "      <td>0.000000</td>\n",
       "    </tr>\n",
       "    <tr>\n",
       "      <th>4</th>\n",
       "      <td>01Magena</td>\n",
       "      <td>0.168000</td>\n",
       "    </tr>\n",
       "  </tbody>\n",
       "</table>\n",
       "</div>"
      ],
      "text/plain": [
       "            author  hashtag_post_pct\n",
       "0  000822e5bc974e0          0.523327\n",
       "1         0063_tmi          0.004193\n",
       "2        007martin          0.004000\n",
       "3       00tropico_          0.000000\n",
       "4         01Magena          0.168000"
      ]
     },
     "metadata": {},
     "output_type": "display_data"
    },
    {
     "data": {
      "text/html": [
       "<div>\n",
       "<style scoped>\n",
       "    .dataframe tbody tr th:only-of-type {\n",
       "        vertical-align: middle;\n",
       "    }\n",
       "\n",
       "    .dataframe tbody tr th {\n",
       "        vertical-align: top;\n",
       "    }\n",
       "\n",
       "    .dataframe thead th {\n",
       "        text-align: right;\n",
       "    }\n",
       "</style>\n",
       "<table border=\"1\" class=\"dataframe\">\n",
       "  <thead>\n",
       "    <tr style=\"text-align: right;\">\n",
       "      <th></th>\n",
       "      <th>author</th>\n",
       "      <th>url_post_pct</th>\n",
       "    </tr>\n",
       "  </thead>\n",
       "  <tbody>\n",
       "    <tr>\n",
       "      <th>0</th>\n",
       "      <td>000822e5bc974e0</td>\n",
       "      <td>0.523327</td>\n",
       "    </tr>\n",
       "    <tr>\n",
       "      <th>1</th>\n",
       "      <td>0063_tmi</td>\n",
       "      <td>0.004193</td>\n",
       "    </tr>\n",
       "    <tr>\n",
       "      <th>2</th>\n",
       "      <td>007martin</td>\n",
       "      <td>0.004000</td>\n",
       "    </tr>\n",
       "    <tr>\n",
       "      <th>3</th>\n",
       "      <td>00tropico_</td>\n",
       "      <td>0.000000</td>\n",
       "    </tr>\n",
       "    <tr>\n",
       "      <th>4</th>\n",
       "      <td>01Magena</td>\n",
       "      <td>0.168000</td>\n",
       "    </tr>\n",
       "  </tbody>\n",
       "</table>\n",
       "</div>"
      ],
      "text/plain": [
       "            author  url_post_pct\n",
       "0  000822e5bc974e0      0.523327\n",
       "1         0063_tmi      0.004193\n",
       "2        007martin      0.004000\n",
       "3       00tropico_      0.000000\n",
       "4         01Magena      0.168000"
      ]
     },
     "metadata": {},
     "output_type": "display_data"
    }
   ],
   "source": [
    "display(author_hashtag_pct.head())\n",
    "display(author_url_pct.head())"
   ]
  },
  {
   "cell_type": "markdown",
   "metadata": {},
   "source": [
    "### Age\n",
    "Can we extract author age based on their descriptions? E.g. \"yo tengo 20 años\" => \"20 years old\"."
   ]
  },
  {
   "cell_type": "code",
   "execution_count": 37,
   "metadata": {},
   "outputs": [
    {
     "name": "stdout",
     "output_type": "stream",
     "text": [
      "3689/131453 age descriptions\n"
     ]
    }
   ],
   "source": [
    "import sys\n",
    "if('..' not in sys.path):\n",
    "    sys.path.append('..')\n",
    "from data_processing.data_helpers import clean_txt_simple\n",
    "import re\n",
    "age_regexes = [\n",
    "    re.compile(r'(?:^|\\s)([0-9]{2})\\s*(?:•|&~)'),\n",
    "    re.compile(r'\\|\\s+([0-9]{2})(?:\\s|$)'),\n",
    "    re.compile(r'(?:\\s|^)([0-9]{2})\\.(?:[^0-9]|$)'),\n",
    "    re.compile(r'i\\'m\\s+([0-9]{2})(?:\\s|$)', re.IGNORECASE),\n",
    "    re.compile(r'^([0-9]{2})\\s?[,.•|](?:[^0-9]|$)'),\n",
    "    re.compile(r'[,.•|]\\s?([0-9]{2})\\s?[,.•|](?:[^0-9]|$)'),\n",
    "    re.compile(r'\\|\\s([0-9]{2})\\s\\|'),\n",
    "    # English ages\n",
    "    re.compile(r'(?:^|\\s)([0-9]{2})\\s(?:y/o|years old|year old|year[s]? young|yrs young|yrs old|yo)\\b', re.IGNORECASE),\n",
    "    re.compile(r'(?:^|\\s)([0-9]{2})(?:y/o|yo)\\b', re.IGNORECASE),\n",
    "    # Spanish ages\n",
    "    re.compile(r'(?:^|\\s)([0-9]{2})\\s?(?:anos)'),\n",
    "    # birth year\n",
    "    re.compile(r'(?<=[,.•|\\.\\s])19[0-9]{2}')\n",
    "               ]\n",
    "combined_age_descriptions = []\n",
    "def extract_age(txt, age_regexes):\n",
    "    txt_clean = clean_txt_simple(txt)\n",
    "    age = ''\n",
    "    for age_regex in age_regexes:\n",
    "        age_match = age_regex.search(txt)\n",
    "        if(age_match is not None):\n",
    "            age = age_match.group(0)\n",
    "            break\n",
    "    return age\n",
    "author_descriptive_data = author_descriptive_data.assign(**{\n",
    "    'age' : author_descriptive_data.loc[:, 'user_description'].apply(lambda x: extract_age(x, age_regexes))\n",
    "})\n",
    "valid_age_author_descriptive_data = author_descriptive_data[author_descriptive_data.loc[:, 'age']!='']\n",
    "print('%d/%d age descriptions'%(valid_age_author_descriptive_data.shape[0], author_descriptive_data.shape[0]))"
   ]
  },
  {
   "cell_type": "markdown",
   "metadata": {},
   "source": [
    "Are the age estimates accurate?"
   ]
  },
  {
   "cell_type": "code",
   "execution_count": 38,
   "metadata": {},
   "outputs": [
    {
     "data": {
      "text/plain": [
       "array([['Born in 1984, not that it looks like it.....', '1984'],\n",
       "       ['20.', '20.'],\n",
       "       ['23. AD. Owl. Bi. Veg🌱. Priest & Rogue. BTS V Fan /http://curiouscat.me/OwlVr',\n",
       "        '23. '],\n",
       "       ['⚓CIC. La vida en la mar. Automatic lover. La felicidad también se entrena. Babor y estribor de GUARDIA.MINATO 10 02.',\n",
       "        ' 02.'],\n",
       "       ['ElAntro.cl : El poder del ocio desde 1999', '1999'],\n",
       "       ['Lvl 18.         ·Rolplayer·        @mrnacho95 ♡                             The ones who are smiling are the strongest.  『The souls are made of stars.☆』',\n",
       "        ' 18. '],\n",
       "       ['17. Twitch Partner Streamer. Instagram: Sergio_gelhzz. Business: gelhzz@gmail.com',\n",
       "        '17. '],\n",
       "       ['23, Intento de diseñador. @AxinenDesign', '23, '],\n",
       "       ['Tirado desde 1992, aburrido y con ganas de comer.', '1992'],\n",
       "       ['22•Ing. Industrial•UAQ•Gallos Blancos 🐓❤️⚽️•Todo se puede si te lo propones 👨🏼\\u200d🎓🔜👷🏼\\u200d♂️•Vamos a morirnos juntos 🖤🐔💙',\n",
       "        '22•']], dtype=object)"
      ]
     },
     "metadata": {},
     "output_type": "display_data"
    }
   ],
   "source": [
    "# are the age descriptions accurate?\n",
    "display(valid_age_author_descriptive_data.loc[:, ['user_description', 'age']].head(10).values)"
   ]
  },
  {
   "cell_type": "markdown",
   "metadata": {},
   "source": [
    "Some of these seem OK but some are clearly mistakes like \".02\"."
   ]
  },
  {
   "cell_type": "code",
   "execution_count": 40,
   "metadata": {},
   "outputs": [],
   "source": [
    "# what are the most common ages?\n",
    "def estimate_age_from_txt(age_txt, curr_year=2020):\n",
    "    \"\"\"\n",
    "    Estimate age from txt:\n",
    "    1. look for birth year\n",
    "    2. look for age\n",
    "    \"\"\"\n",
    "    age = 0\n",
    "    age_matcher = re.compile('\\d{2}')\n",
    "    birth_year_matcher = re.compile('19[0-9]{2}')\n",
    "    birth_year_match = birth_year_matcher.search(age_txt)\n",
    "    if(birth_year_match is not None):\n",
    "        birth_year = int(birth_year_match.group(0))\n",
    "        age = curr_year - birth_year\n",
    "    else:\n",
    "        age_match = age_matcher.search(age_txt)\n",
    "        age = int(age_match.group(0))\n",
    "    return age\n",
    "valid_age_author_descriptive_data = valid_age_author_descriptive_data.assign(**{\n",
    "    'age_estimate' : valid_age_author_descriptive_data.loc[:, 'age'].apply(lambda x: estimate_age_from_txt(x))\n",
    "})"
   ]
  },
  {
   "cell_type": "code",
   "execution_count": 41,
   "metadata": {},
   "outputs": [
    {
     "data": {
      "image/png": "[encoded data removed]",
      "text/plain": [
       "<Figure size 432x288 with 1 Axes>"
      ]
     },
     "metadata": {
      "needs_background": "light"
     },
     "output_type": "display_data"
    }
   ],
   "source": [
    "import matplotlib\n",
    "%matplotlib inline\n",
    "import matplotlib.pyplot as plt\n",
    "plt.hist(valid_age_author_descriptive_data.loc[:, 'age_estimate'], bins=20)\n",
    "plt.show()"
   ]
  },
  {
   "cell_type": "markdown",
   "metadata": {},
   "source": [
    "OK! Not surprisingly most loanword authors are in the 10-30 age range (reflecting Twitter at large)."
   ]
  },
  {
   "cell_type": "markdown",
   "metadata": {},
   "source": [
    "We should eliminate the unlikely ages (<13, >80) and use the remaining distribution (for training?)."
   ]
  },
  {
   "cell_type": "code",
   "execution_count": 43,
   "metadata": {},
   "outputs": [
    {
     "data": {
      "image/png": "[encoded data removed]",
      "text/plain": [
       "<Figure size 432x288 with 1 Axes>"
      ]
     },
     "metadata": {
      "needs_background": "light"
     },
     "output_type": "display_data"
    }
   ],
   "source": [
    "AGE_LOWER = 13\n",
    "AGE_UPPER = 80\n",
    "clean_age_author_descriptive_data = valid_age_author_descriptive_data[(valid_age_author_descriptive_data.loc[:, 'age_estimate'] >= AGE_LOWER) &\n",
    "                                                                      (valid_age_author_descriptive_data.loc[:, 'age_estimate'] <= AGE_UPPER)]\n",
    "plt.hist(clean_age_author_descriptive_data.loc[:, 'age_estimate'], bins=20)\n",
    "plt.show()"
   ]
  },
  {
   "cell_type": "markdown",
   "metadata": {},
   "source": [
    "Curiosity: if we bin the ages, how easily can we predict age from text?"
   ]
  },
  {
   "cell_type": "code",
   "execution_count": 50,
   "metadata": {},
   "outputs": [
    {
     "name": "stdout",
     "output_type": "stream",
     "text": [
      "20-30    1620\n",
      "13-19    1449\n",
      "31+       359\n",
      "dtype: int64\n"
     ]
    }
   ],
   "source": [
    "import numpy as np\n",
    "age_bins = [10, 20, 30]\n",
    "bin_age_lookup = dict(zip(range(1,len(age_bins)+1), ['13-19', '20-30', '31+']))\n",
    "age_bin_vals = np.digitize(clean_age_author_descriptive_data.loc[:, 'age_estimate'], age_bins)\n",
    "age_bin_vals = list(map(bin_age_lookup.get, age_bin_vals))\n",
    "print(pd.Series(age_bin_vals).value_counts())"
   ]
  },
  {
   "cell_type": "code",
   "execution_count": 78,
   "metadata": {},
   "outputs": [
    {
     "name": "stdout",
     "output_type": "stream",
     "text": [
      "(3428, 1293)\n"
     ]
    }
   ],
   "source": [
    "# convert text to DTM\n",
    "from nltk.tokenize.toktok import ToktokTokenizer\n",
    "from sklearn.feature_extraction.text import CountVectorizer\n",
    "TKNZR = ToktokTokenizer()\n",
    "cv = CountVectorizer(min_df=0.001, max_df=0.5, tokenizer=TKNZR.tokenize)\n",
    "txt = clean_age_author_descriptive_data.loc[:, 'user_description'].values\n",
    "dtm = cv.fit_transform(txt)\n",
    "cv_idx_vocab_lookup = dict(zip(cv.vocabulary_.values(), cv.vocabulary_.keys()))\n",
    "print(dtm.shape)"
   ]
  },
  {
   "cell_type": "code",
   "execution_count": 66,
   "metadata": {},
   "outputs": [
    {
     "name": "stderr",
     "output_type": "stream",
     "text": [
      "/hg190/istewart6/miniconda3/envs/loanword_adoption/lib/python3.7/site-packages/sklearn/linear_model/logistic.py:947: ConvergenceWarning: lbfgs failed to converge. Increase the number of iterations.\n",
      "  \"of iterations.\", ConvergenceWarning)\n",
      "/hg190/istewart6/miniconda3/envs/loanword_adoption/lib/python3.7/site-packages/sklearn/linear_model/logistic.py:947: ConvergenceWarning: lbfgs failed to converge. Increase the number of iterations.\n",
      "  \"of iterations.\", ConvergenceWarning)\n",
      "/hg190/istewart6/miniconda3/envs/loanword_adoption/lib/python3.7/site-packages/sklearn/linear_model/logistic.py:947: ConvergenceWarning: lbfgs failed to converge. Increase the number of iterations.\n",
      "  \"of iterations.\", ConvergenceWarning)\n",
      "/hg190/istewart6/miniconda3/envs/loanword_adoption/lib/python3.7/site-packages/sklearn/linear_model/logistic.py:947: ConvergenceWarning: lbfgs failed to converge. Increase the number of iterations.\n",
      "  \"of iterations.\", ConvergenceWarning)\n",
      "/hg190/istewart6/miniconda3/envs/loanword_adoption/lib/python3.7/site-packages/sklearn/linear_model/logistic.py:947: ConvergenceWarning: lbfgs failed to converge. Increase the number of iterations.\n",
      "  \"of iterations.\", ConvergenceWarning)\n"
     ]
    }
   ],
   "source": [
    "from sklearn.model_selection import cross_validate\n",
    "from sklearn.linear_model import LogisticRegression\n",
    "# let's try logistic to start\n",
    "lr = LogisticRegression(multi_class='multinomial', max_iter=100, solver='lbfgs')\n",
    "cv_results = cross_validate(lr, dtm, age_bin_vals, cv=5, scoring='f1_macro')"
   ]
  },
  {
   "cell_type": "code",
   "execution_count": 67,
   "metadata": {},
   "outputs": [
    {
     "name": "stdout",
     "output_type": "stream",
     "text": [
      "[0.83226069 0.85232467 0.8280113  0.82411376 0.82131077]\n"
     ]
    }
   ],
   "source": [
    "print(cv_results['test_score'])"
   ]
  },
  {
   "cell_type": "markdown",
   "metadata": {},
   "source": [
    "This is surprisingly good! What are the indicative features for each class?"
   ]
  },
  {
   "cell_type": "code",
   "execution_count": 68,
   "metadata": {},
   "outputs": [
    {
     "name": "stderr",
     "output_type": "stream",
     "text": [
      "/hg190/istewart6/miniconda3/envs/loanword_adoption/lib/python3.7/site-packages/sklearn/linear_model/logistic.py:947: ConvergenceWarning: lbfgs failed to converge. Increase the number of iterations.\n",
      "  \"of iterations.\", ConvergenceWarning)\n"
     ]
    }
   ],
   "source": [
    "lr = LogisticRegression(multi_class='multinomial', max_iter=100, solver='lbfgs')\n",
    "lr_fit = lr.fit(dtm, age_bin_vals)"
   ]
  },
  {
   "cell_type": "code",
   "execution_count": 86,
   "metadata": {
    "scrolled": true
   },
   "outputs": [
    {
     "data": {
      "text/html": [
       "<div>\n",
       "<style scoped>\n",
       "    .dataframe tbody tr th:only-of-type {\n",
       "        vertical-align: middle;\n",
       "    }\n",
       "\n",
       "    .dataframe tbody tr th {\n",
       "        vertical-align: top;\n",
       "    }\n",
       "\n",
       "    .dataframe thead th {\n",
       "        text-align: right;\n",
       "    }\n",
       "</style>\n",
       "<table border=\"1\" class=\"dataframe\">\n",
       "  <thead>\n",
       "    <tr style=\"text-align: right;\">\n",
       "      <th></th>\n",
       "      <th>!</th>\n",
       "      <th>\"</th>\n",
       "      <th>#1</th>\n",
       "      <th>%</th>\n",
       "      <th>&amp;#124;</th>\n",
       "      <th>&amp;amp;</th>\n",
       "      <th>'</th>\n",
       "      <th>(</th>\n",
       "      <th>)</th>\n",
       "      <th>*</th>\n",
       "      <th>...</th>\n",
       "      <th>💥</th>\n",
       "      <th>💫</th>\n",
       "      <th>📚</th>\n",
       "      <th>📷</th>\n",
       "      <th>📸</th>\n",
       "      <th>🔥</th>\n",
       "      <th>🖤</th>\n",
       "      <th>😍</th>\n",
       "      <th>🥀</th>\n",
       "      <th>🦋</th>\n",
       "    </tr>\n",
       "  </thead>\n",
       "  <tbody>\n",
       "    <tr>\n",
       "      <th>13-19</th>\n",
       "      <td>-0.232115</td>\n",
       "      <td>-0.050102</td>\n",
       "      <td>0.205946</td>\n",
       "      <td>-0.731136</td>\n",
       "      <td>0.134532</td>\n",
       "      <td>-0.508409</td>\n",
       "      <td>0.033122</td>\n",
       "      <td>-0.013760</td>\n",
       "      <td>-0.037271</td>\n",
       "      <td>0.293006</td>\n",
       "      <td>...</td>\n",
       "      <td>0.018627</td>\n",
       "      <td>0.045692</td>\n",
       "      <td>-0.007784</td>\n",
       "      <td>-0.500384</td>\n",
       "      <td>-0.124820</td>\n",
       "      <td>-0.028695</td>\n",
       "      <td>0.216510</td>\n",
       "      <td>0.100310</td>\n",
       "      <td>0.068116</td>\n",
       "      <td>-0.056099</td>\n",
       "    </tr>\n",
       "    <tr>\n",
       "      <th>20-30</th>\n",
       "      <td>-0.009370</td>\n",
       "      <td>-0.262792</td>\n",
       "      <td>-0.125609</td>\n",
       "      <td>0.845270</td>\n",
       "      <td>0.150455</td>\n",
       "      <td>0.456847</td>\n",
       "      <td>-0.008419</td>\n",
       "      <td>-0.193529</td>\n",
       "      <td>-0.111394</td>\n",
       "      <td>-0.222578</td>\n",
       "      <td>...</td>\n",
       "      <td>-0.006611</td>\n",
       "      <td>0.130074</td>\n",
       "      <td>0.099215</td>\n",
       "      <td>0.595299</td>\n",
       "      <td>0.149386</td>\n",
       "      <td>-0.350151</td>\n",
       "      <td>-0.156133</td>\n",
       "      <td>0.239525</td>\n",
       "      <td>-0.030700</td>\n",
       "      <td>0.113804</td>\n",
       "    </tr>\n",
       "    <tr>\n",
       "      <th>31+</th>\n",
       "      <td>0.241485</td>\n",
       "      <td>0.312894</td>\n",
       "      <td>-0.080337</td>\n",
       "      <td>-0.114134</td>\n",
       "      <td>-0.284987</td>\n",
       "      <td>0.051562</td>\n",
       "      <td>-0.024703</td>\n",
       "      <td>0.207289</td>\n",
       "      <td>0.148665</td>\n",
       "      <td>-0.070429</td>\n",
       "      <td>...</td>\n",
       "      <td>-0.012015</td>\n",
       "      <td>-0.175766</td>\n",
       "      <td>-0.091432</td>\n",
       "      <td>-0.094915</td>\n",
       "      <td>-0.024566</td>\n",
       "      <td>0.378846</td>\n",
       "      <td>-0.060378</td>\n",
       "      <td>-0.339835</td>\n",
       "      <td>-0.037416</td>\n",
       "      <td>-0.057704</td>\n",
       "    </tr>\n",
       "  </tbody>\n",
       "</table>\n",
       "<p>3 rows × 1293 columns</p>\n",
       "</div>"
      ],
      "text/plain": [
       "              !         \"        #1         %    &#124;     &amp;         '  \\\n",
       "13-19 -0.232115 -0.050102  0.205946 -0.731136  0.134532 -0.508409  0.033122   \n",
       "20-30 -0.009370 -0.262792 -0.125609  0.845270  0.150455  0.456847 -0.008419   \n",
       "31+    0.241485  0.312894 -0.080337 -0.114134 -0.284987  0.051562 -0.024703   \n",
       "\n",
       "              (         )         *  ...         💥         💫         📚  \\\n",
       "13-19 -0.013760 -0.037271  0.293006  ...  0.018627  0.045692 -0.007784   \n",
       "20-30 -0.193529 -0.111394 -0.222578  ... -0.006611  0.130074  0.099215   \n",
       "31+    0.207289  0.148665 -0.070429  ... -0.012015 -0.175766 -0.091432   \n",
       "\n",
       "              📷         📸         🔥         🖤         😍         🥀         🦋  \n",
       "13-19 -0.500384 -0.124820 -0.028695  0.216510  0.100310  0.068116 -0.056099  \n",
       "20-30  0.595299  0.149386 -0.350151 -0.156133  0.239525 -0.030700  0.113804  \n",
       "31+   -0.094915 -0.024566  0.378846 -0.060378 -0.339835 -0.037416 -0.057704  \n",
       "\n",
       "[3 rows x 1293 columns]"
      ]
     },
     "metadata": {},
     "output_type": "display_data"
    },
    {
     "name": "stdout",
     "output_type": "stream",
     "text": [
      "testing class=<13-19>\n"
     ]
    },
    {
     "data": {
      "text/plain": [
       "19.      2.971311\n",
       "18.      2.911070\n",
       "17.      2.673907\n",
       "18       2.514643\n",
       "19       2.478075\n",
       "16.      2.378065\n",
       "17       2.351467\n",
       "15.      1.902780\n",
       "16       1.672049\n",
       "15       1.612497\n",
       "14.      1.512726\n",
       "14       1.274796\n",
       "13       1.240061\n",
       "13.      0.995473\n",
       "•18•     0.797127\n",
       "está     0.785629\n",
       "saber    0.766560\n",
       "ganas    0.759033\n",
       "river    0.758798\n",
       "vos      0.698608\n",
       "Name: 13-19, dtype: float64"
      ]
     },
     "metadata": {},
     "output_type": "display_data"
    },
    {
     "name": "stdout",
     "output_type": "stream",
     "text": [
      "testing class=<20-30>\n"
     ]
    },
    {
     "data": {
      "text/plain": [
       "20.     3.036047\n",
       "21.     2.891386\n",
       "22.     2.698432\n",
       "23.     2.675992\n",
       "21      2.674229\n",
       "24.     2.367815\n",
       "22      2.263732\n",
       "20      2.232653\n",
       "1999    2.033981\n",
       "23      1.934144\n",
       "1996    1.921667\n",
       "26.     1.904390\n",
       "25.     1.874411\n",
       "1998    1.812268\n",
       "24      1.569159\n",
       "28      1.561961\n",
       "1997    1.560895\n",
       "28.     1.462014\n",
       "1995    1.436935\n",
       "1994    1.430824\n",
       "Name: 20-30, dtype: float64"
      ]
     },
     "metadata": {},
     "output_type": "display_data"
    },
    {
     "name": "stdout",
     "output_type": "stream",
     "text": [
      "testing class=<31+>\n"
     ]
    },
    {
     "data": {
      "text/plain": [
       "1975          2.304655\n",
       "1989          1.681461\n",
       "1984          1.585730\n",
       "1990          1.474797\n",
       "1986          1.452858\n",
       "1982          1.404019\n",
       "1985          1.320403\n",
       "nacido        1.219943\n",
       "30            1.186099\n",
       "30.           1.180219\n",
       "36.           1.166398\n",
       "desde         1.063517\n",
       "1976          1.002741\n",
       "1984.         0.982194\n",
       "1981          0.972635\n",
       "1987          0.964269\n",
       "40            0.953004\n",
       "ella          0.932774\n",
       "periodista    0.926244\n",
       "nací          0.886699\n",
       "Name: 31+, dtype: float64"
      ]
     },
     "metadata": {},
     "output_type": "display_data"
    }
   ],
   "source": [
    "lr_coef = pd.DataFrame(lr_fit.coef_)\n",
    "# extract features from DTM\n",
    "lr_coef.columns = list(map(cv_idx_vocab_lookup.get, range(lr_coef.shape[1])))\n",
    "lr_coef.index = lr_fit.classes_\n",
    "display(lr_coef.head())\n",
    "# sort by weight\n",
    "for class_i, coef_i in lr_coef.iterrows():\n",
    "    print(f'testing class=<{class_i}>')\n",
    "    coef_i.sort_values(inplace=True, ascending=False)\n",
    "    display(coef_i.head(20))"
   ]
  },
  {
   "cell_type": "markdown",
   "metadata": {},
   "source": [
    "OK! So it learned to generalize to other numbers and predict age pretty readily. That's good! High precision, lower recall.\n"
   ]
  },
  {
   "cell_type": "markdown",
   "metadata": {},
   "source": [
    "TODO: Can we apply this classifier to the unlabeled data to expand our pool of authors with age?"
   ]
  },
  {
   "cell_type": "markdown",
   "metadata": {},
   "source": [
    "#### Verify age distribution\n",
    "This age identification strategy seems legit but could lead to biased results.\n",
    "\n",
    "Let's verify that the age distribution at an aggregate level is working."
   ]
  },
  {
   "cell_type": "markdown",
   "metadata": {},
   "source": [
    "One way to verify age distribution: look at occupations with known age distributions and compare their age distributions:\n",
    "\n",
    "- college students (younger)\n",
    "- teacher (older)"
   ]
  },
  {
   "cell_type": "markdown",
   "metadata": {},
   "source": [
    "Let's find some of these keywords by looking at 2-gram frequency."
   ]
  },
  {
   "cell_type": "code",
   "execution_count": null,
   "metadata": {},
   "outputs": [],
   "source": [
    "from sklearn.feature_extraction.text import CountVectorizer\n",
    "cv = CountVectorizer(min_df=0.001, max_df=0.5)\n",
    "txt = "
   ]
  },
  {
   "cell_type": "markdown",
   "metadata": {},
   "source": [
    "TODO: scrape birthday information for author sub-set using the following HTML pattern:\n",
    "\n",
    "`<span class=\"css-901oao css-16my406 r-1re7ezh r-4qtqp9 r-1qd0xha r-ad9z0x r-zso239 r-bcqeeo r-qvutc0\"><svg viewBox=\"0 0 24 24\" class=\"r-1re7ezh r-4qtqp9 r-yyyyoo r-1xvli5t r-7o8qx1 r-dnmrzs r-bnwqim r-1plcrui r-lrvibr\"><g><path d=\"M7.75 11.083c-.414 0-.75-.336-.75-.75C7 7.393 9.243 5 12 5c.414 0 .75.336.75.75s-.336.75-.75.75c-1.93 0-3.5 1.72-3.5 3.833 0 .414-.336.75-.75.75z\"></path><path d=\"M20.75 10.333c0-5.01-3.925-9.083-8.75-9.083s-8.75 4.074-8.75 9.083c0 4.605 3.32 8.412 7.605 8.997l-1.7 1.83c-.137.145-.173.357-.093.54.08.182.26.3.46.3h4.957c.198 0 .378-.118.457-.3.08-.183.044-.395-.092-.54l-1.7-1.83c4.285-.585 7.605-4.392 7.605-8.997zM12 17.917c-3.998 0-7.25-3.402-7.25-7.584S8.002 2.75 12 2.75s7.25 3.4 7.25 7.583-3.252 7.584-7.25 7.584z\"></path></g></svg>Born October 26, 1947</span>`"
   ]
  },
  {
   "cell_type": "markdown",
   "metadata": {},
   "source": [
    "## Predict loanword use\n",
    "Now that everything is in place, let's do some prediction!\n",
    "\n",
    "- loanword ~ geography + L2 + prior loanword + prior hashtag + prior URL"
   ]
  },
  {
   "cell_type": "code",
   "execution_count": 260,
   "metadata": {},
   "outputs": [],
   "source": [
    "combined_loanword_use_author_attribute_data = combined_loanword_use_data.copy()\n",
    "# geography\n",
    "combined_loanword_use_author_attribute_data = pd.merge(combined_loanword_use_author_attribute_data, author_descriptive_data.loc[:, ['author', 'user_location_region']], on='author')\n",
    "# language\n",
    "combined_loanword_use_author_attribute_data = pd.merge(combined_loanword_use_author_attribute_data, author_lang_es_pct, on='author')\n",
    "# loanword use\n",
    "combined_loanword_use_author_attribute_data = pd.merge(combined_loanword_use_author_attribute_data, integrated_loanword_per_author_pct, on='author')\n",
    "combined_loanword_use_author_attribute_data = pd.merge(combined_loanword_use_author_attribute_data, light_verb_loanword_per_author_pct, on='author')\n",
    "# hashtag use\n",
    "# URL use\n",
    "combined_loanword_use_author_attribute_data = pd.merge(combined_loanword_use_author_attribute_data, author_hashtag_pct, on='author')\n",
    "combined_loanword_use_author_attribute_data = pd.merge(combined_loanword_use_author_attribute_data, author_url_pct, on='author')"
   ]
  },
  {
   "cell_type": "code",
   "execution_count": 262,
   "metadata": {},
   "outputs": [
    {
     "data": {
      "text/html": [
       "<div>\n",
       "<style scoped>\n",
       "    .dataframe tbody tr th:only-of-type {\n",
       "        vertical-align: middle;\n",
       "    }\n",
       "\n",
       "    .dataframe tbody tr th {\n",
       "        vertical-align: top;\n",
       "    }\n",
       "\n",
       "    .dataframe thead th {\n",
       "        text-align: right;\n",
       "    }\n",
       "</style>\n",
       "<table border=\"1\" class=\"dataframe\">\n",
       "  <thead>\n",
       "    <tr style=\"text-align: right;\">\n",
       "      <th></th>\n",
       "      <th>loanword</th>\n",
       "      <th>author</th>\n",
       "      <th>author_id</th>\n",
       "      <th>time</th>\n",
       "      <th>count</th>\n",
       "      <th>user_description</th>\n",
       "      <th>user_location</th>\n",
       "      <th>light_verb_use</th>\n",
       "      <th>user_location_region</th>\n",
       "      <th>es_pct</th>\n",
       "      <th>integrated_loanword_pct</th>\n",
       "      <th>light_verb_loanword_pct</th>\n",
       "      <th>hashtag_post_pct</th>\n",
       "      <th>url_post_pct</th>\n",
       "    </tr>\n",
       "  </thead>\n",
       "  <tbody>\n",
       "    <tr>\n",
       "      <th>0</th>\n",
       "      <td>access</td>\n",
       "      <td>0hmyfuck</td>\n",
       "      <td>762237043</td>\n",
       "      <td>(2018, 7, 9)</td>\n",
       "      <td>1</td>\n",
       "      <td>tengo prohibido por ley responder boludeces</td>\n",
       "      <td>argentina</td>\n",
       "      <td>0</td>\n",
       "      <td>Latin_America</td>\n",
       "      <td>0.918</td>\n",
       "      <td>0.001487</td>\n",
       "      <td>0.0</td>\n",
       "      <td>0.002</td>\n",
       "      <td>0.002</td>\n",
       "    </tr>\n",
       "    <tr>\n",
       "      <th>1</th>\n",
       "      <td>google</td>\n",
       "      <td>0hmyfuck</td>\n",
       "      <td>762237043</td>\n",
       "      <td>(2018, 7, 9)</td>\n",
       "      <td>1</td>\n",
       "      <td>tengo prohibido por ley responder boludeces</td>\n",
       "      <td>argentina</td>\n",
       "      <td>0</td>\n",
       "      <td>Latin_America</td>\n",
       "      <td>0.918</td>\n",
       "      <td>0.001487</td>\n",
       "      <td>0.0</td>\n",
       "      <td>0.002</td>\n",
       "      <td>0.002</td>\n",
       "    </tr>\n",
       "    <tr>\n",
       "      <th>2</th>\n",
       "      <td>connect</td>\n",
       "      <td>0hmyfuck</td>\n",
       "      <td>762237043</td>\n",
       "      <td>(2019, 1, 3)</td>\n",
       "      <td>1</td>\n",
       "      <td>tengo prohibido por ley responder boludeces</td>\n",
       "      <td>argentina</td>\n",
       "      <td>0</td>\n",
       "      <td>Latin_America</td>\n",
       "      <td>0.918</td>\n",
       "      <td>0.001487</td>\n",
       "      <td>0.0</td>\n",
       "      <td>0.002</td>\n",
       "      <td>0.002</td>\n",
       "    </tr>\n",
       "    <tr>\n",
       "      <th>3</th>\n",
       "      <td>tick</td>\n",
       "      <td>0hmyfuck</td>\n",
       "      <td>762237043</td>\n",
       "      <td>(2019, 1, 3)</td>\n",
       "      <td>1</td>\n",
       "      <td>tengo prohibido por ley responder boludeces</td>\n",
       "      <td>argentina</td>\n",
       "      <td>0</td>\n",
       "      <td>Latin_America</td>\n",
       "      <td>0.918</td>\n",
       "      <td>0.001487</td>\n",
       "      <td>0.0</td>\n",
       "      <td>0.002</td>\n",
       "      <td>0.002</td>\n",
       "    </tr>\n",
       "    <tr>\n",
       "      <th>4</th>\n",
       "      <td>access</td>\n",
       "      <td>0rlandoAraujo</td>\n",
       "      <td>130919424</td>\n",
       "      <td>(2018, 7, 9)</td>\n",
       "      <td>1</td>\n",
       "      <td>Las ideologías, creencias, estructuras de orga...</td>\n",
       "      <td>Caracas. Venezuela</td>\n",
       "      <td>0</td>\n",
       "      <td>Latin_America</td>\n",
       "      <td>0.942</td>\n",
       "      <td>0.003808</td>\n",
       "      <td>0.0</td>\n",
       "      <td>0.060</td>\n",
       "      <td>0.060</td>\n",
       "    </tr>\n",
       "  </tbody>\n",
       "</table>\n",
       "</div>"
      ],
      "text/plain": [
       "  loanword         author  author_id          time count  \\\n",
       "0   access       0hmyfuck  762237043  (2018, 7, 9)     1   \n",
       "1   google       0hmyfuck  762237043  (2018, 7, 9)     1   \n",
       "2  connect       0hmyfuck  762237043  (2019, 1, 3)     1   \n",
       "3     tick       0hmyfuck  762237043  (2019, 1, 3)     1   \n",
       "4   access  0rlandoAraujo  130919424  (2018, 7, 9)     1   \n",
       "\n",
       "                                    user_description       user_location  \\\n",
       "0        tengo prohibido por ley responder boludeces           argentina   \n",
       "1        tengo prohibido por ley responder boludeces           argentina   \n",
       "2        tengo prohibido por ley responder boludeces           argentina   \n",
       "3        tengo prohibido por ley responder boludeces           argentina   \n",
       "4  Las ideologías, creencias, estructuras de orga...  Caracas. Venezuela   \n",
       "\n",
       "   light_verb_use user_location_region  es_pct  integrated_loanword_pct  \\\n",
       "0               0        Latin_America   0.918                 0.001487   \n",
       "1               0        Latin_America   0.918                 0.001487   \n",
       "2               0        Latin_America   0.918                 0.001487   \n",
       "3               0        Latin_America   0.918                 0.001487   \n",
       "4               0        Latin_America   0.942                 0.003808   \n",
       "\n",
       "   light_verb_loanword_pct  hashtag_post_pct  url_post_pct  \n",
       "0                      0.0             0.002         0.002  \n",
       "1                      0.0             0.002         0.002  \n",
       "2                      0.0             0.002         0.002  \n",
       "3                      0.0             0.002         0.002  \n",
       "4                      0.0             0.060         0.060  "
      ]
     },
     "metadata": {},
     "output_type": "display_data"
    }
   ],
   "source": [
    "display(combined_loanword_use_author_attribute_data.head())"
   ]
  },
  {
   "cell_type": "code",
   "execution_count": 273,
   "metadata": {},
   "outputs": [],
   "source": [
    "# remove invalid locations\n",
    "valid_location_regions = ['US', 'Latin_America']\n",
    "clean_loanword_use_author_attribute_data = combined_loanword_use_author_attribute_data[combined_loanword_use_author_attribute_data.loc[:, 'user_location_region'].isin(valid_location_regions)]"
   ]
  },
  {
   "cell_type": "code",
   "execution_count": 266,
   "metadata": {
    "scrolled": true
   },
   "outputs": [
    {
     "data": {
      "image/png": "[encoded data removed]",
      "text/plain": [
       "<Figure size 432x288 with 1 Axes>"
      ]
     },
     "metadata": {
      "needs_background": "light"
     },
     "output_type": "display_data"
    },
    {
     "data": {
      "image/png": "[encoded data removed]",
      "text/plain": [
       "<Figure size 432x288 with 1 Axes>"
      ]
     },
     "metadata": {
      "needs_background": "light"
     },
     "output_type": "display_data"
    },
    {
     "data": {
      "image/png": "[encoded data removed]",
      "text/plain": [
       "<Figure size 432x288 with 1 Axes>"
      ]
     },
     "metadata": {
      "needs_background": "light"
     },
     "output_type": "display_data"
    },
    {
     "data": {
      "image/png": "[encoded data removed]",
      "text/plain": [
       "<Figure size 432x288 with 1 Axes>"
      ]
     },
     "metadata": {
      "needs_background": "light"
     },
     "output_type": "display_data"
    },
    {
     "data": {
      "image/png": "[encoded data removed]",
      "text/plain": [
       "<Figure size 432x288 with 1 Axes>"
      ]
     },
     "metadata": {
      "needs_background": "light"
     },
     "output_type": "display_data"
    },
    {
     "data": {
      "image/png": "[encoded data removed]",
      "text/plain": [
       "<Figure size 432x288 with 1 Axes>"
      ]
     },
     "metadata": {
      "needs_background": "light"
     },
     "output_type": "display_data"
    },
    {
     "data": {
      "image/png": "[encoded data removed]",
      "text/plain": [
       "<Figure size 432x288 with 1 Axes>"
      ]
     },
     "metadata": {
      "needs_background": "light"
     },
     "output_type": "display_data"
    },
    {
     "data": {
      "image/png": "[encoded data removed]",
      "text/plain": [
       "<Figure size 432x288 with 1 Axes>"
      ]
     },
     "metadata": {
      "needs_background": "light"
     },
     "output_type": "display_data"
    },
    {
     "data": {
      "image/png": "[encoded data removed]",
      "text/plain": [
       "<Figure size 432x288 with 1 Axes>"
      ]
     },
     "metadata": {
      "needs_background": "light"
     },
     "output_type": "display_data"
    },
    {
     "data": {
      "image/png": "[encoded data removed]",
      "text/plain": [
       "<Figure size 432x288 with 1 Axes>"
      ]
     },
     "metadata": {
      "needs_background": "light"
     },
     "output_type": "display_data"
    }
   ],
   "source": [
    "import numpy as np\n",
    "import matplotlib\n",
    "%matplotlib inline\n",
    "import matplotlib.pyplot as plt\n",
    "# log-scale variables??\n",
    "scalar_vars = ['es_pct', 'integrated_loanword_pct', 'light_verb_loanword_pct', 'hashtag_post_pct', 'url_post_pct']\n",
    "for scalar_var in scalar_vars:\n",
    "    plt.hist(combined_loanword_use_author_attribute_data.loc[:, scalar_var].values)\n",
    "    plt.title(scalar_var)\n",
    "    plt.show()\n",
    "    smooth_val = 1e-3\n",
    "    scalar_var_min = combined_loanword_use_author_attribute_data.loc[:, scalar_var].min()\n",
    "    smooth_var = (combined_loanword_use_author_attribute_data.loc[:, scalar_var].values + smooth_val)\n",
    "    smooth_var = smooth_var / (smooth_var.max() - scalar_var_min)\n",
    "    plt.hist(np.log(smooth_var))\n",
    "    plt.title(f'log {scalar_var}')\n",
    "    plt.show()"
   ]
  },
  {
   "cell_type": "code",
   "execution_count": 269,
   "metadata": {},
   "outputs": [],
   "source": [
    "def smooth_data(data, smooth_var=1e-3):\n",
    "    data_min = data.min()\n",
    "    data_smooth = data + smooth_var\n",
    "    data_smooth = data_smooth / (data_smooth.max() - data_min)\n",
    "    return data_smooth\n",
    "scalar_vars_to_smooth = ['integrated_loanword_pct', 'hashtag_post_pct', 'url_post_pct']\n",
    "smooth_var = 1e-3\n",
    "for scalar_var in scalar_vars_to_smooth:\n",
    "    combined_loanword_use_author_attribute_data = combined_loanword_use_author_attribute_data.assign(**{\n",
    "        f'log_{scalar_var}' : np.log(smooth_data(combined_loanword_use_author_attribute_data.loc[:, scalar_var].values, smooth_var=smooth_var))\n",
    "    })\n",
    "log_scalar_vars = list(map(lambda x: f'log_{x}', scalar_vars_to_smooth))"
   ]
  },
  {
   "cell_type": "code",
   "execution_count": 1,
   "metadata": {},
   "outputs": [
    {
     "name": "stderr",
     "output_type": "stream",
     "text": [
      "/hg190/istewart6/miniconda3/envs/loanword_adoption/lib/python3.7/site-packages/statsmodels/tools/_testing.py:19: FutureWarning: pandas.util.testing is deprecated. Use the functions in the public API at pandas.testing instead.\n",
      "  import pandas.util.testing as tm\n"
     ]
    },
    {
     "ename": "NameError",
     "evalue": "name 'clean_loanword_use_author_attribute_data' is not defined",
     "output_type": "error",
     "traceback": [
      "\u001b[0;31m---------------------------------------------------------------------------\u001b[0m",
      "\u001b[0;31mNameError\u001b[0m                                 Traceback (most recent call last)",
      "\u001b[0;32m<ipython-input-1-a9ba4be9d528>\u001b[0m in \u001b[0;36m<module>\u001b[0;34m\u001b[0m\n\u001b[1;32m      7\u001b[0m \u001b[0mdep_var\u001b[0m \u001b[0;34m=\u001b[0m \u001b[0;34m'light_verb_use'\u001b[0m\u001b[0;34m\u001b[0m\u001b[0;34m\u001b[0m\u001b[0m\n\u001b[1;32m      8\u001b[0m \u001b[0mformula\u001b[0m \u001b[0;34m=\u001b[0m \u001b[0;34mf'{dep_var} ~ {combined_scalar_var_str} + {categorical_var_str}'\u001b[0m\u001b[0;34m\u001b[0m\u001b[0;34m\u001b[0m\u001b[0m\n\u001b[0;32m----> 9\u001b[0;31m \u001b[0mlogit_model\u001b[0m \u001b[0;34m=\u001b[0m \u001b[0mLogit\u001b[0m\u001b[0;34m.\u001b[0m\u001b[0mfrom_formula\u001b[0m\u001b[0;34m(\u001b[0m\u001b[0mformula\u001b[0m\u001b[0;34m,\u001b[0m \u001b[0mclean_loanword_use_author_attribute_data\u001b[0m\u001b[0;34m)\u001b[0m\u001b[0;34m\u001b[0m\u001b[0;34m\u001b[0m\u001b[0m\n\u001b[0m\u001b[1;32m     10\u001b[0m \u001b[0mmodel_results\u001b[0m \u001b[0;34m=\u001b[0m \u001b[0mlogit_model\u001b[0m\u001b[0;34m.\u001b[0m\u001b[0mfit\u001b[0m\u001b[0;34m(\u001b[0m\u001b[0;34m)\u001b[0m\u001b[0;34m\u001b[0m\u001b[0;34m\u001b[0m\u001b[0m\n\u001b[1;32m     11\u001b[0m \u001b[0mdisplay\u001b[0m\u001b[0;34m(\u001b[0m\u001b[0mmodel_results\u001b[0m\u001b[0;34m.\u001b[0m\u001b[0msummary\u001b[0m\u001b[0;34m(\u001b[0m\u001b[0;34m)\u001b[0m\u001b[0;34m)\u001b[0m\u001b[0;34m\u001b[0m\u001b[0;34m\u001b[0m\u001b[0m\n",
      "\u001b[0;31mNameError\u001b[0m: name 'clean_loanword_use_author_attribute_data' is not defined"
     ]
    }
   ],
   "source": [
    "from statsmodels.discrete.discrete_model import Logit\n",
    "# TODO: why are hashtag/URL singular?\n",
    "combined_scalar_vars = ['es_pct'] + ['hashtag_post_pct'] #+ ['integrated_loanword_pct', 'light_verb_loanword_pct'] => perfect prediction\n",
    "categorical_vars = ['user_location_region']\n",
    "combined_scalar_var_str = '+'.join(combined_scalar_vars)\n",
    "categorical_var_str = '+'.join(list(map(lambda x: f'C({x})', categorical_vars)))\n",
    "dep_var = 'light_verb_use'\n",
    "formula = f'{dep_var} ~ {combined_scalar_var_str} + {categorical_var_str}'\n",
    "logit_model = Logit.from_formula(formula, clean_loanword_use_author_attribute_data)\n",
    "model_results = logit_model.fit()\n",
    "display(model_results.summary())"
   ]
  },
  {
   "cell_type": "markdown",
   "metadata": {},
   "source": [
    "OK! The strongest effect by far is the `es_pct` which is behaving as expected: more Spanish correlates with more integrated verb use (same as before with light verb authors vs. integrated verb authors)."
   ]
  },
  {
   "cell_type": "code",
   "execution_count": null,
   "metadata": {},
   "outputs": [],
   "source": [
    "# TODO: run again but only with common loanwords for per-loanword effects"
   ]
  }
 ],
 "metadata": {
  "kernelspec": {
   "display_name": "Python [conda env:loanword_adoption] *",
   "language": "python",
   "name": "conda-env-loanword_adoption-py"
  },
  "language_info": {
   "codemirror_mode": {
    "name": "ipython",
    "version": 3
   },
   "file_extension": ".py",
   "mimetype": "text/x-python",
   "name": "python",
   "nbconvert_exporter": "python",
   "pygments_lexer": "ipython3",
   "version": "3.7.3"
  }
 },
 "nbformat": 4,
 "nbformat_minor": 2
}
