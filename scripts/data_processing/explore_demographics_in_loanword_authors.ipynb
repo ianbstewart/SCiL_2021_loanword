{
 "cells": [
  {
   "cell_type": "markdown",
   "metadata": {},
   "source": [
    "# Explore demographics in loanword authors\n",
    "We have extracted the self-reported demographic variables for all loanword authors. Let's see the coverage and distribution."
   ]
  },
  {
   "cell_type": "markdown",
   "metadata": {},
   "source": [
    "### Post counts\n",
    "How many posts on average did loanword authors tend to write?"
   ]
  },
  {
   "cell_type": "code",
   "execution_count": 29,
   "metadata": {},
   "outputs": [
    {
     "name": "stdout",
     "output_type": "stream",
     "text": [
      "14519383\n"
     ]
    }
   ],
   "source": [
    "import pandas as pd\n",
    "import re\n",
    "from data_helpers import load_data_from_dirs\n",
    "data_dirs = ['../../data/mined_tweets/loanword_author_tweets_all_archives/']\n",
    "file_matcher = re.compile('.*tweets\\.gz')\n",
    "data = load_data_from_dirs(data_dirs, file_matcher=file_matcher)\n",
    "print(data.shape[0])"
   ]
  },
  {
   "cell_type": "code",
   "execution_count": 36,
   "metadata": {},
   "outputs": [
    {
     "data": {
      "text/plain": [
       "2.0"
      ]
     },
     "execution_count": 36,
     "metadata": {},
     "output_type": "execute_result"
    }
   ],
   "source": [
    "np.log(100) / np.log(10)"
   ]
  },
  {
   "cell_type": "code",
   "execution_count": 38,
   "metadata": {},
   "outputs": [
    {
     "data": {
      "image/png": "[encoded data removed]",
      "text/plain": [
       "<Figure size 432x288 with 1 Axes>"
      ]
     },
     "metadata": {
      "needs_background": "light"
     },
     "output_type": "display_data"
    }
   ],
   "source": [
    "# how many posts per author?\n",
    "import matplotlib\n",
    "%matplotlib inline\n",
    "import matplotlib.pyplot as plt\n",
    "import numpy as np\n",
    "author_var = 'screen_name'\n",
    "plt.hist(np.log(data.loc[:, author_var].value_counts()) / np.log(10)) # log base 10\n",
    "plt.xlabel('$log_{10}(posts/author)$', fontsize=18)\n",
    "plt.ylabel('authors', fontsize=18)\n",
    "plt.show()"
   ]
  },
  {
   "cell_type": "markdown",
   "metadata": {},
   "source": [
    "### Age"
   ]
  },
  {
   "cell_type": "code",
   "execution_count": 63,
   "metadata": {
    "scrolled": true
   },
   "outputs": [
    {
     "data": {
      "text/html": [
       "<div>\n",
       "<style scoped>\n",
       "    .dataframe tbody tr th:only-of-type {\n",
       "        vertical-align: middle;\n",
       "    }\n",
       "\n",
       "    .dataframe tbody tr th {\n",
       "        vertical-align: top;\n",
       "    }\n",
       "\n",
       "    .dataframe thead th {\n",
       "        text-align: right;\n",
       "    }\n",
       "</style>\n",
       "<table border=\"1\" class=\"dataframe\">\n",
       "  <thead>\n",
       "    <tr style=\"text-align: right;\">\n",
       "      <th></th>\n",
       "      <th>user_screen_name</th>\n",
       "      <th>age</th>\n",
       "    </tr>\n",
       "  </thead>\n",
       "  <tbody>\n",
       "    <tr>\n",
       "      <th>0</th>\n",
       "      <td>kellyelizond</td>\n",
       "      <td>19</td>\n",
       "    </tr>\n",
       "    <tr>\n",
       "      <th>1</th>\n",
       "      <td>hda1983</td>\n",
       "      <td>90</td>\n",
       "    </tr>\n",
       "    <tr>\n",
       "      <th>2</th>\n",
       "      <td>trufatartufa</td>\n",
       "      <td>20</td>\n",
       "    </tr>\n",
       "    <tr>\n",
       "      <th>3</th>\n",
       "      <td>jessstrokes_</td>\n",
       "      <td>20</td>\n",
       "    </tr>\n",
       "    <tr>\n",
       "      <th>4</th>\n",
       "      <td>conchetulipa</td>\n",
       "      <td>16</td>\n",
       "    </tr>\n",
       "    <tr>\n",
       "      <th>5</th>\n",
       "      <td>paky241428</td>\n",
       "      <td>31</td>\n",
       "    </tr>\n",
       "    <tr>\n",
       "      <th>6</th>\n",
       "      <td>nycollesmile</td>\n",
       "      <td>22</td>\n",
       "    </tr>\n",
       "    <tr>\n",
       "      <th>7</th>\n",
       "      <td>bngtnftdku</td>\n",
       "      <td>17</td>\n",
       "    </tr>\n",
       "    <tr>\n",
       "      <th>8</th>\n",
       "      <td>rodrigo_cayo</td>\n",
       "      <td>27</td>\n",
       "    </tr>\n",
       "    <tr>\n",
       "      <th>9</th>\n",
       "      <td>otpdonghan</td>\n",
       "      <td>98</td>\n",
       "    </tr>\n",
       "    <tr>\n",
       "      <th>10</th>\n",
       "      <td>golpedirecto</td>\n",
       "      <td>14</td>\n",
       "    </tr>\n",
       "    <tr>\n",
       "      <th>11</th>\n",
       "      <td>arturohenriques</td>\n",
       "      <td>28</td>\n",
       "    </tr>\n",
       "    <tr>\n",
       "      <th>12</th>\n",
       "      <td>cinesunidos</td>\n",
       "      <td>70</td>\n",
       "    </tr>\n",
       "    <tr>\n",
       "      <th>13</th>\n",
       "      <td>franfjf</td>\n",
       "      <td>22</td>\n",
       "    </tr>\n",
       "    <tr>\n",
       "      <th>14</th>\n",
       "      <td>jaclucas13</td>\n",
       "      <td>18</td>\n",
       "    </tr>\n",
       "    <tr>\n",
       "      <th>15</th>\n",
       "      <td>meilizhen1</td>\n",
       "      <td>21</td>\n",
       "    </tr>\n",
       "    <tr>\n",
       "      <th>16</th>\n",
       "      <td>joseliudlopez1</td>\n",
       "      <td>19</td>\n",
       "    </tr>\n",
       "    <tr>\n",
       "      <th>17</th>\n",
       "      <td>bnc_corporativo</td>\n",
       "      <td>15</td>\n",
       "    </tr>\n",
       "    <tr>\n",
       "      <th>18</th>\n",
       "      <td>lilkoalaa</td>\n",
       "      <td>18</td>\n",
       "    </tr>\n",
       "    <tr>\n",
       "      <th>19</th>\n",
       "      <td>luciano87386934</td>\n",
       "      <td>21</td>\n",
       "    </tr>\n",
       "  </tbody>\n",
       "</table>\n",
       "</div>"
      ],
      "text/plain": [
       "   user_screen_name  age\n",
       "0      kellyelizond   19\n",
       "1           hda1983   90\n",
       "2      trufatartufa   20\n",
       "3      jessstrokes_   20\n",
       "4      conchetulipa   16\n",
       "5        paky241428   31\n",
       "6      nycollesmile   22\n",
       "7        bngtnftdku   17\n",
       "8      rodrigo_cayo   27\n",
       "9        otpdonghan   98\n",
       "10     golpedirecto   14\n",
       "11  arturohenriques   28\n",
       "12      cinesunidos   70\n",
       "13          franfjf   22\n",
       "14       jaclucas13   18\n",
       "15       meilizhen1   21\n",
       "16   joseliudlopez1   19\n",
       "17  bnc_corporativo   15\n",
       "18        lilkoalaa   18\n",
       "19  luciano87386934   21"
      ]
     },
     "metadata": {},
     "output_type": "display_data"
    }
   ],
   "source": [
    "age_meta_data = pd.read_csv('../../data/mined_tweets/loanword_author_descriptive_data_ages.tsv', sep='\\t', index_col=False)\n",
    "age_meta_data.fillna('', inplace=True)\n",
    "age_meta_data = age_meta_data.assign(**{\n",
    "    'user_screen_name' : age_meta_data.loc[:, 'user_screen_name'].apply(lambda x: x.lower())\n",
    "})\n",
    "display(age_meta_data.head(20))"
   ]
  },
  {
   "cell_type": "markdown",
   "metadata": {},
   "source": [
    "### Location"
   ]
  },
  {
   "cell_type": "code",
   "execution_count": 49,
   "metadata": {
    "scrolled": true
   },
   "outputs": [
    {
     "data": {
      "text/html": [
       "<div>\n",
       "<style scoped>\n",
       "    .dataframe tbody tr th:only-of-type {\n",
       "        vertical-align: middle;\n",
       "    }\n",
       "\n",
       "    .dataframe tbody tr th {\n",
       "        vertical-align: top;\n",
       "    }\n",
       "\n",
       "    .dataframe thead th {\n",
       "        text-align: right;\n",
       "    }\n",
       "</style>\n",
       "<table border=\"1\" class=\"dataframe\">\n",
       "  <thead>\n",
       "    <tr style=\"text-align: right;\">\n",
       "      <th></th>\n",
       "      <th>user_location</th>\n",
       "      <th>description_location_country</th>\n",
       "    </tr>\n",
       "  </thead>\n",
       "  <tbody>\n",
       "    <tr>\n",
       "      <th>0</th>\n",
       "      <td>puerto rico/ fl</td>\n",
       "      <td></td>\n",
       "    </tr>\n",
       "    <tr>\n",
       "      <th>1</th>\n",
       "      <td>islas canarias, espana</td>\n",
       "      <td>ES</td>\n",
       "    </tr>\n",
       "    <tr>\n",
       "      <th>2</th>\n",
       "      <td>s k y  d o p e</td>\n",
       "      <td></td>\n",
       "    </tr>\n",
       "    <tr>\n",
       "      <th>3</th>\n",
       "      <td>guadalupe, nuevo leon</td>\n",
       "      <td></td>\n",
       "    </tr>\n",
       "    <tr>\n",
       "      <th>4</th>\n",
       "      <td>venezuela</td>\n",
       "      <td>VE</td>\n",
       "    </tr>\n",
       "    <tr>\n",
       "      <th>5</th>\n",
       "      <td>qin fen &amp; yugy ([?]_[?];)</td>\n",
       "      <td></td>\n",
       "    </tr>\n",
       "    <tr>\n",
       "      <th>6</th>\n",
       "      <td>tigre</td>\n",
       "      <td>AR</td>\n",
       "    </tr>\n",
       "    <tr>\n",
       "      <th>7</th>\n",
       "      <td>panama</td>\n",
       "      <td>PA</td>\n",
       "    </tr>\n",
       "    <tr>\n",
       "      <th>8</th>\n",
       "      <td>monte landin, villasobroso</td>\n",
       "      <td></td>\n",
       "    </tr>\n",
       "    <tr>\n",
       "      <th>9</th>\n",
       "      <td>jose carlos paz, argentina</td>\n",
       "      <td>AR</td>\n",
       "    </tr>\n",
       "    <tr>\n",
       "      <th>10</th>\n",
       "      <td>aca en argentina respirando</td>\n",
       "      <td></td>\n",
       "    </tr>\n",
       "    <tr>\n",
       "      <th>11</th>\n",
       "      <td>colima, mexico</td>\n",
       "      <td>MX</td>\n",
       "    </tr>\n",
       "    <tr>\n",
       "      <th>12</th>\n",
       "      <td>italy</td>\n",
       "      <td>IT</td>\n",
       "    </tr>\n",
       "    <tr>\n",
       "      <th>13</th>\n",
       "      <td>sampacho cordoba</td>\n",
       "      <td></td>\n",
       "    </tr>\n",
       "    <tr>\n",
       "      <th>14</th>\n",
       "      <td>argentina, santa fe, rosario</td>\n",
       "      <td></td>\n",
       "    </tr>\n",
       "    <tr>\n",
       "      <th>15</th>\n",
       "      <td></td>\n",
       "      <td></td>\n",
       "    </tr>\n",
       "    <tr>\n",
       "      <th>16</th>\n",
       "      <td>bangtanlandia</td>\n",
       "      <td></td>\n",
       "    </tr>\n",
       "    <tr>\n",
       "      <th>17</th>\n",
       "      <td>up5! n3v3r 10v3 y4, y0u n3v3r kn0w</td>\n",
       "      <td></td>\n",
       "    </tr>\n",
       "    <tr>\n",
       "      <th>18</th>\n",
       "      <td>distrito federal, mexico</td>\n",
       "      <td>MX</td>\n",
       "    </tr>\n",
       "    <tr>\n",
       "      <th>19</th>\n",
       "      <td>Ri Ben  Dong Jing Du</td>\n",
       "      <td></td>\n",
       "    </tr>\n",
       "  </tbody>\n",
       "</table>\n",
       "</div>"
      ],
      "text/plain": [
       "                         user_location description_location_country\n",
       "0                      puerto rico/ fl                             \n",
       "1               islas canarias, espana                           ES\n",
       "2                       s k y  d o p e                             \n",
       "3                guadalupe, nuevo leon                             \n",
       "4                            venezuela                           VE\n",
       "5           qin fen & yugy ([?]_[?];)                              \n",
       "6                                tigre                           AR\n",
       "7                               panama                           PA\n",
       "8           monte landin, villasobroso                             \n",
       "9           jose carlos paz, argentina                           AR\n",
       "10         aca en argentina respirando                             \n",
       "11                      colima, mexico                           MX\n",
       "12                               italy                           IT\n",
       "13                    sampacho cordoba                             \n",
       "14        argentina, santa fe, rosario                             \n",
       "15                                                                 \n",
       "16                       bangtanlandia                             \n",
       "17  up5! n3v3r 10v3 y4, y0u n3v3r kn0w                             \n",
       "18            distrito federal, mexico                           MX\n",
       "19               Ri Ben  Dong Jing Du                              "
      ]
     },
     "metadata": {},
     "output_type": "display_data"
    }
   ],
   "source": [
    "location_meta_data = pd.read_csv('../../data/control_var_data/loanword_author_descriptive_data_locations.tsv', sep='\\t', index_col=False)\n",
    "location_meta_data.fillna('', inplace=True)\n",
    "location_meta_data.rename(columns={'user_description':'user_location'}, inplace=True)\n",
    "display(location_meta_data.head(20))"
   ]
  },
  {
   "cell_type": "code",
   "execution_count": 50,
   "metadata": {},
   "outputs": [
    {
     "name": "stdout",
     "output_type": "stream",
     "text": [
      "16.278 of locations (5905/36276) are valid\n"
     ]
    }
   ],
   "source": [
    "# how many descriptions have valid locations?\n",
    "valid_location_meta_data = location_meta_data[location_meta_data.loc[:, 'description_location_country']!='']\n",
    "valid_location_pct = valid_location_meta_data.shape[0] / location_meta_data.shape[0] * 100\n",
    "print('%.3f of locations (%d/%d) are valid'%(valid_location_pct, valid_location_meta_data.shape[0], location_meta_data.shape[0]))"
   ]
  },
  {
   "cell_type": "markdown",
   "metadata": {},
   "source": [
    "OK! This is not great. \n",
    "\n",
    "What is the distribution of valid countries?"
   ]
  },
  {
   "cell_type": "code",
   "execution_count": 6,
   "metadata": {},
   "outputs": [
    {
     "data": {
      "text/plain": [
       "ES    1353\n",
       "AR    1023\n",
       "US     708\n",
       "MX     549\n",
       "CL     327\n",
       "CO     308\n",
       "VE     283\n",
       "PE     152\n",
       "EC     142\n",
       "UY     121\n",
       "Name: description_location_country, dtype: int64"
      ]
     },
     "metadata": {},
     "output_type": "display_data"
    }
   ],
   "source": [
    "display(valid_location_meta_data.loc[:, 'description_location_country'].value_counts().head(10))"
   ]
  },
  {
   "cell_type": "markdown",
   "metadata": {},
   "source": [
    "Most of these locations make sense: either Spain, Latin America or US."
   ]
  },
  {
   "cell_type": "markdown",
   "metadata": {},
   "source": [
    "### Assess author demographic coverage\n",
    "How many authors have (1) valid age (2) valid location (3) all demographics?"
   ]
  },
  {
   "cell_type": "code",
   "execution_count": 99,
   "metadata": {
    "scrolled": true
   },
   "outputs": [
    {
     "data": {
      "text/html": [
       "<div>\n",
       "<style scoped>\n",
       "    .dataframe tbody tr th:only-of-type {\n",
       "        vertical-align: middle;\n",
       "    }\n",
       "\n",
       "    .dataframe tbody tr th {\n",
       "        vertical-align: top;\n",
       "    }\n",
       "\n",
       "    .dataframe thead th {\n",
       "        text-align: right;\n",
       "    }\n",
       "</style>\n",
       "<table border=\"1\" class=\"dataframe\">\n",
       "  <thead>\n",
       "    <tr style=\"text-align: right;\">\n",
       "      <th></th>\n",
       "      <th>user_screen_name</th>\n",
       "      <th>user_description</th>\n",
       "      <th>user_location</th>\n",
       "      <th>loanword_author_type</th>\n",
       "    </tr>\n",
       "  </thead>\n",
       "  <tbody>\n",
       "    <tr>\n",
       "      <th>0</th>\n",
       "      <td>flavius85349047</td>\n",
       "      <td></td>\n",
       "      <td></td>\n",
       "      <td>integrated</td>\n",
       "    </tr>\n",
       "    <tr>\n",
       "      <th>1</th>\n",
       "      <td>leocastillokk</td>\n",
       "      <td>Ser dé Racing</td>\n",
       "      <td>moron, argentina</td>\n",
       "      <td>integrated</td>\n",
       "    </tr>\n",
       "    <tr>\n",
       "      <th>2</th>\n",
       "      <td>freroplopsgames</td>\n",
       "      <td>Tiesto</td>\n",
       "      <td></td>\n",
       "      <td>integrated</td>\n",
       "    </tr>\n",
       "    <tr>\n",
       "      <th>3</th>\n",
       "      <td>lizyllen</td>\n",
       "      <td>Mamá de 3, profesora universitaria, asesora co...</td>\n",
       "      <td>venezuela</td>\n",
       "      <td>integrated</td>\n",
       "    </tr>\n",
       "    <tr>\n",
       "      <th>4</th>\n",
       "      <td>viridiane_welle</td>\n",
       "      <td></td>\n",
       "      <td></td>\n",
       "      <td>integrated</td>\n",
       "    </tr>\n",
       "  </tbody>\n",
       "</table>\n",
       "</div>"
      ],
      "text/plain": [
       "  user_screen_name                                   user_description  \\\n",
       "0  flavius85349047                                                      \n",
       "1    leocastillokk                                      Ser dé Racing   \n",
       "2  freroplopsgames                                             Tiesto   \n",
       "3         lizyllen  Mamá de 3, profesora universitaria, asesora co...   \n",
       "4  viridiane_welle                                                      \n",
       "\n",
       "      user_location loanword_author_type  \n",
       "0                             integrated  \n",
       "1  moron, argentina           integrated  \n",
       "2                             integrated  \n",
       "3         venezuela           integrated  \n",
       "4                             integrated  "
      ]
     },
     "metadata": {},
     "output_type": "display_data"
    }
   ],
   "source": [
    "from data_helpers import clean_txt_simple\n",
    "integrated_loanword_author_data = pd.read_csv('../../data/mined_tweets/loanword_integrated_verb_author_counts_CLUSTER=twitter_posts.tsv', sep='\\t', index_col=False)\n",
    "light_verb_loanword_author_data = pd.read_csv('../../data/mined_tweets/loanword_light_verb_author_counts_CLUSTER=twitter_posts.tsv', sep='\\t', index_col=False)\n",
    "integrated_loanword_author_data = integrated_loanword_author_data.assign(**{\n",
    "    'loanword_author_type' : 'integrated'\n",
    "})\n",
    "light_verb_loanword_author_data = light_verb_loanword_author_data.assign(**{\n",
    "    'loanword_author_type' : 'light_verb'\n",
    "})\n",
    "# combine\n",
    "loanword_author_data = pd.concat([integrated_loanword_author_data, light_verb_loanword_author_data], axis=0)\n",
    "loanword_author_data.fillna('', inplace=True)\n",
    "loanword_author_data.drop_duplicates('user_screen_name', inplace=True)\n",
    "# display(loanword_author_data.head())\n",
    "# get unique authors, description data\n",
    "loanword_author_description_data = loanword_author_data.loc[:, ['user_screen_name', 'user_description', 'user_location', 'loanword_author_type']]\n",
    "loanword_author_description_data = loanword_author_description_data.assign(**{\n",
    "    'user_screen_name' : loanword_author_description_data.loc[:, 'user_screen_name'].apply(lambda x: x.lower()),\n",
    "    'user_location' : loanword_author_description_data.loc[:, 'user_location'].apply(lambda x: clean_txt_simple(x))\n",
    "})\n",
    "display(loanword_author_description_data.head())"
   ]
  },
  {
   "cell_type": "code",
   "execution_count": 100,
   "metadata": {
    "scrolled": true
   },
   "outputs": [
    {
     "data": {
      "text/html": [
       "<div>\n",
       "<style scoped>\n",
       "    .dataframe tbody tr th:only-of-type {\n",
       "        vertical-align: middle;\n",
       "    }\n",
       "\n",
       "    .dataframe tbody tr th {\n",
       "        vertical-align: top;\n",
       "    }\n",
       "\n",
       "    .dataframe thead th {\n",
       "        text-align: right;\n",
       "    }\n",
       "</style>\n",
       "<table border=\"1\" class=\"dataframe\">\n",
       "  <thead>\n",
       "    <tr style=\"text-align: right;\">\n",
       "      <th></th>\n",
       "      <th>user_screen_name</th>\n",
       "      <th>user_description</th>\n",
       "      <th>age</th>\n",
       "      <th>loanword_author_type</th>\n",
       "      <th>user_location</th>\n",
       "      <th>description_location_country</th>\n",
       "    </tr>\n",
       "  </thead>\n",
       "  <tbody>\n",
       "    <tr>\n",
       "      <th>0</th>\n",
       "      <td>flavius85349047</td>\n",
       "      <td></td>\n",
       "      <td></td>\n",
       "      <td>integrated</td>\n",
       "      <td></td>\n",
       "      <td></td>\n",
       "    </tr>\n",
       "    <tr>\n",
       "      <th>1</th>\n",
       "      <td>leocastillokk</td>\n",
       "      <td>Ser dé Racing</td>\n",
       "      <td></td>\n",
       "      <td>integrated</td>\n",
       "      <td>moron, argentina</td>\n",
       "      <td>AR</td>\n",
       "    </tr>\n",
       "    <tr>\n",
       "      <th>2</th>\n",
       "      <td>freroplopsgames</td>\n",
       "      <td>Tiesto</td>\n",
       "      <td></td>\n",
       "      <td>integrated</td>\n",
       "      <td></td>\n",
       "      <td></td>\n",
       "    </tr>\n",
       "    <tr>\n",
       "      <th>3</th>\n",
       "      <td>lizyllen</td>\n",
       "      <td>Mamá de 3, profesora universitaria, asesora co...</td>\n",
       "      <td></td>\n",
       "      <td>integrated</td>\n",
       "      <td>venezuela</td>\n",
       "      <td>VE</td>\n",
       "    </tr>\n",
       "    <tr>\n",
       "      <th>14</th>\n",
       "      <td>viridiane_welle</td>\n",
       "      <td></td>\n",
       "      <td></td>\n",
       "      <td>integrated</td>\n",
       "      <td></td>\n",
       "      <td></td>\n",
       "    </tr>\n",
       "  </tbody>\n",
       "</table>\n",
       "</div>"
      ],
      "text/plain": [
       "   user_screen_name                                   user_description age  \\\n",
       "0   flavius85349047                                                          \n",
       "1     leocastillokk                                      Ser dé Racing       \n",
       "2   freroplopsgames                                             Tiesto       \n",
       "3          lizyllen  Mamá de 3, profesora universitaria, asesora co...       \n",
       "14  viridiane_welle                                                          \n",
       "\n",
       "   loanword_author_type     user_location description_location_country  \n",
       "0            integrated                                                 \n",
       "1            integrated  moron, argentina                           AR  \n",
       "2            integrated                                                 \n",
       "3            integrated         venezuela                           VE  \n",
       "14           integrated                                                 "
      ]
     },
     "metadata": {},
     "output_type": "display_data"
    }
   ],
   "source": [
    "# join data\n",
    "loanword_author_demographic_data = pd.merge(loanword_author_description_data, age_meta_data, on='user_screen_name', how='left')\n",
    "loanword_author_demographic_data = pd.merge(loanword_author_demographic_data.loc[:, ['user_screen_name', 'user_description', 'age', 'loanword_author_type']], loanword_author_description_data.loc[:, ['user_screen_name', 'user_location']], on='user_screen_name', how='left')\n",
    "loanword_author_demographic_data = pd.merge(loanword_author_demographic_data, valid_location_meta_data, on='user_location', how='left')\n",
    "loanword_author_demographic_data.drop_duplicates('user_screen_name', inplace=True)\n",
    "loanword_author_demographic_data.fillna('', inplace=True)\n",
    "display(loanword_author_demographic_data.head())"
   ]
  },
  {
   "cell_type": "code",
   "execution_count": 101,
   "metadata": {},
   "outputs": [
    {
     "name": "stdout",
     "output_type": "stream",
     "text": [
      "132731 authors total\n",
      "44628/132731 authors with location (33.623%)\n",
      "4576/132731 authors with age (3.448%)\n",
      "1893/132731 authors with loc + age (1.426%)\n"
     ]
    }
   ],
   "source": [
    "loanword_author_demographic_data_with_loc = loanword_author_demographic_data[loanword_author_demographic_data.loc[:, 'description_location_country'] != '']\n",
    "loanword_author_demographic_data_with_age = loanword_author_demographic_data[loanword_author_demographic_data.loc[:, 'age'] != '']\n",
    "loanword_author_demographic_data_with_loc_age = loanword_author_demographic_data[(loanword_author_demographic_data.loc[:, 'description_location_country'] != '') & \n",
    "                                                                                 (loanword_author_demographic_data.loc[:, 'age'] != '')]\n",
    "N = loanword_author_demographic_data.shape[0]\n",
    "N_loc = loanword_author_demographic_data_with_loc.shape[0]\n",
    "N_age = loanword_author_demographic_data_with_age.shape[0]\n",
    "N_loc_age = loanword_author_demographic_data_with_loc_age.shape[0]\n",
    "print('%d authors total'%(N))\n",
    "print('%d/%d authors with location (%.3f%%)'%(N_loc, N, N_loc / N * 100))\n",
    "print('%d/%d authors with age (%.3f%%)'%(N_age, N, N_age / N * 100))\n",
    "print('%d/%d authors with loc + age (%.3f%%)'%(N_loc_age, N, N_loc_age / N * 100))"
   ]
  },
  {
   "cell_type": "markdown",
   "metadata": {},
   "source": [
    "OK! The coverage actually isn't terrible: 34% of authors have a valid location and 3% have a valid age. We can also get age with musician age distributions."
   ]
  },
  {
   "cell_type": "markdown",
   "metadata": {},
   "source": [
    "What are the per-author distributions?"
   ]
  },
  {
   "cell_type": "code",
   "execution_count": 69,
   "metadata": {},
   "outputs": [
    {
     "name": "stdout",
     "output_type": "stream",
     "text": [
      "AR    13008\n",
      "ES     7565\n",
      "MX     4714\n",
      "CO     3293\n",
      "VE     2983\n",
      "CL     2429\n",
      "US     2312\n",
      "EC     1433\n",
      "PE     1276\n",
      "UY     1116\n",
      "Name: description_location_country, dtype: int64\n"
     ]
    }
   ],
   "source": [
    "print(loanword_author_demographic_data_with_loc.loc[:, 'description_location_country'].value_counts().head(10))"
   ]
  },
  {
   "cell_type": "markdown",
   "metadata": {},
   "source": [
    "#### Plot author locations"
   ]
  },
  {
   "cell_type": "markdown",
   "metadata": {},
   "source": [
    "Let's plot this distribution for integrated loanword authors and light verb loanword authors."
   ]
  },
  {
   "cell_type": "code",
   "execution_count": 171,
   "metadata": {},
   "outputs": [
    {
     "data": {
      "text/html": [
       "<div>\n",
       "<style scoped>\n",
       "    .dataframe tbody tr th:only-of-type {\n",
       "        vertical-align: middle;\n",
       "    }\n",
       "\n",
       "    .dataframe tbody tr th {\n",
       "        vertical-align: top;\n",
       "    }\n",
       "\n",
       "    .dataframe thead th {\n",
       "        text-align: right;\n",
       "    }\n",
       "</style>\n",
       "<table border=\"1\" class=\"dataframe\">\n",
       "  <thead>\n",
       "    <tr style=\"text-align: right;\">\n",
       "      <th></th>\n",
       "      <th>latitude</th>\n",
       "      <th>longitude</th>\n",
       "      <th>country</th>\n",
       "    </tr>\n",
       "  </thead>\n",
       "  <tbody>\n",
       "    <tr>\n",
       "      <th>2746</th>\n",
       "      <td>42.55</td>\n",
       "      <td>1.58333</td>\n",
       "      <td>AD</td>\n",
       "    </tr>\n",
       "    <tr>\n",
       "      <th>3420</th>\n",
       "      <td>23.75</td>\n",
       "      <td>54.50000</td>\n",
       "      <td>AE</td>\n",
       "    </tr>\n",
       "    <tr>\n",
       "      <th>38023</th>\n",
       "      <td>33.00</td>\n",
       "      <td>66.00000</td>\n",
       "      <td>AF</td>\n",
       "    </tr>\n",
       "    <tr>\n",
       "      <th>85465</th>\n",
       "      <td>17.05</td>\n",
       "      <td>-61.80000</td>\n",
       "      <td>AG</td>\n",
       "    </tr>\n",
       "    <tr>\n",
       "      <th>88716</th>\n",
       "      <td>41.00</td>\n",
       "      <td>20.00000</td>\n",
       "      <td>AL</td>\n",
       "    </tr>\n",
       "  </tbody>\n",
       "</table>\n",
       "</div>"
      ],
      "text/plain": [
       "       latitude  longitude country\n",
       "2746      42.55    1.58333      AD\n",
       "3420      23.75   54.50000      AE\n",
       "38023     33.00   66.00000      AF\n",
       "85465     17.05  -61.80000      AG\n",
       "88716     41.00   20.00000      AL"
      ]
     },
     "metadata": {},
     "output_type": "display_data"
    }
   ],
   "source": [
    "# map each country name to lat/lon center\n",
    "import pandas as pd\n",
    "geonames_data = pd.read_csv('/hg190/corpora/GeoNames/allCountriesSimplified.tsv', sep='\\t', index_col=False, usecols=['name', 'feature_code', 'latitude', 'longitude', 'country'])\n",
    "country_code = 'PCLI'\n",
    "country_geonames_data = geonames_data[geonames_data.loc[:, 'feature_code'] == country_code].loc[:, ['latitude', 'longitude', 'country']]\n",
    "display(country_geonames_data.head())"
   ]
  },
  {
   "cell_type": "code",
   "execution_count": 224,
   "metadata": {},
   "outputs": [
    {
     "data": {
      "text/html": [
       "<div>\n",
       "<style scoped>\n",
       "    .dataframe tbody tr th:only-of-type {\n",
       "        vertical-align: middle;\n",
       "    }\n",
       "\n",
       "    .dataframe tbody tr th {\n",
       "        vertical-align: top;\n",
       "    }\n",
       "\n",
       "    .dataframe thead th {\n",
       "        text-align: right;\n",
       "    }\n",
       "</style>\n",
       "<table border=\"1\" class=\"dataframe\">\n",
       "  <thead>\n",
       "    <tr style=\"text-align: right;\">\n",
       "      <th></th>\n",
       "      <th>country</th>\n",
       "      <th>count</th>\n",
       "      <th>count_pct</th>\n",
       "      <th>latitude</th>\n",
       "      <th>longitude</th>\n",
       "    </tr>\n",
       "  </thead>\n",
       "  <tbody>\n",
       "    <tr>\n",
       "      <th>0</th>\n",
       "      <td>AR</td>\n",
       "      <td>12070</td>\n",
       "      <td>0.294441</td>\n",
       "      <td>-34.0</td>\n",
       "      <td>-64.00</td>\n",
       "    </tr>\n",
       "    <tr>\n",
       "      <th>1</th>\n",
       "      <td>ES</td>\n",
       "      <td>7107</td>\n",
       "      <td>0.173371</td>\n",
       "      <td>40.0</td>\n",
       "      <td>-4.00</td>\n",
       "    </tr>\n",
       "    <tr>\n",
       "      <th>2</th>\n",
       "      <td>MX</td>\n",
       "      <td>4139</td>\n",
       "      <td>0.100968</td>\n",
       "      <td>23.0</td>\n",
       "      <td>-102.00</td>\n",
       "    </tr>\n",
       "    <tr>\n",
       "      <th>3</th>\n",
       "      <td>CO</td>\n",
       "      <td>2954</td>\n",
       "      <td>0.072061</td>\n",
       "      <td>4.0</td>\n",
       "      <td>-73.25</td>\n",
       "    </tr>\n",
       "    <tr>\n",
       "      <th>4</th>\n",
       "      <td>VE</td>\n",
       "      <td>2809</td>\n",
       "      <td>0.068524</td>\n",
       "      <td>8.0</td>\n",
       "      <td>-66.00</td>\n",
       "    </tr>\n",
       "  </tbody>\n",
       "</table>\n",
       "</div>"
      ],
      "text/plain": [
       "  country  count  count_pct  latitude  longitude\n",
       "0      AR  12070   0.294441     -34.0     -64.00\n",
       "1      ES   7107   0.173371      40.0      -4.00\n",
       "2      MX   4139   0.100968      23.0    -102.00\n",
       "3      CO   2954   0.072061       4.0     -73.25\n",
       "4      VE   2809   0.068524       8.0     -66.00"
      ]
     },
     "metadata": {},
     "output_type": "display_data"
    },
    {
     "data": {
      "text/html": [
       "<div>\n",
       "<style scoped>\n",
       "    .dataframe tbody tr th:only-of-type {\n",
       "        vertical-align: middle;\n",
       "    }\n",
       "\n",
       "    .dataframe tbody tr th {\n",
       "        vertical-align: top;\n",
       "    }\n",
       "\n",
       "    .dataframe thead th {\n",
       "        text-align: right;\n",
       "    }\n",
       "</style>\n",
       "<table border=\"1\" class=\"dataframe\">\n",
       "  <thead>\n",
       "    <tr style=\"text-align: right;\">\n",
       "      <th></th>\n",
       "      <th>country</th>\n",
       "      <th>count</th>\n",
       "      <th>count_pct</th>\n",
       "      <th>latitude</th>\n",
       "      <th>longitude</th>\n",
       "    </tr>\n",
       "  </thead>\n",
       "  <tbody>\n",
       "    <tr>\n",
       "      <th>0</th>\n",
       "      <td>AR</td>\n",
       "      <td>938</td>\n",
       "      <td>0.258047</td>\n",
       "      <td>-34.00</td>\n",
       "      <td>-64.00</td>\n",
       "    </tr>\n",
       "    <tr>\n",
       "      <th>1</th>\n",
       "      <td>MX</td>\n",
       "      <td>575</td>\n",
       "      <td>0.158184</td>\n",
       "      <td>23.00</td>\n",
       "      <td>-102.00</td>\n",
       "    </tr>\n",
       "    <tr>\n",
       "      <th>2</th>\n",
       "      <td>ES</td>\n",
       "      <td>458</td>\n",
       "      <td>0.125997</td>\n",
       "      <td>40.00</td>\n",
       "      <td>-4.00</td>\n",
       "    </tr>\n",
       "    <tr>\n",
       "      <th>3</th>\n",
       "      <td>CO</td>\n",
       "      <td>339</td>\n",
       "      <td>0.093260</td>\n",
       "      <td>4.00</td>\n",
       "      <td>-73.25</td>\n",
       "    </tr>\n",
       "    <tr>\n",
       "      <th>4</th>\n",
       "      <td>US</td>\n",
       "      <td>228</td>\n",
       "      <td>0.062724</td>\n",
       "      <td>39.76</td>\n",
       "      <td>-98.50</td>\n",
       "    </tr>\n",
       "  </tbody>\n",
       "</table>\n",
       "</div>"
      ],
      "text/plain": [
       "  country  count  count_pct  latitude  longitude\n",
       "0      AR    938   0.258047    -34.00     -64.00\n",
       "1      MX    575   0.158184     23.00    -102.00\n",
       "2      ES    458   0.125997     40.00      -4.00\n",
       "3      CO    339   0.093260      4.00     -73.25\n",
       "4      US    228   0.062724     39.76     -98.50"
      ]
     },
     "metadata": {},
     "output_type": "display_data"
    }
   ],
   "source": [
    "# get country counts for all authors, then map to lat/lon\n",
    "author_var = 'screen_name'\n",
    "country_var = 'description_location_country'\n",
    "integrated_verb_author_country_counts = loanword_author_demographic_data_with_loc[loanword_author_demographic_data_with_loc.loc[:, 'loanword_author_type']=='integrated'].loc[:, country_var].value_counts().reset_index().rename(columns={'index' : 'country', country_var : 'count'})\n",
    "light_verb_author_country_counts = loanword_author_demographic_data_with_loc[loanword_author_demographic_data_with_loc.loc[:, 'loanword_author_type']=='light_verb'].loc[:, country_var].value_counts().reset_index().rename(columns={'index' : 'country', country_var : 'count'})\n",
    "# normalize counts\n",
    "integrated_verb_author_country_counts = integrated_verb_author_country_counts.assign(**{\n",
    "    'count_pct' : integrated_verb_author_country_counts.loc[:, 'count'] / integrated_verb_author_country_counts.loc[:, 'count'].sum()\n",
    "})\n",
    "light_verb_author_country_counts = light_verb_author_country_counts.assign(**{\n",
    "    'count_pct' : light_verb_author_country_counts.loc[:, 'count'] / light_verb_author_country_counts.loc[:, 'count'].sum()\n",
    "})\n",
    "# combine with country lat/lon\n",
    "integrated_verb_author_country_counts = pd.merge(integrated_verb_author_country_counts, country_geonames_data, on='country')\n",
    "light_verb_author_country_counts = pd.merge(light_verb_author_country_counts, country_geonames_data, on='country')\n",
    "display(integrated_verb_author_country_counts.head())\n",
    "display(light_verb_author_country_counts.head())"
   ]
  },
  {
   "cell_type": "code",
   "execution_count": 229,
   "metadata": {},
   "outputs": [
    {
     "data": {
      "image/png": "[encoded data removed]",
      "text/plain": [
       "<Figure size 720x720 with 1 Axes>"
      ]
     },
     "metadata": {
      "needs_background": "light"
     },
     "output_type": "display_data"
    }
   ],
   "source": [
    "import matplotlib\n",
    "%matplotlib inline\n",
    "import matplotlib.pyplot as plt\n",
    "from matplotlib.legend_handler import HandlerPathCollection\n",
    "import cartopy.crs\n",
    "\n",
    "fig = plt.figure(figsize=(10, 10))\n",
    "map_borders = [[-49, 51], [-126, 10]]\n",
    "ax = plt.axes(projection=cartopy.crs.PlateCarree())\n",
    "ax.scatter(0, 0, color='b', s=7)\n",
    "ax.coastlines(resolution='110m')\n",
    "ax.set_xlim(map_borders[1])\n",
    "ax.set_ylim(map_borders[0])\n",
    "# plot integrated verb author data\n",
    "size_scale_factor = 10000\n",
    "ax.scatter(integrated_verb_author_country_counts.loc[:, 'longitude'], \n",
    "           integrated_verb_author_country_counts.loc[:, 'latitude'], \n",
    "           s=integrated_verb_author_country_counts.loc[:, 'count_pct']*size_scale_factor, \n",
    "           alpha=0.5, color='b', label='integrated_verb_author')\n",
    "# plot light verb author data\n",
    "scatter_plot = ax.scatter(light_verb_author_country_counts.loc[:, 'longitude'], \n",
    "                          light_verb_author_country_counts.loc[:, 'latitude'], \n",
    "                          s=light_verb_author_country_counts.loc[:, 'count_pct']*size_scale_factor, \n",
    "                          alpha=0.5, color='r', label='light_verb_author')\n",
    "# same marker size!!\n",
    "def update_prop(handle, orig):\n",
    "    marker_size = 250\n",
    "    handle.update_from(orig)\n",
    "    handle.set_sizes([marker_size])\n",
    "plt.legend(loc='lower right', \n",
    "           handler_map={type(scatter_plot): HandlerPathCollection(update_func=update_prop)},\n",
    "           fontsize=16)\n",
    "plt.title('Loanword author distribution', fontsize=36)\n",
    "plt.show()"
   ]
  },
  {
   "cell_type": "markdown",
   "metadata": {},
   "source": [
    "### Language use\n",
    "Language use isn't really a demographic but we still need to assess the distribution of e.g. monolingual vs. bilingual.\n",
    "\n",
    "We have calculated the distribution of languages [here](extract_lang_use_for_authors.py)."
   ]
  },
  {
   "cell_type": "code",
   "execution_count": 80,
   "metadata": {},
   "outputs": [],
   "source": [
    "from scipy.sparse import load_npz\n",
    "# load language count matrix\n",
    "author_lang_count_file = '../../data/mined_tweets/author_lang_counts.npz'\n",
    "author_lang_counts = load_npz(author_lang_count_file)\n",
    "author_idx = list(map(lambda x: x.strip(), open(f'{author_lang_count_file}.rows', 'r')))\n",
    "lang_idx = list(map(lambda x: x.strip(), open(f'{author_lang_count_file}.cols', 'r')))\n",
    "author_idx_lookup = dict(zip(author_idx, range(len(author_idx))))\n",
    "lang_idx_lookup = dict(zip(lang_idx, range(len(lang_idx))))"
   ]
  },
  {
   "cell_type": "code",
   "execution_count": 94,
   "metadata": {},
   "outputs": [
    {
     "name": "stdout",
     "output_type": "stream",
     "text": [
      "[0.95177866 0.8582996  0.95701357 ... 0.86541471 0.87317073 0.87128713]\n"
     ]
    }
   ],
   "source": [
    "print(np.array(author_lang_counts[:, lang_idx_lookup[lang]] / author_lang_counts.sum(axis=1))[:, 0])"
   ]
  },
  {
   "cell_type": "code",
   "execution_count": 95,
   "metadata": {},
   "outputs": [
    {
     "name": "stdout",
     "output_type": "stream",
     "text": [
      "000822e5bc974e0    0.951779\n",
      "0063_tmi           0.858300\n",
      "007martin          0.957014\n",
      "00tropico_         0.900000\n",
      "01Magena           0.946925\n",
      "dtype: float64\n"
     ]
    }
   ],
   "source": [
    "import pandas as pd\n",
    "# get ES % use\n",
    "lang = 'es'\n",
    "author_es_pct = pd.Series(np.array(author_lang_counts[:, lang_idx_lookup[lang]] / author_lang_counts.sum(axis=1))[:, 0], index=author_idx)\n",
    "print(author_es_pct.head())"
   ]
  },
  {
   "cell_type": "code",
   "execution_count": 97,
   "metadata": {},
   "outputs": [
    {
     "data": {
      "image/png": "[encoded data removed]",
      "text/plain": [
       "<Figure size 432x288 with 1 Axes>"
      ]
     },
     "metadata": {
      "needs_background": "light"
     },
     "output_type": "display_data"
    }
   ],
   "source": [
    "import matplotlib\n",
    "%matplotlib inline\n",
    "import matplotlib.pyplot as plt\n",
    "# what's the distribution of languages?\n",
    "plt.hist(author_es_pct)\n",
    "plt.xlabel('ES %')\n",
    "plt.ylabel('author count')\n",
    "plt.show()"
   ]
  },
  {
   "cell_type": "markdown",
   "metadata": {},
   "source": [
    "As expected, mostly monolingual ES people."
   ]
  },
  {
   "cell_type": "markdown",
   "metadata": {},
   "source": [
    "Separate by loanword type."
   ]
  },
  {
   "cell_type": "code",
   "execution_count": 209,
   "metadata": {},
   "outputs": [
    {
     "data": {
      "text/html": [
       "<div>\n",
       "<style scoped>\n",
       "    .dataframe tbody tr th:only-of-type {\n",
       "        vertical-align: middle;\n",
       "    }\n",
       "\n",
       "    .dataframe tbody tr th {\n",
       "        vertical-align: top;\n",
       "    }\n",
       "\n",
       "    .dataframe thead th {\n",
       "        text-align: right;\n",
       "    }\n",
       "</style>\n",
       "<table border=\"1\" class=\"dataframe\">\n",
       "  <thead>\n",
       "    <tr style=\"text-align: right;\">\n",
       "      <th></th>\n",
       "      <th>user_screen_name</th>\n",
       "      <th>ES_pct</th>\n",
       "      <th>loanword_author_type</th>\n",
       "    </tr>\n",
       "  </thead>\n",
       "  <tbody>\n",
       "    <tr>\n",
       "      <th>0</th>\n",
       "      <td>000822e5bc974e0</td>\n",
       "      <td>0.951779</td>\n",
       "      <td>integrated</td>\n",
       "    </tr>\n",
       "    <tr>\n",
       "      <th>1</th>\n",
       "      <td>0063_tmi</td>\n",
       "      <td>0.858300</td>\n",
       "      <td>integrated</td>\n",
       "    </tr>\n",
       "    <tr>\n",
       "      <th>2</th>\n",
       "      <td>007martin</td>\n",
       "      <td>0.957014</td>\n",
       "      <td>integrated</td>\n",
       "    </tr>\n",
       "    <tr>\n",
       "      <th>3</th>\n",
       "      <td>00tropico_</td>\n",
       "      <td>0.900000</td>\n",
       "      <td>integrated</td>\n",
       "    </tr>\n",
       "    <tr>\n",
       "      <th>4</th>\n",
       "      <td>028_mariana</td>\n",
       "      <td>0.821429</td>\n",
       "      <td>integrated</td>\n",
       "    </tr>\n",
       "  </tbody>\n",
       "</table>\n",
       "</div>"
      ],
      "text/plain": [
       "  user_screen_name    ES_pct loanword_author_type\n",
       "0  000822e5bc974e0  0.951779           integrated\n",
       "1         0063_tmi  0.858300           integrated\n",
       "2        007martin  0.957014           integrated\n",
       "3       00tropico_  0.900000           integrated\n",
       "4      028_mariana  0.821429           integrated"
      ]
     },
     "metadata": {},
     "output_type": "display_data"
    }
   ],
   "source": [
    "author_var = 'user_screen_name'\n",
    "author_type_var = 'loanword_author_type'\n",
    "author_es_pct_data = author_es_pct.reset_index().rename(columns={'index' : author_var, 0:'ES_pct'})\n",
    "author_es_pct_data = pd.merge(author_es_pct_data, loanword_author_demographic_data.loc[:, [author_var, author_type_var]], on=author_var)\n",
    "display(author_es_pct_data.head())"
   ]
  },
  {
   "cell_type": "code",
   "execution_count": 231,
   "metadata": {},
   "outputs": [
    {
     "data": {
      "image/png": "[encoded data removed]",
      "text/plain": [
       "<Figure size 432x288 with 1 Axes>"
      ]
     },
     "metadata": {
      "needs_background": "light"
     },
     "output_type": "display_data"
    }
   ],
   "source": [
    "import seaborn as sns\n",
    "import numpy as np\n",
    "lang_pct_var = 'ES_pct'\n",
    "bin_count = 10\n",
    "bin_range = np.linspace(0., 1., bin_count+1)\n",
    "bin_range_pairs = list(zip(bin_range[:-1], bin_range[1:]))\n",
    "X = bin_range[:-1]\n",
    "X_ticks = list(map(lambda x: '[%.1f,%.1f]'%(x[0], x[1]), bin_range_pairs))\n",
    "bar_width = 0.05\n",
    "for i, (type_i, data_i) in enumerate(author_es_pct_data.groupby(author_type_var)):\n",
    "    # get KDE plot\n",
    "    sns.kdeplot(data_i.loc[:, lang_pct_var], label=type_i)\n",
    "plt.legend(loc='upper left', fontsize=14)\n",
    "plt.xlabel(lang_pct_var, fontsize=18)\n",
    "plt.title('Loanword author lang use', fontsize=24)\n",
    "plt.show()"
   ]
  },
  {
   "cell_type": "markdown",
   "metadata": {},
   "source": [
    "Is this difference significant?"
   ]
  },
  {
   "cell_type": "code",
   "execution_count": 235,
   "metadata": {},
   "outputs": [
    {
     "name": "stdout",
     "output_type": "stream",
     "text": [
      "difference in lang use 0.004 with test stat=799932.500 (p=2.257E-02)\n"
     ]
    }
   ],
   "source": [
    "import numpy as np\n",
    "from scipy.stats import mannwhitneyu, kruskal\n",
    "integrated_verb_es_pct = author_es_pct_data[author_es_pct_data.loc[:, author_type_var]=='integrated'].loc[:, lang_pct_var].values\n",
    "light_verb_es_pct = author_es_pct_data[author_es_pct_data.loc[:, author_type_var]=='light_verb'].loc[:, lang_pct_var].values\n",
    "diff = np.median(integrated_verb_es_pct) - np.median(light_verb_es_pct)\n",
    "test_stat, p_val = mannwhitneyu(integrated_verb_es_pct, light_verb_es_pct)\n",
    "print('difference in lang use %.3f with test stat=%.3f (p=%.3E)'%(diff, test_stat, p_val))"
   ]
  },
  {
   "cell_type": "markdown",
   "metadata": {},
   "source": [
    "### Test social variable overlap coverage\n",
    "How much overlap is there in the different social variables?\n",
    "\n",
    "- location\n",
    "- language use\n",
    "- media sharing\n",
    "- native verb use"
   ]
  },
  {
   "cell_type": "code",
   "execution_count": 39,
   "metadata": {},
   "outputs": [
    {
     "data": {
      "text/html": [
       "<div>\n",
       "<style scoped>\n",
       "    .dataframe tbody tr th:only-of-type {\n",
       "        vertical-align: middle;\n",
       "    }\n",
       "\n",
       "    .dataframe tbody tr th {\n",
       "        vertical-align: top;\n",
       "    }\n",
       "\n",
       "    .dataframe thead th {\n",
       "        text-align: right;\n",
       "    }\n",
       "</style>\n",
       "<table border=\"1\" class=\"dataframe\">\n",
       "  <thead>\n",
       "    <tr style=\"text-align: right;\">\n",
       "      <th></th>\n",
       "      <th>loanword</th>\n",
       "      <th>loanword_verb</th>\n",
       "      <th>loanword_type</th>\n",
       "      <th>screen_name</th>\n",
       "      <th>user_id</th>\n",
       "      <th>text</th>\n",
       "      <th>date</th>\n",
       "      <th>id</th>\n",
       "      <th>user_description</th>\n",
       "      <th>user_location</th>\n",
       "    </tr>\n",
       "  </thead>\n",
       "  <tbody>\n",
       "    <tr>\n",
       "      <th>0</th>\n",
       "      <td>audit</td>\n",
       "      <td>auditamos</td>\n",
       "      <td>integrated_loanword</td>\n",
       "      <td>garrachavista</td>\n",
       "      <td>779318307585396736</td>\n",
       "      <td>@Sheiladarsy @anticuarta4 Y dime tu cuales 7.6...</td>\n",
       "      <td>NaN</td>\n",
       "      <td>892506833197424640</td>\n",
       "      <td>100% a la izquierda</td>\n",
       "      <td>Venezuela</td>\n",
       "    </tr>\n",
       "    <tr>\n",
       "      <th>1</th>\n",
       "      <td>ban</td>\n",
       "      <td>baneamos</td>\n",
       "      <td>integrated_loanword</td>\n",
       "      <td>emmanuelkiller5</td>\n",
       "      <td>4273648032</td>\n",
       "      <td>@adameamiro Eres tan hipocrita que antes nos h...</td>\n",
       "      <td>NaN</td>\n",
       "      <td>882375684823203841</td>\n",
       "      <td>Felicidad?Que es eso, lo que todos siempre me ...</td>\n",
       "      <td>Chihuahua,  Chihuahua</td>\n",
       "    </tr>\n",
       "    <tr>\n",
       "      <th>2</th>\n",
       "      <td>ban</td>\n",
       "      <td>baneamos</td>\n",
       "      <td>integrated_loanword</td>\n",
       "      <td>danitolocirio13</td>\n",
       "      <td>482233447</td>\n",
       "      <td>@LVPibai Ibai te hace una normal de reclu? Así...</td>\n",
       "      <td>NaN</td>\n",
       "      <td>893999585953185793</td>\n",
       "      <td>#21. Me gusta Love Live. Reborn. Baraggan y Es...</td>\n",
       "      <td>Valladolid, España</td>\n",
       "    </tr>\n",
       "    <tr>\n",
       "      <th>3</th>\n",
       "      <td>ban</td>\n",
       "      <td>banear</td>\n",
       "      <td>integrated_loanword</td>\n",
       "      <td>vcf973</td>\n",
       "      <td>883037197754093569</td>\n",
       "      <td>@MiiKeLMsT MIKEEL! CASI ME BANEAN POR COMPRAR ...</td>\n",
       "      <td>NaN</td>\n",
       "      <td>899277329012334593</td>\n",
       "      <td>.</td>\n",
       "      <td>Tenerife</td>\n",
       "    </tr>\n",
       "    <tr>\n",
       "      <th>4</th>\n",
       "      <td>ban</td>\n",
       "      <td>banean</td>\n",
       "      <td>integrated_loanword</td>\n",
       "      <td>redbuhd</td>\n",
       "      <td>1242442598</td>\n",
       "      <td>Iba 1/4 minuto 50 y me banean por xray xddd lo...</td>\n",
       "      <td>NaN</td>\n",
       "      <td>888510097688739840</td>\n",
       "      <td>ImRedbuh - 13 Wins UHC - Peruvian#PalomasArmy ...</td>\n",
       "      <td>Debajo de tu cama</td>\n",
       "    </tr>\n",
       "  </tbody>\n",
       "</table>\n",
       "</div>"
      ],
      "text/plain": [
       "  loanword loanword_verb        loanword_type      screen_name  \\\n",
       "0    audit     auditamos  integrated_loanword    garrachavista   \n",
       "1      ban      baneamos  integrated_loanword  emmanuelkiller5   \n",
       "2      ban      baneamos  integrated_loanword  danitolocirio13   \n",
       "3      ban        banear  integrated_loanword           vcf973   \n",
       "4      ban        banean  integrated_loanword          redbuhd   \n",
       "\n",
       "              user_id                                               text  \\\n",
       "0  779318307585396736  @Sheiladarsy @anticuarta4 Y dime tu cuales 7.6...   \n",
       "1          4273648032  @adameamiro Eres tan hipocrita que antes nos h...   \n",
       "2           482233447  @LVPibai Ibai te hace una normal de reclu? Así...   \n",
       "3  883037197754093569  @MiiKeLMsT MIKEEL! CASI ME BANEAN POR COMPRAR ...   \n",
       "4          1242442598  Iba 1/4 minuto 50 y me banean por xray xddd lo...   \n",
       "\n",
       "   date                  id  \\\n",
       "0   NaN  892506833197424640   \n",
       "1   NaN  882375684823203841   \n",
       "2   NaN  893999585953185793   \n",
       "3   NaN  899277329012334593   \n",
       "4   NaN  888510097688739840   \n",
       "\n",
       "                                    user_description          user_location  \n",
       "0                                100% a la izquierda              Venezuela  \n",
       "1  Felicidad?Que es eso, lo que todos siempre me ...  Chihuahua,  Chihuahua  \n",
       "2  #21. Me gusta Love Live. Reborn. Baraggan y Es...     Valladolid, España  \n",
       "3                                                  .               Tenerife  \n",
       "4  ImRedbuh - 13 Wins UHC - Peruvian#PalomasArmy ...      Debajo de tu cama  "
      ]
     },
     "metadata": {},
     "output_type": "display_data"
    }
   ],
   "source": [
    "import pandas as pd\n",
    "# load original data for comparison\n",
    "loanword_author_data = pd.read_csv('../../data/mined_tweets/loanword_verb_posts_CLUSTER=twitter_posts_STARTDATE=2017_7_9_ENDDATE=2019_4_6.tsv', sep='\\t')\n",
    "loanword_author_data.rename(columns={'user_screen_name' : 'screen_name'}, inplace=True)\n",
    "# cleanup authors\n",
    "author_var = 'screen_name'\n",
    "loanword_author_data = loanword_author_data.assign(**{\n",
    "    author_var : loanword_author_data.loc[:, author_var].apply(lambda x: x.lower())\n",
    "})\n",
    "N_loanword_author = loanword_author_data.loc[:, author_var].nunique()\n",
    "N_loanword_posts = loanword_author_data.shape[0]\n",
    "display(loanword_author_data.head())"
   ]
  },
  {
   "cell_type": "code",
   "execution_count": 45,
   "metadata": {},
   "outputs": [
    {
     "name": "stderr",
     "output_type": "stream",
     "text": [
      "/hg190/istewart6/miniconda3/envs/py3/lib/python3.6/site-packages/pandas/core/ops/array_ops.py:253: FutureWarning: elementwise comparison failed; returning scalar instead, but in the future will perform elementwise comparison\n",
      "  res_values = method(rvalues)\n"
     ]
    }
   ],
   "source": [
    "# location data\n",
    "author_location_data = pd.read_csv('../../data/mined_tweets/loanword_author_descriptive_data_location_data.tsv', sep='\\t')\n",
    "author_location_data.rename(columns={'user_screen_name' : 'screen_name'}, inplace=True)\n",
    "loc_vars = ['screen_name', 'description_location_country']\n",
    "author_location_data = author_location_data.loc[:, loc_vars]\n",
    "# lang data\n",
    "author_lang_data = pd.read_csv('../../data/mined_tweets/loanword_author_tweets_all_archives/loanword_author_tweets_all_archives_LANG=es_pct.tsv', sep='\\t')\n",
    "# media data\n",
    "author_youtube_media_data = pd.read_csv('../../data/mined_tweets/loanword_author_tweets_all_archives_youtube_video_category_per_author_pct.tsv', sep='\\t')\n",
    "author_spotify_media_data = pd.read_csv('../../data/mined_tweets/loanword_author_tweets_all_archives_author_spotify_counts.tsv', sep='\\t')\n",
    "author_spotify_media_data = author_spotify_media_data.assign(**{\n",
    "    'latin_american_music_genre_pct' : author_spotify_media_data.loc[:, 'latin_american_genre_count'] / author_spotify_media_data.loc[:, 'total_link_count']\n",
    "})\n",
    "spotify_media_vars = ['screen_name', 'latin_american_music_genre_pct']\n",
    "author_spotify_media_data = author_spotify_media_data.loc[:, spotify_media_vars]\n",
    "# native verb use\n",
    "author_native_verb_data = pd.read_csv('../../data/mined_tweets/loanword_author_tweets_all_archives/native_integrated_light_verbs_per_author.tsv', sep='\\t')\n",
    "# aggregate\n",
    "author_var = 'screen_name'\n",
    "author_native_verb_agg_data = author_native_verb_data.groupby(author_var).apply(lambda x: x.loc[:, 'integrated_verb_pct'].mean()).reset_index().rename(columns={0 : 'integrated_verb_pct'})\n",
    "all_author_data = [author_location_data, author_lang_data, author_youtube_media_data, author_spotify_media_data, author_native_verb_agg_data]\n",
    "clean_author_data = []\n",
    "data_vars = ['description_location_country', 'es', 'latin_american_artist_video_pct', 'latin_american_music_genre_pct', 'integrated_verb_pct']\n",
    "for data, data_var in zip(all_author_data, data_vars):\n",
    "    data.fillna('', inplace=True)\n",
    "    data = data[data.loc[:, data_var] != '']\n",
    "    data = data[data.loc[:, author_var] != '']\n",
    "    data.drop_duplicates(author_var, inplace=True)\n",
    "    data = data.assign(**{\n",
    "        author_var : data.loc[:, author_var].apply(lambda x: x.lower())\n",
    "    })\n",
    "    clean_author_data.append(data)\n",
    "author_location_data, author_lang_data, author_youtube_media_data, author_spotify_media_data, author_native_verb_agg_data = clean_author_data"
   ]
  },
  {
   "cell_type": "code",
   "execution_count": 46,
   "metadata": {
    "scrolled": true
   },
   "outputs": [],
   "source": [
    "combined_data = []\n",
    "author_var = 'screen_name'\n",
    "clean_data_vars = ['description_location_country', 'es', 'latin_american_artist_video_pct', 'latin_american_music_genre_pct', 'integrated_verb_pct']\n",
    "for data, data_var in zip(clean_author_data, clean_data_vars):\n",
    "    if(len(combined_data) == 0):\n",
    "        combined_data = data.copy()\n",
    "    else:\n",
    "        combined_data = pd.merge(combined_data, data.loc[:, [author_var, data_var]], how='outer')\n",
    "combined_data.fillna('', inplace=True)"
   ]
  },
  {
   "cell_type": "code",
   "execution_count": 47,
   "metadata": {},
   "outputs": [
    {
     "name": "stdout",
     "output_type": "stream",
     "text": [
      "79908\n"
     ]
    },
    {
     "data": {
      "text/html": [
       "<div>\n",
       "<style scoped>\n",
       "    .dataframe tbody tr th:only-of-type {\n",
       "        vertical-align: middle;\n",
       "    }\n",
       "\n",
       "    .dataframe tbody tr th {\n",
       "        vertical-align: top;\n",
       "    }\n",
       "\n",
       "    .dataframe thead th {\n",
       "        text-align: right;\n",
       "    }\n",
       "</style>\n",
       "<table border=\"1\" class=\"dataframe\">\n",
       "  <thead>\n",
       "    <tr style=\"text-align: right;\">\n",
       "      <th></th>\n",
       "      <th>screen_name</th>\n",
       "      <th>description_location_country</th>\n",
       "      <th>es</th>\n",
       "      <th>latin_american_artist_video_pct</th>\n",
       "      <th>latin_american_music_genre_pct</th>\n",
       "      <th>integrated_verb_pct</th>\n",
       "    </tr>\n",
       "  </thead>\n",
       "  <tbody>\n",
       "    <tr>\n",
       "      <th>0</th>\n",
       "      <td>noechenchual</td>\n",
       "      <td>ES</td>\n",
       "      <td>1</td>\n",
       "      <td></td>\n",
       "      <td></td>\n",
       "      <td>1</td>\n",
       "    </tr>\n",
       "    <tr>\n",
       "      <th>1</th>\n",
       "      <td>mariamunozzzzzz</td>\n",
       "      <td>ES</td>\n",
       "      <td>0.893475</td>\n",
       "      <td></td>\n",
       "      <td></td>\n",
       "      <td>1</td>\n",
       "    </tr>\n",
       "    <tr>\n",
       "      <th>2</th>\n",
       "      <td>soniamartin99</td>\n",
       "      <td>ES</td>\n",
       "      <td>1</td>\n",
       "      <td></td>\n",
       "      <td></td>\n",
       "      <td></td>\n",
       "    </tr>\n",
       "    <tr>\n",
       "      <th>3</th>\n",
       "      <td>eleytricaa</td>\n",
       "      <td>ES</td>\n",
       "      <td>1</td>\n",
       "      <td></td>\n",
       "      <td></td>\n",
       "      <td>1</td>\n",
       "    </tr>\n",
       "    <tr>\n",
       "      <th>4</th>\n",
       "      <td>claulovesshawn</td>\n",
       "      <td>ES</td>\n",
       "      <td>1</td>\n",
       "      <td></td>\n",
       "      <td></td>\n",
       "      <td>1</td>\n",
       "    </tr>\n",
       "  </tbody>\n",
       "</table>\n",
       "</div>"
      ],
      "text/plain": [
       "       screen_name description_location_country        es  \\\n",
       "0     noechenchual                           ES         1   \n",
       "1  mariamunozzzzzz                           ES  0.893475   \n",
       "2    soniamartin99                           ES         1   \n",
       "3       eleytricaa                           ES         1   \n",
       "4   claulovesshawn                           ES         1   \n",
       "\n",
       "  latin_american_artist_video_pct latin_american_music_genre_pct  \\\n",
       "0                                                                  \n",
       "1                                                                  \n",
       "2                                                                  \n",
       "3                                                                  \n",
       "4                                                                  \n",
       "\n",
       "  integrated_verb_pct  \n",
       "0                   1  \n",
       "1                   1  \n",
       "2                      \n",
       "3                   1  \n",
       "4                   1  "
      ]
     },
     "metadata": {},
     "output_type": "display_data"
    }
   ],
   "source": [
    "print(combined_data.shape[0])\n",
    "display(combined_data.head())"
   ]
  },
  {
   "cell_type": "code",
   "execution_count": 48,
   "metadata": {},
   "outputs": [],
   "source": [
    "import numpy as np\n",
    "# let's combine the media vars for now\n",
    "def assign_media_pct(data, media_vars):\n",
    "    media_pcts = list(filter(lambda x: x!='', data.loc[media_vars].values))\n",
    "    if(len(media_pcts) > 0):\n",
    "        media_pct = np.mean(media_pcts)\n",
    "    else:\n",
    "        media_pct = ''\n",
    "    return media_pct\n",
    "combined_media_var = 'latin_american_media_pct'\n",
    "media_vars = ['latin_american_artist_video_pct', 'latin_american_music_genre_pct']\n",
    "combined_data = combined_data.assign(**{\n",
    "    combined_media_var : combined_data.apply(lambda x: assign_media_pct(x, media_vars), axis=1)\n",
    "})"
   ]
  },
  {
   "cell_type": "markdown",
   "metadata": {},
   "source": [
    "Determine coverage among each attribute and intersection between all attributes."
   ]
  },
  {
   "cell_type": "code",
   "execution_count": 50,
   "metadata": {},
   "outputs": [
    {
     "name": "stdout",
     "output_type": "stream",
     "text": [
      "var=description_location_country author coverage=26827/82797 (0.324)\n",
      "var=description_location_country post coverage=29520/89556 (0.330)\n",
      "var=es author coverage=78626/82797 (0.950)\n",
      "var=es post coverage=85238/89556 (0.952)\n",
      "var=latin_american_media_pct author coverage=6471/82797 (0.078)\n",
      "var=latin_american_media_pct post coverage=7023/89556 (0.078)\n",
      "var=latin_american_artist_video_pct author coverage=6120/82797 (0.074)\n",
      "var=latin_american_artist_video_pct post coverage=6628/89556 (0.074)\n",
      "var=latin_american_music_genre_pct author coverage=1531/82797 (0.018)\n",
      "var=latin_american_music_genre_pct post coverage=1734/89556 (0.019)\n",
      "var=integrated_verb_pct author coverage=45520/82797 (0.550)\n",
      "var=integrated_verb_pct post coverage=50653/89556 (0.566)\n"
     ]
    },
    {
     "data": {
      "text/html": [
       "<div>\n",
       "<style scoped>\n",
       "    .dataframe tbody tr th:only-of-type {\n",
       "        vertical-align: middle;\n",
       "    }\n",
       "\n",
       "    .dataframe tbody tr th {\n",
       "        vertical-align: top;\n",
       "    }\n",
       "\n",
       "    .dataframe thead th {\n",
       "        text-align: right;\n",
       "    }\n",
       "</style>\n",
       "<table border=\"1\" class=\"dataframe\">\n",
       "  <thead>\n",
       "    <tr style=\"text-align: right;\">\n",
       "      <th></th>\n",
       "      <th>data_var</th>\n",
       "      <th>post count</th>\n",
       "      <th>post %</th>\n",
       "      <th>author count</th>\n",
       "      <th>author %</th>\n",
       "    </tr>\n",
       "  </thead>\n",
       "  <tbody>\n",
       "    <tr>\n",
       "      <th>0</th>\n",
       "      <td>description_location_country</td>\n",
       "      <td>29520</td>\n",
       "      <td>0.329626</td>\n",
       "      <td>26827</td>\n",
       "      <td>0.324009</td>\n",
       "    </tr>\n",
       "    <tr>\n",
       "      <th>1</th>\n",
       "      <td>es</td>\n",
       "      <td>85238</td>\n",
       "      <td>0.951784</td>\n",
       "      <td>78626</td>\n",
       "      <td>0.949624</td>\n",
       "    </tr>\n",
       "    <tr>\n",
       "      <th>2</th>\n",
       "      <td>latin_american_media_pct</td>\n",
       "      <td>7023</td>\n",
       "      <td>0.078420</td>\n",
       "      <td>6471</td>\n",
       "      <td>0.078155</td>\n",
       "    </tr>\n",
       "    <tr>\n",
       "      <th>3</th>\n",
       "      <td>latin_american_artist_video_pct</td>\n",
       "      <td>6628</td>\n",
       "      <td>0.074010</td>\n",
       "      <td>6120</td>\n",
       "      <td>0.073916</td>\n",
       "    </tr>\n",
       "    <tr>\n",
       "      <th>4</th>\n",
       "      <td>latin_american_music_genre_pct</td>\n",
       "      <td>1734</td>\n",
       "      <td>0.019362</td>\n",
       "      <td>1531</td>\n",
       "      <td>0.018491</td>\n",
       "    </tr>\n",
       "    <tr>\n",
       "      <th>5</th>\n",
       "      <td>integrated_verb_pct</td>\n",
       "      <td>50653</td>\n",
       "      <td>0.565601</td>\n",
       "      <td>45520</td>\n",
       "      <td>0.549778</td>\n",
       "    </tr>\n",
       "  </tbody>\n",
       "</table>\n",
       "</div>"
      ],
      "text/plain": [
       "                          data_var  post count    post %  author count  \\\n",
       "0     description_location_country       29520  0.329626         26827   \n",
       "1                               es       85238  0.951784         78626   \n",
       "2         latin_american_media_pct        7023  0.078420          6471   \n",
       "3  latin_american_artist_video_pct        6628  0.074010          6120   \n",
       "4   latin_american_music_genre_pct        1734  0.019362          1531   \n",
       "5              integrated_verb_pct       50653  0.565601         45520   \n",
       "\n",
       "   author %  \n",
       "0  0.324009  \n",
       "1  0.949624  \n",
       "2  0.078155  \n",
       "3  0.073916  \n",
       "4  0.018491  \n",
       "5  0.549778  "
      ]
     },
     "metadata": {},
     "output_type": "display_data"
    }
   ],
   "source": [
    "# all media\n",
    "coverage_data = []\n",
    "all_social_data_vars = ['description_location_country', 'es', 'latin_american_media_pct', 'latin_american_artist_video_pct', 'latin_american_music_genre_pct', 'integrated_verb_pct']\n",
    "for data_var in all_social_data_vars:\n",
    "    data_i = combined_data[combined_data.loc[:, data_var] != '']\n",
    "    loanword_author_data_i = loanword_author_data[loanword_author_data.loc[:, author_var].isin(data_i.loc[:, author_var].values)]\n",
    "    N_author_i = loanword_author_data_i.loc[:, author_var].nunique()\n",
    "    author_coverage_i = N_author_i / N_loanword_author\n",
    "    N_post_i = loanword_author_data_i.shape[0]\n",
    "    post_coverage_i = N_post_i / N_loanword_posts\n",
    "    print('var=%s author coverage=%d/%d (%.3f)'%(data_var, N_author_i, N_loanword_author, author_coverage_i))\n",
    "    print('var=%s post coverage=%d/%d (%.3f)'%(data_var, N_post_i, N_loanword_posts, post_coverage_i))\n",
    "    coverage_data.append([data_var, N_post_i, post_coverage_i, N_author_i, author_coverage_i])\n",
    "coverage_data = pd.DataFrame(coverage_data, columns=['data_var', 'post count', 'post %', 'author count', 'author %'])\n",
    "display(coverage_data)"
   ]
  },
  {
   "cell_type": "markdown",
   "metadata": {},
   "source": [
    "OK! So what is the join coverage?"
   ]
  },
  {
   "cell_type": "code",
   "execution_count": 56,
   "metadata": {
    "scrolled": true
   },
   "outputs": [
    {
     "name": "stdout",
     "output_type": "stream",
     "text": [
      "2280/89556 posts with all variables (2.546%)\n",
      "2106/82797 authors with all variables (2.544%)\n"
     ]
    }
   ],
   "source": [
    "# joint coverage\n",
    "joint_data = combined_data.copy()\n",
    "social_data_vars = ['description_location_country', 'es', 'latin_american_media_pct', 'integrated_verb_pct']\n",
    "for data_var in social_data_vars:\n",
    "    joint_data = joint_data[joint_data.loc[:, data_var] != '']\n",
    "N_joint_authors = joint_data.loc[:, author_var].nunique()\n",
    "N_joint_posts = loanword_author_data[loanword_author_data.loc[:, author_var].isin(joint_data.loc[:, author_var].values)].shape[0]\n",
    "print('%d/%d posts with all variables (%.3f%%)'%(N_joint_posts, N_loanword_posts, N_joint_posts / N_loanword_posts * 100))\n",
    "print('%d/%d authors with all variables (%.3f%%)'%(N_joint_authors, N_loanword_author, N_joint_authors / N_loanword_author * 100))"
   ]
  },
  {
   "cell_type": "markdown",
   "metadata": {},
   "source": [
    "OK! This is actually good.\n",
    "\n",
    "What if we leave out native verbs?"
   ]
  },
  {
   "cell_type": "code",
   "execution_count": 54,
   "metadata": {
    "scrolled": true
   },
   "outputs": [
    {
     "name": "stdout",
     "output_type": "stream",
     "text": [
      "joint data has 2145/82797 authors (2.591)\n",
      "joint data has 2321/89556 posts (2.592)\n"
     ]
    }
   ],
   "source": [
    "subset_social_data_vars = ['description_location_country', 'es', 'latin_american_media_pct']\n",
    "joint_data = combined_data.copy()\n",
    "for data_var in subset_social_data_vars:\n",
    "    joint_data = joint_data[joint_data.loc[:, data_var] != '']\n",
    "# authors\n",
    "N_joint_authors = joint_data.loc[:, author_var].nunique()\n",
    "N_joint_posts = loanword_author_data[loanword_author_data.loc[:, author_var].isin(joint_data.loc[:, author_var].values)].shape[0]\n",
    "print('joint data has %d/%d authors (%.3f)'%(N_joint_authors, N_loanword_author, N_joint_authors / N_loanword_author * 100))\n",
    "print('joint data has %d/%d posts (%.3f)'%(N_joint_posts, N_loanword_posts, N_joint_posts / N_loanword_posts * 100))"
   ]
  },
  {
   "cell_type": "code",
   "execution_count": 57,
   "metadata": {},
   "outputs": [
    {
     "name": "stdout",
     "output_type": "stream",
     "text": [
      "joint data has 14943/82797 authors (18.048)\n",
      "joint data has 16987/89556 posts (18.968)\n"
     ]
    }
   ],
   "source": [
    "subset_social_data_vars = ['description_location_country', 'es', 'integrated_verb_pct']\n",
    "joint_data = combined_data.copy()\n",
    "for data_var in subset_social_data_vars:\n",
    "    joint_data = joint_data[joint_data.loc[:, data_var] != '']\n",
    "# authors\n",
    "N_joint_authors = joint_data.loc[:, author_var].nunique()\n",
    "N_joint_posts = loanword_author_data[loanword_author_data.loc[:, author_var].isin(joint_data.loc[:, author_var].values)].shape[0]\n",
    "print('joint data has %d/%d authors (%.3f)'%(N_joint_authors, N_loanword_author, N_joint_authors / N_loanword_author * 100))\n",
    "print('joint data has %d/%d posts (%.3f)'%(N_joint_posts, N_loanword_posts, N_joint_posts / N_loanword_posts * 100))"
   ]
  },
  {
   "cell_type": "markdown",
   "metadata": {},
   "source": [
    "Still pretty good."
   ]
  },
  {
   "cell_type": "code",
   "execution_count": null,
   "metadata": {},
   "outputs": [],
   "source": []
  },
  {
   "cell_type": "markdown",
   "metadata": {},
   "source": [
    "### Testing Google Drive"
   ]
  },
  {
   "cell_type": "code",
   "execution_count": 7,
   "metadata": {
    "scrolled": true
   },
   "outputs": [],
   "source": [
    "from googleapiclient.discovery import build\n",
    "from google_auth_oauthlib.flow import InstalledAppFlow\n",
    "from google.auth.credentials import AnonymousCredentials\n",
    "# import json\n",
    "# google_creds_file = '../../data/google_drive_credentials.json'\n",
    "# scopes = ['https://www.googleapis.com/auth/drive.metadata.readonly']\n",
    "# flow = InstalledAppFlow.from_client_secrets_file(google_creds_file, scopes=scopes)\n",
    "# creds = flow.run_local_server(port=0)\n",
    "# service = build('drive', 'v3', acc)\n",
    "# # service = build('drive', 'v3', credentials=google_creds)\n",
    "# # try reading files from directory\n",
    "# results = service.files().list(pageSize=10, fields=\"nextPageToken, files(id, name)\").execute()\n",
    "# print(results)"
   ]
  },
  {
   "cell_type": "code",
   "execution_count": 17,
   "metadata": {},
   "outputs": [],
   "source": [
    "# # load service\n",
    "# from oauth2client import file, client, tools\n",
    "# SCOPES = 'https://www.googleapis.com/auth/drive.file'\n",
    "# cred_file = '../../data/google_drive_credentials.json'\n",
    "# store = file.Storage(cred_file)\n",
    "# creds = store.get()\n",
    "# # if not creds or creds.invalid:\n",
    "# #     flow = client.flow_from_clientsecrets('client_secret.json', SCOPES)\n",
    "# #     creds = tools.run_flow(flow, store)\n",
    "# drive_service = build('drive', 'v3', http=creds.authorize(Http()))"
   ]
  },
  {
   "cell_type": "code",
   "execution_count": 18,
   "metadata": {},
   "outputs": [],
   "source": [
    "# from apiclient.http import MediaFileUpload\n",
    "# # upload file\n",
    "# file_name = '../../data/mined_tweets/loanword_author_tweets/aa_blea_tweets.gz'\n",
    "# file_metadata = {'name': file_name}\n",
    "# media = MediaFileUpload(file_name,\n",
    "#                         mimetype='*/*')\n",
    "# file = drive_service.files().create(body=file_metadata,\n",
    "#                                     media_body=media,\n",
    "#                                     fields='id').execute()\n",
    "# print('File ID: %s'%file.get('id'))\n"
   ]
  },
  {
   "cell_type": "code",
   "execution_count": 25,
   "metadata": {
    "scrolled": true
   },
   "outputs": [
    {
     "ename": "KeyboardInterrupt",
     "evalue": "",
     "output_type": "error",
     "traceback": [
      "\u001b[0;31m---------------------------------------------------------------------------\u001b[0m",
      "\u001b[0;31mKeyboardInterrupt\u001b[0m                         Traceback (most recent call last)",
      "\u001b[0;32m<ipython-input-25-ce91d5f77cc4>\u001b[0m in \u001b[0;36m<module>\u001b[0;34m\u001b[0m\n\u001b[1;32m      6\u001b[0m \u001b[0mdrive\u001b[0m \u001b[0;34m=\u001b[0m \u001b[0mGoogleDrive\u001b[0m\u001b[0;34m(\u001b[0m\u001b[0mgoogle_auth\u001b[0m\u001b[0;34m)\u001b[0m\u001b[0;34m\u001b[0m\u001b[0;34m\u001b[0m\u001b[0m\n\u001b[1;32m      7\u001b[0m \u001b[0mfile1\u001b[0m \u001b[0;34m=\u001b[0m \u001b[0mdrive\u001b[0m\u001b[0;34m.\u001b[0m\u001b[0mCreateFile\u001b[0m\u001b[0;34m(\u001b[0m\u001b[0;34m{\u001b[0m\u001b[0;34m'title'\u001b[0m \u001b[0;34m:\u001b[0m \u001b[0;34m'test.txt'\u001b[0m\u001b[0;34m}\u001b[0m\u001b[0;34m)\u001b[0m\u001b[0;34m\u001b[0m\u001b[0;34m\u001b[0m\u001b[0m\n\u001b[0;32m----> 8\u001b[0;31m \u001b[0mfile1\u001b[0m\u001b[0;34m.\u001b[0m\u001b[0mUpload\u001b[0m\u001b[0;34m(\u001b[0m\u001b[0;34m)\u001b[0m\u001b[0;34m\u001b[0m\u001b[0;34m\u001b[0m\u001b[0m\n\u001b[0m",
      "\u001b[0;32m/hg190/istewart6/miniconda3/envs/py3/lib/python3.6/site-packages/pydrive/files.py\u001b[0m in \u001b[0;36mUpload\u001b[0;34m(self, param)\u001b[0m\n\u001b[1;32m    283\u001b[0m         \u001b[0mself\u001b[0m\u001b[0;34m.\u001b[0m\u001b[0m_FilesPatch\u001b[0m\u001b[0;34m(\u001b[0m\u001b[0mparam\u001b[0m\u001b[0;34m=\u001b[0m\u001b[0mparam\u001b[0m\u001b[0;34m)\u001b[0m\u001b[0;34m\u001b[0m\u001b[0;34m\u001b[0m\u001b[0m\n\u001b[1;32m    284\u001b[0m     \u001b[0;32melse\u001b[0m\u001b[0;34m:\u001b[0m\u001b[0;34m\u001b[0m\u001b[0;34m\u001b[0m\u001b[0m\n\u001b[0;32m--> 285\u001b[0;31m       \u001b[0mself\u001b[0m\u001b[0;34m.\u001b[0m\u001b[0m_FilesInsert\u001b[0m\u001b[0;34m(\u001b[0m\u001b[0mparam\u001b[0m\u001b[0;34m=\u001b[0m\u001b[0mparam\u001b[0m\u001b[0;34m)\u001b[0m\u001b[0;34m\u001b[0m\u001b[0;34m\u001b[0m\u001b[0m\n\u001b[0m\u001b[1;32m    286\u001b[0m \u001b[0;34m\u001b[0m\u001b[0m\n\u001b[1;32m    287\u001b[0m   \u001b[0;32mdef\u001b[0m \u001b[0mTrash\u001b[0m\u001b[0;34m(\u001b[0m\u001b[0mself\u001b[0m\u001b[0;34m,\u001b[0m \u001b[0mparam\u001b[0m\u001b[0;34m=\u001b[0m\u001b[0;32mNone\u001b[0m\u001b[0;34m)\u001b[0m\u001b[0;34m:\u001b[0m\u001b[0;34m\u001b[0m\u001b[0;34m\u001b[0m\u001b[0m\n",
      "\u001b[0;32m/hg190/istewart6/miniconda3/envs/py3/lib/python3.6/site-packages/pydrive/auth.py\u001b[0m in \u001b[0;36m_decorated\u001b[0;34m(self, *args, **kwargs)\u001b[0m\n\u001b[1;32m     55\u001b[0m         \u001b[0mself\u001b[0m\u001b[0;34m.\u001b[0m\u001b[0mauth\u001b[0m\u001b[0;34m.\u001b[0m\u001b[0mServiceAuth\u001b[0m\u001b[0;34m(\u001b[0m\u001b[0;34m)\u001b[0m\u001b[0;34m\u001b[0m\u001b[0;34m\u001b[0m\u001b[0m\n\u001b[1;32m     56\u001b[0m       \u001b[0;32melse\u001b[0m\u001b[0;34m:\u001b[0m\u001b[0;34m\u001b[0m\u001b[0;34m\u001b[0m\u001b[0m\n\u001b[0;32m---> 57\u001b[0;31m         \u001b[0mself\u001b[0m\u001b[0;34m.\u001b[0m\u001b[0mauth\u001b[0m\u001b[0;34m.\u001b[0m\u001b[0mLocalWebserverAuth\u001b[0m\u001b[0;34m(\u001b[0m\u001b[0;34m)\u001b[0m\u001b[0;34m\u001b[0m\u001b[0;34m\u001b[0m\u001b[0m\n\u001b[0m\u001b[1;32m     58\u001b[0m \u001b[0;34m\u001b[0m\u001b[0m\n\u001b[1;32m     59\u001b[0m     \u001b[0;31m# Initialise service if not built yet.\u001b[0m\u001b[0;34m\u001b[0m\u001b[0;34m\u001b[0m\u001b[0;34m\u001b[0m\u001b[0m\n",
      "\u001b[0;32m/hg190/istewart6/miniconda3/envs/py3/lib/python3.6/site-packages/pydrive/auth.py\u001b[0m in \u001b[0;36m_decorated\u001b[0;34m(self, *args, **kwargs)\u001b[0m\n\u001b[1;32m    113\u001b[0m       \u001b[0mself\u001b[0m\u001b[0;34m.\u001b[0m\u001b[0mGetFlow\u001b[0m\u001b[0;34m(\u001b[0m\u001b[0;34m)\u001b[0m\u001b[0;34m\u001b[0m\u001b[0;34m\u001b[0m\u001b[0m\n\u001b[1;32m    114\u001b[0m     \u001b[0;32mif\u001b[0m \u001b[0mself\u001b[0m\u001b[0;34m.\u001b[0m\u001b[0mcredentials\u001b[0m \u001b[0;32mis\u001b[0m \u001b[0;32mNone\u001b[0m\u001b[0;34m:\u001b[0m\u001b[0;34m\u001b[0m\u001b[0;34m\u001b[0m\u001b[0m\n\u001b[0;32m--> 115\u001b[0;31m       \u001b[0mcode\u001b[0m \u001b[0;34m=\u001b[0m \u001b[0mdecoratee\u001b[0m\u001b[0;34m(\u001b[0m\u001b[0mself\u001b[0m\u001b[0;34m,\u001b[0m \u001b[0;34m*\u001b[0m\u001b[0margs\u001b[0m\u001b[0;34m,\u001b[0m \u001b[0;34m**\u001b[0m\u001b[0mkwargs\u001b[0m\u001b[0;34m)\u001b[0m\u001b[0;34m\u001b[0m\u001b[0;34m\u001b[0m\u001b[0m\n\u001b[0m\u001b[1;32m    116\u001b[0m       \u001b[0mdirty\u001b[0m \u001b[0;34m=\u001b[0m \u001b[0;32mTrue\u001b[0m\u001b[0;34m\u001b[0m\u001b[0;34m\u001b[0m\u001b[0m\n\u001b[1;32m    117\u001b[0m     \u001b[0;32melse\u001b[0m\u001b[0;34m:\u001b[0m\u001b[0;34m\u001b[0m\u001b[0;34m\u001b[0m\u001b[0m\n",
      "\u001b[0;32m/hg190/istewart6/miniconda3/envs/py3/lib/python3.6/site-packages/pydrive/auth.py\u001b[0m in \u001b[0;36mLocalWebserverAuth\u001b[0;34m(self, host_name, port_numbers)\u001b[0m\n\u001b[1;32m    225\u001b[0m     \u001b[0mself\u001b[0m\u001b[0;34m.\u001b[0m\u001b[0mflow\u001b[0m\u001b[0;34m.\u001b[0m\u001b[0mredirect_uri\u001b[0m \u001b[0;34m=\u001b[0m \u001b[0moauth_callback\u001b[0m\u001b[0;34m\u001b[0m\u001b[0;34m\u001b[0m\u001b[0m\n\u001b[1;32m    226\u001b[0m     \u001b[0mauthorize_url\u001b[0m \u001b[0;34m=\u001b[0m \u001b[0mself\u001b[0m\u001b[0;34m.\u001b[0m\u001b[0mGetAuthUrl\u001b[0m\u001b[0;34m(\u001b[0m\u001b[0;34m)\u001b[0m\u001b[0;34m\u001b[0m\u001b[0;34m\u001b[0m\u001b[0m\n\u001b[0;32m--> 227\u001b[0;31m     \u001b[0mwebbrowser\u001b[0m\u001b[0;34m.\u001b[0m\u001b[0mopen\u001b[0m\u001b[0;34m(\u001b[0m\u001b[0mauthorize_url\u001b[0m\u001b[0;34m,\u001b[0m \u001b[0mnew\u001b[0m\u001b[0;34m=\u001b[0m\u001b[0;36m1\u001b[0m\u001b[0;34m,\u001b[0m \u001b[0mautoraise\u001b[0m\u001b[0;34m=\u001b[0m\u001b[0;32mTrue\u001b[0m\u001b[0;34m)\u001b[0m\u001b[0;34m\u001b[0m\u001b[0;34m\u001b[0m\u001b[0m\n\u001b[0m\u001b[1;32m    228\u001b[0m     \u001b[0mprint\u001b[0m\u001b[0;34m(\u001b[0m\u001b[0;34m'Your browser has been opened to visit:'\u001b[0m\u001b[0;34m)\u001b[0m\u001b[0;34m\u001b[0m\u001b[0;34m\u001b[0m\u001b[0m\n\u001b[1;32m    229\u001b[0m     \u001b[0mprint\u001b[0m\u001b[0;34m(\u001b[0m\u001b[0;34m)\u001b[0m\u001b[0;34m\u001b[0m\u001b[0;34m\u001b[0m\u001b[0m\n",
      "\u001b[0;32m/hg190/istewart6/miniconda3/envs/py3/lib/python3.6/webbrowser.py\u001b[0m in \u001b[0;36mopen\u001b[0;34m(url, new, autoraise)\u001b[0m\n\u001b[1;32m     58\u001b[0m     \u001b[0;32mfor\u001b[0m \u001b[0mname\u001b[0m \u001b[0;32min\u001b[0m \u001b[0m_tryorder\u001b[0m\u001b[0;34m:\u001b[0m\u001b[0;34m\u001b[0m\u001b[0;34m\u001b[0m\u001b[0m\n\u001b[1;32m     59\u001b[0m         \u001b[0mbrowser\u001b[0m \u001b[0;34m=\u001b[0m \u001b[0mget\u001b[0m\u001b[0;34m(\u001b[0m\u001b[0mname\u001b[0m\u001b[0;34m)\u001b[0m\u001b[0;34m\u001b[0m\u001b[0;34m\u001b[0m\u001b[0m\n\u001b[0;32m---> 60\u001b[0;31m         \u001b[0;32mif\u001b[0m \u001b[0mbrowser\u001b[0m\u001b[0;34m.\u001b[0m\u001b[0mopen\u001b[0m\u001b[0;34m(\u001b[0m\u001b[0murl\u001b[0m\u001b[0;34m,\u001b[0m \u001b[0mnew\u001b[0m\u001b[0;34m,\u001b[0m \u001b[0mautoraise\u001b[0m\u001b[0;34m)\u001b[0m\u001b[0;34m:\u001b[0m\u001b[0;34m\u001b[0m\u001b[0;34m\u001b[0m\u001b[0m\n\u001b[0m\u001b[1;32m     61\u001b[0m             \u001b[0;32mreturn\u001b[0m \u001b[0;32mTrue\u001b[0m\u001b[0;34m\u001b[0m\u001b[0;34m\u001b[0m\u001b[0m\n\u001b[1;32m     62\u001b[0m     \u001b[0;32mreturn\u001b[0m \u001b[0;32mFalse\u001b[0m\u001b[0;34m\u001b[0m\u001b[0;34m\u001b[0m\u001b[0m\n",
      "\u001b[0;32m/hg190/istewart6/miniconda3/envs/py3/lib/python3.6/webbrowser.py\u001b[0m in \u001b[0;36mopen\u001b[0;34m(self, url, new, autoraise)\u001b[0m\n\u001b[1;32m    144\u001b[0m             \u001b[0;32melse\u001b[0m\u001b[0;34m:\u001b[0m\u001b[0;34m\u001b[0m\u001b[0;34m\u001b[0m\u001b[0m\n\u001b[1;32m    145\u001b[0m                 \u001b[0mp\u001b[0m \u001b[0;34m=\u001b[0m \u001b[0msubprocess\u001b[0m\u001b[0;34m.\u001b[0m\u001b[0mPopen\u001b[0m\u001b[0;34m(\u001b[0m\u001b[0mcmdline\u001b[0m\u001b[0;34m,\u001b[0m \u001b[0mclose_fds\u001b[0m\u001b[0;34m=\u001b[0m\u001b[0;32mTrue\u001b[0m\u001b[0;34m)\u001b[0m\u001b[0;34m\u001b[0m\u001b[0;34m\u001b[0m\u001b[0m\n\u001b[0;32m--> 146\u001b[0;31m             \u001b[0;32mreturn\u001b[0m \u001b[0;32mnot\u001b[0m \u001b[0mp\u001b[0m\u001b[0;34m.\u001b[0m\u001b[0mwait\u001b[0m\u001b[0;34m(\u001b[0m\u001b[0;34m)\u001b[0m\u001b[0;34m\u001b[0m\u001b[0;34m\u001b[0m\u001b[0m\n\u001b[0m\u001b[1;32m    147\u001b[0m         \u001b[0;32mexcept\u001b[0m \u001b[0mOSError\u001b[0m\u001b[0;34m:\u001b[0m\u001b[0;34m\u001b[0m\u001b[0;34m\u001b[0m\u001b[0m\n\u001b[1;32m    148\u001b[0m             \u001b[0;32mreturn\u001b[0m \u001b[0;32mFalse\u001b[0m\u001b[0;34m\u001b[0m\u001b[0;34m\u001b[0m\u001b[0m\n",
      "\u001b[0;32m/hg190/istewart6/miniconda3/envs/py3/lib/python3.6/subprocess.py\u001b[0m in \u001b[0;36mwait\u001b[0;34m(self, timeout, endtime)\u001b[0m\n\u001b[1;32m   1475\u001b[0m                         \u001b[0;32mif\u001b[0m \u001b[0mself\u001b[0m\u001b[0;34m.\u001b[0m\u001b[0mreturncode\u001b[0m \u001b[0;32mis\u001b[0m \u001b[0;32mnot\u001b[0m \u001b[0;32mNone\u001b[0m\u001b[0;34m:\u001b[0m\u001b[0;34m\u001b[0m\u001b[0;34m\u001b[0m\u001b[0m\n\u001b[1;32m   1476\u001b[0m                             \u001b[0;32mbreak\u001b[0m  \u001b[0;31m# Another thread waited.\u001b[0m\u001b[0;34m\u001b[0m\u001b[0;34m\u001b[0m\u001b[0m\n\u001b[0;32m-> 1477\u001b[0;31m                         \u001b[0;34m(\u001b[0m\u001b[0mpid\u001b[0m\u001b[0;34m,\u001b[0m \u001b[0msts\u001b[0m\u001b[0;34m)\u001b[0m \u001b[0;34m=\u001b[0m \u001b[0mself\u001b[0m\u001b[0;34m.\u001b[0m\u001b[0m_try_wait\u001b[0m\u001b[0;34m(\u001b[0m\u001b[0;36m0\u001b[0m\u001b[0;34m)\u001b[0m\u001b[0;34m\u001b[0m\u001b[0;34m\u001b[0m\u001b[0m\n\u001b[0m\u001b[1;32m   1478\u001b[0m                         \u001b[0;31m# Check the pid and loop as waitpid has been known to\u001b[0m\u001b[0;34m\u001b[0m\u001b[0;34m\u001b[0m\u001b[0;34m\u001b[0m\u001b[0m\n\u001b[1;32m   1479\u001b[0m                         \u001b[0;31m# return 0 even without WNOHANG in odd situations.\u001b[0m\u001b[0;34m\u001b[0m\u001b[0;34m\u001b[0m\u001b[0;34m\u001b[0m\u001b[0m\n",
      "\u001b[0;32m/hg190/istewart6/miniconda3/envs/py3/lib/python3.6/subprocess.py\u001b[0m in \u001b[0;36m_try_wait\u001b[0;34m(self, wait_flags)\u001b[0m\n\u001b[1;32m   1422\u001b[0m             \u001b[0;34m\"\"\"All callers to this function MUST hold self._waitpid_lock.\"\"\"\u001b[0m\u001b[0;34m\u001b[0m\u001b[0;34m\u001b[0m\u001b[0m\n\u001b[1;32m   1423\u001b[0m             \u001b[0;32mtry\u001b[0m\u001b[0;34m:\u001b[0m\u001b[0;34m\u001b[0m\u001b[0;34m\u001b[0m\u001b[0m\n\u001b[0;32m-> 1424\u001b[0;31m                 \u001b[0;34m(\u001b[0m\u001b[0mpid\u001b[0m\u001b[0;34m,\u001b[0m \u001b[0msts\u001b[0m\u001b[0;34m)\u001b[0m \u001b[0;34m=\u001b[0m \u001b[0mos\u001b[0m\u001b[0;34m.\u001b[0m\u001b[0mwaitpid\u001b[0m\u001b[0;34m(\u001b[0m\u001b[0mself\u001b[0m\u001b[0;34m.\u001b[0m\u001b[0mpid\u001b[0m\u001b[0;34m,\u001b[0m \u001b[0mwait_flags\u001b[0m\u001b[0;34m)\u001b[0m\u001b[0;34m\u001b[0m\u001b[0;34m\u001b[0m\u001b[0m\n\u001b[0m\u001b[1;32m   1425\u001b[0m             \u001b[0;32mexcept\u001b[0m \u001b[0mChildProcessError\u001b[0m\u001b[0;34m:\u001b[0m\u001b[0;34m\u001b[0m\u001b[0;34m\u001b[0m\u001b[0m\n\u001b[1;32m   1426\u001b[0m                 \u001b[0;31m# This happens if SIGCLD is set to be ignored or waiting\u001b[0m\u001b[0;34m\u001b[0m\u001b[0;34m\u001b[0m\u001b[0;34m\u001b[0m\u001b[0m\n",
      "\u001b[0;31mKeyboardInterrupt\u001b[0m: "
     ]
    }
   ],
   "source": [
    "from pydrive.auth import GoogleAuth\n",
    "from pydrive.drive import GoogleDrive\n",
    "google_auth = GoogleAuth()\n",
    "# cred_file = '../../data/google_drive_credentials.json'\n",
    "# google_auth.LoadCredentialsFile(cred_file)\n",
    "drive = GoogleDrive(google_auth)\n",
    "file1 = drive.CreateFile({'title' : 'test.txt'})\n",
    "file1.Upload()"
   ]
  },
  {
   "cell_type": "code",
   "execution_count": 26,
   "metadata": {},
   "outputs": [
    {
     "data": {
      "text/plain": [
       "['Auth',\n",
       " 'Authenticate',\n",
       " 'Authorize',\n",
       " 'CLIENT_CONFIGS_LIST',\n",
       " 'CommandLineAuth',\n",
       " 'DEFAULT_SETTINGS',\n",
       " 'GetAuthUrl',\n",
       " 'GetFlow',\n",
       " 'Get_Http_Object',\n",
       " 'LoadClientConfig',\n",
       " 'LoadClientConfigFile',\n",
       " 'LoadClientConfigSettings',\n",
       " 'LoadCredentials',\n",
       " 'LoadCredentialsFile',\n",
       " 'LoadServiceConfigSettings',\n",
       " 'LocalWebserverAuth',\n",
       " 'Refresh',\n",
       " 'SERVICE_CONFIGS_LIST',\n",
       " 'SaveCredentials',\n",
       " 'SaveCredentialsFile',\n",
       " 'ServiceAuth',\n",
       " '__class__',\n",
       " '__delattr__',\n",
       " '__dict__',\n",
       " '__dir__',\n",
       " '__doc__',\n",
       " '__eq__',\n",
       " '__format__',\n",
       " '__ge__',\n",
       " '__getattribute__',\n",
       " '__gt__',\n",
       " '__hash__',\n",
       " '__init__',\n",
       " '__init_subclass__',\n",
       " '__le__',\n",
       " '__lt__',\n",
       " '__module__',\n",
       " '__ne__',\n",
       " '__new__',\n",
       " '__reduce__',\n",
       " '__reduce_ex__',\n",
       " '__repr__',\n",
       " '__setattr__',\n",
       " '__sizeof__',\n",
       " '__str__',\n",
       " '__subclasshook__',\n",
       " '__weakref__',\n",
       " 'access_token_expired',\n",
       " 'attr',\n",
       " 'auth_method',\n",
       " 'client_config',\n",
       " 'credentials',\n",
       " 'dirty',\n",
       " 'flow',\n",
       " 'http',\n",
       " 'http_timeout',\n",
       " 'service',\n",
       " 'settings']"
      ]
     },
     "execution_count": 26,
     "metadata": {},
     "output_type": "execute_result"
    }
   ],
   "source": [
    "dir(google_auth)"
   ]
  },
  {
   "cell_type": "code",
   "execution_count": null,
   "metadata": {},
   "outputs": [],
   "source": []
  }
 ],
 "metadata": {
  "kernelspec": {
   "display_name": "Python [conda env:py3] *",
   "language": "python",
   "name": "conda-env-py3-py"
  },
  "language_info": {
   "codemirror_mode": {
    "name": "ipython",
    "version": 3
   },
   "file_extension": ".py",
   "mimetype": "text/x-python",
   "name": "python",
   "nbconvert_exporter": "python",
   "pygments_lexer": "ipython3",
   "version": "3.6.10"
  }
 },
 "nbformat": 4,
 "nbformat_minor": 2
}
