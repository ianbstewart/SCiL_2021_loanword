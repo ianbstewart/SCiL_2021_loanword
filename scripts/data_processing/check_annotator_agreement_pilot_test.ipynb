{
 "cells": [
  {
   "cell_type": "markdown",
   "metadata": {},
   "source": [
    "# Check annotator agreement on pilot test\n",
    "For our pilot test, we had annotators compare `googlear` with `buscar en google` (true) and `dar google` (false).\n",
    "\n",
    "Let's see if we can find consistent agreement among the annotations."
   ]
  },
  {
   "cell_type": "code",
   "execution_count": 1,
   "metadata": {},
   "outputs": [],
   "source": [
    "import pandas as pd\n",
    "import numpy as np\n",
    "import matplotlib\n",
    "%matplotlib inline\n",
    "import matplotlib.pyplot as plt"
   ]
  },
  {
   "cell_type": "code",
   "execution_count": 2,
   "metadata": {},
   "outputs": [],
   "source": [
    "# load data\n",
    "pilot_true_sample_data = pd.read_csv('../../data/mined_reddit_comments/reddit_comments_2018_m_7_9_samples_light_verb_annotated_google_true_VERB=buscar_scalar_labels.csv', sep=',', index_col=False)\n",
    "pilot_false_sample_data = pd.read_csv('../../data/mined_reddit_comments/reddit_comments_2018_m_7_9_samples_light_verb_annotated_google_false_VERB=dar_scalar_labels.csv', sep=',', index_col=False)"
   ]
  },
  {
   "cell_type": "code",
   "execution_count": 3,
   "metadata": {},
   "outputs": [
    {
     "data": {
      "text/html": [
       "<div>\n",
       "<style scoped>\n",
       "    .dataframe tbody tr th:only-of-type {\n",
       "        vertical-align: middle;\n",
       "    }\n",
       "\n",
       "    .dataframe tbody tr th {\n",
       "        vertical-align: top;\n",
       "    }\n",
       "\n",
       "    .dataframe thead th {\n",
       "        text-align: right;\n",
       "    }\n",
       "</style>\n",
       "<table border=\"1\" class=\"dataframe\">\n",
       "  <thead>\n",
       "    <tr style=\"text-align: right;\">\n",
       "      <th></th>\n",
       "      <th>HITId</th>\n",
       "      <th>HITTypeId</th>\n",
       "      <th>Title</th>\n",
       "      <th>Description</th>\n",
       "      <th>Keywords</th>\n",
       "      <th>Reward</th>\n",
       "      <th>CreationTime</th>\n",
       "      <th>MaxAssignments</th>\n",
       "      <th>RequesterAnnotation</th>\n",
       "      <th>AssignmentDurationInSeconds</th>\n",
       "      <th>...</th>\n",
       "      <th>Input.light_verb</th>\n",
       "      <th>Input.light_verb_internal</th>\n",
       "      <th>Input.light_verb_noun</th>\n",
       "      <th>Input.light_verb_phrase</th>\n",
       "      <th>Input.text_alternative</th>\n",
       "      <th>Input.equivalent_label</th>\n",
       "      <th>Input.alternative_light_verb</th>\n",
       "      <th>Answer.equivalence.label</th>\n",
       "      <th>Approve</th>\n",
       "      <th>Reject</th>\n",
       "    </tr>\n",
       "  </thead>\n",
       "  <tbody>\n",
       "    <tr>\n",
       "      <th>0</th>\n",
       "      <td>3YLPJ8OXYB50RZDV99NUIEWENW2X48</td>\n",
       "      <td>306E1TDSEW8CKQJUNEOBGGXOBORDRW</td>\n",
       "      <td>Significado de frases</td>\n",
       "      <td>Tienen las dos frases el mismo significado?</td>\n",
       "      <td>texto, lectura, espanol</td>\n",
       "      <td>$0.15</td>\n",
       "      <td>Wed Jan 15 15:23:44 PST 2020</td>\n",
       "      <td>3</td>\n",
       "      <td>BatchId:3891931;OriginalHitTemplateId:928390909;</td>\n",
       "      <td>3600</td>\n",
       "      <td>...</td>\n",
       "      <td>dar</td>\n",
       "      <td>NaN</td>\n",
       "      <td>google</td>\n",
       "      <td>da google</td>\n",
       "      <td>da google efecto tequila</td>\n",
       "      <td>-1</td>\n",
       "      <td>-1</td>\n",
       "      <td>Significado algo diferente</td>\n",
       "      <td>NaN</td>\n",
       "      <td>NaN</td>\n",
       "    </tr>\n",
       "    <tr>\n",
       "      <th>1</th>\n",
       "      <td>3YLPJ8OXYB50RZDV99NUIEWENW2X48</td>\n",
       "      <td>306E1TDSEW8CKQJUNEOBGGXOBORDRW</td>\n",
       "      <td>Significado de frases</td>\n",
       "      <td>Tienen las dos frases el mismo significado?</td>\n",
       "      <td>texto, lectura, espanol</td>\n",
       "      <td>$0.15</td>\n",
       "      <td>Wed Jan 15 15:23:44 PST 2020</td>\n",
       "      <td>3</td>\n",
       "      <td>BatchId:3891931;OriginalHitTemplateId:928390909;</td>\n",
       "      <td>3600</td>\n",
       "      <td>...</td>\n",
       "      <td>dar</td>\n",
       "      <td>NaN</td>\n",
       "      <td>google</td>\n",
       "      <td>da google</td>\n",
       "      <td>da google efecto tequila</td>\n",
       "      <td>-1</td>\n",
       "      <td>-1</td>\n",
       "      <td>Mismo significado</td>\n",
       "      <td>NaN</td>\n",
       "      <td>NaN</td>\n",
       "    </tr>\n",
       "    <tr>\n",
       "      <th>2</th>\n",
       "      <td>3YLPJ8OXYB50RZDV99NUIEWENW2X48</td>\n",
       "      <td>306E1TDSEW8CKQJUNEOBGGXOBORDRW</td>\n",
       "      <td>Significado de frases</td>\n",
       "      <td>Tienen las dos frases el mismo significado?</td>\n",
       "      <td>texto, lectura, espanol</td>\n",
       "      <td>$0.15</td>\n",
       "      <td>Wed Jan 15 15:23:44 PST 2020</td>\n",
       "      <td>3</td>\n",
       "      <td>BatchId:3891931;OriginalHitTemplateId:928390909;</td>\n",
       "      <td>3600</td>\n",
       "      <td>...</td>\n",
       "      <td>dar</td>\n",
       "      <td>NaN</td>\n",
       "      <td>google</td>\n",
       "      <td>da google</td>\n",
       "      <td>da google efecto tequila</td>\n",
       "      <td>-1</td>\n",
       "      <td>-1</td>\n",
       "      <td>Significado algo diferente</td>\n",
       "      <td>NaN</td>\n",
       "      <td>NaN</td>\n",
       "    </tr>\n",
       "    <tr>\n",
       "      <th>3</th>\n",
       "      <td>3VEI3XUC0UP2JWD2YU9QWULLDBDPRV</td>\n",
       "      <td>306E1TDSEW8CKQJUNEOBGGXOBORDRW</td>\n",
       "      <td>Significado de frases</td>\n",
       "      <td>Tienen las dos frases el mismo significado?</td>\n",
       "      <td>texto, lectura, espanol</td>\n",
       "      <td>$0.15</td>\n",
       "      <td>Wed Jan 15 15:23:44 PST 2020</td>\n",
       "      <td>3</td>\n",
       "      <td>BatchId:3891931;OriginalHitTemplateId:928390909;</td>\n",
       "      <td>3600</td>\n",
       "      <td>...</td>\n",
       "      <td>dar</td>\n",
       "      <td>NaN</td>\n",
       "      <td>google</td>\n",
       "      <td>damos google</td>\n",
       "      <td>algunos damos google mientras nos chaqueteamos .</td>\n",
       "      <td>-1</td>\n",
       "      <td>-1</td>\n",
       "      <td>Significado algo diferente</td>\n",
       "      <td>NaN</td>\n",
       "      <td>NaN</td>\n",
       "    </tr>\n",
       "    <tr>\n",
       "      <th>4</th>\n",
       "      <td>3VEI3XUC0UP2JWD2YU9QWULLDBDPRV</td>\n",
       "      <td>306E1TDSEW8CKQJUNEOBGGXOBORDRW</td>\n",
       "      <td>Significado de frases</td>\n",
       "      <td>Tienen las dos frases el mismo significado?</td>\n",
       "      <td>texto, lectura, espanol</td>\n",
       "      <td>$0.15</td>\n",
       "      <td>Wed Jan 15 15:23:44 PST 2020</td>\n",
       "      <td>3</td>\n",
       "      <td>BatchId:3891931;OriginalHitTemplateId:928390909;</td>\n",
       "      <td>3600</td>\n",
       "      <td>...</td>\n",
       "      <td>dar</td>\n",
       "      <td>NaN</td>\n",
       "      <td>google</td>\n",
       "      <td>damos google</td>\n",
       "      <td>algunos damos google mientras nos chaqueteamos .</td>\n",
       "      <td>-1</td>\n",
       "      <td>-1</td>\n",
       "      <td>Mismo significado</td>\n",
       "      <td>NaN</td>\n",
       "      <td>NaN</td>\n",
       "    </tr>\n",
       "  </tbody>\n",
       "</table>\n",
       "<p>5 rows × 40 columns</p>\n",
       "</div>"
      ],
      "text/plain": [
       "                            HITId                       HITTypeId  \\\n",
       "0  3YLPJ8OXYB50RZDV99NUIEWENW2X48  306E1TDSEW8CKQJUNEOBGGXOBORDRW   \n",
       "1  3YLPJ8OXYB50RZDV99NUIEWENW2X48  306E1TDSEW8CKQJUNEOBGGXOBORDRW   \n",
       "2  3YLPJ8OXYB50RZDV99NUIEWENW2X48  306E1TDSEW8CKQJUNEOBGGXOBORDRW   \n",
       "3  3VEI3XUC0UP2JWD2YU9QWULLDBDPRV  306E1TDSEW8CKQJUNEOBGGXOBORDRW   \n",
       "4  3VEI3XUC0UP2JWD2YU9QWULLDBDPRV  306E1TDSEW8CKQJUNEOBGGXOBORDRW   \n",
       "\n",
       "                   Title                                  Description  \\\n",
       "0  Significado de frases  Tienen las dos frases el mismo significado?   \n",
       "1  Significado de frases  Tienen las dos frases el mismo significado?   \n",
       "2  Significado de frases  Tienen las dos frases el mismo significado?   \n",
       "3  Significado de frases  Tienen las dos frases el mismo significado?   \n",
       "4  Significado de frases  Tienen las dos frases el mismo significado?   \n",
       "\n",
       "                  Keywords Reward                  CreationTime  \\\n",
       "0  texto, lectura, espanol  $0.15  Wed Jan 15 15:23:44 PST 2020   \n",
       "1  texto, lectura, espanol  $0.15  Wed Jan 15 15:23:44 PST 2020   \n",
       "2  texto, lectura, espanol  $0.15  Wed Jan 15 15:23:44 PST 2020   \n",
       "3  texto, lectura, espanol  $0.15  Wed Jan 15 15:23:44 PST 2020   \n",
       "4  texto, lectura, espanol  $0.15  Wed Jan 15 15:23:44 PST 2020   \n",
       "\n",
       "   MaxAssignments                               RequesterAnnotation  \\\n",
       "0               3  BatchId:3891931;OriginalHitTemplateId:928390909;   \n",
       "1               3  BatchId:3891931;OriginalHitTemplateId:928390909;   \n",
       "2               3  BatchId:3891931;OriginalHitTemplateId:928390909;   \n",
       "3               3  BatchId:3891931;OriginalHitTemplateId:928390909;   \n",
       "4               3  BatchId:3891931;OriginalHitTemplateId:928390909;   \n",
       "\n",
       "   AssignmentDurationInSeconds  ...  Input.light_verb  \\\n",
       "0                         3600  ...               dar   \n",
       "1                         3600  ...               dar   \n",
       "2                         3600  ...               dar   \n",
       "3                         3600  ...               dar   \n",
       "4                         3600  ...               dar   \n",
       "\n",
       "  Input.light_verb_internal  Input.light_verb_noun  Input.light_verb_phrase  \\\n",
       "0                       NaN                 google                da google   \n",
       "1                       NaN                 google                da google   \n",
       "2                       NaN                 google                da google   \n",
       "3                       NaN                 google             damos google   \n",
       "4                       NaN                 google             damos google   \n",
       "\n",
       "                             Input.text_alternative Input.equivalent_label  \\\n",
       "0                          da google efecto tequila                     -1   \n",
       "1                          da google efecto tequila                     -1   \n",
       "2                          da google efecto tequila                     -1   \n",
       "3  algunos damos google mientras nos chaqueteamos .                     -1   \n",
       "4  algunos damos google mientras nos chaqueteamos .                     -1   \n",
       "\n",
       "  Input.alternative_light_verb    Answer.equivalence.label Approve Reject  \n",
       "0                           -1  Significado algo diferente     NaN    NaN  \n",
       "1                           -1           Mismo significado     NaN    NaN  \n",
       "2                           -1  Significado algo diferente     NaN    NaN  \n",
       "3                           -1  Significado algo diferente     NaN    NaN  \n",
       "4                           -1           Mismo significado     NaN    NaN  \n",
       "\n",
       "[5 rows x 40 columns]"
      ]
     },
     "metadata": {},
     "output_type": "display_data"
    }
   ],
   "source": [
    "display(pilot_false_sample_data.head())"
   ]
  },
  {
   "cell_type": "markdown",
   "metadata": {},
   "source": [
    "First test: what is the overall distribution of scores for both label sets?\n",
    "\n",
    "We need to convert the labels to scalar values: identical = +2, different = -2."
   ]
  },
  {
   "cell_type": "code",
   "execution_count": 76,
   "metadata": {},
   "outputs": [],
   "source": [
    "# first: translate labels\n",
    "es_label_var = 'Answer.equivalence.label'\n",
    "es_labels_ordered = ['Significado muy diferente', 'Significado algo diferente', 'Incierto', 'Significado similar', 'Mismo significado']\n",
    "en_labels_ordered = ['Very different', 'Somewhat different', 'Unsure', 'Similar', 'Same']\n",
    "label_translation = dict(zip(es_labels_ordered, en_labels_ordered))\n",
    "label_var = 'en_label'\n",
    "pilot_true_sample_data = pilot_true_sample_data.assign(**{\n",
    "    label_var : pilot_true_sample_data.loc[:, es_label_var].apply(label_translation.get)\n",
    "})\n",
    "pilot_false_sample_data = pilot_false_sample_data.assign(**{\n",
    "    label_var : pilot_false_sample_data.loc[:, es_label_var].apply(label_translation.get)\n",
    "})\n",
    "## assign label values\n",
    "label_val_min = -2\n",
    "label_val_max = 2\n",
    "label_val_range = list(range(label_val_min, label_val_max+1))\n",
    "label_to_val_dict = dict(zip(en_labels_ordered, label_val_range))\n",
    "pilot_true_sample_data = pilot_true_sample_data.assign(**{\n",
    "    'sim_label' : pilot_true_sample_data.loc[:, label_var].apply(label_to_val_dict.get)\n",
    "})\n",
    "pilot_false_sample_data = pilot_false_sample_data.assign(**{\n",
    "    'sim_label' : pilot_false_sample_data.loc[:, label_var].apply(label_to_val_dict.get)\n",
    "})"
   ]
  },
  {
   "cell_type": "code",
   "execution_count": 73,
   "metadata": {},
   "outputs": [
    {
     "name": "stdout",
     "output_type": "stream",
     "text": [
      "Same                  24\n",
      "Similar                5\n",
      "Somewhat different     1\n",
      "Name: en_label, dtype: int64\n",
      "Same                  18\n",
      "Similar                7\n",
      "Somewhat different     3\n",
      "Unsure                 2\n",
      "Name: en_label, dtype: int64\n"
     ]
    }
   ],
   "source": [
    "print(pilot_true_sample_data.loc[:, label_var].value_counts())\n",
    "print(pilot_false_sample_data.loc[:, label_var].value_counts())"
   ]
  },
  {
   "cell_type": "markdown",
   "metadata": {},
   "source": [
    "### Compare score distributions"
   ]
  },
  {
   "cell_type": "code",
   "execution_count": 74,
   "metadata": {},
   "outputs": [
    {
     "data": {
      "image/png": "[encoded data removed]",
      "text/plain": [
       "<Figure size 432x288 with 1 Axes>"
      ]
     },
     "metadata": {
      "needs_background": "light"
     },
     "output_type": "display_data"
    }
   ],
   "source": [
    "bins = np.linspace(label_val_min, label_val_max, label_val_max - label_val_min + 1)\n",
    "plt.hist(pilot_true_sample_data.loc[:, 'sim_label'], bins, color='b', alpha=0.5, label='true_light_verb')\n",
    "plt.hist(pilot_false_sample_data.loc[:, 'sim_label'], bins, color='r', alpha=0.5, label='false_light_verb')\n",
    "plt.legend(loc='upper left')\n",
    "plt.show()"
   ]
  },
  {
   "cell_type": "markdown",
   "metadata": {},
   "source": [
    "Is there a significant difference in the distributions?"
   ]
  },
  {
   "cell_type": "code",
   "execution_count": 27,
   "metadata": {},
   "outputs": [
    {
     "name": "stdout",
     "output_type": "stream",
     "text": [
      "mean difference=0.400, significant with stat=1.150E+01 (p=0.051)\n"
     ]
    }
   ],
   "source": [
    "from scipy.stats import wilcoxon # use paired test because it's the same underlying distribution\n",
    "from scipy.stats import ks_2samp\n",
    "mean_diff = pilot_true_sample_data.loc[:, 'sim_label'].mean() - pilot_false_sample_data.loc[:, 'sim_label'].mean()\n",
    "test_stat, p_val = wilcoxon(pilot_true_sample_data.loc[:, 'sim_label'], pilot_false_sample_data.loc[:, 'sim_label'])\n",
    "print('mean difference=%.3f, significant with stat=%.3E (p=%.3f)'%(mean_diff, test_stat, p_val))\n",
    "# KS test\n",
    "test_stat, p_val = ks_2samp(pilot_true_sample_data.loc[:, 'sim_label'], pilot_false_sample_data.loc[:, 'sim_label'])"
   ]
  },
  {
   "cell_type": "markdown",
   "metadata": {},
   "source": [
    "OK! Distributions are not significantly different but we do see a weak difference."
   ]
  },
  {
   "cell_type": "markdown",
   "metadata": {},
   "source": [
    "What if we look for inter-annotator agreement?"
   ]
  },
  {
   "cell_type": "code",
   "execution_count": 32,
   "metadata": {},
   "outputs": [
    {
     "name": "stdout",
     "output_type": "stream",
     "text": [
      "true light verb agreement = 0.213\n",
      "false light verb agreement = 0.025\n"
     ]
    }
   ],
   "source": [
    "import krippendorff\n",
    "def compute_agreement(sample_data):\n",
    "    sample_data = sample_data.copy()\n",
    "    task_count = sample_data.loc[:, 'HITId'].nunique()\n",
    "    annotator_count = int(sample_data.shape[0] / task_count)\n",
    "    label_col = 'Answer.equivalence.label'\n",
    "    true_sample_annotator_data = sample_data.sort_values(['HITId', 'WorkerId']).loc[:, [label_col]]\n",
    "    # replace string => numbers\n",
    "    # assign fake annotator\n",
    "    unique_labels = sample_data.loc[:, label_col].unique()\n",
    "    label_to_num = dict(zip(unique_labels, range(len(unique_labels))))\n",
    "    true_sample_annotator_data = true_sample_annotator_data.assign(**{\n",
    "        label_col : true_sample_annotator_data.loc[:, label_col].apply(label_to_num.get),\n",
    "        'annotator' : [i for _ in range(task_count) for i in range(annotator_count)]\n",
    "    })\n",
    "    reliability_data = true_sample_annotator_data.groupby('annotator').apply(lambda x: x.loc[:, label_col].values)\n",
    "#     print('reliability data')\n",
    "#     display(reliability_data)\n",
    "    agreement = krippendorff.alpha(reliability_data=list(reliability_data))\n",
    "    return agreement\n",
    "true_agreement = compute_agreement(pilot_true_sample_data)\n",
    "false_agreement = compute_agreement(pilot_false_sample_data)\n",
    "print('true light verb agreement = %.3f'%(true_agreement))\n",
    "print('false light verb agreement = %.3f'%(false_agreement))"
   ]
  },
  {
   "cell_type": "markdown",
   "metadata": {},
   "source": [
    "The true light verb has higher agreement.\n",
    "\n",
    "If we just look at the examples with consistent agreement for the label, do we see a difference in the score distribution?"
   ]
  },
  {
   "cell_type": "code",
   "execution_count": 75,
   "metadata": {},
   "outputs": [
    {
     "name": "stdout",
     "output_type": "stream",
     "text": [
      "27\n",
      "27\n",
      "2    23\n",
      "1     4\n",
      "Name: sim_label, dtype: int64\n",
      " 2    17\n",
      " 1     6\n",
      " 0     2\n",
      "-1     2\n",
      "Name: sim_label, dtype: int64\n"
     ]
    }
   ],
   "source": [
    "def get_consistent_data(data):\n",
    "    id_var = 'HITId'\n",
    "    label_var = 'en_label'\n",
    "    min_annotator_count = 2\n",
    "    max_score_counts = data.groupby(id_var).apply(lambda x: x.loc[:, label_var].value_counts().max())\n",
    "    valid_ids = max_score_counts[max_score_counts >= min_annotator_count].index\n",
    "    consistent_data = data[data.loc[:, id_var].isin(valid_ids)]\n",
    "    return consistent_data\n",
    "min_annotator_count = 2\n",
    "consistent_pilot_true_sample_data = get_consistent_data(pilot_true_sample_data)\n",
    "consistent_pilot_false_sample_data = get_consistent_data(pilot_false_sample_data)\n",
    "print(consistent_pilot_true_sample_data.shape[0])\n",
    "print(consistent_pilot_false_sample_data.shape[0])\n",
    "print(consistent_pilot_true_sample_data.loc[:, sim_var].value_counts())\n",
    "print(consistent_pilot_false_sample_data.loc[:, sim_var].value_counts())"
   ]
  },
  {
   "cell_type": "code",
   "execution_count": 81,
   "metadata": {},
   "outputs": [
    {
     "data": {
      "image/png": "[encoded data removed]",
      "text/plain": [
       "<Figure size 720x216 with 1 Axes>"
      ]
     },
     "metadata": {
      "needs_background": "light"
     },
     "output_type": "display_data"
    }
   ],
   "source": [
    "# plot distribution\n",
    "sim_var = 'sim_label'\n",
    "bins = np.linspace(label_val_min-1, label_val_max+1, label_val_max - label_val_min + 3)\n",
    "bin_offset = 0.5\n",
    "plt.figure(figsize=(10, 3))\n",
    "plt.hist(consistent_pilot_true_sample_data.loc[:, sim_var], bins, color='b', alpha=0.5, label='true_light_verb')\n",
    "plt.hist(consistent_pilot_false_sample_data.loc[:, sim_var], bins, color='r', alpha=0.5, label='false_light_verb')\n",
    "plt.xticks(np.array(label_val_range) + bin_offset, en_labels_ordered)\n",
    "plt.xlim(label_val_min, label_val_max+bin_offset+1)\n",
    "plt.legend(loc='upper left')\n",
    "plt.show()"
   ]
  },
  {
   "cell_type": "code",
   "execution_count": 40,
   "metadata": {},
   "outputs": [
    {
     "name": "stdout",
     "output_type": "stream",
     "text": [
      "mean difference=0.444, significant with stat=0.000E+00 (p=0.016)\n"
     ]
    }
   ],
   "source": [
    "# same test as before\n",
    "sim_var = 'sim_label'\n",
    "mean_diff = consistent_pilot_true_sample_data.loc[:, sim_var].mean() - consistent_pilot_false_sample_data.loc[:, sim_var].mean()\n",
    "test_stat, p_val = wilcoxon(consistent_pilot_true_sample_data.loc[:, sim_var], consistent_pilot_false_sample_data.loc[:, sim_var])\n",
    "print('mean difference=%.3f, significant with stat=%.3E (p=%.3f)'%(mean_diff, test_stat, p_val))"
   ]
  },
  {
   "cell_type": "markdown",
   "metadata": {},
   "source": [
    "OK! Now we see that the true light verbs are more consistently marked as having the same or similar meaning."
   ]
  },
  {
   "cell_type": "markdown",
   "metadata": {},
   "source": [
    "## Old code\n",
    "Binary annotation (similar/different meaning)."
   ]
  },
  {
   "cell_type": "code",
   "execution_count": 67,
   "metadata": {},
   "outputs": [],
   "source": [
    "pilot_true_sample_data = pd.read_csv('../../data/mined_reddit_comments/reddit_comments_2018_m_7_9_samples_light_verb_annotated_google_labels.csv', sep=',', index_col=False)\n",
    "pilot_false_sample_data = pd.read_csv('../../data/mined_reddit_comments/reddit_comments_2018_m_7_9_samples_light_verb_annotated_google_false_labels.csv', sep=',', index_col=False)"
   ]
  },
  {
   "cell_type": "code",
   "execution_count": 4,
   "metadata": {},
   "outputs": [
    {
     "name": "stdout",
     "output_type": "stream",
     "text": [
      "Index(['HITId', 'HITTypeId', 'Title', 'Description', 'Keywords', 'Reward',\n",
      "       'CreationTime', 'MaxAssignments', 'RequesterAnnotation',\n",
      "       'AssignmentDurationInSeconds', 'AutoApprovalDelayInSeconds',\n",
      "       'Expiration', 'NumberOfSimilarHITs', 'LifetimeInSeconds',\n",
      "       'AssignmentId', 'WorkerId', 'AssignmentStatus', 'AcceptTime',\n",
      "       'SubmitTime', 'AutoApprovalTime', 'ApprovalTime', 'RejectionTime',\n",
      "       'RequesterFeedback', 'WorkTimeInSeconds', 'LifetimeApprovalRate',\n",
      "       'Last30DaysApprovalRate', 'Last7DaysApprovalRate', 'Input.word',\n",
      "       'Input.integrated_verb', 'Input.text', 'Input.light_verb',\n",
      "       'Input.light_verb_internal', 'Input.light_verb_noun',\n",
      "       'Input.light_verb_phrase', 'Input.text_alternative',\n",
      "       'Input.equivalent_label', 'Input.alternative_light_verb',\n",
      "       'Answer.equivalence.label', 'Approve', 'Reject'],\n",
      "      dtype='object')\n"
     ]
    },
    {
     "data": {
      "text/html": [
       "<div>\n",
       "<style scoped>\n",
       "    .dataframe tbody tr th:only-of-type {\n",
       "        vertical-align: middle;\n",
       "    }\n",
       "\n",
       "    .dataframe tbody tr th {\n",
       "        vertical-align: top;\n",
       "    }\n",
       "\n",
       "    .dataframe thead th {\n",
       "        text-align: right;\n",
       "    }\n",
       "</style>\n",
       "<table border=\"1\" class=\"dataframe\">\n",
       "  <thead>\n",
       "    <tr style=\"text-align: right;\">\n",
       "      <th></th>\n",
       "      <th>HITId</th>\n",
       "      <th>HITTypeId</th>\n",
       "      <th>Title</th>\n",
       "      <th>Description</th>\n",
       "      <th>Keywords</th>\n",
       "      <th>Reward</th>\n",
       "      <th>CreationTime</th>\n",
       "      <th>MaxAssignments</th>\n",
       "      <th>RequesterAnnotation</th>\n",
       "      <th>AssignmentDurationInSeconds</th>\n",
       "      <th>...</th>\n",
       "      <th>Input.light_verb</th>\n",
       "      <th>Input.light_verb_internal</th>\n",
       "      <th>Input.light_verb_noun</th>\n",
       "      <th>Input.light_verb_phrase</th>\n",
       "      <th>Input.text_alternative</th>\n",
       "      <th>Input.equivalent_label</th>\n",
       "      <th>Input.alternative_light_verb</th>\n",
       "      <th>Answer.equivalence.label</th>\n",
       "      <th>Approve</th>\n",
       "      <th>Reject</th>\n",
       "    </tr>\n",
       "  </thead>\n",
       "  <tbody>\n",
       "    <tr>\n",
       "      <th>0</th>\n",
       "      <td>3X4Q1O9UCKEAGDHMAGY52DPV2NQ7OM</td>\n",
       "      <td>39S3HZ8OHFJ84WIXBQLU6YSOBF77SL</td>\n",
       "      <td>Significado de frases</td>\n",
       "      <td>Tienen las dos frases el mismo significado?</td>\n",
       "      <td>texto, lectura, espanol</td>\n",
       "      <td>$0.15</td>\n",
       "      <td>Sat Jan 04 14:45:58 PST 2020</td>\n",
       "      <td>3</td>\n",
       "      <td>BatchId:3883109;OriginalHitTemplateId:928390909;</td>\n",
       "      <td>3600</td>\n",
       "      <td>...</td>\n",
       "      <td>buscar</td>\n",
       "      <td>en</td>\n",
       "      <td>google</td>\n",
       "      <td>busca en google</td>\n",
       "      <td>busca en google efecto tequila</td>\n",
       "      <td>-1</td>\n",
       "      <td>-1</td>\n",
       "      <td>Mismo significado</td>\n",
       "      <td>NaN</td>\n",
       "      <td>NaN</td>\n",
       "    </tr>\n",
       "    <tr>\n",
       "      <th>1</th>\n",
       "      <td>3X4Q1O9UCKEAGDHMAGY52DPV2NQ7OM</td>\n",
       "      <td>39S3HZ8OHFJ84WIXBQLU6YSOBF77SL</td>\n",
       "      <td>Significado de frases</td>\n",
       "      <td>Tienen las dos frases el mismo significado?</td>\n",
       "      <td>texto, lectura, espanol</td>\n",
       "      <td>$0.15</td>\n",
       "      <td>Sat Jan 04 14:45:58 PST 2020</td>\n",
       "      <td>3</td>\n",
       "      <td>BatchId:3883109;OriginalHitTemplateId:928390909;</td>\n",
       "      <td>3600</td>\n",
       "      <td>...</td>\n",
       "      <td>buscar</td>\n",
       "      <td>en</td>\n",
       "      <td>google</td>\n",
       "      <td>busca en google</td>\n",
       "      <td>busca en google efecto tequila</td>\n",
       "      <td>-1</td>\n",
       "      <td>-1</td>\n",
       "      <td>Mismo significado</td>\n",
       "      <td>NaN</td>\n",
       "      <td>NaN</td>\n",
       "    </tr>\n",
       "    <tr>\n",
       "      <th>2</th>\n",
       "      <td>3X4Q1O9UCKEAGDHMAGY52DPV2NQ7OM</td>\n",
       "      <td>39S3HZ8OHFJ84WIXBQLU6YSOBF77SL</td>\n",
       "      <td>Significado de frases</td>\n",
       "      <td>Tienen las dos frases el mismo significado?</td>\n",
       "      <td>texto, lectura, espanol</td>\n",
       "      <td>$0.15</td>\n",
       "      <td>Sat Jan 04 14:45:58 PST 2020</td>\n",
       "      <td>3</td>\n",
       "      <td>BatchId:3883109;OriginalHitTemplateId:928390909;</td>\n",
       "      <td>3600</td>\n",
       "      <td>...</td>\n",
       "      <td>buscar</td>\n",
       "      <td>en</td>\n",
       "      <td>google</td>\n",
       "      <td>busca en google</td>\n",
       "      <td>busca en google efecto tequila</td>\n",
       "      <td>-1</td>\n",
       "      <td>-1</td>\n",
       "      <td>Significado diferente</td>\n",
       "      <td>NaN</td>\n",
       "      <td>NaN</td>\n",
       "    </tr>\n",
       "    <tr>\n",
       "      <th>3</th>\n",
       "      <td>3ZXV7Q5FKEGMMHZP2UNQV58VBXQCFY</td>\n",
       "      <td>39S3HZ8OHFJ84WIXBQLU6YSOBF77SL</td>\n",
       "      <td>Significado de frases</td>\n",
       "      <td>Tienen las dos frases el mismo significado?</td>\n",
       "      <td>texto, lectura, espanol</td>\n",
       "      <td>$0.15</td>\n",
       "      <td>Sat Jan 04 14:45:58 PST 2020</td>\n",
       "      <td>3</td>\n",
       "      <td>BatchId:3883109;OriginalHitTemplateId:928390909;</td>\n",
       "      <td>3600</td>\n",
       "      <td>...</td>\n",
       "      <td>buscar</td>\n",
       "      <td>en</td>\n",
       "      <td>google</td>\n",
       "      <td>buscamos en google</td>\n",
       "      <td>algunos buscamos en google mientras nos chaque...</td>\n",
       "      <td>-1</td>\n",
       "      <td>-1</td>\n",
       "      <td>Significado diferente</td>\n",
       "      <td>NaN</td>\n",
       "      <td>NaN</td>\n",
       "    </tr>\n",
       "    <tr>\n",
       "      <th>4</th>\n",
       "      <td>3ZXV7Q5FKEGMMHZP2UNQV58VBXQCFY</td>\n",
       "      <td>39S3HZ8OHFJ84WIXBQLU6YSOBF77SL</td>\n",
       "      <td>Significado de frases</td>\n",
       "      <td>Tienen las dos frases el mismo significado?</td>\n",
       "      <td>texto, lectura, espanol</td>\n",
       "      <td>$0.15</td>\n",
       "      <td>Sat Jan 04 14:45:58 PST 2020</td>\n",
       "      <td>3</td>\n",
       "      <td>BatchId:3883109;OriginalHitTemplateId:928390909;</td>\n",
       "      <td>3600</td>\n",
       "      <td>...</td>\n",
       "      <td>buscar</td>\n",
       "      <td>en</td>\n",
       "      <td>google</td>\n",
       "      <td>buscamos en google</td>\n",
       "      <td>algunos buscamos en google mientras nos chaque...</td>\n",
       "      <td>-1</td>\n",
       "      <td>-1</td>\n",
       "      <td>Mismo significado</td>\n",
       "      <td>NaN</td>\n",
       "      <td>NaN</td>\n",
       "    </tr>\n",
       "  </tbody>\n",
       "</table>\n",
       "<p>5 rows × 40 columns</p>\n",
       "</div>"
      ],
      "text/plain": [
       "                            HITId                       HITTypeId  \\\n",
       "0  3X4Q1O9UCKEAGDHMAGY52DPV2NQ7OM  39S3HZ8OHFJ84WIXBQLU6YSOBF77SL   \n",
       "1  3X4Q1O9UCKEAGDHMAGY52DPV2NQ7OM  39S3HZ8OHFJ84WIXBQLU6YSOBF77SL   \n",
       "2  3X4Q1O9UCKEAGDHMAGY52DPV2NQ7OM  39S3HZ8OHFJ84WIXBQLU6YSOBF77SL   \n",
       "3  3ZXV7Q5FKEGMMHZP2UNQV58VBXQCFY  39S3HZ8OHFJ84WIXBQLU6YSOBF77SL   \n",
       "4  3ZXV7Q5FKEGMMHZP2UNQV58VBXQCFY  39S3HZ8OHFJ84WIXBQLU6YSOBF77SL   \n",
       "\n",
       "                   Title                                  Description  \\\n",
       "0  Significado de frases  Tienen las dos frases el mismo significado?   \n",
       "1  Significado de frases  Tienen las dos frases el mismo significado?   \n",
       "2  Significado de frases  Tienen las dos frases el mismo significado?   \n",
       "3  Significado de frases  Tienen las dos frases el mismo significado?   \n",
       "4  Significado de frases  Tienen las dos frases el mismo significado?   \n",
       "\n",
       "                  Keywords Reward                  CreationTime  \\\n",
       "0  texto, lectura, espanol  $0.15  Sat Jan 04 14:45:58 PST 2020   \n",
       "1  texto, lectura, espanol  $0.15  Sat Jan 04 14:45:58 PST 2020   \n",
       "2  texto, lectura, espanol  $0.15  Sat Jan 04 14:45:58 PST 2020   \n",
       "3  texto, lectura, espanol  $0.15  Sat Jan 04 14:45:58 PST 2020   \n",
       "4  texto, lectura, espanol  $0.15  Sat Jan 04 14:45:58 PST 2020   \n",
       "\n",
       "   MaxAssignments                               RequesterAnnotation  \\\n",
       "0               3  BatchId:3883109;OriginalHitTemplateId:928390909;   \n",
       "1               3  BatchId:3883109;OriginalHitTemplateId:928390909;   \n",
       "2               3  BatchId:3883109;OriginalHitTemplateId:928390909;   \n",
       "3               3  BatchId:3883109;OriginalHitTemplateId:928390909;   \n",
       "4               3  BatchId:3883109;OriginalHitTemplateId:928390909;   \n",
       "\n",
       "   AssignmentDurationInSeconds  ...  Input.light_verb  \\\n",
       "0                         3600  ...            buscar   \n",
       "1                         3600  ...            buscar   \n",
       "2                         3600  ...            buscar   \n",
       "3                         3600  ...            buscar   \n",
       "4                         3600  ...            buscar   \n",
       "\n",
       "  Input.light_verb_internal  Input.light_verb_noun  Input.light_verb_phrase  \\\n",
       "0                        en                 google          busca en google   \n",
       "1                        en                 google          busca en google   \n",
       "2                        en                 google          busca en google   \n",
       "3                        en                 google       buscamos en google   \n",
       "4                        en                 google       buscamos en google   \n",
       "\n",
       "                              Input.text_alternative Input.equivalent_label  \\\n",
       "0                     busca en google efecto tequila                     -1   \n",
       "1                     busca en google efecto tequila                     -1   \n",
       "2                     busca en google efecto tequila                     -1   \n",
       "3  algunos buscamos en google mientras nos chaque...                     -1   \n",
       "4  algunos buscamos en google mientras nos chaque...                     -1   \n",
       "\n",
       "  Input.alternative_light_verb Answer.equivalence.label Approve Reject  \n",
       "0                           -1        Mismo significado     NaN    NaN  \n",
       "1                           -1        Mismo significado     NaN    NaN  \n",
       "2                           -1    Significado diferente     NaN    NaN  \n",
       "3                           -1    Significado diferente     NaN    NaN  \n",
       "4                           -1        Mismo significado     NaN    NaN  \n",
       "\n",
       "[5 rows x 40 columns]"
      ]
     },
     "metadata": {},
     "output_type": "display_data"
    }
   ],
   "source": [
    "print(pilot_true_sample_data.columns)\n",
    "display(pilot_true_sample_data.head())"
   ]
  },
  {
   "cell_type": "markdown",
   "metadata": {},
   "source": [
    "Let's get some summary stats first: how many HITs per unique annotator?"
   ]
  },
  {
   "cell_type": "code",
   "execution_count": 78,
   "metadata": {},
   "outputs": [
    {
     "name": "stdout",
     "output_type": "stream",
     "text": [
      "true sample data\n",
      "3 annotations per HIT\n",
      "2.308 +/- 2.213 HITs per annotator\n",
      "false sample data\n",
      "3 annotations per HIT\n",
      "2.308 +/- 2.057 HITs per annotator\n"
     ]
    }
   ],
   "source": [
    "print('true sample data')\n",
    "print('%d annotations per HIT'%(pilot_true_sample_data.loc[:, 'HITId'].value_counts().mean()))\n",
    "print('%.3f +/- %.3f HITs per annotator'%(pilot_true_sample_data.loc[:, 'WorkerId'].value_counts().mean(), pilot_true_sample_data.loc[:, 'WorkerId'].value_counts().std()))\n",
    "print('false sample data')\n",
    "print('%d annotations per HIT'%(pilot_false_sample_data.loc[:, 'HITId'].value_counts().mean()))\n",
    "print('%.3f +/- %.3f HITs per annotator'%(pilot_false_sample_data.loc[:, 'WorkerId'].value_counts().mean(), pilot_false_sample_data.loc[:, 'WorkerId'].value_counts().std()))"
   ]
  },
  {
   "cell_type": "markdown",
   "metadata": {},
   "source": [
    "OK! Not many people finished the whole task. It may be too taxing."
   ]
  },
  {
   "cell_type": "markdown",
   "metadata": {},
   "source": [
    "How long per hit?"
   ]
  },
  {
   "cell_type": "code",
   "execution_count": 86,
   "metadata": {},
   "outputs": [
    {
     "data": {
      "image/png": "[encoded data removed]",
      "text/plain": [
       "<Figure size 432x288 with 1 Axes>"
      ]
     },
     "metadata": {
      "needs_background": "light"
     },
     "output_type": "display_data"
    },
    {
     "data": {
      "image/png": "[encoded data removed]",
      "text/plain": [
       "<Figure size 432x288 with 1 Axes>"
      ]
     },
     "metadata": {
      "needs_background": "light"
     },
     "output_type": "display_data"
    }
   ],
   "source": [
    "plt.hist(np.log(pilot_true_sample_data.loc[:, 'WorkTimeInSeconds']))\n",
    "plt.show()\n",
    "plt.hist(np.log(pilot_false_sample_data.loc[:, 'WorkTimeInSeconds']))\n",
    "plt.show()"
   ]
  },
  {
   "cell_type": "code",
   "execution_count": 80,
   "metadata": {},
   "outputs": [
    {
     "data": {
      "text/plain": [
       "148.41315910257657"
      ]
     },
     "execution_count": 80,
     "metadata": {},
     "output_type": "execute_result"
    }
   ],
   "source": [
    "np.e**5"
   ]
  },
  {
   "cell_type": "markdown",
   "metadata": {},
   "source": [
    "For true samples: most people take around $e^{3}=20$ seconds per task, which gets them 0.15/task * 3 task / minute * 60 minute / hour = $27 / hour. Far above minimum wage.\n",
    "\n",
    "For false samples: most people take around $e^{5}=148$ seconds per task, which gets them 0.15/task * 0.405 task / minute * 60 minute / hour = $3.64 / hour. Far below minimum wage!"
   ]
  },
  {
   "cell_type": "markdown",
   "metadata": {},
   "source": [
    "Which tasks take the longest?"
   ]
  },
  {
   "cell_type": "code",
   "execution_count": 91,
   "metadata": {
    "scrolled": true
   },
   "outputs": [
    {
     "data": {
      "text/plain": [
       "HITId\n",
       "3EKZL9T8ZBE60DQVXKBQYQK8RC3CHW    323.666667\n",
       "322ZSN9Z6JCTAI4B4ZMXTBB8ATH4TL    193.333333\n",
       "3LG268AV4BYYM5OCPGTF2IMHZXEERO    115.000000\n",
       "373L46LKQAYKAHX9DXV9YMDV9DGJKL     74.666667\n",
       "3X4Q1O9UCKEAGDHMAGY52DPV2NQ7OM     72.333333\n",
       "dtype: float64"
      ]
     },
     "metadata": {},
     "output_type": "display_data"
    },
    {
     "name": "stdout",
     "output_type": "stream",
     "text": [
      "busca en google efecto tequila\n",
      "tipo que los tipos buscan en google hacen un video y los pibes viralizan .\n",
      "si no lo sacan por el contexto mejor , buscan en google y aprenden .\n",
      " te repito , buscaste en google alguna vez crisis migratoria ?\n",
      " busqué en google eso , parece que es algo así jaja\n"
     ]
    },
    {
     "data": {
      "text/plain": [
       "HITId\n",
       "3087LXLJ7P82SP49QEU6046U28U0FU    494.666667\n",
       "35U0MRQMVMZCR3IISE1L8R5YO5XVO2    317.000000\n",
       "3CMV9YRYQ6TVUNFRYX7ADMQAYDLLJQ    308.333333\n",
       "3WRBLBQ2HU086P041Y0OIP663NU0GT    279.666667\n",
       "3D1TUISJXLS2I2IFPTEBS87TYPPIU5    261.666667\n",
       "dtype: float64"
      ]
     },
     "metadata": {},
     "output_type": "display_data"
    },
    {
     "name": "stdout",
     "output_type": "stream",
     "text": [
      "haz google efecto tequila\n",
      "algunos hacemos google mientras nos chaqueteamos .\n",
      "si me decis que no hiciste google como escribir el apellido no te creo .\n",
      " te repito , hiciste google alguna vez crisis migratoria ?\n",
      " hice google eso , parece que es algo así jaja\n"
     ]
    }
   ],
   "source": [
    "true_sample_time_per_task = pilot_true_sample_data.groupby('HITId').apply(lambda x: x.loc[:, 'WorkTimeInSeconds'].mean()).sort_values(inplace=False, ascending=False)\n",
    "false_sample_time_per_task = pilot_false_sample_data.groupby('HITId').apply(lambda x: x.loc[:, 'WorkTimeInSeconds'].mean()).sort_values(inplace=False, ascending=False)\n",
    "display(true_sample_time_per_task.head(5))\n",
    "print('\\n'.join(pilot_true_sample_data[pilot_true_sample_data.loc[:, 'HITId'].isin(true_sample_time_per_task.head(5).index)].loc[:, 'Input.text_alternative'].unique()))\n",
    "display(false_sample_time_per_task.head(5))\n",
    "print('\\n'.join(pilot_false_sample_data[pilot_false_sample_data.loc[:, 'HITId'].isin(false_sample_time_per_task.head(5).index)].loc[:, 'Input.text_alternative'].unique()))"
   ]
  },
  {
   "cell_type": "markdown",
   "metadata": {},
   "source": [
    "The tasks that took the longest had somewhat vague context."
   ]
  },
  {
   "cell_type": "code",
   "execution_count": 51,
   "metadata": {},
   "outputs": [
    {
     "name": "stdout",
     "output_type": "stream",
     "text": [
      "reliability data\n"
     ]
    },
    {
     "data": {
      "text/plain": [
       "annotator\n",
       "0    [1, 1, 0, 1, 1, 0, 0, 0, 0, 0]\n",
       "1    [0, 0, 0, 0, 0, 0, 0, 0, 0, 1]\n",
       "2    [0, 0, 0, 1, 1, 1, 1, 0, 0, 2]\n",
       "dtype: object"
      ]
     },
     "metadata": {},
     "output_type": "display_data"
    },
    {
     "name": "stdout",
     "output_type": "stream",
     "text": [
      "reliability data\n"
     ]
    },
    {
     "data": {
      "text/plain": [
       "annotator\n",
       "0    [1, 0, 0, 0, 0, 1, 0, 0, 0, 1]\n",
       "1    [1, 0, 0, 1, 0, 0, 0, 1, 1, 1]\n",
       "2    [1, 0, 0, 0, 1, 1, 0, 1, 0, 0]\n",
       "dtype: object"
      ]
     },
     "metadata": {},
     "output_type": "display_data"
    },
    {
     "name": "stdout",
     "output_type": "stream",
     "text": [
      "true agreement = 0.030\n",
      "false agreement = 0.194\n"
     ]
    }
   ],
   "source": [
    "import numpy as np\n",
    "import krippendorff\n",
    "def compute_agreement(sample_data):\n",
    "    task_count = sample_data.loc[:, 'HITId'].nunique()\n",
    "    annotator_count = int(sample_data.shape[0] / task_count)\n",
    "    label_col = 'Answer.equivalence.label'\n",
    "    true_sample_annotator_data = sample_data.sort_values(['HITId', 'WorkerId']).loc[:, [label_col]]\n",
    "    # replace string => numbers\n",
    "    # assign fake annotator\n",
    "    unique_labels = sample_data.loc[:, label_col].unique()\n",
    "    label_to_num = dict(zip(unique_labels, range(len(unique_labels))))\n",
    "    # label_to_num['Incierto'] = np.nan\n",
    "    true_sample_annotator_data = true_sample_annotator_data.assign(**{\n",
    "        label_col : true_sample_annotator_data.loc[:, label_col].apply(label_to_num.get),\n",
    "        'annotator' : [i for _ in range(task_count) for i in range(annotator_count)]\n",
    "    })\n",
    "    reliability_data = true_sample_annotator_data.groupby('annotator').apply(lambda x: x.loc[:, label_col].values)\n",
    "    print('reliability data')\n",
    "    display(reliability_data)\n",
    "    agreement = krippendorff.alpha(reliability_data=list(reliability_data))\n",
    "    return agreement\n",
    "true_agreement = compute_agreement(pilot_true_sample_data)\n",
    "false_agreement = compute_agreement(pilot_false_sample_data)\n",
    "print('true agreement = %.3f'%(true_agreement))\n",
    "print('false agreement = %.3f'%(false_agreement))"
   ]
  },
  {
   "cell_type": "markdown",
   "metadata": {},
   "source": [
    "In general, the \"false\" data has more consistent agreement than the \"true\" data."
   ]
  },
  {
   "cell_type": "markdown",
   "metadata": {},
   "source": [
    "Does the \"true\" data have more labels for \"same meaning\"?"
   ]
  },
  {
   "cell_type": "code",
   "execution_count": 52,
   "metadata": {},
   "outputs": [
    {
     "name": "stdout",
     "output_type": "stream",
     "text": [
      "Mismo significado        20\n",
      "Significado diferente     9\n",
      "Incierto                  1\n",
      "Name: Answer.equivalence.label, dtype: int64\n",
      "Mismo significado        18\n",
      "Significado diferente    12\n",
      "Name: Answer.equivalence.label, dtype: int64\n"
     ]
    }
   ],
   "source": [
    "label_col = 'Answer.equivalence.label'\n",
    "print(pilot_true_sample_data.loc[:, label_col].value_counts())\n",
    "print(pilot_false_sample_data.loc[:, label_col].value_counts())"
   ]
  },
  {
   "cell_type": "markdown",
   "metadata": {},
   "source": [
    "How many examples had at least 2 annotators agreeing with the same meaning?"
   ]
  },
  {
   "cell_type": "code",
   "execution_count": 58,
   "metadata": {},
   "outputs": [
    {
     "name": "stdout",
     "output_type": "stream",
     "text": [
      "7/10 HITs in true light verb data with >=2 annotators indicating \"same meaning\"\n",
      "6/10 HITs in false light verb data with >=2 annotators indicating \"same meaning\"\n",
      "2/10 HITs in true light verb data with >=2 annotators indicating \"different meaning\"\n",
      "4/10 HITs in false light verb data with >=2 annotators indicating \"different meaning\"\n"
     ]
    }
   ],
   "source": [
    "## same meaning\n",
    "same_meaning_label = 'Mismo significado'\n",
    "min_annotator_cutoff = 2\n",
    "true_sample_same_meaning_counts = pilot_true_sample_data.groupby('HITId').apply(lambda x: x[x.loc[:, label_col]==same_meaning_label].shape[0])\n",
    "false_sample_same_meaning_counts = pilot_false_sample_data.groupby('HITId').apply(lambda x: x[x.loc[:, label_col]==same_meaning_label].shape[0])\n",
    "print('%d/%d HITs in true light verb data with >=%d annotators indicating \"same meaning\"'%(true_sample_same_meaning_counts[true_sample_same_meaning_counts>=min_annotator_cutoff].shape[0], true_sample_same_meaning_counts.shape[0], min_annotator_cutoff))\n",
    "print('%d/%d HITs in false light verb data with >=%d annotators indicating \"same meaning\"'%(false_sample_same_meaning_counts[false_sample_same_meaning_counts>=min_annotator_cutoff].shape[0], false_sample_same_meaning_counts.shape[0], min_annotator_cutoff))\n",
    "## different meaning\n",
    "diff_meaning_label = 'Significado diferente'\n",
    "min_annotator_cutoff = 2\n",
    "true_sample_diff_meaning_counts = pilot_true_sample_data.groupby('HITId').apply(lambda x: x[x.loc[:, label_col]==diff_meaning_label].shape[0])\n",
    "false_sample_diff_meaning_counts = pilot_false_sample_data.groupby('HITId').apply(lambda x: x[x.loc[:, label_col]==diff_meaning_label].shape[0])\n",
    "print('%d/%d HITs in true light verb data with >=%d annotators indicating \"different meaning\"'%(true_sample_diff_meaning_counts[true_sample_diff_meaning_counts>=min_annotator_cutoff].shape[0], true_sample_diff_meaning_counts.shape[0], min_annotator_cutoff))\n",
    "print('%d/%d HITs in false light verb data with >=%d annotators indicating \"different meaning\"'%(false_sample_diff_meaning_counts[false_sample_diff_meaning_counts>=min_annotator_cutoff].shape[0], false_sample_diff_meaning_counts.shape[0], min_annotator_cutoff))"
   ]
  },
  {
   "cell_type": "markdown",
   "metadata": {},
   "source": [
    "- Slightly more annotators indicating \"same meaning\" for true light verbs\n",
    "- Slightly fewer annotators indicating \"different meaning\" for true light verbs"
   ]
  },
  {
   "cell_type": "code",
   "execution_count": 42,
   "metadata": {},
   "outputs": [
    {
     "name": "stdout",
     "output_type": "stream",
     "text": [
      "*    *    *    *    *    3    4    1    2    1    1    3    3    *    3\n",
      "1    *    2    1    3    3    4    3    *    *    *    *    *    *    *\n",
      "*    *    2    1    3    4    4    *    2    1    1    3    3    *    4\n",
      "\n",
      "[[nan, nan, nan, nan, nan, 3, 4, 1, 2, 1, 1, 3, 3, nan, 3], [1, nan, 2, 1, 3, 3, 4, 3, nan, nan, nan, nan, nan, nan, nan], [nan, nan, 2, 1, 3, 4, 4, nan, 2, 1, 1, 3, 3, nan, 4]]\n",
      "Krippendorff's alpha for nominal metric:  0.691358024691358\n"
     ]
    }
   ],
   "source": [
    "reliability_data_str = (\n",
    "    \"*    *    *    *    *    3    4    1    2    1    1    3    3    *    3\",  # coder A\n",
    "    \"1    *    2    1    3    3    4    3    *    *    *    *    *    *    *\",  # coder B\n",
    "    \"*    *    2    1    3    4    4    *    2    1    1    3    3    *    4\",  # coder C\n",
    ")\n",
    "print('\\n'.join(reliability_data_str))\n",
    "print('')\n",
    "\n",
    "reliability_data = [[np.nan if v == '*' else int(v) for v in coder.split()] for coder in reliability_data_str]\n",
    "print(reliability_data)\n",
    "print(\"Krippendorff's alpha for nominal metric: \", krippendorff.alpha(reliability_data=reliability_data,\n",
    "                                                                      level_of_measurement='nominal'))"
   ]
  },
  {
   "cell_type": "code",
   "execution_count": null,
   "metadata": {},
   "outputs": [],
   "source": []
  }
 ],
 "metadata": {
  "kernelspec": {
   "display_name": "Python 3",
   "language": "python",
   "name": "python3"
  },
  "language_info": {
   "codemirror_mode": {
    "name": "ipython",
    "version": 3
   },
   "file_extension": ".py",
   "mimetype": "text/x-python",
   "name": "python",
   "nbconvert_exporter": "python",
   "pygments_lexer": "ipython3",
   "version": "3.7.6"
  }
 },
 "nbformat": 4,
 "nbformat_minor": 2
}
