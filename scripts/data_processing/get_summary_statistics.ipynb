{
 "cells": [
  {
   "cell_type": "markdown",
   "metadata": {},
   "source": [
    "# Get summary statistics\n",
    "Let's get statistics for the loanword authors."
   ]
  },
  {
   "cell_type": "code",
   "execution_count": 1,
   "metadata": {},
   "outputs": [],
   "source": [
    "# load data\n",
    "import pandas as pd\n",
    "loanword_data = pd.read_csv('../../data/mined_tweets/loanword_verb_posts_CLUSTER=twitter_posts_STARTDATE=2017_7_9_ENDDATE=2019_4_6.tsv', sep='\\t')\n",
    "loanword_data.fillna('', inplace=True)"
   ]
  },
  {
   "cell_type": "markdown",
   "metadata": {},
   "source": [
    "## Loanword frequency"
   ]
  },
  {
   "cell_type": "code",
   "execution_count": 7,
   "metadata": {
    "scrolled": true
   },
   "outputs": [
    {
     "data": {
      "text/plain": [
       "like       13154\n",
       "connect     7857\n",
       "flip        6904\n",
       "stalk       5508\n",
       "tweet       5294\n",
       "flash       4572\n",
       "ship        4014\n",
       "hack        3877\n",
       "push        3538\n",
       "post        3082\n",
       "Name: loanword, dtype: int64"
      ]
     },
     "metadata": {},
     "output_type": "display_data"
    }
   ],
   "source": [
    "loanword_counts = loanword_data.loc[:, 'loanword'].value_counts()\n",
    "display(loanword_counts.head(10))"
   ]
  },
  {
   "cell_type": "markdown",
   "metadata": {},
   "source": [
    "## Media statistics\n",
    "Let's look at the most frequently shared musicians among the loanword authors."
   ]
  },
  {
   "cell_type": "code",
   "execution_count": 1,
   "metadata": {},
   "outputs": [
    {
     "data": {
      "text/html": [
       "<div>\n",
       "<style scoped>\n",
       "    .dataframe tbody tr th:only-of-type {\n",
       "        vertical-align: middle;\n",
       "    }\n",
       "\n",
       "    .dataframe tbody tr th {\n",
       "        vertical-align: top;\n",
       "    }\n",
       "\n",
       "    .dataframe thead th {\n",
       "        text-align: right;\n",
       "    }\n",
       "</style>\n",
       "<table border=\"1\" class=\"dataframe\">\n",
       "  <thead>\n",
       "    <tr style=\"text-align: right;\">\n",
       "      <th></th>\n",
       "      <th>screen_name</th>\n",
       "      <th>artist_genre</th>\n",
       "      <th>artist_names</th>\n",
       "      <th>media_type</th>\n",
       "    </tr>\n",
       "  </thead>\n",
       "  <tbody>\n",
       "    <tr>\n",
       "      <th>0</th>\n",
       "      <td>aneuroma</td>\n",
       "      <td>US/UK</td>\n",
       "      <td>[megadeth]</td>\n",
       "      <td>music</td>\n",
       "    </tr>\n",
       "    <tr>\n",
       "      <th>1</th>\n",
       "      <td>kikideltwit</td>\n",
       "      <td>US/UK</td>\n",
       "      <td>[megadeth]</td>\n",
       "      <td>music</td>\n",
       "    </tr>\n",
       "    <tr>\n",
       "      <th>2</th>\n",
       "      <td>dookiemosh</td>\n",
       "      <td>US/UK</td>\n",
       "      <td>[megadeth]</td>\n",
       "      <td>music</td>\n",
       "    </tr>\n",
       "    <tr>\n",
       "      <th>3</th>\n",
       "      <td>aneuroma</td>\n",
       "      <td>US/UK</td>\n",
       "      <td>[megadeth]</td>\n",
       "      <td>music</td>\n",
       "    </tr>\n",
       "    <tr>\n",
       "      <th>4</th>\n",
       "      <td>aneuroma</td>\n",
       "      <td>US/UK</td>\n",
       "      <td>[megadeth]</td>\n",
       "      <td>music</td>\n",
       "    </tr>\n",
       "  </tbody>\n",
       "</table>\n",
       "</div>"
      ],
      "text/plain": [
       "   screen_name artist_genre artist_names media_type\n",
       "0     aneuroma        US/UK   [megadeth]      music\n",
       "1  kikideltwit        US/UK   [megadeth]      music\n",
       "2   dookiemosh        US/UK   [megadeth]      music\n",
       "3     aneuroma        US/UK   [megadeth]      music\n",
       "4     aneuroma        US/UK   [megadeth]      music"
      ]
     },
     "metadata": {},
     "output_type": "display_data"
    }
   ],
   "source": [
    "import pandas as pd\n",
    "# get author sharing counts\n",
    "author_music_share_data = pd.read_csv('../../data/mined_tweets/loanword_author_tweets_all_archives_author_spotify_link_data.tsv', sep='\\t')\n",
    "author_video_share_data = pd.read_csv('../../data/mined_tweets/loanword_author_tweets_all_archives_youtube_video_categories.tsv', sep='\\t')\n",
    "# display(author_music_share_data.head())\n",
    "# display(author_video_share_data.head())\n",
    "# get music ID data\n",
    "music_ID_data = pd.read_csv('../../data/culture_metadata/spotify_musician_data.tsv', sep='\\t', \n",
    "                            usecols=['artist_id', 'name'])\n",
    "video_ID_data = pd.read_csv('../../data/culture_metadata/youtube_video_music_genre_data.tsv', sep='\\t', \n",
    "                            usecols=['youtube_id', 'latin_american_artist_tags', 'us_american_artist_tags'],\n",
    "                            converters={'latin_american_artist_tags' : eval, 'us_american_artist_tags' : eval})\n",
    "# clean up data for merging\n",
    "author_music_share_data = author_music_share_data.assign(**{\n",
    "    'artist_genre' : author_music_share_data.loc[:, ['latin_american_genre', 'us_american_genre']].apply(lambda x: 'latin_american_artist' if x[0] else 'us_american_artist' if x[1] else '', axis=1)\n",
    "})\n",
    "music_ID_data = music_ID_data.assign(**{\n",
    "    'name' : music_ID_data.loc[:, 'name'].apply(lambda x: [x.lower()])\n",
    "})\n",
    "music_ID_data.rename(columns={'name' : 'artist_names'}, inplace=True)\n",
    "author_video_share_data.rename(columns={'youtube_id_category': 'artist_genre'}, inplace=True)\n",
    "video_ID_data = video_ID_data.assign(**{\n",
    "    'artist_names' : video_ID_data.loc[:, ['latin_american_artist_tags', 'us_american_artist_tags']].apply(lambda x: x[0] | x[1], axis=1)\n",
    "})\n",
    "\n",
    "# display(music_ID_data.head())\n",
    "# display(video_ID_data.head())\n",
    "# combine:\n",
    "# track ID | artist names | screen name | genre\n",
    "author_music_share_data = pd.merge(author_music_share_data, music_ID_data, on='artist_id')\n",
    "author_video_share_data = pd.merge(author_video_share_data, video_ID_data.loc[:, ['youtube_id', 'artist_names']], on='youtube_id')\n",
    "# display(author_music_share_data.head())\n",
    "# display(author_video_share_data.head())\n",
    "author_music_share_data = author_music_share_data.assign(**{\n",
    "    'media_type' : 'music'\n",
    "})\n",
    "author_video_share_data = author_video_share_data.assign(**{\n",
    "    'media_type' : 'video'\n",
    "})\n",
    "author_media_data = pd.concat([author_music_share_data, author_video_share_data], axis=0)\n",
    "author_media_data = author_media_data.loc[:, ['screen_name', 'artist_genre', 'artist_names', 'media_type']]\n",
    "# fix null genres\n",
    "author_media_data = author_media_data.assign(**{\n",
    "    'artist_genre' : author_media_data.loc[:, 'artist_genre'].apply(lambda x: 'other' if x=='' else x)\n",
    "})\n",
    "# fix genre names for plot\n",
    "clean_genre_lookup = {\n",
    "    'latin_american_artist' : 'Spanish/Latin American',\n",
    "    'us_american_artist' : 'US/UK',\n",
    "    'other' : 'Other'\n",
    "}\n",
    "author_media_data = author_media_data.assign(**{\n",
    "    'artist_genre' : author_media_data.loc[:, 'artist_genre'].apply(clean_genre_lookup.get)\n",
    "})\n",
    "display(author_media_data.head())"
   ]
  },
  {
   "cell_type": "code",
   "execution_count": 2,
   "metadata": {
    "scrolled": true
   },
   "outputs": [
    {
     "name": "stdout",
     "output_type": "stream",
     "text": [
      "top counts for genre Other\n"
     ]
    },
    {
     "data": {
      "text/plain": [
       "bts              213\n",
       "exo              134\n",
       "rosalía           68\n",
       "monsta x          55\n",
       "darell            53\n",
       "myke towers       52\n",
       "radiohead         52\n",
       "david bowie       49\n",
       "lenny tavárez     41\n",
       "brytiago          38\n",
       "Name: artist_name, dtype: int64"
      ]
     },
     "metadata": {},
     "output_type": "display_data"
    },
    {
     "name": "stdout",
     "output_type": "stream",
     "text": [
      "top counts for genre Spanish/Latin American\n"
     ]
    },
    {
     "data": {
      "text/plain": [
       "natalia oreiro     275\n",
       "sebastian yatra    247\n",
       "bad bunny          244\n",
       "j balvin           195\n",
       "jorge blanco       172\n",
       "tini stoessel      167\n",
       "danna paola        161\n",
       "mau y ricky        158\n",
       "luis miguel        122\n",
       "alejandro sanz     120\n",
       "Name: artist_name, dtype: int64"
      ]
     },
     "metadata": {},
     "output_type": "display_data"
    },
    {
     "name": "stdout",
     "output_type": "stream",
     "text": [
      "top counts for genre US/UK\n"
     ]
    },
    {
     "data": {
      "text/plain": [
       "ariana grande        232\n",
       "taylor swift         162\n",
       "nicki minaj          147\n",
       "camila cabello       118\n",
       "halsey               117\n",
       "lady gaga            111\n",
       "twenty one pilots    101\n",
       "miley cyrus           99\n",
       "katy perry            99\n",
       "lana del rey          98\n",
       "Name: artist_name, dtype: int64"
      ]
     },
     "metadata": {},
     "output_type": "display_data"
    }
   ],
   "source": [
    "# compute artist counts per genre\n",
    "# genre | artist | count\n",
    "artist_genre_counts = []\n",
    "for idx_i, data_i in author_media_data.iterrows():\n",
    "    for name_j in data_i.loc['artist_names']:\n",
    "        artist_genre_counts.append([name_j, data_i.loc['artist_genre'], data_i.loc['media_type']])\n",
    "artist_genre_counts = pd.DataFrame(artist_genre_counts, columns=['artist_name', 'artist_genre', 'media_type'])\n",
    "top_k = 10\n",
    "for genre_i, data_i in artist_genre_counts.groupby('artist_genre'):\n",
    "    print(f'top counts for genre {genre_i}')\n",
    "    artist_counts_i = data_i.loc[:, 'artist_name'].value_counts()\n",
    "    display(artist_counts_i.iloc[:top_k])"
   ]
  },
  {
   "cell_type": "code",
   "execution_count": 3,
   "metadata": {
    "scrolled": true
   },
   "outputs": [
    {
     "data": {
      "image/png": "[encoded data removed]",
      "text/plain": [
       "<Figure size 432x288 with 1 Axes>"
      ]
     },
     "metadata": {
      "needs_background": "light"
     },
     "output_type": "display_data"
    },
    {
     "data": {
      "image/png": "[encoded data removed]",
      "text/plain": [
       "<Figure size 432x288 with 1 Axes>"
      ]
     },
     "metadata": {
      "needs_background": "light"
     },
     "output_type": "display_data"
    },
    {
     "data": {
      "image/png": "[encoded data removed]",
      "text/plain": [
       "<Figure size 432x288 with 1 Axes>"
      ]
     },
     "metadata": {
      "needs_background": "light"
     },
     "output_type": "display_data"
    }
   ],
   "source": [
    "import matplotlib\n",
    "%matplotlib inline\n",
    "import matplotlib.pyplot as plt\n",
    "import numpy as np\n",
    "top_k = 10\n",
    "X = np.arange(top_k)\n",
    "for genre_i, data_i in artist_genre_counts.groupby('artist_genre'):\n",
    "    artist_counts_i = data_i.loc[:, 'artist_name'].value_counts()[:top_k][::-1]\n",
    "#     clean_genre_i = ' '.join(list(map(lambda x: x.capitalize(), genre_i.replace('_', ' ').replace(' artist', '').split(' '))))\n",
    "    plt.barh(X, artist_counts_i)\n",
    "    plt.xlabel('Link count', fontsize=16)\n",
    "    x_ticks, x_tick_labels = plt.xticks()\n",
    "    plt.xticks(x_ticks, fontsize=12)\n",
    "    plt.yticks(X, artist_counts_i.index, fontsize=14)\n",
    "    plt.title(f'{genre_i} artists', fontsize=24)\n",
    "    plt.show()"
   ]
  },
  {
   "cell_type": "markdown",
   "metadata": {},
   "source": [
    "## Native verb frequency"
   ]
  },
  {
   "cell_type": "code",
   "execution_count": 5,
   "metadata": {
    "scrolled": true
   },
   "outputs": [
    {
     "name": "stdout",
     "output_type": "stream",
     "text": [
      "328651\n"
     ]
    },
    {
     "data": {
      "text/html": [
       "<div>\n",
       "<style scoped>\n",
       "    .dataframe tbody tr th:only-of-type {\n",
       "        vertical-align: middle;\n",
       "    }\n",
       "\n",
       "    .dataframe tbody tr th {\n",
       "        vertical-align: top;\n",
       "    }\n",
       "\n",
       "    .dataframe thead th {\n",
       "        text-align: right;\n",
       "    }\n",
       "</style>\n",
       "<table border=\"1\" class=\"dataframe\">\n",
       "  <thead>\n",
       "    <tr style=\"text-align: right;\">\n",
       "      <th></th>\n",
       "      <th>screen_name</th>\n",
       "      <th>id</th>\n",
       "      <th>date</th>\n",
       "      <th>text</th>\n",
       "      <th>native_word_category</th>\n",
       "      <th>native_word_type</th>\n",
       "      <th>has_light_verb</th>\n",
       "      <th>description_location_region</th>\n",
       "      <th>es</th>\n",
       "      <th>total_video_count</th>\n",
       "      <th>...</th>\n",
       "      <th>log_latin_american_media_pct</th>\n",
       "      <th>log_media_URL_pct</th>\n",
       "      <th>log_integrated_verb_pct</th>\n",
       "      <th>log_post_pct</th>\n",
       "      <th>log_URL_share_pct</th>\n",
       "      <th>log_RT_pct</th>\n",
       "      <th>log_balanced_latin_american_media_pct</th>\n",
       "      <th>es_bin</th>\n",
       "      <th>latin_american_media_pct_bin</th>\n",
       "      <th>balanced_latin_american_media_pct_bin</th>\n",
       "    </tr>\n",
       "  </thead>\n",
       "  <tbody>\n",
       "    <tr>\n",
       "      <th>0</th>\n",
       "      <td>000822e5bc974e0</td>\n",
       "      <td>914139329345343488</td>\n",
       "      <td>NaN</td>\n",
       "      <td>Por eso en Guatemala se hace imperativo la int...</td>\n",
       "      <td>native_integrated_verb</td>\n",
       "      <td>terminar</td>\n",
       "      <td>0</td>\n",
       "      <td>latin_america</td>\n",
       "      <td>0.952482</td>\n",
       "      <td>NaN</td>\n",
       "      <td>...</td>\n",
       "      <td>NaN</td>\n",
       "      <td>NaN</td>\n",
       "      <td>-0.094311</td>\n",
       "      <td>0.817638</td>\n",
       "      <td>-3.956807</td>\n",
       "      <td>-2.605467</td>\n",
       "      <td>NaN</td>\n",
       "      <td>es_mid</td>\n",
       "      <td>NaN</td>\n",
       "      <td>NaN</td>\n",
       "    </tr>\n",
       "    <tr>\n",
       "      <th>1</th>\n",
       "      <td>000822e5bc974e0</td>\n",
       "      <td>1056780245154648067</td>\n",
       "      <td>2018-10-29 01:30:19</td>\n",
       "      <td>Es que manda a decir un diputado que solo alca...</td>\n",
       "      <td>native_integrated_verb</td>\n",
       "      <td>comprar</td>\n",
       "      <td>0</td>\n",
       "      <td>latin_america</td>\n",
       "      <td>0.952482</td>\n",
       "      <td>NaN</td>\n",
       "      <td>...</td>\n",
       "      <td>NaN</td>\n",
       "      <td>NaN</td>\n",
       "      <td>-0.094311</td>\n",
       "      <td>0.817638</td>\n",
       "      <td>-3.956807</td>\n",
       "      <td>-2.605467</td>\n",
       "      <td>NaN</td>\n",
       "      <td>es_mid</td>\n",
       "      <td>NaN</td>\n",
       "      <td>NaN</td>\n",
       "    </tr>\n",
       "    <tr>\n",
       "      <th>2</th>\n",
       "      <td>000822e5bc974e0</td>\n",
       "      <td>1056620451475218432</td>\n",
       "      <td>2018-10-28 14:55:21</td>\n",
       "      <td># DepresiónCacifNoMeQuiere Consejos. Que me re...</td>\n",
       "      <td>native_integrated_verb</td>\n",
       "      <td>recomendar</td>\n",
       "      <td>0</td>\n",
       "      <td>latin_america</td>\n",
       "      <td>0.952482</td>\n",
       "      <td>NaN</td>\n",
       "      <td>...</td>\n",
       "      <td>NaN</td>\n",
       "      <td>NaN</td>\n",
       "      <td>-0.094311</td>\n",
       "      <td>0.817638</td>\n",
       "      <td>-3.956807</td>\n",
       "      <td>-2.605467</td>\n",
       "      <td>NaN</td>\n",
       "      <td>es_mid</td>\n",
       "      <td>NaN</td>\n",
       "      <td>NaN</td>\n",
       "    </tr>\n",
       "    <tr>\n",
       "      <th>3</th>\n",
       "      <td>000822e5bc974e0</td>\n",
       "      <td>1056398890696609792</td>\n",
       "      <td>2018-10-28 00:14:57</td>\n",
       "      <td>Me preocupa que usted no sepa lo que preocupa ...</td>\n",
       "      <td>native_integrated_verb</td>\n",
       "      <td>preguntar</td>\n",
       "      <td>0</td>\n",
       "      <td>latin_america</td>\n",
       "      <td>0.952482</td>\n",
       "      <td>NaN</td>\n",
       "      <td>...</td>\n",
       "      <td>NaN</td>\n",
       "      <td>NaN</td>\n",
       "      <td>-0.094311</td>\n",
       "      <td>0.817638</td>\n",
       "      <td>-3.956807</td>\n",
       "      <td>-2.605467</td>\n",
       "      <td>NaN</td>\n",
       "      <td>es_mid</td>\n",
       "      <td>NaN</td>\n",
       "      <td>NaN</td>\n",
       "    </tr>\n",
       "    <tr>\n",
       "      <th>4</th>\n",
       "      <td>000822e5bc974e0</td>\n",
       "      <td>1056373148453613568</td>\n",
       "      <td>2018-10-27 22:32:39</td>\n",
       "      <td># Olancho # Honduras nueva # CaravanaDeMigrant...</td>\n",
       "      <td>native_integrated_verb</td>\n",
       "      <td>preguntar</td>\n",
       "      <td>0</td>\n",
       "      <td>latin_america</td>\n",
       "      <td>0.952482</td>\n",
       "      <td>NaN</td>\n",
       "      <td>...</td>\n",
       "      <td>NaN</td>\n",
       "      <td>NaN</td>\n",
       "      <td>-0.094311</td>\n",
       "      <td>0.817638</td>\n",
       "      <td>-3.956807</td>\n",
       "      <td>-2.605467</td>\n",
       "      <td>NaN</td>\n",
       "      <td>es_mid</td>\n",
       "      <td>NaN</td>\n",
       "      <td>NaN</td>\n",
       "    </tr>\n",
       "  </tbody>\n",
       "</table>\n",
       "<p>5 rows × 49 columns</p>\n",
       "</div>"
      ],
      "text/plain": [
       "       screen_name                   id                 date  \\\n",
       "0  000822e5bc974e0   914139329345343488                  NaN   \n",
       "1  000822e5bc974e0  1056780245154648067  2018-10-29 01:30:19   \n",
       "2  000822e5bc974e0  1056620451475218432  2018-10-28 14:55:21   \n",
       "3  000822e5bc974e0  1056398890696609792  2018-10-28 00:14:57   \n",
       "4  000822e5bc974e0  1056373148453613568  2018-10-27 22:32:39   \n",
       "\n",
       "                                                text    native_word_category  \\\n",
       "0  Por eso en Guatemala se hace imperativo la int...  native_integrated_verb   \n",
       "1  Es que manda a decir un diputado que solo alca...  native_integrated_verb   \n",
       "2  # DepresiónCacifNoMeQuiere Consejos. Que me re...  native_integrated_verb   \n",
       "3  Me preocupa que usted no sepa lo que preocupa ...  native_integrated_verb   \n",
       "4  # Olancho # Honduras nueva # CaravanaDeMigrant...  native_integrated_verb   \n",
       "\n",
       "  native_word_type  has_light_verb description_location_region        es  \\\n",
       "0         terminar               0               latin_america  0.952482   \n",
       "1          comprar               0               latin_america  0.952482   \n",
       "2       recomendar               0               latin_america  0.952482   \n",
       "3        preguntar               0               latin_america  0.952482   \n",
       "4        preguntar               0               latin_america  0.952482   \n",
       "\n",
       "   total_video_count  ...  log_latin_american_media_pct  log_media_URL_pct  \\\n",
       "0                NaN  ...                           NaN                NaN   \n",
       "1                NaN  ...                           NaN                NaN   \n",
       "2                NaN  ...                           NaN                NaN   \n",
       "3                NaN  ...                           NaN                NaN   \n",
       "4                NaN  ...                           NaN                NaN   \n",
       "\n",
       "   log_integrated_verb_pct  log_post_pct  log_URL_share_pct  log_RT_pct  \\\n",
       "0                -0.094311      0.817638          -3.956807   -2.605467   \n",
       "1                -0.094311      0.817638          -3.956807   -2.605467   \n",
       "2                -0.094311      0.817638          -3.956807   -2.605467   \n",
       "3                -0.094311      0.817638          -3.956807   -2.605467   \n",
       "4                -0.094311      0.817638          -3.956807   -2.605467   \n",
       "\n",
       "   log_balanced_latin_american_media_pct  es_bin  \\\n",
       "0                                    NaN  es_mid   \n",
       "1                                    NaN  es_mid   \n",
       "2                                    NaN  es_mid   \n",
       "3                                    NaN  es_mid   \n",
       "4                                    NaN  es_mid   \n",
       "\n",
       "   latin_american_media_pct_bin  balanced_latin_american_media_pct_bin  \n",
       "0                           NaN                                    NaN  \n",
       "1                           NaN                                    NaN  \n",
       "2                           NaN                                    NaN  \n",
       "3                           NaN                                    NaN  \n",
       "4                           NaN                                    NaN  \n",
       "\n",
       "[5 rows x 49 columns]"
      ]
     },
     "metadata": {},
     "output_type": "display_data"
    },
    {
     "name": "stdout",
     "output_type": "stream",
     "text": [
      "soñar           39392\n",
      "comprar         36337\n",
      "terminar        34234\n",
      "usar            30834\n",
      "probar          29930\n",
      "preguntar       16936\n",
      "mirar           15001\n",
      "participar      13917\n",
      "decidir         12479\n",
      "recomendar      11450\n",
      "explicar        11342\n",
      "volar           11164\n",
      "viajar          10255\n",
      "dañar            5035\n",
      "disculpar        4354\n",
      "respirar         3814\n",
      "saltar           3754\n",
      "mencionar        3684\n",
      "negociar         3064\n",
      "culpar           2546\n",
      "pasear           2474\n",
      "dudar            2378\n",
      "anotar           2358\n",
      "copiar           2090\n",
      "animar           1997\n",
      "pisar            1946\n",
      "finalizar        1829\n",
      "burlar           1793\n",
      "prever           1383\n",
      "multar           1302\n",
      "originar         1243\n",
      "castigar         1216\n",
      "fotografiar      1149\n",
      "admirar           988\n",
      "redactar          861\n",
      "estimar           824\n",
      "aterrizar         700\n",
      "vistar            690\n",
      "fugar             574\n",
      "bromear           422\n",
      "duchar            277\n",
      "ejemplificar      206\n",
      "remediar          148\n",
      "preciar           102\n",
      "cosquillar         87\n",
      "sestear            71\n",
      "amistar            21\n",
      "Name: native_word_type, dtype: int64\n"
     ]
    }
   ],
   "source": [
    "import pandas as pd\n",
    "native_verb_counts = pd.read_csv('../../data/mined_tweets/native_verbs_post_social_data.tsv', sep='\\t')\n",
    "print(native_verb_counts.shape[0])\n",
    "display(native_verb_counts.head())\n",
    "print(native_verb_counts.loc[:, 'native_word_type'].value_counts())"
   ]
  },
  {
   "cell_type": "code",
   "execution_count": null,
   "metadata": {},
   "outputs": [],
   "source": [
    "\n"
   ]
  }
 ],
 "metadata": {
  "kernelspec": {
   "display_name": "Python [conda env:py3] *",
   "language": "python",
   "name": "conda-env-py3-py"
  },
  "language_info": {
   "codemirror_mode": {
    "name": "ipython",
    "version": 3
   },
   "file_extension": ".py",
   "mimetype": "text/x-python",
   "name": "python",
   "nbconvert_exporter": "python",
   "pygments_lexer": "ipython3",
   "version": "3.6.10"
  }
 },
 "nbformat": 4,
 "nbformat_minor": 4
}
